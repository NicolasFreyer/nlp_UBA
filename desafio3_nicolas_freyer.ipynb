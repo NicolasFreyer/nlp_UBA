{
  "cells": [
    {
      "cell_type": "markdown",
      "metadata": {
        "id": "sZd5yLnnHOK0"
      },
      "source": [
        "<img src=\"https://github.com/hernancontigiani/ceia_memorias_especializacion/raw/master/Figures/logoFIUBA.jpg\" width=\"500\" align=\"center\">\n",
        "\n",
        "\n",
        "# Procesamiento de lenguaje natural\n",
        "## Custom embeddings con Gensim\n",
        "\n"
      ]
    },
    {
      "cell_type": "markdown",
      "metadata": {
        "id": "vA7nqkumo9z9"
      },
      "source": [
        "### Objetivo\n",
        "El objetivo es utilizar documentos / corpus para crear embeddings de palabras basado en ese contexto. Se utilizará el guión de Starwars Episodio IV."
      ]
    },
    {
      "cell_type": "code",
      "execution_count": 1,
      "metadata": {
        "id": "lFToQs5FK5uZ"
      },
      "outputs": [],
      "source": [
        "import pandas as pd\n",
        "import matplotlib.pyplot as plt\n",
        "import seaborn as sns\n",
        "\n",
        "import multiprocessing\n",
        "from gensim.models import Word2Vec"
      ]
    },
    {
      "cell_type": "code",
      "source": [
        "from google.colab import files\n",
        "import io \n"
      ],
      "metadata": {
        "id": "9ITDXjHjkcnM"
      },
      "execution_count": 2,
      "outputs": []
    },
    {
      "cell_type": "markdown",
      "metadata": {
        "id": "g07zJxG7H9vG"
      },
      "source": [
        "### Datos\n",
        "Utilizaremos como dataset el guión de Star Wars, episodio 4."
      ]
    },
    {
      "cell_type": "code",
      "source": [
        " uploaded = files.upload()"
      ],
      "metadata": {
        "colab": {
          "base_uri": "https://localhost:8080/",
          "height": 73
        },
        "id": "3QvZhFqFkwAL",
        "outputId": "58039565-4b97-49f0-b740-b22a4dc2c77b"
      },
      "execution_count": 45,
      "outputs": [
        {
          "output_type": "display_data",
          "data": {
            "text/plain": [
              "<IPython.core.display.HTML object>"
            ],
            "text/html": [
              "\n",
              "     <input type=\"file\" id=\"files-75a10851-3676-495c-8e0c-003848b16dcf\" name=\"files[]\" multiple disabled\n",
              "        style=\"border:none\" />\n",
              "     <output id=\"result-75a10851-3676-495c-8e0c-003848b16dcf\">\n",
              "      Upload widget is only available when the cell has been executed in the\n",
              "      current browser session. Please rerun this cell to enable.\n",
              "      </output>\n",
              "      <script>// Copyright 2017 Google LLC\n",
              "//\n",
              "// Licensed under the Apache License, Version 2.0 (the \"License\");\n",
              "// you may not use this file except in compliance with the License.\n",
              "// You may obtain a copy of the License at\n",
              "//\n",
              "//      http://www.apache.org/licenses/LICENSE-2.0\n",
              "//\n",
              "// Unless required by applicable law or agreed to in writing, software\n",
              "// distributed under the License is distributed on an \"AS IS\" BASIS,\n",
              "// WITHOUT WARRANTIES OR CONDITIONS OF ANY KIND, either express or implied.\n",
              "// See the License for the specific language governing permissions and\n",
              "// limitations under the License.\n",
              "\n",
              "/**\n",
              " * @fileoverview Helpers for google.colab Python module.\n",
              " */\n",
              "(function(scope) {\n",
              "function span(text, styleAttributes = {}) {\n",
              "  const element = document.createElement('span');\n",
              "  element.textContent = text;\n",
              "  for (const key of Object.keys(styleAttributes)) {\n",
              "    element.style[key] = styleAttributes[key];\n",
              "  }\n",
              "  return element;\n",
              "}\n",
              "\n",
              "// Max number of bytes which will be uploaded at a time.\n",
              "const MAX_PAYLOAD_SIZE = 100 * 1024;\n",
              "\n",
              "function _uploadFiles(inputId, outputId) {\n",
              "  const steps = uploadFilesStep(inputId, outputId);\n",
              "  const outputElement = document.getElementById(outputId);\n",
              "  // Cache steps on the outputElement to make it available for the next call\n",
              "  // to uploadFilesContinue from Python.\n",
              "  outputElement.steps = steps;\n",
              "\n",
              "  return _uploadFilesContinue(outputId);\n",
              "}\n",
              "\n",
              "// This is roughly an async generator (not supported in the browser yet),\n",
              "// where there are multiple asynchronous steps and the Python side is going\n",
              "// to poll for completion of each step.\n",
              "// This uses a Promise to block the python side on completion of each step,\n",
              "// then passes the result of the previous step as the input to the next step.\n",
              "function _uploadFilesContinue(outputId) {\n",
              "  const outputElement = document.getElementById(outputId);\n",
              "  const steps = outputElement.steps;\n",
              "\n",
              "  const next = steps.next(outputElement.lastPromiseValue);\n",
              "  return Promise.resolve(next.value.promise).then((value) => {\n",
              "    // Cache the last promise value to make it available to the next\n",
              "    // step of the generator.\n",
              "    outputElement.lastPromiseValue = value;\n",
              "    return next.value.response;\n",
              "  });\n",
              "}\n",
              "\n",
              "/**\n",
              " * Generator function which is called between each async step of the upload\n",
              " * process.\n",
              " * @param {string} inputId Element ID of the input file picker element.\n",
              " * @param {string} outputId Element ID of the output display.\n",
              " * @return {!Iterable<!Object>} Iterable of next steps.\n",
              " */\n",
              "function* uploadFilesStep(inputId, outputId) {\n",
              "  const inputElement = document.getElementById(inputId);\n",
              "  inputElement.disabled = false;\n",
              "\n",
              "  const outputElement = document.getElementById(outputId);\n",
              "  outputElement.innerHTML = '';\n",
              "\n",
              "  const pickedPromise = new Promise((resolve) => {\n",
              "    inputElement.addEventListener('change', (e) => {\n",
              "      resolve(e.target.files);\n",
              "    });\n",
              "  });\n",
              "\n",
              "  const cancel = document.createElement('button');\n",
              "  inputElement.parentElement.appendChild(cancel);\n",
              "  cancel.textContent = 'Cancel upload';\n",
              "  const cancelPromise = new Promise((resolve) => {\n",
              "    cancel.onclick = () => {\n",
              "      resolve(null);\n",
              "    };\n",
              "  });\n",
              "\n",
              "  // Wait for the user to pick the files.\n",
              "  const files = yield {\n",
              "    promise: Promise.race([pickedPromise, cancelPromise]),\n",
              "    response: {\n",
              "      action: 'starting',\n",
              "    }\n",
              "  };\n",
              "\n",
              "  cancel.remove();\n",
              "\n",
              "  // Disable the input element since further picks are not allowed.\n",
              "  inputElement.disabled = true;\n",
              "\n",
              "  if (!files) {\n",
              "    return {\n",
              "      response: {\n",
              "        action: 'complete',\n",
              "      }\n",
              "    };\n",
              "  }\n",
              "\n",
              "  for (const file of files) {\n",
              "    const li = document.createElement('li');\n",
              "    li.append(span(file.name, {fontWeight: 'bold'}));\n",
              "    li.append(span(\n",
              "        `(${file.type || 'n/a'}) - ${file.size} bytes, ` +\n",
              "        `last modified: ${\n",
              "            file.lastModifiedDate ? file.lastModifiedDate.toLocaleDateString() :\n",
              "                                    'n/a'} - `));\n",
              "    const percent = span('0% done');\n",
              "    li.appendChild(percent);\n",
              "\n",
              "    outputElement.appendChild(li);\n",
              "\n",
              "    const fileDataPromise = new Promise((resolve) => {\n",
              "      const reader = new FileReader();\n",
              "      reader.onload = (e) => {\n",
              "        resolve(e.target.result);\n",
              "      };\n",
              "      reader.readAsArrayBuffer(file);\n",
              "    });\n",
              "    // Wait for the data to be ready.\n",
              "    let fileData = yield {\n",
              "      promise: fileDataPromise,\n",
              "      response: {\n",
              "        action: 'continue',\n",
              "      }\n",
              "    };\n",
              "\n",
              "    // Use a chunked sending to avoid message size limits. See b/62115660.\n",
              "    let position = 0;\n",
              "    do {\n",
              "      const length = Math.min(fileData.byteLength - position, MAX_PAYLOAD_SIZE);\n",
              "      const chunk = new Uint8Array(fileData, position, length);\n",
              "      position += length;\n",
              "\n",
              "      const base64 = btoa(String.fromCharCode.apply(null, chunk));\n",
              "      yield {\n",
              "        response: {\n",
              "          action: 'append',\n",
              "          file: file.name,\n",
              "          data: base64,\n",
              "        },\n",
              "      };\n",
              "\n",
              "      let percentDone = fileData.byteLength === 0 ?\n",
              "          100 :\n",
              "          Math.round((position / fileData.byteLength) * 100);\n",
              "      percent.textContent = `${percentDone}% done`;\n",
              "\n",
              "    } while (position < fileData.byteLength);\n",
              "  }\n",
              "\n",
              "  // All done.\n",
              "  yield {\n",
              "    response: {\n",
              "      action: 'complete',\n",
              "    }\n",
              "  };\n",
              "}\n",
              "\n",
              "scope.google = scope.google || {};\n",
              "scope.google.colab = scope.google.colab || {};\n",
              "scope.google.colab._files = {\n",
              "  _uploadFiles,\n",
              "  _uploadFilesContinue,\n",
              "};\n",
              "})(self);\n",
              "</script> "
            ]
          },
          "metadata": {}
        },
        {
          "output_type": "stream",
          "name": "stdout",
          "text": [
            "Saving episode_IV.txt to episode_IV (3).txt\n"
          ]
        }
      ]
    },
    {
      "cell_type": "code",
      "source": [
        "df = pd.read_csv(io.BytesIO(uploaded['episode_IV.txt']), sep=\" \", header=None)"
      ],
      "metadata": {
        "id": "Nrpg_U3pn5L4"
      },
      "execution_count": 46,
      "outputs": []
    },
    {
      "cell_type": "code",
      "source": [
        "df.head(10)"
      ],
      "metadata": {
        "colab": {
          "base_uri": "https://localhost:8080/",
          "height": 363
        },
        "id": "BFV2MiXelIWu",
        "outputId": "3e375b7f-0c0e-4286-911b-b33941831418"
      },
      "execution_count": 47,
      "outputs": [
        {
          "output_type": "execute_result",
          "data": {
            "text/plain": [
              "   0          1                                                  2\n",
              "0  0  character                                           dialogue\n",
              "1  1   THREEPIO  Did you hear that?  They've shut down the main...\n",
              "2  2   THREEPIO                                      We're doomed!\n",
              "3  3   THREEPIO  There'll be no escape for the Princess this time.\n",
              "4  4   THREEPIO                                       What's that?\n",
              "5  5   THREEPIO  I should have known better than to trust the l...\n",
              "6  6       LUKE  Hurry up!  Come with me!  What are you waiting...\n",
              "7  7   THREEPIO                 Artoo! Artoo-Detoo, where are you?\n",
              "8  8   THREEPIO                     At last!  Where have you been?\n",
              "9  9   THREEPIO  They're heading in this direction. What are we..."
            ],
            "text/html": [
              "\n",
              "  <div id=\"df-5969a025-e6f8-43bf-8c30-d1e0863b5bc8\">\n",
              "    <div class=\"colab-df-container\">\n",
              "      <div>\n",
              "<style scoped>\n",
              "    .dataframe tbody tr th:only-of-type {\n",
              "        vertical-align: middle;\n",
              "    }\n",
              "\n",
              "    .dataframe tbody tr th {\n",
              "        vertical-align: top;\n",
              "    }\n",
              "\n",
              "    .dataframe thead th {\n",
              "        text-align: right;\n",
              "    }\n",
              "</style>\n",
              "<table border=\"1\" class=\"dataframe\">\n",
              "  <thead>\n",
              "    <tr style=\"text-align: right;\">\n",
              "      <th></th>\n",
              "      <th>0</th>\n",
              "      <th>1</th>\n",
              "      <th>2</th>\n",
              "    </tr>\n",
              "  </thead>\n",
              "  <tbody>\n",
              "    <tr>\n",
              "      <th>0</th>\n",
              "      <td>0</td>\n",
              "      <td>character</td>\n",
              "      <td>dialogue</td>\n",
              "    </tr>\n",
              "    <tr>\n",
              "      <th>1</th>\n",
              "      <td>1</td>\n",
              "      <td>THREEPIO</td>\n",
              "      <td>Did you hear that?  They've shut down the main...</td>\n",
              "    </tr>\n",
              "    <tr>\n",
              "      <th>2</th>\n",
              "      <td>2</td>\n",
              "      <td>THREEPIO</td>\n",
              "      <td>We're doomed!</td>\n",
              "    </tr>\n",
              "    <tr>\n",
              "      <th>3</th>\n",
              "      <td>3</td>\n",
              "      <td>THREEPIO</td>\n",
              "      <td>There'll be no escape for the Princess this time.</td>\n",
              "    </tr>\n",
              "    <tr>\n",
              "      <th>4</th>\n",
              "      <td>4</td>\n",
              "      <td>THREEPIO</td>\n",
              "      <td>What's that?</td>\n",
              "    </tr>\n",
              "    <tr>\n",
              "      <th>5</th>\n",
              "      <td>5</td>\n",
              "      <td>THREEPIO</td>\n",
              "      <td>I should have known better than to trust the l...</td>\n",
              "    </tr>\n",
              "    <tr>\n",
              "      <th>6</th>\n",
              "      <td>6</td>\n",
              "      <td>LUKE</td>\n",
              "      <td>Hurry up!  Come with me!  What are you waiting...</td>\n",
              "    </tr>\n",
              "    <tr>\n",
              "      <th>7</th>\n",
              "      <td>7</td>\n",
              "      <td>THREEPIO</td>\n",
              "      <td>Artoo! Artoo-Detoo, where are you?</td>\n",
              "    </tr>\n",
              "    <tr>\n",
              "      <th>8</th>\n",
              "      <td>8</td>\n",
              "      <td>THREEPIO</td>\n",
              "      <td>At last!  Where have you been?</td>\n",
              "    </tr>\n",
              "    <tr>\n",
              "      <th>9</th>\n",
              "      <td>9</td>\n",
              "      <td>THREEPIO</td>\n",
              "      <td>They're heading in this direction. What are we...</td>\n",
              "    </tr>\n",
              "  </tbody>\n",
              "</table>\n",
              "</div>\n",
              "      <button class=\"colab-df-convert\" onclick=\"convertToInteractive('df-5969a025-e6f8-43bf-8c30-d1e0863b5bc8')\"\n",
              "              title=\"Convert this dataframe to an interactive table.\"\n",
              "              style=\"display:none;\">\n",
              "        \n",
              "  <svg xmlns=\"http://www.w3.org/2000/svg\" height=\"24px\"viewBox=\"0 0 24 24\"\n",
              "       width=\"24px\">\n",
              "    <path d=\"M0 0h24v24H0V0z\" fill=\"none\"/>\n",
              "    <path d=\"M18.56 5.44l.94 2.06.94-2.06 2.06-.94-2.06-.94-.94-2.06-.94 2.06-2.06.94zm-11 1L8.5 8.5l.94-2.06 2.06-.94-2.06-.94L8.5 2.5l-.94 2.06-2.06.94zm10 10l.94 2.06.94-2.06 2.06-.94-2.06-.94-.94-2.06-.94 2.06-2.06.94z\"/><path d=\"M17.41 7.96l-1.37-1.37c-.4-.4-.92-.59-1.43-.59-.52 0-1.04.2-1.43.59L10.3 9.45l-7.72 7.72c-.78.78-.78 2.05 0 2.83L4 21.41c.39.39.9.59 1.41.59.51 0 1.02-.2 1.41-.59l7.78-7.78 2.81-2.81c.8-.78.8-2.07 0-2.86zM5.41 20L4 18.59l7.72-7.72 1.47 1.35L5.41 20z\"/>\n",
              "  </svg>\n",
              "      </button>\n",
              "      \n",
              "  <style>\n",
              "    .colab-df-container {\n",
              "      display:flex;\n",
              "      flex-wrap:wrap;\n",
              "      gap: 12px;\n",
              "    }\n",
              "\n",
              "    .colab-df-convert {\n",
              "      background-color: #E8F0FE;\n",
              "      border: none;\n",
              "      border-radius: 50%;\n",
              "      cursor: pointer;\n",
              "      display: none;\n",
              "      fill: #1967D2;\n",
              "      height: 32px;\n",
              "      padding: 0 0 0 0;\n",
              "      width: 32px;\n",
              "    }\n",
              "\n",
              "    .colab-df-convert:hover {\n",
              "      background-color: #E2EBFA;\n",
              "      box-shadow: 0px 1px 2px rgba(60, 64, 67, 0.3), 0px 1px 3px 1px rgba(60, 64, 67, 0.15);\n",
              "      fill: #174EA6;\n",
              "    }\n",
              "\n",
              "    [theme=dark] .colab-df-convert {\n",
              "      background-color: #3B4455;\n",
              "      fill: #D2E3FC;\n",
              "    }\n",
              "\n",
              "    [theme=dark] .colab-df-convert:hover {\n",
              "      background-color: #434B5C;\n",
              "      box-shadow: 0px 1px 3px 1px rgba(0, 0, 0, 0.15);\n",
              "      filter: drop-shadow(0px 1px 2px rgba(0, 0, 0, 0.3));\n",
              "      fill: #FFFFFF;\n",
              "    }\n",
              "  </style>\n",
              "\n",
              "      <script>\n",
              "        const buttonEl =\n",
              "          document.querySelector('#df-5969a025-e6f8-43bf-8c30-d1e0863b5bc8 button.colab-df-convert');\n",
              "        buttonEl.style.display =\n",
              "          google.colab.kernel.accessAllowed ? 'block' : 'none';\n",
              "\n",
              "        async function convertToInteractive(key) {\n",
              "          const element = document.querySelector('#df-5969a025-e6f8-43bf-8c30-d1e0863b5bc8');\n",
              "          const dataTable =\n",
              "            await google.colab.kernel.invokeFunction('convertToInteractive',\n",
              "                                                     [key], {});\n",
              "          if (!dataTable) return;\n",
              "\n",
              "          const docLinkHtml = 'Like what you see? Visit the ' +\n",
              "            '<a target=\"_blank\" href=https://colab.research.google.com/notebooks/data_table.ipynb>data table notebook</a>'\n",
              "            + ' to learn more about interactive tables.';\n",
              "          element.innerHTML = '';\n",
              "          dataTable['output_type'] = 'display_data';\n",
              "          await google.colab.output.renderOutput(dataTable, element);\n",
              "          const docLink = document.createElement('div');\n",
              "          docLink.innerHTML = docLinkHtml;\n",
              "          element.appendChild(docLink);\n",
              "        }\n",
              "      </script>\n",
              "    </div>\n",
              "  </div>\n",
              "  "
            ]
          },
          "metadata": {},
          "execution_count": 47
        }
      ]
    },
    {
      "cell_type": "code",
      "source": [
        "df.size/3"
      ],
      "metadata": {
        "colab": {
          "base_uri": "https://localhost:8080/"
        },
        "id": "p8L61gFLpXwx",
        "outputId": "1d9a40d9-ef7b-4049-9de2-65c4ee130617"
      },
      "execution_count": 48,
      "outputs": [
        {
          "output_type": "execute_result",
          "data": {
            "text/plain": [
              "1011.0"
            ]
          },
          "metadata": {},
          "execution_count": 48
        }
      ]
    },
    {
      "cell_type": "code",
      "source": [
        "df.columns = [\"0\", \"character\", \"dialogue\"]"
      ],
      "metadata": {
        "id": "f2u6sqTAo_V0"
      },
      "execution_count": 49,
      "outputs": []
    },
    {
      "cell_type": "code",
      "source": [
        "df = df.tail(1010)"
      ],
      "metadata": {
        "id": "TlxRXLqHpKwn"
      },
      "execution_count": 50,
      "outputs": []
    },
    {
      "cell_type": "code",
      "source": [
        "df.head(5)"
      ],
      "metadata": {
        "colab": {
          "base_uri": "https://localhost:8080/",
          "height": 206
        },
        "id": "8zEUZzBtpSxZ",
        "outputId": "9baf50ef-8a57-4068-d92b-0b2d48bc3ab2"
      },
      "execution_count": 51,
      "outputs": [
        {
          "output_type": "execute_result",
          "data": {
            "text/plain": [
              "   0 character                                           dialogue\n",
              "1  1  THREEPIO  Did you hear that?  They've shut down the main...\n",
              "2  2  THREEPIO                                      We're doomed!\n",
              "3  3  THREEPIO  There'll be no escape for the Princess this time.\n",
              "4  4  THREEPIO                                       What's that?\n",
              "5  5  THREEPIO  I should have known better than to trust the l..."
            ],
            "text/html": [
              "\n",
              "  <div id=\"df-1c46568d-c22f-44ed-83c2-02771e0c6daa\">\n",
              "    <div class=\"colab-df-container\">\n",
              "      <div>\n",
              "<style scoped>\n",
              "    .dataframe tbody tr th:only-of-type {\n",
              "        vertical-align: middle;\n",
              "    }\n",
              "\n",
              "    .dataframe tbody tr th {\n",
              "        vertical-align: top;\n",
              "    }\n",
              "\n",
              "    .dataframe thead th {\n",
              "        text-align: right;\n",
              "    }\n",
              "</style>\n",
              "<table border=\"1\" class=\"dataframe\">\n",
              "  <thead>\n",
              "    <tr style=\"text-align: right;\">\n",
              "      <th></th>\n",
              "      <th>0</th>\n",
              "      <th>character</th>\n",
              "      <th>dialogue</th>\n",
              "    </tr>\n",
              "  </thead>\n",
              "  <tbody>\n",
              "    <tr>\n",
              "      <th>1</th>\n",
              "      <td>1</td>\n",
              "      <td>THREEPIO</td>\n",
              "      <td>Did you hear that?  They've shut down the main...</td>\n",
              "    </tr>\n",
              "    <tr>\n",
              "      <th>2</th>\n",
              "      <td>2</td>\n",
              "      <td>THREEPIO</td>\n",
              "      <td>We're doomed!</td>\n",
              "    </tr>\n",
              "    <tr>\n",
              "      <th>3</th>\n",
              "      <td>3</td>\n",
              "      <td>THREEPIO</td>\n",
              "      <td>There'll be no escape for the Princess this time.</td>\n",
              "    </tr>\n",
              "    <tr>\n",
              "      <th>4</th>\n",
              "      <td>4</td>\n",
              "      <td>THREEPIO</td>\n",
              "      <td>What's that?</td>\n",
              "    </tr>\n",
              "    <tr>\n",
              "      <th>5</th>\n",
              "      <td>5</td>\n",
              "      <td>THREEPIO</td>\n",
              "      <td>I should have known better than to trust the l...</td>\n",
              "    </tr>\n",
              "  </tbody>\n",
              "</table>\n",
              "</div>\n",
              "      <button class=\"colab-df-convert\" onclick=\"convertToInteractive('df-1c46568d-c22f-44ed-83c2-02771e0c6daa')\"\n",
              "              title=\"Convert this dataframe to an interactive table.\"\n",
              "              style=\"display:none;\">\n",
              "        \n",
              "  <svg xmlns=\"http://www.w3.org/2000/svg\" height=\"24px\"viewBox=\"0 0 24 24\"\n",
              "       width=\"24px\">\n",
              "    <path d=\"M0 0h24v24H0V0z\" fill=\"none\"/>\n",
              "    <path d=\"M18.56 5.44l.94 2.06.94-2.06 2.06-.94-2.06-.94-.94-2.06-.94 2.06-2.06.94zm-11 1L8.5 8.5l.94-2.06 2.06-.94-2.06-.94L8.5 2.5l-.94 2.06-2.06.94zm10 10l.94 2.06.94-2.06 2.06-.94-2.06-.94-.94-2.06-.94 2.06-2.06.94z\"/><path d=\"M17.41 7.96l-1.37-1.37c-.4-.4-.92-.59-1.43-.59-.52 0-1.04.2-1.43.59L10.3 9.45l-7.72 7.72c-.78.78-.78 2.05 0 2.83L4 21.41c.39.39.9.59 1.41.59.51 0 1.02-.2 1.41-.59l7.78-7.78 2.81-2.81c.8-.78.8-2.07 0-2.86zM5.41 20L4 18.59l7.72-7.72 1.47 1.35L5.41 20z\"/>\n",
              "  </svg>\n",
              "      </button>\n",
              "      \n",
              "  <style>\n",
              "    .colab-df-container {\n",
              "      display:flex;\n",
              "      flex-wrap:wrap;\n",
              "      gap: 12px;\n",
              "    }\n",
              "\n",
              "    .colab-df-convert {\n",
              "      background-color: #E8F0FE;\n",
              "      border: none;\n",
              "      border-radius: 50%;\n",
              "      cursor: pointer;\n",
              "      display: none;\n",
              "      fill: #1967D2;\n",
              "      height: 32px;\n",
              "      padding: 0 0 0 0;\n",
              "      width: 32px;\n",
              "    }\n",
              "\n",
              "    .colab-df-convert:hover {\n",
              "      background-color: #E2EBFA;\n",
              "      box-shadow: 0px 1px 2px rgba(60, 64, 67, 0.3), 0px 1px 3px 1px rgba(60, 64, 67, 0.15);\n",
              "      fill: #174EA6;\n",
              "    }\n",
              "\n",
              "    [theme=dark] .colab-df-convert {\n",
              "      background-color: #3B4455;\n",
              "      fill: #D2E3FC;\n",
              "    }\n",
              "\n",
              "    [theme=dark] .colab-df-convert:hover {\n",
              "      background-color: #434B5C;\n",
              "      box-shadow: 0px 1px 3px 1px rgba(0, 0, 0, 0.15);\n",
              "      filter: drop-shadow(0px 1px 2px rgba(0, 0, 0, 0.3));\n",
              "      fill: #FFFFFF;\n",
              "    }\n",
              "  </style>\n",
              "\n",
              "      <script>\n",
              "        const buttonEl =\n",
              "          document.querySelector('#df-1c46568d-c22f-44ed-83c2-02771e0c6daa button.colab-df-convert');\n",
              "        buttonEl.style.display =\n",
              "          google.colab.kernel.accessAllowed ? 'block' : 'none';\n",
              "\n",
              "        async function convertToInteractive(key) {\n",
              "          const element = document.querySelector('#df-1c46568d-c22f-44ed-83c2-02771e0c6daa');\n",
              "          const dataTable =\n",
              "            await google.colab.kernel.invokeFunction('convertToInteractive',\n",
              "                                                     [key], {});\n",
              "          if (!dataTable) return;\n",
              "\n",
              "          const docLinkHtml = 'Like what you see? Visit the ' +\n",
              "            '<a target=\"_blank\" href=https://colab.research.google.com/notebooks/data_table.ipynb>data table notebook</a>'\n",
              "            + ' to learn more about interactive tables.';\n",
              "          element.innerHTML = '';\n",
              "          dataTable['output_type'] = 'display_data';\n",
              "          await google.colab.output.renderOutput(dataTable, element);\n",
              "          const docLink = document.createElement('div');\n",
              "          docLink.innerHTML = docLinkHtml;\n",
              "          element.appendChild(docLink);\n",
              "        }\n",
              "      </script>\n",
              "    </div>\n",
              "  </div>\n",
              "  "
            ]
          },
          "metadata": {},
          "execution_count": 51
        }
      ]
    },
    {
      "cell_type": "code",
      "source": [
        "df = df.drop(columns=[\"0\", \"character\"])"
      ],
      "metadata": {
        "id": "VL54fceLo2Qf"
      },
      "execution_count": 52,
      "outputs": []
    },
    {
      "cell_type": "code",
      "source": [
        "type(df)"
      ],
      "metadata": {
        "colab": {
          "base_uri": "https://localhost:8080/"
        },
        "id": "Qdov6_NaptxD",
        "outputId": "717b7dec-7708-419f-f973-b35a220ca512"
      },
      "execution_count": 53,
      "outputs": [
        {
          "output_type": "execute_result",
          "data": {
            "text/plain": [
              "pandas.core.frame.DataFrame"
            ]
          },
          "metadata": {},
          "execution_count": 53
        }
      ]
    },
    {
      "cell_type": "markdown",
      "metadata": {
        "id": "ab94qaFlrA1G"
      },
      "source": [
        "### 1 - Preprocesamiento"
      ]
    },
    {
      "cell_type": "code",
      "execution_count": 54,
      "metadata": {
        "id": "rIsmMWmjrDHd"
      },
      "outputs": [],
      "source": [
        "from keras.preprocessing.text import text_to_word_sequence\n",
        "\n",
        "sentence_tokens = []\n",
        "# Recorrer todas las filas y transformar las oraciones\n",
        "# en una secuencia de palabras (esto podría realizarse con NLTK o spaCy también)\n",
        "for _, row in df[:None].iterrows():\n",
        "    sentence_tokens.append(text_to_word_sequence(row[0]))"
      ]
    },
    {
      "cell_type": "code",
      "execution_count": 104,
      "metadata": {
        "id": "CHepi_DGrbhq",
        "colab": {
          "base_uri": "https://localhost:8080/"
        },
        "outputId": "2762f3ac-d0e6-497c-bad4-bfe1cf774430"
      },
      "outputs": [
        {
          "output_type": "execute_result",
          "data": {
            "text/plain": [
              "[['did',\n",
              "  'you',\n",
              "  'hear',\n",
              "  'that',\n",
              "  \"they've\",\n",
              "  'shut',\n",
              "  'down',\n",
              "  'the',\n",
              "  'main',\n",
              "  'reactor',\n",
              "  \"we'll\",\n",
              "  'be',\n",
              "  'destroyed',\n",
              "  'for',\n",
              "  'sure',\n",
              "  'this',\n",
              "  'is',\n",
              "  'madness'],\n",
              " [\"we're\", 'doomed'],\n",
              " [\"there'll\", 'be', 'no', 'escape', 'for', 'the', 'princess', 'this', 'time'],\n",
              " [\"what's\", 'that']]"
            ]
          },
          "metadata": {},
          "execution_count": 104
        }
      ],
      "source": [
        "# Demos un vistazo\n",
        "sentence_tokens[:4]"
      ]
    },
    {
      "cell_type": "markdown",
      "metadata": {
        "id": "BaXV6nlHr5Aa"
      },
      "source": [
        "### 2 - Crear los vectores (word2vec)"
      ]
    },
    {
      "cell_type": "code",
      "execution_count": 56,
      "metadata": {
        "id": "OSb0v7h8r7hK"
      },
      "outputs": [],
      "source": [
        "from gensim.models.callbacks import CallbackAny2Vec\n",
        "# Durante el entrenamiento gensim por defecto no informa el \"loss\" en cada época\n",
        "# Sobrecargamos el callback para poder tener esta información\n",
        "class callback(CallbackAny2Vec):\n",
        "    \"\"\"\n",
        "    Callback to print loss after each epoch\n",
        "    \"\"\"\n",
        "    def __init__(self):\n",
        "        self.epoch = 0\n",
        "\n",
        "    def on_epoch_end(self, model):\n",
        "        loss = model.get_latest_training_loss()\n",
        "        if self.epoch == 0:\n",
        "            print('Loss after epoch {}: {}'.format(self.epoch, loss))\n",
        "        else:\n",
        "            print('Loss after epoch {}: {}'.format(self.epoch, loss- self.loss_previous_step))\n",
        "        self.epoch += 1\n",
        "        self.loss_previous_step = loss"
      ]
    },
    {
      "cell_type": "code",
      "execution_count": 71,
      "metadata": {
        "id": "i0wnDdv9sJ47"
      },
      "outputs": [],
      "source": [
        "# Crearmos el modelo generador de vectores\n",
        "# En este caso utilizaremos la estructura modelo Skipgram\n",
        "w2v_model = Word2Vec(min_count=5,    # frecuencia mínima de palabra para incluirla en el vocabulario\n",
        "                     window=2,       # cant de palabras antes y desp de la predicha\n",
        "                     #size=20,       # dimensionalidad de los vectores \n",
        "                     negative=20,    # cantidad de negative samples... 0 es no se usa\n",
        "                     workers=1,      # si tienen más cores pueden cambiar este valor\n",
        "                     sg=1)           # modelo 0:CBOW  1:skipgram\n",
        "\n",
        "\n",
        "                     #me estaba dando un error haciendo referencia a que no reconocía la variable size, al comentarla funcionó bien"
      ]
    },
    {
      "cell_type": "code",
      "execution_count": 72,
      "metadata": {
        "id": "5lTt8wErsf17"
      },
      "outputs": [],
      "source": [
        "# Obtener el vocabulario con los tokens\n",
        "w2v_model.build_vocab(sentence_tokens)"
      ]
    },
    {
      "cell_type": "code",
      "execution_count": 73,
      "metadata": {
        "id": "TNc9qt4os5AT",
        "colab": {
          "base_uri": "https://localhost:8080/"
        },
        "outputId": "1b5119a7-ffe8-4125-ef76-fef559f06e3d"
      },
      "outputs": [
        {
          "output_type": "stream",
          "name": "stdout",
          "text": [
            "Cantidad de docs en el corpus: 1010\n"
          ]
        }
      ],
      "source": [
        "# Cantidad de filas/docs encontradas en el corpus\n",
        "print(\"Cantidad de docs en el corpus:\", w2v_model.corpus_count)"
      ]
    },
    {
      "cell_type": "code",
      "execution_count": 81,
      "metadata": {
        "id": "idw9cHF3tSMl",
        "colab": {
          "base_uri": "https://localhost:8080/"
        },
        "outputId": "2b00f864-a87b-4a0f-b963-bce40f073809"
      },
      "outputs": [
        {
          "output_type": "stream",
          "name": "stdout",
          "text": [
            "Cantidad de words distintas en el corpus: 378\n"
          ]
        }
      ],
      "source": [
        "# Cantidad de words encontradas en el corpus\n",
        "print(\"Cantidad de words distintas en el corpus:\", len(w2v_model.wv.index_to_key))"
      ]
    },
    {
      "cell_type": "markdown",
      "metadata": {
        "id": "fC9mZ8DPk-UC"
      },
      "source": [
        "### 3 - Entrenar el modelo generador"
      ]
    },
    {
      "cell_type": "code",
      "execution_count": 82,
      "metadata": {
        "id": "QSp-x0PAsq56",
        "colab": {
          "base_uri": "https://localhost:8080/"
        },
        "outputId": "317a93d5-0255-4ab3-989b-15e871555174"
      },
      "outputs": [
        {
          "output_type": "stream",
          "name": "stdout",
          "text": [
            "Loss after epoch 0: 114314.15625\n",
            "Loss after epoch 1: 56943.015625\n",
            "Loss after epoch 2: 56050.0\n",
            "Loss after epoch 3: 55427.984375\n",
            "Loss after epoch 4: 55697.40625\n",
            "Loss after epoch 5: 55845.09375\n",
            "Loss after epoch 6: 54771.71875\n",
            "Loss after epoch 7: 54891.4375\n",
            "Loss after epoch 8: 55574.375\n",
            "Loss after epoch 9: 56457.8125\n",
            "Loss after epoch 10: 56860.5625\n",
            "Loss after epoch 11: 56171.6875\n",
            "Loss after epoch 12: 56813.5625\n",
            "Loss after epoch 13: 55770.0625\n",
            "Loss after epoch 14: 57354.5625\n",
            "Loss after epoch 15: 56409.6875\n",
            "Loss after epoch 16: 55853.1875\n",
            "Loss after epoch 17: 54249.0625\n",
            "Loss after epoch 18: 48477.125\n",
            "Loss after epoch 19: 48805.375\n"
          ]
        },
        {
          "output_type": "execute_result",
          "data": {
            "text/plain": [
              "(116649, 226680)"
            ]
          },
          "metadata": {},
          "execution_count": 82
        }
      ],
      "source": [
        "# Entrenamos el modelo generador de vectores\n",
        "# Utilizamos nuestro callback\n",
        "w2v_model.train(sentence_tokens,\n",
        "                 total_examples=w2v_model.corpus_count,\n",
        "                 epochs=20,\n",
        "                 compute_loss = True,\n",
        "                 callbacks=[callback()]\n",
        "                 )"
      ]
    },
    {
      "cell_type": "markdown",
      "metadata": {
        "id": "ddT9NVuNlCAe"
      },
      "source": [
        "### 4 - Ensayar"
      ]
    },
    {
      "cell_type": "code",
      "execution_count": 85,
      "metadata": {
        "id": "6cHN9xGLuPEm",
        "colab": {
          "base_uri": "https://localhost:8080/"
        },
        "outputId": "4844fc29-5d6a-451b-a1d8-2f64da90c7ca"
      },
      "outputs": [
        {
          "output_type": "execute_result",
          "data": {
            "text/plain": [
              "[('computer', 0.9958130717277527),\n",
              " ('same', 0.9957606792449951),\n",
              " ('set', 0.9953656196594238),\n",
              " ('control', 0.9952285289764404),\n",
              " ('senate', 0.9952104091644287),\n",
              " ('open', 0.9951055645942688),\n",
              " ('until', 0.9950763583183289),\n",
              " ('plans', 0.9950366616249084),\n",
              " ('ships', 0.9950223565101624),\n",
              " ('full', 0.9948698282241821)]"
            ]
          },
          "metadata": {},
          "execution_count": 85
        }
      ],
      "source": [
        "# Palabras que MÁS se relacionan con...:\n",
        "w2v_model.wv.most_similar(positive=[\"jedi\"], topn=10)"
      ]
    },
    {
      "cell_type": "code",
      "source": [
        "w2v_model.wv.most_similar(positive=[\"kenobi\"], topn=10)"
      ],
      "metadata": {
        "colab": {
          "base_uri": "https://localhost:8080/"
        },
        "id": "LrMHlk3GxBjC",
        "outputId": "f5907159-2d31-48c7-dc0f-bfe83f8aafd2"
      },
      "execution_count": 86,
      "outputs": [
        {
          "output_type": "execute_result",
          "data": {
            "text/plain": [
              "[('obi', 0.9876440167427063),\n",
              " ('ben', 0.9526587724685669),\n",
              " ('wan', 0.9382275342941284),\n",
              " ('help', 0.9281784296035767),\n",
              " ('old', 0.9244764447212219),\n",
              " ('me', 0.8744224905967712),\n",
              " ('hope', 0.8717252612113953),\n",
              " ('only', 0.8486301898956299),\n",
              " (\"you're\", 0.7988994121551514),\n",
              " ('says', 0.7918076515197754)]"
            ]
          },
          "metadata": {},
          "execution_count": 86
        }
      ]
    },
    {
      "cell_type": "code",
      "source": [
        "w2v_model.wv.most_similar(positive=[\"empire\"], topn=10)"
      ],
      "metadata": {
        "colab": {
          "base_uri": "https://localhost:8080/"
        },
        "id": "rz2UBJRHxFCm",
        "outputId": "cd6c872f-7f3b-4622-e095-e861877f52e3"
      },
      "execution_count": 87,
      "outputs": [
        {
          "output_type": "execute_result",
          "data": {
            "text/plain": [
              "[('control', 0.9953052997589111),\n",
              " ('made', 0.9949855208396912),\n",
              " ('part', 0.9947618842124939),\n",
              " ('aboard', 0.994728147983551),\n",
              " ('academy', 0.9944762587547302),\n",
              " ('jump', 0.9944255948066711),\n",
              " ('open', 0.9942321181297302),\n",
              " ('information', 0.9941219687461853),\n",
              " ('senate', 0.9940589070320129),\n",
              " ('destroy', 0.9940364956855774)]"
            ]
          },
          "metadata": {},
          "execution_count": 87
        }
      ]
    },
    {
      "cell_type": "code",
      "source": [
        "w2v_model.wv.most_similar(positive=[\"vader\"], topn=10)"
      ],
      "metadata": {
        "colab": {
          "base_uri": "https://localhost:8080/"
        },
        "id": "tPPCbOZGxHgv",
        "outputId": "ceeb3c87-5a75-40a5-e599-682b9c545c7b"
      },
      "execution_count": 88,
      "outputs": [
        {
          "output_type": "execute_result",
          "data": {
            "text/plain": [
              "[('until', 0.9923199415206909),\n",
              " ('destroy', 0.9911565184593201),\n",
              " ('which', 0.9906333088874817),\n",
              " ('their', 0.990632176399231),\n",
              " ('its', 0.9906201958656311),\n",
              " ('keep', 0.9904095530509949),\n",
              " ('set', 0.9903144836425781),\n",
              " ('against', 0.9902732968330383),\n",
              " ('whole', 0.9902541637420654),\n",
              " ('first', 0.990050733089447)]"
            ]
          },
          "metadata": {},
          "execution_count": 88
        }
      ]
    },
    {
      "cell_type": "code",
      "source": [
        "w2v_model.wv.most_similar(positive=[\"threepio\"], topn=10)"
      ],
      "metadata": {
        "colab": {
          "base_uri": "https://localhost:8080/"
        },
        "id": "20wqLby9xKtg",
        "outputId": "dde176c7-b0ba-4ec7-dadd-bf7fa8daab89"
      },
      "execution_count": 89,
      "outputs": [
        {
          "output_type": "execute_result",
          "data": {
            "text/plain": [
              "[('come', 0.9653793573379517),\n",
              " ('where', 0.9564709067344666),\n",
              " ('see', 0.952019989490509),\n",
              " ('artoo', 0.9491345882415771),\n",
              " ('with', 0.9458937644958496),\n",
              " ('could', 0.9446573853492737),\n",
              " ('why', 0.9426396489143372),\n",
              " ('they', 0.9399495124816895),\n",
              " ('give', 0.9397366046905518),\n",
              " ('let', 0.939728319644928)]"
            ]
          },
          "metadata": {},
          "execution_count": 89
        }
      ]
    },
    {
      "cell_type": "code",
      "execution_count": 90,
      "metadata": {
        "id": "47HiU5gdkdMq",
        "colab": {
          "base_uri": "https://localhost:8080/"
        },
        "outputId": "9de023e1-3605-4fa5-db10-91b637953cdf"
      },
      "outputs": [
        {
          "output_type": "execute_result",
          "data": {
            "text/plain": [
              "[('wan', -0.5989100933074951),\n",
              " ('kenobi', -0.6000456809997559),\n",
              " ('obi', -0.6040414571762085),\n",
              " ('ben', -0.7709953784942627),\n",
              " ('help', -0.7966666221618652),\n",
              " ('old', -0.824530839920044),\n",
              " ('i', -0.8572590947151184),\n",
              " ('red', -0.8598333597183228),\n",
              " ('me', -0.8615196347236633),\n",
              " ('know', -0.8671163320541382)]"
            ]
          },
          "metadata": {},
          "execution_count": 90
        }
      ],
      "source": [
        "# Palabras que MENOS se relacionan con...:\n",
        "w2v_model.wv.most_similar(negative=[\"vader\"], topn=10)"
      ]
    },
    {
      "cell_type": "code",
      "execution_count": 100,
      "metadata": {
        "id": "DT4Rvno2mD65",
        "colab": {
          "base_uri": "https://localhost:8080/"
        },
        "outputId": "ad0e6f9e-3149-4fb9-a095-774a60295284"
      },
      "outputs": [
        {
          "output_type": "execute_result",
          "data": {
            "text/plain": [
              "[('negative', 0.996924877166748),\n",
              " ('gone', 0.9966174364089966),\n",
              " ('wedge', 0.9958494901657104),\n",
              " ('yeah', 0.9956520795822144),\n",
              " ('myself', 0.9955992698669434),\n",
              " ('believe', 0.9955276250839233),\n",
              " ('forget', 0.9955263733863831),\n",
              " ('thank', 0.9955089092254639),\n",
              " ('trust', 0.9954884052276611),\n",
              " ('leave', 0.9954570531845093)]"
            ]
          },
          "metadata": {},
          "execution_count": 100
        }
      ],
      "source": [
        "# Palabras que MÁS se relacionan con...:\n",
        "w2v_model.wv.most_similar(positive=[\"chewie\"], topn=10)"
      ]
    },
    {
      "cell_type": "code",
      "source": [
        "# Palabras que MENOS se relacionan con...:\n",
        "w2v_model.wv.most_similar(negative=[\"chewie\"], topn=10)"
      ],
      "metadata": {
        "colab": {
          "base_uri": "https://localhost:8080/"
        },
        "id": "BwY8FBPvxgTc",
        "outputId": "d3c86aa2-ee2b-46d2-c36e-8a6494cd0361"
      },
      "execution_count": 94,
      "outputs": [
        {
          "output_type": "execute_result",
          "data": {
            "text/plain": [
              "[('wan', -0.6753507256507874),\n",
              " ('kenobi', -0.6800461411476135),\n",
              " ('obi', -0.6810280680656433),\n",
              " ('ben', -0.8358489274978638),\n",
              " ('red', -0.8608366847038269),\n",
              " ('help', -0.863762378692627),\n",
              " ('old', -0.8732428550720215),\n",
              " ('station', -0.8842846751213074),\n",
              " ('standing', -0.8849408626556396),\n",
              " ('i', -0.8956842422485352)]"
            ]
          },
          "metadata": {},
          "execution_count": 94
        }
      ]
    },
    {
      "cell_type": "code",
      "source": [
        "# Palabras que MÁS se relacionan con...:\n",
        "w2v_model.wv.most_similar(positive=[\"star\"], topn=10)"
      ],
      "metadata": {
        "colab": {
          "base_uri": "https://localhost:8080/"
        },
        "id": "rb0gp5nxzCN_",
        "outputId": "f5b5a73e-8706-4caa-a5f7-1fb8fd9d2aed"
      },
      "execution_count": 101,
      "outputs": [
        {
          "output_type": "execute_result",
          "data": {
            "text/plain": [
              "[('systems', 0.9933107495307922),\n",
              " ('range', 0.9903370141983032),\n",
              " ('death', 0.9903028011322021),\n",
              " ('fire', 0.9899194836616516),\n",
              " ('system', 0.9895832538604736),\n",
              " ('main', 0.9895464181900024),\n",
              " ('into', 0.9892478585243225),\n",
              " ('planet', 0.9891698360443115),\n",
              " ('attack', 0.9887900948524475),\n",
              " ('power', 0.9884552955627441)]"
            ]
          },
          "metadata": {},
          "execution_count": 101
        }
      ]
    },
    {
      "cell_type": "code",
      "source": [
        "# Palabras que MÁS se relacionan con...:\n",
        "w2v_model.wv.most_similar(positive=[\"death\"], topn=10)"
      ],
      "metadata": {
        "colab": {
          "base_uri": "https://localhost:8080/"
        },
        "id": "GxdZLnoVzGqY",
        "outputId": "853258e1-c200-4d63-c10e-99c28147f388"
      },
      "execution_count": 102,
      "outputs": [
        {
          "output_type": "execute_result",
          "data": {
            "text/plain": [
              "[('next', 0.9953973889350891),\n",
              " ('made', 0.9953623414039612),\n",
              " ('system', 0.995306134223938),\n",
              " ('destroy', 0.995083212852478),\n",
              " ('its', 0.995045006275177),\n",
              " ('control', 0.994960367679596),\n",
              " ('open', 0.9948273301124573),\n",
              " ('range', 0.9947956800460815),\n",
              " ('systems', 0.994743824005127),\n",
              " ('whole', 0.9945952892303467)]"
            ]
          },
          "metadata": {},
          "execution_count": 102
        }
      ]
    },
    {
      "cell_type": "code",
      "source": [
        "# Palabras que MÁS se relacionan con...:\n",
        "w2v_model.wv.most_similar(positive=[\"luke\"], topn=10)"
      ],
      "metadata": {
        "colab": {
          "base_uri": "https://localhost:8080/"
        },
        "id": "z5cqwefEzKXw",
        "outputId": "edcd67ba-bb27-41c7-9a47-1caa4e6eeee2"
      },
      "execution_count": 103,
      "outputs": [
        {
          "output_type": "execute_result",
          "data": {
            "text/plain": [
              "[('pull', 0.9891158938407898),\n",
              " ('hurry', 0.9886924624443054),\n",
              " ('easy', 0.9884053468704224),\n",
              " (\"you'll\", 0.9877944588661194),\n",
              " ('trying', 0.9874411821365356),\n",
              " ('done', 0.9872480034828186),\n",
              " ('wedge', 0.9872284531593323),\n",
              " ('fighters', 0.987207293510437),\n",
              " ('give', 0.9871931076049805),\n",
              " ('always', 0.987103283405304)]"
            ]
          },
          "metadata": {},
          "execution_count": 103
        }
      ]
    },
    {
      "cell_type": "markdown",
      "metadata": {
        "id": "_g8UVWe6lFmh"
      },
      "source": [
        "### 5 - Visualizar agrupación de vectores"
      ]
    },
    {
      "cell_type": "code",
      "execution_count": 97,
      "metadata": {
        "id": "pDxEVXAivjr9"
      },
      "outputs": [],
      "source": [
        "from sklearn.decomposition import IncrementalPCA    \n",
        "from sklearn.manifold import TSNE                   \n",
        "import numpy as np                                  \n",
        "\n",
        "def reduce_dimensions(model):\n",
        "    num_dimensions = 2  \n",
        "\n",
        "    vectors = np.asarray(model.wv.vectors)\n",
        "    labels = np.asarray(model.wv.index_to_key)  \n",
        "\n",
        "    tsne = TSNE(n_components=num_dimensions, random_state=0)\n",
        "    vectors = tsne.fit_transform(vectors)\n",
        "\n",
        "    x_vals = [v[0] for v in vectors]\n",
        "    y_vals = [v[1] for v in vectors]\n",
        "    return x_vals, y_vals, labels"
      ]
    },
    {
      "cell_type": "code",
      "execution_count": 106,
      "metadata": {
        "id": "NCCXtDpcugmd",
        "colab": {
          "base_uri": "https://localhost:8080/",
          "height": 542
        },
        "outputId": "fb99f5dc-7f71-441b-f0da-2fbb39c606c5"
      },
      "outputs": [
        {
          "output_type": "display_data",
          "data": {
            "text/html": [
              "<html>\n",
              "<head><meta charset=\"utf-8\" /></head>\n",
              "<body>\n",
              "    <div>            <script src=\"https://cdnjs.cloudflare.com/ajax/libs/mathjax/2.7.5/MathJax.js?config=TeX-AMS-MML_SVG\"></script><script type=\"text/javascript\">if (window.MathJax && window.MathJax.Hub && window.MathJax.Hub.Config) {window.MathJax.Hub.Config({SVG: {font: \"STIX-Web\"}});}</script>                <script type=\"text/javascript\">window.PlotlyConfig = {MathJaxConfig: 'local'};</script>\n",
              "        <script src=\"https://cdn.plot.ly/plotly-2.18.2.min.js\"></script>                <div id=\"e95cc391-623a-4446-b73d-ce6f2e401fb5\" class=\"plotly-graph-div\" style=\"height:525px; width:100%;\"></div>            <script type=\"text/javascript\">                                    window.PLOTLYENV=window.PLOTLYENV || {};                                    if (document.getElementById(\"e95cc391-623a-4446-b73d-ce6f2e401fb5\")) {                    Plotly.newPlot(                        \"e95cc391-623a-4446-b73d-ce6f2e401fb5\",                        [{\"hovertemplate\":\"x=%{x}<br>y=%{y}<br>text=%{text}<extra></extra>\",\"legendgroup\":\"\",\"marker\":{\"color\":\"#636efa\",\"symbol\":\"circle\"},\"mode\":\"markers+text\",\"name\":\"\",\"orientation\":\"v\",\"showlegend\":false,\"text\":[\"the\",\"you\",\"to\",\"i\",\"a\",\"of\",\"it\",\"in\",\"this\",\"your\",\"be\",\"is\",\"on\",\"that\",\"what\",\"and\",\"for\",\"have\",\"he\",\"are\",\"i'm\",\"don't\",\"me\",\"all\",\"here\",\"going\",\"we\",\"my\",\"luke\",\"not\",\"it's\",\"get\",\"with\",\"there\",\"if\",\"but\",\"can\",\"no\",\"him\",\"out\",\"right\",\"do\",\"one\",\"come\",\"sir\",\"will\",\"about\",\"now\",\"you're\",\"was\",\"see\",\"them\",\"know\",\"up\",\"us\",\"got\",\"just\",\"think\",\"well\",\"we're\",\"where\",\"back\",\"go\",\"they\",\"like\",\"ship\",\"at\",\"been\",\"only\",\"take\",\"so\",\"i've\",\"by\",\"can't\",\"as\",\"more\",\"time\",\"red\",\"he's\",\"look\",\"has\",\"oh\",\"that's\",\"our\",\"i'll\",\"must\",\"could\",\"down\",\"they're\",\"force\",\"or\",\"artoo\",\"too\",\"help\",\"from\",\"when\",\"her\",\"want\",\"station\",\"before\",\"old\",\"any\",\"off\",\"there's\",\"some\",\"how\",\"an\",\"alderaan\",\"did\",\"than\",\"were\",\"obi\",\"into\",\"two\",\"wan\",\"she\",\"good\",\"kenobi\",\"his\",\"little\",\"something\",\"didn't\",\"had\",\"hold\",\"those\",\"wait\",\"rebel\",\"we've\",\"way\",\"who\",\"sure\",\"threepio\",\"what's\",\"would\",\"make\",\"long\",\"power\",\"should\",\"droids\",\"kid\",\"find\",\"their\",\"coming\",\"much\",\"you've\",\"uncle\",\"blast\",\"five\",\"we'll\",\"planet\"],\"x\":[-16.53213882446289,16.168676376342773,-6.13831901550293,16.417142868041992,-2.6146042346954346,-15.548426628112793,8.732821464538574,-14.058335304260254,-14.845379829406738,-0.7767636775970459,0.42114588618278503,-13.431236267089844,-7.281742095947266,-2.586796522140503,15.70119571685791,-4.753893852233887,-8.211649894714355,10.389225006103516,13.048294067382812,4.3969011306762695,-7.104425430297852,15.081939697265625,13.116989135742188,-13.231331825256348,9.032613754272461,-7.982508659362793,7.476528644561768,11.314919471740723,0.7015842199325562,-7.131532192230225,-10.64143180847168,-3.003391981124878,3.1113688945770264,2.0468249320983887,12.93680477142334,11.953341484069824,15.145174026489258,-4.951366424560547,13.519694328308105,4.436951637268066,-13.171656608581543,16.044126510620117,-15.238421440124512,3.2947397232055664,12.250204086303711,-14.839492797851562,13.079732894897461,10.309113502502441,11.166411399841309,8.937779426574707,15.009765625,1.3886194229125977,15.877775192260742,-12.59196662902832,-3.951402425765991,5.03818416595459,9.17138957977295,15.833834648132324,4.912275314331055,-13.546626091003418,5.09814453125,-4.337386608123779,1.0912545919418335,5.1517720222473145,6.013997554779053,-16.034198760986328,-11.924505233764648,5.01628303527832,11.81155014038086,-6.102730751037598,11.075172424316406,-2.5410938262939453,-9.429072380065918,14.91945743560791,-0.04737408831715584,-9.266179084777832,-13.31240463256836,-9.639052391052246,13.319488525390625,0.3571445941925049,-14.107625007629395,10.167839050292969,3.208599328994751,-7.770041465759277,-0.18734091520309448,9.52590274810791,9.297661781311035,-10.663448333740234,-13.985478401184082,-14.732778549194336,-4.903803825378418,3.2990317344665527,-11.355798721313477,13.239896774291992,-7.828740119934082,6.463275909423828,-5.300788402557373,6.4567131996154785,-16.160043716430664,10.458656311035156,12.731369018554688,7.245574474334717,-0.2701069414615631,1.9964778423309326,7.794260025024414,14.211082458496094,8.20440673828125,-11.735311508178711,8.905163764953613,-9.54911994934082,3.4066507816314697,14.28746509552002,-13.161314010620117,-9.811273574829102,14.223081588745117,5.302411079406738,-0.012692839838564396,14.259960174560547,12.305763244628906,2.4619836807250977,10.196355819702148,13.9343900680542,7.48384428024292,1.4587559700012207,-2.3829708099365234,-3.7201478481292725,-16.560466766357422,-2.661991834640503,-11.652525901794434,12.438100814819336,1.2493976354599,3.6060192584991455,2.368529796600342,2.7135610580444336,-7.381394386291504,-1.196004867553711,-14.964578628540039,8.926058769226074,-3.8865907192230225,0.7411670088768005,-4.515725612640381,-7.863515377044678,-14.078996658325195,-1.0739490985870361,-2.808319330215454,10.524296760559082,-6.400057792663574,-9.870122909545898,-8.662153244018555,-15.932808876037598],\"xaxis\":\"x\",\"y\":[0.6305427551269531,1.1006606817245483,-7.139278888702393,1.1212139129638672,-10.078165054321289,-0.8048436641693115,-2.330404281616211,4.356907844543457,1.2625300884246826,2.7095906734466553,5.167641639709473,1.509346842765808,-7.418192386627197,-10.484088897705078,2.465388774871826,2.6242215633392334,-5.042983055114746,-2.1680102348327637,5.224183559417725,2.3195948600769043,-10.692583084106445,1.6199438571929932,9.213188171386719,5.970971584320068,2.938159227371216,-10.040637969970703,2.2696950435638428,6.099564552307129,2.317474126815796,-10.630609512329102,-4.01684045791626,-5.866257190704346,3.175895929336548,3.933424234390259,1.3585858345031738,3.2280609607696533,0.443992555141449,-9.217721939086914,-0.34498628973960876,-10.378133773803711,5.91308069229126,1.4310890436172485,3.1392107009887695,5.6801276206970215,1.7360217571258545,-2.835270881652832,-2.747008800506592,7.831426620483398,9.117023468017578,-4.652693271636963,0.26433074474334717,7.047259330749512,2.3705661296844482,4.093790054321289,-0.7963916063308716,-7.57265567779541,-1.8335086107254028,2.0891149044036865,-2.8805439472198486,5.2693705558776855,4.656615257263184,-6.327199935913086,-5.261429309844971,4.498443126678467,-5.059774398803711,0.9279544353485107,2.088927745819092,-7.478490352630615,9.80492115020752,-5.498459339141846,2.398350954055786,8.983471870422363,9.100469589233398,0.10065824538469315,-10.05441665649414,-4.105570316314697,-4.313384532928467,9.108416557312012,6.024050235748291,-4.310356140136719,-4.789885520935059,5.239165782928467,-4.525783538818359,-3.762669563293457,-5.9295430183410645,1.0944923162460327,0.5179728865623474,4.726457595825195,4.551549434661865,-2.005862236022949,-3.9356272220611572,4.8429694175720215,-4.623880386352539,9.573960304260254,2.269319772720337,3.3985788822174072,-6.550630569458008,-3.576117992401123,0.11819657683372498,-3.6867220401763916,9.93914794921875,-0.9005993008613586,7.021603107452393,-4.017147541046143,8.971207618713379,0.993625283241272,-8.497963905334473,-7.020078182220459,-0.36787933111190796,-7.694515705108643,-2.6751272678375244,10.733100891113281,-0.01872589811682701,8.048016548156738,10.648967742919922,3.1372663974761963,-9.498018264770508,10.706363677978516,-0.7210597395896912,-6.692436218261719,-1.4967362880706787,0.8897688388824463,-5.156323432922363,6.9853692054748535,5.567775726318359,-3.431255578994751,1.8598464727401733,8.743368148803711,-3.9232003688812256,3.6754629611968994,-8.175165176391602,5.928027153015137,-0.7185587286949158,0.8972551822662354,-6.153323650360107,-8.856956481933594,0.9952681064605713,1.2649072408676147,3.536809206008911,-7.1539626121521,-5.315951824188232,-2.532750129699707,4.4469804763793945,-4.639881610870361,8.095149040222168,-4.735775947570801,-2.2705271244049072,8.196476936340332,-6.463250160217285,0.2422102689743042],\"yaxis\":\"y\",\"type\":\"scatter\"}],                        {\"template\":{\"data\":{\"histogram2dcontour\":[{\"type\":\"histogram2dcontour\",\"colorbar\":{\"outlinewidth\":0,\"ticks\":\"\"},\"colorscale\":[[0.0,\"#0d0887\"],[0.1111111111111111,\"#46039f\"],[0.2222222222222222,\"#7201a8\"],[0.3333333333333333,\"#9c179e\"],[0.4444444444444444,\"#bd3786\"],[0.5555555555555556,\"#d8576b\"],[0.6666666666666666,\"#ed7953\"],[0.7777777777777778,\"#fb9f3a\"],[0.8888888888888888,\"#fdca26\"],[1.0,\"#f0f921\"]]}],\"choropleth\":[{\"type\":\"choropleth\",\"colorbar\":{\"outlinewidth\":0,\"ticks\":\"\"}}],\"histogram2d\":[{\"type\":\"histogram2d\",\"colorbar\":{\"outlinewidth\":0,\"ticks\":\"\"},\"colorscale\":[[0.0,\"#0d0887\"],[0.1111111111111111,\"#46039f\"],[0.2222222222222222,\"#7201a8\"],[0.3333333333333333,\"#9c179e\"],[0.4444444444444444,\"#bd3786\"],[0.5555555555555556,\"#d8576b\"],[0.6666666666666666,\"#ed7953\"],[0.7777777777777778,\"#fb9f3a\"],[0.8888888888888888,\"#fdca26\"],[1.0,\"#f0f921\"]]}],\"heatmap\":[{\"type\":\"heatmap\",\"colorbar\":{\"outlinewidth\":0,\"ticks\":\"\"},\"colorscale\":[[0.0,\"#0d0887\"],[0.1111111111111111,\"#46039f\"],[0.2222222222222222,\"#7201a8\"],[0.3333333333333333,\"#9c179e\"],[0.4444444444444444,\"#bd3786\"],[0.5555555555555556,\"#d8576b\"],[0.6666666666666666,\"#ed7953\"],[0.7777777777777778,\"#fb9f3a\"],[0.8888888888888888,\"#fdca26\"],[1.0,\"#f0f921\"]]}],\"heatmapgl\":[{\"type\":\"heatmapgl\",\"colorbar\":{\"outlinewidth\":0,\"ticks\":\"\"},\"colorscale\":[[0.0,\"#0d0887\"],[0.1111111111111111,\"#46039f\"],[0.2222222222222222,\"#7201a8\"],[0.3333333333333333,\"#9c179e\"],[0.4444444444444444,\"#bd3786\"],[0.5555555555555556,\"#d8576b\"],[0.6666666666666666,\"#ed7953\"],[0.7777777777777778,\"#fb9f3a\"],[0.8888888888888888,\"#fdca26\"],[1.0,\"#f0f921\"]]}],\"contourcarpet\":[{\"type\":\"contourcarpet\",\"colorbar\":{\"outlinewidth\":0,\"ticks\":\"\"}}],\"contour\":[{\"type\":\"contour\",\"colorbar\":{\"outlinewidth\":0,\"ticks\":\"\"},\"colorscale\":[[0.0,\"#0d0887\"],[0.1111111111111111,\"#46039f\"],[0.2222222222222222,\"#7201a8\"],[0.3333333333333333,\"#9c179e\"],[0.4444444444444444,\"#bd3786\"],[0.5555555555555556,\"#d8576b\"],[0.6666666666666666,\"#ed7953\"],[0.7777777777777778,\"#fb9f3a\"],[0.8888888888888888,\"#fdca26\"],[1.0,\"#f0f921\"]]}],\"surface\":[{\"type\":\"surface\",\"colorbar\":{\"outlinewidth\":0,\"ticks\":\"\"},\"colorscale\":[[0.0,\"#0d0887\"],[0.1111111111111111,\"#46039f\"],[0.2222222222222222,\"#7201a8\"],[0.3333333333333333,\"#9c179e\"],[0.4444444444444444,\"#bd3786\"],[0.5555555555555556,\"#d8576b\"],[0.6666666666666666,\"#ed7953\"],[0.7777777777777778,\"#fb9f3a\"],[0.8888888888888888,\"#fdca26\"],[1.0,\"#f0f921\"]]}],\"mesh3d\":[{\"type\":\"mesh3d\",\"colorbar\":{\"outlinewidth\":0,\"ticks\":\"\"}}],\"scatter\":[{\"fillpattern\":{\"fillmode\":\"overlay\",\"size\":10,\"solidity\":0.2},\"type\":\"scatter\"}],\"parcoords\":[{\"type\":\"parcoords\",\"line\":{\"colorbar\":{\"outlinewidth\":0,\"ticks\":\"\"}}}],\"scatterpolargl\":[{\"type\":\"scatterpolargl\",\"marker\":{\"colorbar\":{\"outlinewidth\":0,\"ticks\":\"\"}}}],\"bar\":[{\"error_x\":{\"color\":\"#2a3f5f\"},\"error_y\":{\"color\":\"#2a3f5f\"},\"marker\":{\"line\":{\"color\":\"#E5ECF6\",\"width\":0.5},\"pattern\":{\"fillmode\":\"overlay\",\"size\":10,\"solidity\":0.2}},\"type\":\"bar\"}],\"scattergeo\":[{\"type\":\"scattergeo\",\"marker\":{\"colorbar\":{\"outlinewidth\":0,\"ticks\":\"\"}}}],\"scatterpolar\":[{\"type\":\"scatterpolar\",\"marker\":{\"colorbar\":{\"outlinewidth\":0,\"ticks\":\"\"}}}],\"histogram\":[{\"marker\":{\"pattern\":{\"fillmode\":\"overlay\",\"size\":10,\"solidity\":0.2}},\"type\":\"histogram\"}],\"scattergl\":[{\"type\":\"scattergl\",\"marker\":{\"colorbar\":{\"outlinewidth\":0,\"ticks\":\"\"}}}],\"scatter3d\":[{\"type\":\"scatter3d\",\"line\":{\"colorbar\":{\"outlinewidth\":0,\"ticks\":\"\"}},\"marker\":{\"colorbar\":{\"outlinewidth\":0,\"ticks\":\"\"}}}],\"scattermapbox\":[{\"type\":\"scattermapbox\",\"marker\":{\"colorbar\":{\"outlinewidth\":0,\"ticks\":\"\"}}}],\"scatterternary\":[{\"type\":\"scatterternary\",\"marker\":{\"colorbar\":{\"outlinewidth\":0,\"ticks\":\"\"}}}],\"scattercarpet\":[{\"type\":\"scattercarpet\",\"marker\":{\"colorbar\":{\"outlinewidth\":0,\"ticks\":\"\"}}}],\"carpet\":[{\"aaxis\":{\"endlinecolor\":\"#2a3f5f\",\"gridcolor\":\"white\",\"linecolor\":\"white\",\"minorgridcolor\":\"white\",\"startlinecolor\":\"#2a3f5f\"},\"baxis\":{\"endlinecolor\":\"#2a3f5f\",\"gridcolor\":\"white\",\"linecolor\":\"white\",\"minorgridcolor\":\"white\",\"startlinecolor\":\"#2a3f5f\"},\"type\":\"carpet\"}],\"table\":[{\"cells\":{\"fill\":{\"color\":\"#EBF0F8\"},\"line\":{\"color\":\"white\"}},\"header\":{\"fill\":{\"color\":\"#C8D4E3\"},\"line\":{\"color\":\"white\"}},\"type\":\"table\"}],\"barpolar\":[{\"marker\":{\"line\":{\"color\":\"#E5ECF6\",\"width\":0.5},\"pattern\":{\"fillmode\":\"overlay\",\"size\":10,\"solidity\":0.2}},\"type\":\"barpolar\"}],\"pie\":[{\"automargin\":true,\"type\":\"pie\"}]},\"layout\":{\"autotypenumbers\":\"strict\",\"colorway\":[\"#636efa\",\"#EF553B\",\"#00cc96\",\"#ab63fa\",\"#FFA15A\",\"#19d3f3\",\"#FF6692\",\"#B6E880\",\"#FF97FF\",\"#FECB52\"],\"font\":{\"color\":\"#2a3f5f\"},\"hovermode\":\"closest\",\"hoverlabel\":{\"align\":\"left\"},\"paper_bgcolor\":\"white\",\"plot_bgcolor\":\"#E5ECF6\",\"polar\":{\"bgcolor\":\"#E5ECF6\",\"angularaxis\":{\"gridcolor\":\"white\",\"linecolor\":\"white\",\"ticks\":\"\"},\"radialaxis\":{\"gridcolor\":\"white\",\"linecolor\":\"white\",\"ticks\":\"\"}},\"ternary\":{\"bgcolor\":\"#E5ECF6\",\"aaxis\":{\"gridcolor\":\"white\",\"linecolor\":\"white\",\"ticks\":\"\"},\"baxis\":{\"gridcolor\":\"white\",\"linecolor\":\"white\",\"ticks\":\"\"},\"caxis\":{\"gridcolor\":\"white\",\"linecolor\":\"white\",\"ticks\":\"\"}},\"coloraxis\":{\"colorbar\":{\"outlinewidth\":0,\"ticks\":\"\"}},\"colorscale\":{\"sequential\":[[0.0,\"#0d0887\"],[0.1111111111111111,\"#46039f\"],[0.2222222222222222,\"#7201a8\"],[0.3333333333333333,\"#9c179e\"],[0.4444444444444444,\"#bd3786\"],[0.5555555555555556,\"#d8576b\"],[0.6666666666666666,\"#ed7953\"],[0.7777777777777778,\"#fb9f3a\"],[0.8888888888888888,\"#fdca26\"],[1.0,\"#f0f921\"]],\"sequentialminus\":[[0.0,\"#0d0887\"],[0.1111111111111111,\"#46039f\"],[0.2222222222222222,\"#7201a8\"],[0.3333333333333333,\"#9c179e\"],[0.4444444444444444,\"#bd3786\"],[0.5555555555555556,\"#d8576b\"],[0.6666666666666666,\"#ed7953\"],[0.7777777777777778,\"#fb9f3a\"],[0.8888888888888888,\"#fdca26\"],[1.0,\"#f0f921\"]],\"diverging\":[[0,\"#8e0152\"],[0.1,\"#c51b7d\"],[0.2,\"#de77ae\"],[0.3,\"#f1b6da\"],[0.4,\"#fde0ef\"],[0.5,\"#f7f7f7\"],[0.6,\"#e6f5d0\"],[0.7,\"#b8e186\"],[0.8,\"#7fbc41\"],[0.9,\"#4d9221\"],[1,\"#276419\"]]},\"xaxis\":{\"gridcolor\":\"white\",\"linecolor\":\"white\",\"ticks\":\"\",\"title\":{\"standoff\":15},\"zerolinecolor\":\"white\",\"automargin\":true,\"zerolinewidth\":2},\"yaxis\":{\"gridcolor\":\"white\",\"linecolor\":\"white\",\"ticks\":\"\",\"title\":{\"standoff\":15},\"zerolinecolor\":\"white\",\"automargin\":true,\"zerolinewidth\":2},\"scene\":{\"xaxis\":{\"backgroundcolor\":\"#E5ECF6\",\"gridcolor\":\"white\",\"linecolor\":\"white\",\"showbackground\":true,\"ticks\":\"\",\"zerolinecolor\":\"white\",\"gridwidth\":2},\"yaxis\":{\"backgroundcolor\":\"#E5ECF6\",\"gridcolor\":\"white\",\"linecolor\":\"white\",\"showbackground\":true,\"ticks\":\"\",\"zerolinecolor\":\"white\",\"gridwidth\":2},\"zaxis\":{\"backgroundcolor\":\"#E5ECF6\",\"gridcolor\":\"white\",\"linecolor\":\"white\",\"showbackground\":true,\"ticks\":\"\",\"zerolinecolor\":\"white\",\"gridwidth\":2}},\"shapedefaults\":{\"line\":{\"color\":\"#2a3f5f\"}},\"annotationdefaults\":{\"arrowcolor\":\"#2a3f5f\",\"arrowhead\":0,\"arrowwidth\":1},\"geo\":{\"bgcolor\":\"white\",\"landcolor\":\"#E5ECF6\",\"subunitcolor\":\"white\",\"showland\":true,\"showlakes\":true,\"lakecolor\":\"white\"},\"title\":{\"x\":0.05},\"mapbox\":{\"style\":\"light\"}}},\"xaxis\":{\"anchor\":\"y\",\"domain\":[0.0,1.0],\"title\":{\"text\":\"x\"}},\"yaxis\":{\"anchor\":\"x\",\"domain\":[0.0,1.0],\"title\":{\"text\":\"y\"}},\"legend\":{\"tracegroupgap\":0},\"margin\":{\"t\":60}},                        {\"responsive\": true}                    ).then(function(){\n",
              "                            \n",
              "var gd = document.getElementById('e95cc391-623a-4446-b73d-ce6f2e401fb5');\n",
              "var x = new MutationObserver(function (mutations, observer) {{\n",
              "        var display = window.getComputedStyle(gd).display;\n",
              "        if (!display || display === 'none') {{\n",
              "            console.log([gd, 'removed!']);\n",
              "            Plotly.purge(gd);\n",
              "            observer.disconnect();\n",
              "        }}\n",
              "}});\n",
              "\n",
              "// Listen for the removal of the full notebook cells\n",
              "var notebookContainer = gd.closest('#notebook-container');\n",
              "if (notebookContainer) {{\n",
              "    x.observe(notebookContainer, {childList: true});\n",
              "}}\n",
              "\n",
              "// Listen for the clearing of the current output cell\n",
              "var outputEl = gd.closest('.output');\n",
              "if (outputEl) {{\n",
              "    x.observe(outputEl, {childList: true});\n",
              "}}\n",
              "\n",
              "                        })                };                            </script>        </div>\n",
              "</body>\n",
              "</html>"
            ]
          },
          "metadata": {}
        }
      ],
      "source": [
        "# Graficar los embedddings en 2D\n",
        "import plotly.graph_objects as go\n",
        "import plotly.express as px\n",
        "\n",
        "x_vals, y_vals, labels = reduce_dimensions(w2v_model)\n",
        "\n",
        "MAX_WORDS= 150\n",
        "fig = px.scatter(x=x_vals[:MAX_WORDS], y=y_vals[:MAX_WORDS], text=labels[:MAX_WORDS])\n",
        "fig.show(renderer=\"colab\") # esto para plotly en colab"
      ]
    },
    {
      "cell_type": "code",
      "source": [
        "fig = px.scatter(x=x_vals[:MAX_WORDS], y=y_vals[:MAX_WORDS], text=labels[:MAX_WORDS])\n",
        "fig.show(renderer=\"colab\") # esto para plotly en colab"
      ],
      "metadata": {
        "colab": {
          "base_uri": "https://localhost:8080/",
          "height": 542
        },
        "id": "ZxiOxrzS5qsM",
        "outputId": "e10e743a-da3e-466a-c1ef-a91a1d3c2b1a"
      },
      "execution_count": 107,
      "outputs": [
        {
          "output_type": "display_data",
          "data": {
            "text/html": [
              "<html>\n",
              "<head><meta charset=\"utf-8\" /></head>\n",
              "<body>\n",
              "    <div>            <script src=\"https://cdnjs.cloudflare.com/ajax/libs/mathjax/2.7.5/MathJax.js?config=TeX-AMS-MML_SVG\"></script><script type=\"text/javascript\">if (window.MathJax && window.MathJax.Hub && window.MathJax.Hub.Config) {window.MathJax.Hub.Config({SVG: {font: \"STIX-Web\"}});}</script>                <script type=\"text/javascript\">window.PlotlyConfig = {MathJaxConfig: 'local'};</script>\n",
              "        <script src=\"https://cdn.plot.ly/plotly-2.18.2.min.js\"></script>                <div id=\"9db15549-721b-4c77-9cff-746b1a19c138\" class=\"plotly-graph-div\" style=\"height:525px; width:100%;\"></div>            <script type=\"text/javascript\">                                    window.PLOTLYENV=window.PLOTLYENV || {};                                    if (document.getElementById(\"9db15549-721b-4c77-9cff-746b1a19c138\")) {                    Plotly.newPlot(                        \"9db15549-721b-4c77-9cff-746b1a19c138\",                        [{\"hovertemplate\":\"x=%{x}<br>y=%{y}<br>text=%{text}<extra></extra>\",\"legendgroup\":\"\",\"marker\":{\"color\":\"#636efa\",\"symbol\":\"circle\"},\"mode\":\"markers+text\",\"name\":\"\",\"orientation\":\"v\",\"showlegend\":false,\"text\":[\"the\",\"you\",\"to\",\"i\",\"a\",\"of\",\"it\",\"in\",\"this\",\"your\",\"be\",\"is\",\"on\",\"that\",\"what\",\"and\",\"for\",\"have\",\"he\",\"are\",\"i'm\",\"don't\",\"me\",\"all\",\"here\",\"going\",\"we\",\"my\",\"luke\",\"not\",\"it's\",\"get\",\"with\",\"there\",\"if\",\"but\",\"can\",\"no\",\"him\",\"out\",\"right\",\"do\",\"one\",\"come\",\"sir\",\"will\",\"about\",\"now\",\"you're\",\"was\",\"see\",\"them\",\"know\",\"up\",\"us\",\"got\",\"just\",\"think\",\"well\",\"we're\",\"where\",\"back\",\"go\",\"they\",\"like\",\"ship\",\"at\",\"been\",\"only\",\"take\",\"so\",\"i've\",\"by\",\"can't\",\"as\",\"more\",\"time\",\"red\",\"he's\",\"look\",\"has\",\"oh\",\"that's\",\"our\",\"i'll\",\"must\",\"could\",\"down\",\"they're\",\"force\",\"or\",\"artoo\",\"too\",\"help\",\"from\",\"when\",\"her\",\"want\",\"station\",\"before\",\"old\",\"any\",\"off\",\"there's\",\"some\",\"how\",\"an\",\"alderaan\",\"did\",\"than\",\"were\",\"obi\",\"into\",\"two\",\"wan\",\"she\",\"good\",\"kenobi\",\"his\",\"little\",\"something\",\"didn't\",\"had\",\"hold\",\"those\",\"wait\",\"rebel\",\"we've\",\"way\",\"who\",\"sure\",\"threepio\",\"what's\",\"would\",\"make\",\"long\",\"power\",\"should\",\"droids\",\"kid\",\"find\",\"their\",\"coming\",\"much\",\"you've\",\"uncle\",\"blast\",\"five\",\"we'll\",\"planet\"],\"x\":[-16.53213882446289,16.168676376342773,-6.13831901550293,16.417142868041992,-2.6146042346954346,-15.548426628112793,8.732821464538574,-14.058335304260254,-14.845379829406738,-0.7767636775970459,0.42114588618278503,-13.431236267089844,-7.281742095947266,-2.586796522140503,15.70119571685791,-4.753893852233887,-8.211649894714355,10.389225006103516,13.048294067382812,4.3969011306762695,-7.104425430297852,15.081939697265625,13.116989135742188,-13.231331825256348,9.032613754272461,-7.982508659362793,7.476528644561768,11.314919471740723,0.7015842199325562,-7.131532192230225,-10.64143180847168,-3.003391981124878,3.1113688945770264,2.0468249320983887,12.93680477142334,11.953341484069824,15.145174026489258,-4.951366424560547,13.519694328308105,4.436951637268066,-13.171656608581543,16.044126510620117,-15.238421440124512,3.2947397232055664,12.250204086303711,-14.839492797851562,13.079732894897461,10.309113502502441,11.166411399841309,8.937779426574707,15.009765625,1.3886194229125977,15.877775192260742,-12.59196662902832,-3.951402425765991,5.03818416595459,9.17138957977295,15.833834648132324,4.912275314331055,-13.546626091003418,5.09814453125,-4.337386608123779,1.0912545919418335,5.1517720222473145,6.013997554779053,-16.034198760986328,-11.924505233764648,5.01628303527832,11.81155014038086,-6.102730751037598,11.075172424316406,-2.5410938262939453,-9.429072380065918,14.91945743560791,-0.04737408831715584,-9.266179084777832,-13.31240463256836,-9.639052391052246,13.319488525390625,0.3571445941925049,-14.107625007629395,10.167839050292969,3.208599328994751,-7.770041465759277,-0.18734091520309448,9.52590274810791,9.297661781311035,-10.663448333740234,-13.985478401184082,-14.732778549194336,-4.903803825378418,3.2990317344665527,-11.355798721313477,13.239896774291992,-7.828740119934082,6.463275909423828,-5.300788402557373,6.4567131996154785,-16.160043716430664,10.458656311035156,12.731369018554688,7.245574474334717,-0.2701069414615631,1.9964778423309326,7.794260025024414,14.211082458496094,8.20440673828125,-11.735311508178711,8.905163764953613,-9.54911994934082,3.4066507816314697,14.28746509552002,-13.161314010620117,-9.811273574829102,14.223081588745117,5.302411079406738,-0.012692839838564396,14.259960174560547,12.305763244628906,2.4619836807250977,10.196355819702148,13.9343900680542,7.48384428024292,1.4587559700012207,-2.3829708099365234,-3.7201478481292725,-16.560466766357422,-2.661991834640503,-11.652525901794434,12.438100814819336,1.2493976354599,3.6060192584991455,2.368529796600342,2.7135610580444336,-7.381394386291504,-1.196004867553711,-14.964578628540039,8.926058769226074,-3.8865907192230225,0.7411670088768005,-4.515725612640381,-7.863515377044678,-14.078996658325195,-1.0739490985870361,-2.808319330215454,10.524296760559082,-6.400057792663574,-9.870122909545898,-8.662153244018555,-15.932808876037598],\"xaxis\":\"x\",\"y\":[0.6305427551269531,1.1006606817245483,-7.139278888702393,1.1212139129638672,-10.078165054321289,-0.8048436641693115,-2.330404281616211,4.356907844543457,1.2625300884246826,2.7095906734466553,5.167641639709473,1.509346842765808,-7.418192386627197,-10.484088897705078,2.465388774871826,2.6242215633392334,-5.042983055114746,-2.1680102348327637,5.224183559417725,2.3195948600769043,-10.692583084106445,1.6199438571929932,9.213188171386719,5.970971584320068,2.938159227371216,-10.040637969970703,2.2696950435638428,6.099564552307129,2.317474126815796,-10.630609512329102,-4.01684045791626,-5.866257190704346,3.175895929336548,3.933424234390259,1.3585858345031738,3.2280609607696533,0.443992555141449,-9.217721939086914,-0.34498628973960876,-10.378133773803711,5.91308069229126,1.4310890436172485,3.1392107009887695,5.6801276206970215,1.7360217571258545,-2.835270881652832,-2.747008800506592,7.831426620483398,9.117023468017578,-4.652693271636963,0.26433074474334717,7.047259330749512,2.3705661296844482,4.093790054321289,-0.7963916063308716,-7.57265567779541,-1.8335086107254028,2.0891149044036865,-2.8805439472198486,5.2693705558776855,4.656615257263184,-6.327199935913086,-5.261429309844971,4.498443126678467,-5.059774398803711,0.9279544353485107,2.088927745819092,-7.478490352630615,9.80492115020752,-5.498459339141846,2.398350954055786,8.983471870422363,9.100469589233398,0.10065824538469315,-10.05441665649414,-4.105570316314697,-4.313384532928467,9.108416557312012,6.024050235748291,-4.310356140136719,-4.789885520935059,5.239165782928467,-4.525783538818359,-3.762669563293457,-5.9295430183410645,1.0944923162460327,0.5179728865623474,4.726457595825195,4.551549434661865,-2.005862236022949,-3.9356272220611572,4.8429694175720215,-4.623880386352539,9.573960304260254,2.269319772720337,3.3985788822174072,-6.550630569458008,-3.576117992401123,0.11819657683372498,-3.6867220401763916,9.93914794921875,-0.9005993008613586,7.021603107452393,-4.017147541046143,8.971207618713379,0.993625283241272,-8.497963905334473,-7.020078182220459,-0.36787933111190796,-7.694515705108643,-2.6751272678375244,10.733100891113281,-0.01872589811682701,8.048016548156738,10.648967742919922,3.1372663974761963,-9.498018264770508,10.706363677978516,-0.7210597395896912,-6.692436218261719,-1.4967362880706787,0.8897688388824463,-5.156323432922363,6.9853692054748535,5.567775726318359,-3.431255578994751,1.8598464727401733,8.743368148803711,-3.9232003688812256,3.6754629611968994,-8.175165176391602,5.928027153015137,-0.7185587286949158,0.8972551822662354,-6.153323650360107,-8.856956481933594,0.9952681064605713,1.2649072408676147,3.536809206008911,-7.1539626121521,-5.315951824188232,-2.532750129699707,4.4469804763793945,-4.639881610870361,8.095149040222168,-4.735775947570801,-2.2705271244049072,8.196476936340332,-6.463250160217285,0.2422102689743042],\"yaxis\":\"y\",\"type\":\"scatter\"}],                        {\"template\":{\"data\":{\"histogram2dcontour\":[{\"type\":\"histogram2dcontour\",\"colorbar\":{\"outlinewidth\":0,\"ticks\":\"\"},\"colorscale\":[[0.0,\"#0d0887\"],[0.1111111111111111,\"#46039f\"],[0.2222222222222222,\"#7201a8\"],[0.3333333333333333,\"#9c179e\"],[0.4444444444444444,\"#bd3786\"],[0.5555555555555556,\"#d8576b\"],[0.6666666666666666,\"#ed7953\"],[0.7777777777777778,\"#fb9f3a\"],[0.8888888888888888,\"#fdca26\"],[1.0,\"#f0f921\"]]}],\"choropleth\":[{\"type\":\"choropleth\",\"colorbar\":{\"outlinewidth\":0,\"ticks\":\"\"}}],\"histogram2d\":[{\"type\":\"histogram2d\",\"colorbar\":{\"outlinewidth\":0,\"ticks\":\"\"},\"colorscale\":[[0.0,\"#0d0887\"],[0.1111111111111111,\"#46039f\"],[0.2222222222222222,\"#7201a8\"],[0.3333333333333333,\"#9c179e\"],[0.4444444444444444,\"#bd3786\"],[0.5555555555555556,\"#d8576b\"],[0.6666666666666666,\"#ed7953\"],[0.7777777777777778,\"#fb9f3a\"],[0.8888888888888888,\"#fdca26\"],[1.0,\"#f0f921\"]]}],\"heatmap\":[{\"type\":\"heatmap\",\"colorbar\":{\"outlinewidth\":0,\"ticks\":\"\"},\"colorscale\":[[0.0,\"#0d0887\"],[0.1111111111111111,\"#46039f\"],[0.2222222222222222,\"#7201a8\"],[0.3333333333333333,\"#9c179e\"],[0.4444444444444444,\"#bd3786\"],[0.5555555555555556,\"#d8576b\"],[0.6666666666666666,\"#ed7953\"],[0.7777777777777778,\"#fb9f3a\"],[0.8888888888888888,\"#fdca26\"],[1.0,\"#f0f921\"]]}],\"heatmapgl\":[{\"type\":\"heatmapgl\",\"colorbar\":{\"outlinewidth\":0,\"ticks\":\"\"},\"colorscale\":[[0.0,\"#0d0887\"],[0.1111111111111111,\"#46039f\"],[0.2222222222222222,\"#7201a8\"],[0.3333333333333333,\"#9c179e\"],[0.4444444444444444,\"#bd3786\"],[0.5555555555555556,\"#d8576b\"],[0.6666666666666666,\"#ed7953\"],[0.7777777777777778,\"#fb9f3a\"],[0.8888888888888888,\"#fdca26\"],[1.0,\"#f0f921\"]]}],\"contourcarpet\":[{\"type\":\"contourcarpet\",\"colorbar\":{\"outlinewidth\":0,\"ticks\":\"\"}}],\"contour\":[{\"type\":\"contour\",\"colorbar\":{\"outlinewidth\":0,\"ticks\":\"\"},\"colorscale\":[[0.0,\"#0d0887\"],[0.1111111111111111,\"#46039f\"],[0.2222222222222222,\"#7201a8\"],[0.3333333333333333,\"#9c179e\"],[0.4444444444444444,\"#bd3786\"],[0.5555555555555556,\"#d8576b\"],[0.6666666666666666,\"#ed7953\"],[0.7777777777777778,\"#fb9f3a\"],[0.8888888888888888,\"#fdca26\"],[1.0,\"#f0f921\"]]}],\"surface\":[{\"type\":\"surface\",\"colorbar\":{\"outlinewidth\":0,\"ticks\":\"\"},\"colorscale\":[[0.0,\"#0d0887\"],[0.1111111111111111,\"#46039f\"],[0.2222222222222222,\"#7201a8\"],[0.3333333333333333,\"#9c179e\"],[0.4444444444444444,\"#bd3786\"],[0.5555555555555556,\"#d8576b\"],[0.6666666666666666,\"#ed7953\"],[0.7777777777777778,\"#fb9f3a\"],[0.8888888888888888,\"#fdca26\"],[1.0,\"#f0f921\"]]}],\"mesh3d\":[{\"type\":\"mesh3d\",\"colorbar\":{\"outlinewidth\":0,\"ticks\":\"\"}}],\"scatter\":[{\"fillpattern\":{\"fillmode\":\"overlay\",\"size\":10,\"solidity\":0.2},\"type\":\"scatter\"}],\"parcoords\":[{\"type\":\"parcoords\",\"line\":{\"colorbar\":{\"outlinewidth\":0,\"ticks\":\"\"}}}],\"scatterpolargl\":[{\"type\":\"scatterpolargl\",\"marker\":{\"colorbar\":{\"outlinewidth\":0,\"ticks\":\"\"}}}],\"bar\":[{\"error_x\":{\"color\":\"#2a3f5f\"},\"error_y\":{\"color\":\"#2a3f5f\"},\"marker\":{\"line\":{\"color\":\"#E5ECF6\",\"width\":0.5},\"pattern\":{\"fillmode\":\"overlay\",\"size\":10,\"solidity\":0.2}},\"type\":\"bar\"}],\"scattergeo\":[{\"type\":\"scattergeo\",\"marker\":{\"colorbar\":{\"outlinewidth\":0,\"ticks\":\"\"}}}],\"scatterpolar\":[{\"type\":\"scatterpolar\",\"marker\":{\"colorbar\":{\"outlinewidth\":0,\"ticks\":\"\"}}}],\"histogram\":[{\"marker\":{\"pattern\":{\"fillmode\":\"overlay\",\"size\":10,\"solidity\":0.2}},\"type\":\"histogram\"}],\"scattergl\":[{\"type\":\"scattergl\",\"marker\":{\"colorbar\":{\"outlinewidth\":0,\"ticks\":\"\"}}}],\"scatter3d\":[{\"type\":\"scatter3d\",\"line\":{\"colorbar\":{\"outlinewidth\":0,\"ticks\":\"\"}},\"marker\":{\"colorbar\":{\"outlinewidth\":0,\"ticks\":\"\"}}}],\"scattermapbox\":[{\"type\":\"scattermapbox\",\"marker\":{\"colorbar\":{\"outlinewidth\":0,\"ticks\":\"\"}}}],\"scatterternary\":[{\"type\":\"scatterternary\",\"marker\":{\"colorbar\":{\"outlinewidth\":0,\"ticks\":\"\"}}}],\"scattercarpet\":[{\"type\":\"scattercarpet\",\"marker\":{\"colorbar\":{\"outlinewidth\":0,\"ticks\":\"\"}}}],\"carpet\":[{\"aaxis\":{\"endlinecolor\":\"#2a3f5f\",\"gridcolor\":\"white\",\"linecolor\":\"white\",\"minorgridcolor\":\"white\",\"startlinecolor\":\"#2a3f5f\"},\"baxis\":{\"endlinecolor\":\"#2a3f5f\",\"gridcolor\":\"white\",\"linecolor\":\"white\",\"minorgridcolor\":\"white\",\"startlinecolor\":\"#2a3f5f\"},\"type\":\"carpet\"}],\"table\":[{\"cells\":{\"fill\":{\"color\":\"#EBF0F8\"},\"line\":{\"color\":\"white\"}},\"header\":{\"fill\":{\"color\":\"#C8D4E3\"},\"line\":{\"color\":\"white\"}},\"type\":\"table\"}],\"barpolar\":[{\"marker\":{\"line\":{\"color\":\"#E5ECF6\",\"width\":0.5},\"pattern\":{\"fillmode\":\"overlay\",\"size\":10,\"solidity\":0.2}},\"type\":\"barpolar\"}],\"pie\":[{\"automargin\":true,\"type\":\"pie\"}]},\"layout\":{\"autotypenumbers\":\"strict\",\"colorway\":[\"#636efa\",\"#EF553B\",\"#00cc96\",\"#ab63fa\",\"#FFA15A\",\"#19d3f3\",\"#FF6692\",\"#B6E880\",\"#FF97FF\",\"#FECB52\"],\"font\":{\"color\":\"#2a3f5f\"},\"hovermode\":\"closest\",\"hoverlabel\":{\"align\":\"left\"},\"paper_bgcolor\":\"white\",\"plot_bgcolor\":\"#E5ECF6\",\"polar\":{\"bgcolor\":\"#E5ECF6\",\"angularaxis\":{\"gridcolor\":\"white\",\"linecolor\":\"white\",\"ticks\":\"\"},\"radialaxis\":{\"gridcolor\":\"white\",\"linecolor\":\"white\",\"ticks\":\"\"}},\"ternary\":{\"bgcolor\":\"#E5ECF6\",\"aaxis\":{\"gridcolor\":\"white\",\"linecolor\":\"white\",\"ticks\":\"\"},\"baxis\":{\"gridcolor\":\"white\",\"linecolor\":\"white\",\"ticks\":\"\"},\"caxis\":{\"gridcolor\":\"white\",\"linecolor\":\"white\",\"ticks\":\"\"}},\"coloraxis\":{\"colorbar\":{\"outlinewidth\":0,\"ticks\":\"\"}},\"colorscale\":{\"sequential\":[[0.0,\"#0d0887\"],[0.1111111111111111,\"#46039f\"],[0.2222222222222222,\"#7201a8\"],[0.3333333333333333,\"#9c179e\"],[0.4444444444444444,\"#bd3786\"],[0.5555555555555556,\"#d8576b\"],[0.6666666666666666,\"#ed7953\"],[0.7777777777777778,\"#fb9f3a\"],[0.8888888888888888,\"#fdca26\"],[1.0,\"#f0f921\"]],\"sequentialminus\":[[0.0,\"#0d0887\"],[0.1111111111111111,\"#46039f\"],[0.2222222222222222,\"#7201a8\"],[0.3333333333333333,\"#9c179e\"],[0.4444444444444444,\"#bd3786\"],[0.5555555555555556,\"#d8576b\"],[0.6666666666666666,\"#ed7953\"],[0.7777777777777778,\"#fb9f3a\"],[0.8888888888888888,\"#fdca26\"],[1.0,\"#f0f921\"]],\"diverging\":[[0,\"#8e0152\"],[0.1,\"#c51b7d\"],[0.2,\"#de77ae\"],[0.3,\"#f1b6da\"],[0.4,\"#fde0ef\"],[0.5,\"#f7f7f7\"],[0.6,\"#e6f5d0\"],[0.7,\"#b8e186\"],[0.8,\"#7fbc41\"],[0.9,\"#4d9221\"],[1,\"#276419\"]]},\"xaxis\":{\"gridcolor\":\"white\",\"linecolor\":\"white\",\"ticks\":\"\",\"title\":{\"standoff\":15},\"zerolinecolor\":\"white\",\"automargin\":true,\"zerolinewidth\":2},\"yaxis\":{\"gridcolor\":\"white\",\"linecolor\":\"white\",\"ticks\":\"\",\"title\":{\"standoff\":15},\"zerolinecolor\":\"white\",\"automargin\":true,\"zerolinewidth\":2},\"scene\":{\"xaxis\":{\"backgroundcolor\":\"#E5ECF6\",\"gridcolor\":\"white\",\"linecolor\":\"white\",\"showbackground\":true,\"ticks\":\"\",\"zerolinecolor\":\"white\",\"gridwidth\":2},\"yaxis\":{\"backgroundcolor\":\"#E5ECF6\",\"gridcolor\":\"white\",\"linecolor\":\"white\",\"showbackground\":true,\"ticks\":\"\",\"zerolinecolor\":\"white\",\"gridwidth\":2},\"zaxis\":{\"backgroundcolor\":\"#E5ECF6\",\"gridcolor\":\"white\",\"linecolor\":\"white\",\"showbackground\":true,\"ticks\":\"\",\"zerolinecolor\":\"white\",\"gridwidth\":2}},\"shapedefaults\":{\"line\":{\"color\":\"#2a3f5f\"}},\"annotationdefaults\":{\"arrowcolor\":\"#2a3f5f\",\"arrowhead\":0,\"arrowwidth\":1},\"geo\":{\"bgcolor\":\"white\",\"landcolor\":\"#E5ECF6\",\"subunitcolor\":\"white\",\"showland\":true,\"showlakes\":true,\"lakecolor\":\"white\"},\"title\":{\"x\":0.05},\"mapbox\":{\"style\":\"light\"}}},\"xaxis\":{\"anchor\":\"y\",\"domain\":[0.0,1.0],\"title\":{\"text\":\"x\"}},\"yaxis\":{\"anchor\":\"x\",\"domain\":[0.0,1.0],\"title\":{\"text\":\"y\"}},\"legend\":{\"tracegroupgap\":0},\"margin\":{\"t\":60}},                        {\"responsive\": true}                    ).then(function(){\n",
              "                            \n",
              "var gd = document.getElementById('9db15549-721b-4c77-9cff-746b1a19c138');\n",
              "var x = new MutationObserver(function (mutations, observer) {{\n",
              "        var display = window.getComputedStyle(gd).display;\n",
              "        if (!display || display === 'none') {{\n",
              "            console.log([gd, 'removed!']);\n",
              "            Plotly.purge(gd);\n",
              "            observer.disconnect();\n",
              "        }}\n",
              "}});\n",
              "\n",
              "// Listen for the removal of the full notebook cells\n",
              "var notebookContainer = gd.closest('#notebook-container');\n",
              "if (notebookContainer) {{\n",
              "    x.observe(notebookContainer, {childList: true});\n",
              "}}\n",
              "\n",
              "// Listen for the clearing of the current output cell\n",
              "var outputEl = gd.closest('.output');\n",
              "if (outputEl) {{\n",
              "    x.observe(outputEl, {childList: true});\n",
              "}}\n",
              "\n",
              "                        })                };                            </script>        </div>\n",
              "</body>\n",
              "</html>"
            ]
          },
          "metadata": {}
        }
      ]
    },
    {
      "cell_type": "markdown",
      "metadata": {
        "id": "yMM_SHSaZ9N-"
      },
      "source": [
        "### Alumno"
      ]
    },
    {
      "cell_type": "markdown",
      "metadata": {
        "id": "WivQZ3ZCZ9N_"
      },
      "source": [
        "- Crear sus propios vectores con Gensim basado en lo visto en clase con otro dataset.\n",
        "- Probar términos de interés y explicar similitudes en el espacio de embeddings (sacar conclusiones entre palabras similitudes y diferencias).\n",
        "- Graficarlos.\n",
        "- Obtener conclusiones."
      ]
    },
    {
      "cell_type": "markdown",
      "source": [
        "Conclusiones:\n",
        "\n",
        "Los resultados serían mejores en caso de dedicarle mas al preprocesamiento (lemmatization, stop words removal), así perderían relevancia muchos tokens genéricos sin sentido específico.\n",
        "Editando los parámetros de la función que detalla al embedding (Word2Vec) podemos mejorar el modelo, a cambio de tener un entrenamiento mas pesado. Por otro lado también, se puede aumentar los epochs del entramiento para mejorar el desempeño de modelo.\n",
        "\n",
        "En los Zoom-In dentro del gráfico de embeddings se obtiene coherencia entre los conceptos y sus distancia"
      ],
      "metadata": {
        "id": "Y6fU0O0507M9"
      }
    }
  ],
  "metadata": {
    "colab": {
      "provenance": []
    },
    "kernelspec": {
      "display_name": "Python 3 (ipykernel)",
      "language": "python",
      "name": "python3"
    },
    "language_info": {
      "codemirror_mode": {
        "name": "ipython",
        "version": 3
      },
      "file_extension": ".py",
      "mimetype": "text/x-python",
      "name": "python",
      "nbconvert_exporter": "python",
      "pygments_lexer": "ipython3",
      "version": "3.10.6"
    }
  },
  "nbformat": 4,
  "nbformat_minor": 0
}