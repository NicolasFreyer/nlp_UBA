{
  "nbformat": 4,
  "nbformat_minor": 0,
  "metadata": {
    "colab": {
      "provenance": []
    },
    "kernelspec": {
      "name": "python3",
      "display_name": "Python 3"
    },
    "language_info": {
      "name": "python"
    }
  },
  "cells": [
    {
      "cell_type": "markdown",
      "metadata": {
        "id": "Ue5hxxkdAQJg"
      },
      "source": [
        "<img src=\"https://github.com/FIUBA-Posgrado-Inteligencia-Artificial/procesamiento_lenguaje_natural/raw/main/logoFIUBA.jpg\" width=\"500\" align=\"center\">\n",
        "\n",
        "\n",
        "# Procesamiento de lenguaje natural\n",
        "## Word2vect\n"
      ]
    },
    {
      "cell_type": "code",
      "metadata": {
        "id": "kCED1hh-Ioyf"
      },
      "source": [
        "import numpy as np"
      ],
      "execution_count": null,
      "outputs": []
    },
    {
      "cell_type": "code",
      "source": [
        "import math"
      ],
      "metadata": {
        "id": "6GFc29JBp_u0"
      },
      "execution_count": null,
      "outputs": []
    },
    {
      "cell_type": "code",
      "metadata": {
        "id": "PUbfVnzIIoMj"
      },
      "source": [
        "def cosine_similarity(a, b):\n",
        "    return np.dot(a, b) / (np.linalg.norm(a) * (np.linalg.norm(b)))"
      ],
      "execution_count": null,
      "outputs": []
    },
    {
      "cell_type": "markdown",
      "metadata": {
        "id": "DMOa4JPSCJ29"
      },
      "source": [
        "### Datos"
      ]
    },
    {
      "cell_type": "code",
      "metadata": {
        "id": "RIO7b8GjAC17"
      },
      "source": [
        "corpus = np.array(['que dia es hoy', 'martes el dia de hoy es martes', 'martes muchas gracias'])"
      ],
      "execution_count": null,
      "outputs": []
    },
    {
      "cell_type": "markdown",
      "metadata": {
        "id": "8WqdaTmO8P1r"
      },
      "source": [
        "Documento 1 --> que dia es hoy \\\n",
        "Documento 2 --> martes el dia de hoy es martes \\\n",
        "Documento 3 --> martes muchas gracias"
      ]
    },
    {
      "cell_type": "markdown",
      "metadata": {
        "id": "FVHxBRNzCMOS"
      },
      "source": [
        "### 1 - Obtener el vocabulario del corpus (los términos utilizados)\n",
        "- Cada documento transformarlo en una lista de términos\n",
        "- Armar un vector de términos no repetidos de todos los documentos"
      ]
    },
    {
      "cell_type": "code",
      "metadata": {
        "id": "3ZqTOZzDI7uv"
      },
      "source": [
        "def lista_de_terminos_de_doc(entrada):\n",
        "  output = entrada.split()\n",
        "  return output\n"
      ],
      "execution_count": null,
      "outputs": []
    },
    {
      "cell_type": "code",
      "source": [
        "prueba1 =lista_de_terminos_de_doc(corpus[0])\n",
        "prueba1 "
      ],
      "metadata": {
        "colab": {
          "base_uri": "https://localhost:8080/"
        },
        "id": "7LTzNNws1HkY",
        "outputId": "79b2211d-baa4-4032-c4a9-65476063d73f"
      },
      "execution_count": null,
      "outputs": [
        {
          "output_type": "execute_result",
          "data": {
            "text/plain": [
              "['que', 'dia', 'es', 'hoy']"
            ]
          },
          "metadata": {},
          "execution_count": 5
        }
      ]
    },
    {
      "cell_type": "code",
      "source": [
        "type(prueba1)"
      ],
      "metadata": {
        "colab": {
          "base_uri": "https://localhost:8080/"
        },
        "id": "NLMmWJHe1RlM",
        "outputId": "fb88a4f1-9641-4664-f2de-f4a30154919e"
      },
      "execution_count": null,
      "outputs": [
        {
          "output_type": "execute_result",
          "data": {
            "text/plain": [
              "list"
            ]
          },
          "metadata": {},
          "execution_count": 6
        }
      ]
    },
    {
      "cell_type": "code",
      "source": [
        "def vectorizacion(corpus):\n",
        "  lista_de_terminos_del_corpus = []\n",
        "  for i in corpus:\n",
        "    lista_de_terminos_del_corpus.append(lista_de_terminos_de_doc(i))\n",
        "  return lista_de_terminos_del_corpus  "
      ],
      "metadata": {
        "id": "67LGHwY20sDx"
      },
      "execution_count": null,
      "outputs": []
    },
    {
      "cell_type": "code",
      "source": [
        "prueba = vectorizacion(corpus)"
      ],
      "metadata": {
        "id": "MDA2WUx-2KE0"
      },
      "execution_count": null,
      "outputs": []
    },
    {
      "cell_type": "code",
      "source": [
        "prueba"
      ],
      "metadata": {
        "colab": {
          "base_uri": "https://localhost:8080/"
        },
        "id": "h49X23ih2NwY",
        "outputId": "be854191-42dc-47bc-83da-568dbbab0c1b"
      },
      "execution_count": null,
      "outputs": [
        {
          "output_type": "execute_result",
          "data": {
            "text/plain": [
              "[['que', 'dia', 'es', 'hoy'],\n",
              " ['martes', 'el', 'dia', 'de', 'hoy', 'es', 'martes'],\n",
              " ['martes', 'muchas', 'gracias']]"
            ]
          },
          "metadata": {},
          "execution_count": 15
        }
      ]
    },
    {
      "cell_type": "code",
      "source": [
        "len(prueba)"
      ],
      "metadata": {
        "colab": {
          "base_uri": "https://localhost:8080/"
        },
        "id": "be_YaJ8u2i56",
        "outputId": "2ab1d617-4a65-4ea7-91cb-1c53d9d794ba"
      },
      "execution_count": null,
      "outputs": [
        {
          "output_type": "execute_result",
          "data": {
            "text/plain": [
              "3"
            ]
          },
          "metadata": {},
          "execution_count": 18
        }
      ]
    },
    {
      "cell_type": "code",
      "source": [
        "lista = []\n",
        "for i in range(len(prueba)):\n",
        "  for u in prueba[i]:\n",
        "    if lista.count(u) ==0 :\n",
        "      lista.append(u)\n"
      ],
      "metadata": {
        "id": "TWh21t7o29L-"
      },
      "execution_count": null,
      "outputs": []
    },
    {
      "cell_type": "code",
      "source": [
        "lista"
      ],
      "metadata": {
        "colab": {
          "base_uri": "https://localhost:8080/"
        },
        "id": "GwqtfR_R3pzR",
        "outputId": "c5e46ac5-a613-44dd-db32-be24accf9316"
      },
      "execution_count": null,
      "outputs": [
        {
          "output_type": "execute_result",
          "data": {
            "text/plain": [
              "['que', 'dia', 'es', 'hoy', 'martes', 'el', 'de', 'muchas', 'gracias']"
            ]
          },
          "metadata": {},
          "execution_count": 21
        }
      ]
    },
    {
      "cell_type": "markdown",
      "source": [
        "#\n",
        "Respuesta:"
      ],
      "metadata": {
        "id": "VoGpTudn4cbR"
      }
    },
    {
      "cell_type": "code",
      "source": [
        "def vocabulario(corpus):\n",
        "  lista_de_terminos_del_corpus = vectorizacion(corpus)\n",
        "  lista = []\n",
        "  for i in range(len(lista_de_terminos_del_corpus)):\n",
        "    for u in lista_de_terminos_del_corpus[i]:\n",
        "      if lista.count(u) ==0 :\n",
        "        lista.append(u)\n",
        "  return lista"
      ],
      "metadata": {
        "id": "PtJ0KQae3wDU"
      },
      "execution_count": null,
      "outputs": []
    },
    {
      "cell_type": "code",
      "source": [
        "vocabulario(corpus)"
      ],
      "metadata": {
        "colab": {
          "base_uri": "https://localhost:8080/"
        },
        "id": "LPl0HEcJ4Yjh",
        "outputId": "37780b8c-97ca-4eb9-ba50-03ae483239da"
      },
      "execution_count": null,
      "outputs": [
        {
          "output_type": "execute_result",
          "data": {
            "text/plain": [
              "['que', 'dia', 'es', 'hoy', 'martes', 'el', 'de', 'muchas', 'gracias']"
            ]
          },
          "metadata": {},
          "execution_count": 10
        }
      ]
    },
    {
      "cell_type": "markdown",
      "metadata": {
        "id": "RUhH983FI7It"
      },
      "source": [
        "### 2- OneHot encoding\n",
        "Data una lista de textos, devolver una matriz con la representación oneHotEncoding de estos"
      ]
    },
    {
      "cell_type": "code",
      "source": [
        "corpus"
      ],
      "metadata": {
        "colab": {
          "base_uri": "https://localhost:8080/"
        },
        "id": "pFuA9ynRlk4S",
        "outputId": "db210881-6791-4a03-db14-84405516a308"
      },
      "execution_count": null,
      "outputs": [
        {
          "output_type": "execute_result",
          "data": {
            "text/plain": [
              "array(['que dia es hoy', 'martes el dia de hoy es martes',\n",
              "       'martes muchas gracias'], dtype='<U30')"
            ]
          },
          "metadata": {},
          "execution_count": 19
        }
      ]
    },
    {
      "cell_type": "code",
      "metadata": {
        "id": "Os0AAQo6I6Z1"
      },
      "source": [
        "def ohencoding(corpus):\n",
        "  vector = vectorizacion(corpus)\n",
        "  voc = vocabulario(corpus)\n",
        "  matriz = np.empty((len(vector), len(voc)), int)\n",
        "  for i in range(len(vector)):\n",
        "    for u in range(len(voc)):\n",
        "      matriz[i][u] = vector[i].count(voc[u])>0\n",
        "  return matriz"
      ],
      "execution_count": null,
      "outputs": []
    },
    {
      "cell_type": "code",
      "source": [
        "ohencoding(corpus)"
      ],
      "metadata": {
        "colab": {
          "base_uri": "https://localhost:8080/"
        },
        "id": "45eI3PtRlBSH",
        "outputId": "b06714d6-a9b2-4744-e5ec-391aec1e0756"
      },
      "execution_count": null,
      "outputs": [
        {
          "output_type": "execute_result",
          "data": {
            "text/plain": [
              "array([[1, 1, 1, 1, 0, 0, 0, 0, 0],\n",
              "       [0, 1, 1, 1, 1, 1, 1, 0, 0],\n",
              "       [0, 0, 0, 0, 1, 0, 0, 1, 1]])"
            ]
          },
          "metadata": {},
          "execution_count": 23
        }
      ]
    },
    {
      "cell_type": "markdown",
      "metadata": {
        "id": "IIyWGmCpJVQL"
      },
      "source": [
        "### 3- Vectores de frecuencia\n",
        "Data una lista de textos, devolver una matriz con la representación de frecuencia de estos"
      ]
    },
    {
      "cell_type": "code",
      "metadata": {
        "id": "yqij_7eHJbUi"
      },
      "source": [
        "def frecuencia(corpus):\n",
        "  vector = vectorizacion(corpus)\n",
        "  voc = vocabulario(corpus)\n",
        "  matriz = np.empty((len(vector), len(voc)), int)\n",
        "  for i in range(len(vector)):\n",
        "    for u in range(len(voc)):\n",
        "      matriz[i][u] = vector[i].count(voc[u])\n",
        "  return matriz"
      ],
      "execution_count": null,
      "outputs": []
    },
    {
      "cell_type": "code",
      "source": [
        "frecuencia(corpus)"
      ],
      "metadata": {
        "colab": {
          "base_uri": "https://localhost:8080/"
        },
        "id": "iL9IQYcSmjQt",
        "outputId": "c0eb03fa-fc67-4820-8a97-327ce97412ed"
      },
      "execution_count": null,
      "outputs": [
        {
          "output_type": "execute_result",
          "data": {
            "text/plain": [
              "array([[1, 1, 1, 1, 0, 0, 0, 0, 0],\n",
              "       [0, 1, 1, 1, 2, 1, 1, 0, 0],\n",
              "       [0, 0, 0, 0, 1, 0, 0, 1, 1]])"
            ]
          },
          "metadata": {},
          "execution_count": 21
        }
      ]
    },
    {
      "cell_type": "markdown",
      "metadata": {
        "id": "z_Ot8HvWJcBu"
      },
      "source": [
        "### 4- TF-IDF\n",
        "Data una lista de textos, devolver una matriz con la representacion TFIDF"
      ]
    },
    {
      "cell_type": "code",
      "source": [
        "np.sum(ohencoding(corpus), axis=0)"
      ],
      "metadata": {
        "colab": {
          "base_uri": "https://localhost:8080/"
        },
        "id": "y3eSjhchpX1M",
        "outputId": "dd9969e2-c29e-4a6d-f37a-690a093b5c94"
      },
      "execution_count": null,
      "outputs": [
        {
          "output_type": "execute_result",
          "data": {
            "text/plain": [
              "array([1, 2, 2, 2, 2, 1, 1, 1, 1])"
            ]
          },
          "metadata": {},
          "execution_count": 25
        }
      ]
    },
    {
      "cell_type": "code",
      "metadata": {
        "id": "waG_oWtpJjRw"
      },
      "source": [
        "def idf(corpus):\n",
        "  suma = np.sum(ohencoding(corpus), axis=0)\n",
        "  idf = []\n",
        "  for i in range(len(suma)):\n",
        "    idf.append(math.log((len(corpus)/suma[i]) , 10)) \n",
        "  return idf  "
      ],
      "execution_count": null,
      "outputs": []
    },
    {
      "cell_type": "code",
      "source": [
        "idf(corpus)"
      ],
      "metadata": {
        "colab": {
          "base_uri": "https://localhost:8080/"
        },
        "id": "xiIxDw4bqUxh",
        "outputId": "1f899257-1767-4978-e4af-f8cfd160a93c"
      },
      "execution_count": null,
      "outputs": [
        {
          "output_type": "execute_result",
          "data": {
            "text/plain": [
              "[0.47712125471966244,\n",
              " 0.17609125905568124,\n",
              " 0.17609125905568124,\n",
              " 0.17609125905568124,\n",
              " 0.17609125905568124,\n",
              " 0.47712125471966244,\n",
              " 0.47712125471966244,\n",
              " 0.47712125471966244,\n",
              " 0.47712125471966244]"
            ]
          },
          "metadata": {},
          "execution_count": 37
        }
      ]
    },
    {
      "cell_type": "code",
      "source": [
        "def tfidf(corpus):\n",
        "  return np.multiply(frecuencia(corpus), idf(corpus))"
      ],
      "metadata": {
        "id": "CU_4YhlpskAc"
      },
      "execution_count": null,
      "outputs": []
    },
    {
      "cell_type": "code",
      "source": [
        "tfidf(corpus)"
      ],
      "metadata": {
        "colab": {
          "base_uri": "https://localhost:8080/"
        },
        "id": "ADYqgebLs-b3",
        "outputId": "66921827-ac44-4c89-a74f-8f8e3e930ea3"
      },
      "execution_count": null,
      "outputs": [
        {
          "output_type": "execute_result",
          "data": {
            "text/plain": [
              "array([[0.47712125, 0.17609126, 0.17609126, 0.17609126, 0.        ,\n",
              "        0.        , 0.        , 0.        , 0.        ],\n",
              "       [0.        , 0.17609126, 0.17609126, 0.17609126, 0.35218252,\n",
              "        0.47712125, 0.47712125, 0.        , 0.        ],\n",
              "       [0.        , 0.        , 0.        , 0.        , 0.17609126,\n",
              "        0.        , 0.        , 0.47712125, 0.47712125]])"
            ]
          },
          "metadata": {},
          "execution_count": 39
        }
      ]
    },
    {
      "cell_type": "markdown",
      "metadata": {
        "id": "xMcsfndWJjm_"
      },
      "source": [
        "### 5 - Comparación de documentos\n",
        "Realizar una funcion que reciba el corpus y el índice de un documento y devuelva los documentos ordenados por la similitud coseno"
      ]
    },
    {
      "cell_type": "code",
      "metadata": {
        "id": "CZdiop6IJpZN"
      },
      "source": [
        "def orden_sim_cos(corpus, index):\n",
        "  matriz = frecuencia(corpus) ## ohencoding o tfidf\n",
        "  lista = [0]\n",
        "  for doc_del_corpus in range(1, len(corpus)):\n",
        "    insertado = False\n",
        "    index_en_salida = 0\n",
        "    while insertado == False:\n",
        "      if index_en_salida < len(lista): \n",
        "        if cosine_similarity(matriz[doc_del_corpus], matriz[index]) > cosine_similarity(matriz[lista[index_en_salida]], matriz[index]):\n",
        "          lista.insert(index_en_salida, doc_del_corpus)\n",
        "          insertado = True\n",
        "        else:\n",
        "          index_en_salida = index_en_salida+1\n",
        "      else:\n",
        "        lista.append(doc_del_corpus)\n",
        "        insertado = True\n",
        "  for i in range(len(lista)):\n",
        "    lista[i] = corpus[lista[i]]\n",
        "  return lista "
      ],
      "execution_count": null,
      "outputs": []
    },
    {
      "cell_type": "code",
      "source": [
        "corpus = np.append(corpus,'hoy es dia martes')\n",
        "corpus = np.append(corpus,'es martes de dia')\n",
        "corpus = np.append(corpus,'que buen dia este martes')\n",
        "corpus = np.append(corpus,'no me gustan los martes')"
      ],
      "metadata": {
        "id": "aAmItaRQRnK3"
      },
      "execution_count": null,
      "outputs": []
    },
    {
      "cell_type": "code",
      "source": [
        "corpus"
      ],
      "metadata": {
        "colab": {
          "base_uri": "https://localhost:8080/"
        },
        "id": "1ijKpQnoSHqK",
        "outputId": "f7bfdfdb-fe34-41f2-e069-4565bd4826e9"
      },
      "execution_count": null,
      "outputs": [
        {
          "output_type": "execute_result",
          "data": {
            "text/plain": [
              "array(['que dia es hoy', 'martes el dia de hoy es martes',\n",
              "       'martes muchas gracias', 'hoy es dia martes', 'es martes de dia',\n",
              "       'que buen dia este martes', 'no me gustan los martes'],\n",
              "      dtype='<U30')"
            ]
          },
          "metadata": {},
          "execution_count": 25
        }
      ]
    },
    {
      "cell_type": "code",
      "source": [
        "frec = frecuencia(corpus)\n",
        "frec"
      ],
      "metadata": {
        "colab": {
          "base_uri": "https://localhost:8080/"
        },
        "id": "F8YYG0zLSJta",
        "outputId": "f2baf36d-ca93-4803-ab99-8d56c98ff9de"
      },
      "execution_count": null,
      "outputs": [
        {
          "output_type": "execute_result",
          "data": {
            "text/plain": [
              "array([[1, 1, 1, 1, 0, 0, 0, 0, 0, 0, 0, 0, 0, 0, 0],\n",
              "       [0, 1, 1, 1, 2, 1, 1, 0, 0, 0, 0, 0, 0, 0, 0],\n",
              "       [0, 0, 0, 0, 1, 0, 0, 1, 1, 0, 0, 0, 0, 0, 0],\n",
              "       [0, 1, 1, 1, 1, 0, 0, 0, 0, 0, 0, 0, 0, 0, 0],\n",
              "       [0, 1, 1, 0, 1, 0, 1, 0, 0, 0, 0, 0, 0, 0, 0],\n",
              "       [1, 1, 0, 0, 1, 0, 0, 0, 0, 1, 1, 0, 0, 0, 0],\n",
              "       [0, 0, 0, 0, 1, 0, 0, 0, 0, 0, 0, 1, 1, 1, 1]])"
            ]
          },
          "metadata": {},
          "execution_count": 65
        }
      ]
    },
    {
      "cell_type": "markdown",
      "source": [
        "pruebas comparando vectores de frecuencia en orden_sim_cos\n"
      ],
      "metadata": {
        "id": "sn6UMD2g9eqc"
      }
    },
    {
      "cell_type": "code",
      "source": [
        "prueba = orden_sim_cos(corpus, 3)\n",
        "for i in range(7):\n",
        "  print(cosine_similarity(frecuencia(prueba)[i], frecuencia(prueba)[0]))"
      ],
      "metadata": {
        "colab": {
          "base_uri": "https://localhost:8080/"
        },
        "id": "VsTA4S29SeG6",
        "outputId": "0d734076-dbdd-4b98-ca3f-5dc435e0ef67"
      },
      "execution_count": null,
      "outputs": [
        {
          "output_type": "stream",
          "name": "stdout",
          "text": [
            "1.0\n",
            "0.8333333333333334\n",
            "0.75\n",
            "0.75\n",
            "0.4472135954999579\n",
            "0.2886751345948129\n",
            "0.22360679774997896\n"
          ]
        }
      ]
    },
    {
      "cell_type": "code",
      "source": [
        "prueba"
      ],
      "metadata": {
        "colab": {
          "base_uri": "https://localhost:8080/"
        },
        "id": "-MiLf7B_9GWQ",
        "outputId": "8eedf5d1-6e36-4f3a-f63b-640b7f3b49fa"
      },
      "execution_count": null,
      "outputs": [
        {
          "output_type": "execute_result",
          "data": {
            "text/plain": [
              "['hoy es dia martes',\n",
              " 'martes el dia de hoy es martes',\n",
              " 'que dia es hoy',\n",
              " 'es martes de dia',\n",
              " 'que buen dia este martes',\n",
              " 'martes muchas gracias',\n",
              " 'no me gustan los martes']"
            ]
          },
          "metadata": {},
          "execution_count": 91
        }
      ]
    },
    {
      "cell_type": "markdown",
      "source": [
        "pruebas comparando vectores de one hot encoding en orden_sim_cos"
      ],
      "metadata": {
        "id": "MmEhfRYq93jo"
      }
    },
    {
      "cell_type": "code",
      "source": [
        "prueba = orden_sim_cos(corpus, 3)\n",
        "for i in range(7):\n",
        "  print(cosine_similarity(ohencoding(prueba)[i], ohencoding(prueba)[0]))"
      ],
      "metadata": {
        "colab": {
          "base_uri": "https://localhost:8080/"
        },
        "id": "gbqZPHPQ8a50",
        "outputId": "7d4151f4-51ab-44ac-b23a-54ed5523c59a"
      },
      "execution_count": null,
      "outputs": [
        {
          "output_type": "stream",
          "name": "stdout",
          "text": [
            "1.0\n",
            "0.8164965809277261\n",
            "0.75\n",
            "0.75\n",
            "0.4472135954999579\n",
            "0.2886751345948129\n",
            "0.22360679774997896\n"
          ]
        }
      ]
    },
    {
      "cell_type": "code",
      "source": [
        "prueba = orden_sim_cos(corpus, 3)\n",
        "prueba"
      ],
      "metadata": {
        "colab": {
          "base_uri": "https://localhost:8080/"
        },
        "id": "gT95oB6m8-2T",
        "outputId": "4bcfcd3d-ff07-41e4-bf80-17d8af85eff4"
      },
      "execution_count": null,
      "outputs": [
        {
          "output_type": "execute_result",
          "data": {
            "text/plain": [
              "['hoy es dia martes',\n",
              " 'martes el dia de hoy es martes',\n",
              " 'que dia es hoy',\n",
              " 'es martes de dia',\n",
              " 'que buen dia este martes',\n",
              " 'martes muchas gracias',\n",
              " 'no me gustan los martes']"
            ]
          },
          "metadata": {},
          "execution_count": 88
        }
      ]
    },
    {
      "cell_type": "markdown",
      "source": [
        "pruebas comparando vectores de tfidf en orden_sim_cos"
      ],
      "metadata": {
        "id": "tzSIgtgh99mk"
      }
    },
    {
      "cell_type": "code",
      "source": [
        "prueba = orden_sim_cos(corpus, 3)\n",
        "for i in range(7):\n",
        "  print(cosine_similarity(tfidf(prueba)[i], tfidf(prueba)[0]))"
      ],
      "metadata": {
        "colab": {
          "base_uri": "https://localhost:8080/"
        },
        "id": "1iH-Mrv88jU5",
        "outputId": "81d6d77a-960f-43b3-f99e-0209d5c31507"
      },
      "execution_count": null,
      "outputs": [
        {
          "output_type": "stream",
          "name": "stdout",
          "text": [
            "1.0\n",
            "0.6427238470614614\n",
            "0.4293986595497244\n",
            "0.29308410982958116\n",
            "0.041605347163416434\n",
            "0.007977013808851859\n",
            "0.0056450165663072165\n"
          ]
        }
      ]
    },
    {
      "cell_type": "code",
      "source": [
        "prueba"
      ],
      "metadata": {
        "colab": {
          "base_uri": "https://localhost:8080/"
        },
        "id": "NYkZM0c583J6",
        "outputId": "d916e2db-e085-44d2-80bf-99ea30818c3d"
      },
      "execution_count": null,
      "outputs": [
        {
          "output_type": "execute_result",
          "data": {
            "text/plain": [
              "['hoy es dia martes',\n",
              " 'que dia es hoy',\n",
              " 'martes el dia de hoy es martes',\n",
              " 'es martes de dia',\n",
              " 'que buen dia este martes',\n",
              " 'martes muchas gracias',\n",
              " 'no me gustan los martes']"
            ]
          },
          "metadata": {},
          "execution_count": 86
        }
      ]
    },
    {
      "cell_type": "markdown",
      "source": [
        "Los valores de similitud del coseno dan distinto dependiendo de que vectores (frecuencia , OHE o tfidf) se usen"
      ],
      "metadata": {
        "id": "iZI3fyXB-CrC"
      }
    }
  ]
}