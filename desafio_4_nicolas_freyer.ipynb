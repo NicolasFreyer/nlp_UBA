{
  "cells": [
    {
      "cell_type": "markdown",
      "metadata": {
        "id": "g3yeJGnCYxuF"
      },
      "source": [
        "<img src=\"https://github.com/hernancontigiani/ceia_memorias_especializacion/raw/master/Figures/logoFIUBA.jpg\" width=\"500\" align=\"center\">\n",
        "\n",
        "\n",
        "# Procesamiento de lenguaje natural\n",
        "## Predicción de próxima palabra"
      ]
    },
    {
      "cell_type": "markdown",
      "metadata": {
        "id": "Iv5PEwGzZA9-"
      },
      "source": [
        "### Objetivo\n",
        "El objetivo es utilizar documentos / corpus para crear embeddings de palabras basado en ese contexto utilizando la layer Embedding de Keras. Se utilizará esos embeddings junto con layers LSTM para predeccir la próxima posible palabra."
      ]
    },
    {
      "cell_type": "code",
      "execution_count": 1,
      "metadata": {
        "id": "Y-QdFbHZYj7C"
      },
      "outputs": [],
      "source": [
        "import random\n",
        "import io\n",
        "import pickle\n",
        "\n",
        "import numpy as np\n",
        "import pandas as pd\n",
        "\n",
        "from tensorflow import keras\n",
        "from tensorflow.keras import layers\n",
        "from keras.utils.np_utils import to_categorical\n",
        "from keras.models import Sequential\n",
        "from keras.layers import Dense, LSTM, Embedding, Dropout\n",
        "from keras.layers import Bidirectional"
      ]
    },
    {
      "cell_type": "code",
      "execution_count": 2,
      "metadata": {
        "id": "3ZFRYjB-dHZ0"
      },
      "outputs": [],
      "source": [
        "from google.colab import files\n",
        "import io"
      ]
    },
    {
      "cell_type": "markdown",
      "metadata": {
        "id": "xTvXlEKQZdqx"
      },
      "source": [
        "### Datos\n",
        "Utilizaremos como dataset letras de cancions de queen."
      ]
    },
    {
      "cell_type": "code",
      "execution_count": 3,
      "metadata": {
        "colab": {
          "base_uri": "https://localhost:8080/",
          "height": 73
        },
        "id": "Zxckh1kadVCA",
        "outputId": "a7bb49de-d463-4b67-e2ec-ee9765851efb"
      },
      "outputs": [
        {
          "output_type": "display_data",
          "data": {
            "text/plain": [
              "<IPython.core.display.HTML object>"
            ],
            "text/html": [
              "\n",
              "     <input type=\"file\" id=\"files-6ec17bec-5e17-413d-bb94-8a8e9b97b1f0\" name=\"files[]\" multiple disabled\n",
              "        style=\"border:none\" />\n",
              "     <output id=\"result-6ec17bec-5e17-413d-bb94-8a8e9b97b1f0\">\n",
              "      Upload widget is only available when the cell has been executed in the\n",
              "      current browser session. Please rerun this cell to enable.\n",
              "      </output>\n",
              "      <script>// Copyright 2017 Google LLC\n",
              "//\n",
              "// Licensed under the Apache License, Version 2.0 (the \"License\");\n",
              "// you may not use this file except in compliance with the License.\n",
              "// You may obtain a copy of the License at\n",
              "//\n",
              "//      http://www.apache.org/licenses/LICENSE-2.0\n",
              "//\n",
              "// Unless required by applicable law or agreed to in writing, software\n",
              "// distributed under the License is distributed on an \"AS IS\" BASIS,\n",
              "// WITHOUT WARRANTIES OR CONDITIONS OF ANY KIND, either express or implied.\n",
              "// See the License for the specific language governing permissions and\n",
              "// limitations under the License.\n",
              "\n",
              "/**\n",
              " * @fileoverview Helpers for google.colab Python module.\n",
              " */\n",
              "(function(scope) {\n",
              "function span(text, styleAttributes = {}) {\n",
              "  const element = document.createElement('span');\n",
              "  element.textContent = text;\n",
              "  for (const key of Object.keys(styleAttributes)) {\n",
              "    element.style[key] = styleAttributes[key];\n",
              "  }\n",
              "  return element;\n",
              "}\n",
              "\n",
              "// Max number of bytes which will be uploaded at a time.\n",
              "const MAX_PAYLOAD_SIZE = 100 * 1024;\n",
              "\n",
              "function _uploadFiles(inputId, outputId) {\n",
              "  const steps = uploadFilesStep(inputId, outputId);\n",
              "  const outputElement = document.getElementById(outputId);\n",
              "  // Cache steps on the outputElement to make it available for the next call\n",
              "  // to uploadFilesContinue from Python.\n",
              "  outputElement.steps = steps;\n",
              "\n",
              "  return _uploadFilesContinue(outputId);\n",
              "}\n",
              "\n",
              "// This is roughly an async generator (not supported in the browser yet),\n",
              "// where there are multiple asynchronous steps and the Python side is going\n",
              "// to poll for completion of each step.\n",
              "// This uses a Promise to block the python side on completion of each step,\n",
              "// then passes the result of the previous step as the input to the next step.\n",
              "function _uploadFilesContinue(outputId) {\n",
              "  const outputElement = document.getElementById(outputId);\n",
              "  const steps = outputElement.steps;\n",
              "\n",
              "  const next = steps.next(outputElement.lastPromiseValue);\n",
              "  return Promise.resolve(next.value.promise).then((value) => {\n",
              "    // Cache the last promise value to make it available to the next\n",
              "    // step of the generator.\n",
              "    outputElement.lastPromiseValue = value;\n",
              "    return next.value.response;\n",
              "  });\n",
              "}\n",
              "\n",
              "/**\n",
              " * Generator function which is called between each async step of the upload\n",
              " * process.\n",
              " * @param {string} inputId Element ID of the input file picker element.\n",
              " * @param {string} outputId Element ID of the output display.\n",
              " * @return {!Iterable<!Object>} Iterable of next steps.\n",
              " */\n",
              "function* uploadFilesStep(inputId, outputId) {\n",
              "  const inputElement = document.getElementById(inputId);\n",
              "  inputElement.disabled = false;\n",
              "\n",
              "  const outputElement = document.getElementById(outputId);\n",
              "  outputElement.innerHTML = '';\n",
              "\n",
              "  const pickedPromise = new Promise((resolve) => {\n",
              "    inputElement.addEventListener('change', (e) => {\n",
              "      resolve(e.target.files);\n",
              "    });\n",
              "  });\n",
              "\n",
              "  const cancel = document.createElement('button');\n",
              "  inputElement.parentElement.appendChild(cancel);\n",
              "  cancel.textContent = 'Cancel upload';\n",
              "  const cancelPromise = new Promise((resolve) => {\n",
              "    cancel.onclick = () => {\n",
              "      resolve(null);\n",
              "    };\n",
              "  });\n",
              "\n",
              "  // Wait for the user to pick the files.\n",
              "  const files = yield {\n",
              "    promise: Promise.race([pickedPromise, cancelPromise]),\n",
              "    response: {\n",
              "      action: 'starting',\n",
              "    }\n",
              "  };\n",
              "\n",
              "  cancel.remove();\n",
              "\n",
              "  // Disable the input element since further picks are not allowed.\n",
              "  inputElement.disabled = true;\n",
              "\n",
              "  if (!files) {\n",
              "    return {\n",
              "      response: {\n",
              "        action: 'complete',\n",
              "      }\n",
              "    };\n",
              "  }\n",
              "\n",
              "  for (const file of files) {\n",
              "    const li = document.createElement('li');\n",
              "    li.append(span(file.name, {fontWeight: 'bold'}));\n",
              "    li.append(span(\n",
              "        `(${file.type || 'n/a'}) - ${file.size} bytes, ` +\n",
              "        `last modified: ${\n",
              "            file.lastModifiedDate ? file.lastModifiedDate.toLocaleDateString() :\n",
              "                                    'n/a'} - `));\n",
              "    const percent = span('0% done');\n",
              "    li.appendChild(percent);\n",
              "\n",
              "    outputElement.appendChild(li);\n",
              "\n",
              "    const fileDataPromise = new Promise((resolve) => {\n",
              "      const reader = new FileReader();\n",
              "      reader.onload = (e) => {\n",
              "        resolve(e.target.result);\n",
              "      };\n",
              "      reader.readAsArrayBuffer(file);\n",
              "    });\n",
              "    // Wait for the data to be ready.\n",
              "    let fileData = yield {\n",
              "      promise: fileDataPromise,\n",
              "      response: {\n",
              "        action: 'continue',\n",
              "      }\n",
              "    };\n",
              "\n",
              "    // Use a chunked sending to avoid message size limits. See b/62115660.\n",
              "    let position = 0;\n",
              "    do {\n",
              "      const length = Math.min(fileData.byteLength - position, MAX_PAYLOAD_SIZE);\n",
              "      const chunk = new Uint8Array(fileData, position, length);\n",
              "      position += length;\n",
              "\n",
              "      const base64 = btoa(String.fromCharCode.apply(null, chunk));\n",
              "      yield {\n",
              "        response: {\n",
              "          action: 'append',\n",
              "          file: file.name,\n",
              "          data: base64,\n",
              "        },\n",
              "      };\n",
              "\n",
              "      let percentDone = fileData.byteLength === 0 ?\n",
              "          100 :\n",
              "          Math.round((position / fileData.byteLength) * 100);\n",
              "      percent.textContent = `${percentDone}% done`;\n",
              "\n",
              "    } while (position < fileData.byteLength);\n",
              "  }\n",
              "\n",
              "  // All done.\n",
              "  yield {\n",
              "    response: {\n",
              "      action: 'complete',\n",
              "    }\n",
              "  };\n",
              "}\n",
              "\n",
              "scope.google = scope.google || {};\n",
              "scope.google.colab = scope.google.colab || {};\n",
              "scope.google.colab._files = {\n",
              "  _uploadFiles,\n",
              "  _uploadFilesContinue,\n",
              "};\n",
              "})(self);\n",
              "</script> "
            ]
          },
          "metadata": {}
        },
        {
          "output_type": "stream",
          "name": "stdout",
          "text": [
            "Saving queen_lyrics.csv to queen_lyrics.csv\n"
          ]
        }
      ],
      "source": [
        "uploaded =files.upload()"
      ]
    },
    {
      "cell_type": "code",
      "execution_count": 4,
      "metadata": {
        "id": "pSr41PKbdi-6"
      },
      "outputs": [],
      "source": [
        "queen = pd.read_csv(io.BytesIO(uploaded['queen_lyrics.csv']), sep=\",\")"
      ]
    },
    {
      "cell_type": "code",
      "execution_count": 5,
      "metadata": {
        "colab": {
          "base_uri": "https://localhost:8080/",
          "height": 206
        },
        "id": "ieYBTuDZdqTe",
        "outputId": "504f2606-185e-49e5-ed75-f41110dc38b0"
      },
      "outputs": [
        {
          "output_type": "execute_result",
          "data": {
            "text/plain": [
              "   album          track_title  track_n  \\\n",
              "0  Queen  Keep Yourself Alive        1   \n",
              "1  Queen  Keep Yourself Alive        1   \n",
              "2  Queen  Keep Yourself Alive        1   \n",
              "3  Queen  Keep Yourself Alive        1   \n",
              "4  Queen  Keep Yourself Alive        1   \n",
              "\n",
              "                                               lyric  line  \n",
              "0  I was told a million times of all the troubles...     1  \n",
              "1  Mind you grow a little wiser little better eve...     2  \n",
              "2  But if I crossed a million rivers and I rode a...     3  \n",
              "3  Then I'd still be where I started bread and bu...     4  \n",
              "4  Well I sold a million mirrors In a shopping al...     5  "
            ],
            "text/html": [
              "\n",
              "  <div id=\"df-31ba1c72-4f8e-42ab-af23-5f78af42d173\">\n",
              "    <div class=\"colab-df-container\">\n",
              "      <div>\n",
              "<style scoped>\n",
              "    .dataframe tbody tr th:only-of-type {\n",
              "        vertical-align: middle;\n",
              "    }\n",
              "\n",
              "    .dataframe tbody tr th {\n",
              "        vertical-align: top;\n",
              "    }\n",
              "\n",
              "    .dataframe thead th {\n",
              "        text-align: right;\n",
              "    }\n",
              "</style>\n",
              "<table border=\"1\" class=\"dataframe\">\n",
              "  <thead>\n",
              "    <tr style=\"text-align: right;\">\n",
              "      <th></th>\n",
              "      <th>album</th>\n",
              "      <th>track_title</th>\n",
              "      <th>track_n</th>\n",
              "      <th>lyric</th>\n",
              "      <th>line</th>\n",
              "    </tr>\n",
              "  </thead>\n",
              "  <tbody>\n",
              "    <tr>\n",
              "      <th>0</th>\n",
              "      <td>Queen</td>\n",
              "      <td>Keep Yourself Alive</td>\n",
              "      <td>1</td>\n",
              "      <td>I was told a million times of all the troubles...</td>\n",
              "      <td>1</td>\n",
              "    </tr>\n",
              "    <tr>\n",
              "      <th>1</th>\n",
              "      <td>Queen</td>\n",
              "      <td>Keep Yourself Alive</td>\n",
              "      <td>1</td>\n",
              "      <td>Mind you grow a little wiser little better eve...</td>\n",
              "      <td>2</td>\n",
              "    </tr>\n",
              "    <tr>\n",
              "      <th>2</th>\n",
              "      <td>Queen</td>\n",
              "      <td>Keep Yourself Alive</td>\n",
              "      <td>1</td>\n",
              "      <td>But if I crossed a million rivers and I rode a...</td>\n",
              "      <td>3</td>\n",
              "    </tr>\n",
              "    <tr>\n",
              "      <th>3</th>\n",
              "      <td>Queen</td>\n",
              "      <td>Keep Yourself Alive</td>\n",
              "      <td>1</td>\n",
              "      <td>Then I'd still be where I started bread and bu...</td>\n",
              "      <td>4</td>\n",
              "    </tr>\n",
              "    <tr>\n",
              "      <th>4</th>\n",
              "      <td>Queen</td>\n",
              "      <td>Keep Yourself Alive</td>\n",
              "      <td>1</td>\n",
              "      <td>Well I sold a million mirrors In a shopping al...</td>\n",
              "      <td>5</td>\n",
              "    </tr>\n",
              "  </tbody>\n",
              "</table>\n",
              "</div>\n",
              "      <button class=\"colab-df-convert\" onclick=\"convertToInteractive('df-31ba1c72-4f8e-42ab-af23-5f78af42d173')\"\n",
              "              title=\"Convert this dataframe to an interactive table.\"\n",
              "              style=\"display:none;\">\n",
              "        \n",
              "  <svg xmlns=\"http://www.w3.org/2000/svg\" height=\"24px\"viewBox=\"0 0 24 24\"\n",
              "       width=\"24px\">\n",
              "    <path d=\"M0 0h24v24H0V0z\" fill=\"none\"/>\n",
              "    <path d=\"M18.56 5.44l.94 2.06.94-2.06 2.06-.94-2.06-.94-.94-2.06-.94 2.06-2.06.94zm-11 1L8.5 8.5l.94-2.06 2.06-.94-2.06-.94L8.5 2.5l-.94 2.06-2.06.94zm10 10l.94 2.06.94-2.06 2.06-.94-2.06-.94-.94-2.06-.94 2.06-2.06.94z\"/><path d=\"M17.41 7.96l-1.37-1.37c-.4-.4-.92-.59-1.43-.59-.52 0-1.04.2-1.43.59L10.3 9.45l-7.72 7.72c-.78.78-.78 2.05 0 2.83L4 21.41c.39.39.9.59 1.41.59.51 0 1.02-.2 1.41-.59l7.78-7.78 2.81-2.81c.8-.78.8-2.07 0-2.86zM5.41 20L4 18.59l7.72-7.72 1.47 1.35L5.41 20z\"/>\n",
              "  </svg>\n",
              "      </button>\n",
              "      \n",
              "  <style>\n",
              "    .colab-df-container {\n",
              "      display:flex;\n",
              "      flex-wrap:wrap;\n",
              "      gap: 12px;\n",
              "    }\n",
              "\n",
              "    .colab-df-convert {\n",
              "      background-color: #E8F0FE;\n",
              "      border: none;\n",
              "      border-radius: 50%;\n",
              "      cursor: pointer;\n",
              "      display: none;\n",
              "      fill: #1967D2;\n",
              "      height: 32px;\n",
              "      padding: 0 0 0 0;\n",
              "      width: 32px;\n",
              "    }\n",
              "\n",
              "    .colab-df-convert:hover {\n",
              "      background-color: #E2EBFA;\n",
              "      box-shadow: 0px 1px 2px rgba(60, 64, 67, 0.3), 0px 1px 3px 1px rgba(60, 64, 67, 0.15);\n",
              "      fill: #174EA6;\n",
              "    }\n",
              "\n",
              "    [theme=dark] .colab-df-convert {\n",
              "      background-color: #3B4455;\n",
              "      fill: #D2E3FC;\n",
              "    }\n",
              "\n",
              "    [theme=dark] .colab-df-convert:hover {\n",
              "      background-color: #434B5C;\n",
              "      box-shadow: 0px 1px 3px 1px rgba(0, 0, 0, 0.15);\n",
              "      filter: drop-shadow(0px 1px 2px rgba(0, 0, 0, 0.3));\n",
              "      fill: #FFFFFF;\n",
              "    }\n",
              "  </style>\n",
              "\n",
              "      <script>\n",
              "        const buttonEl =\n",
              "          document.querySelector('#df-31ba1c72-4f8e-42ab-af23-5f78af42d173 button.colab-df-convert');\n",
              "        buttonEl.style.display =\n",
              "          google.colab.kernel.accessAllowed ? 'block' : 'none';\n",
              "\n",
              "        async function convertToInteractive(key) {\n",
              "          const element = document.querySelector('#df-31ba1c72-4f8e-42ab-af23-5f78af42d173');\n",
              "          const dataTable =\n",
              "            await google.colab.kernel.invokeFunction('convertToInteractive',\n",
              "                                                     [key], {});\n",
              "          if (!dataTable) return;\n",
              "\n",
              "          const docLinkHtml = 'Like what you see? Visit the ' +\n",
              "            '<a target=\"_blank\" href=https://colab.research.google.com/notebooks/data_table.ipynb>data table notebook</a>'\n",
              "            + ' to learn more about interactive tables.';\n",
              "          element.innerHTML = '';\n",
              "          dataTable['output_type'] = 'display_data';\n",
              "          await google.colab.output.renderOutput(dataTable, element);\n",
              "          const docLink = document.createElement('div');\n",
              "          docLink.innerHTML = docLinkHtml;\n",
              "          element.appendChild(docLink);\n",
              "        }\n",
              "      </script>\n",
              "    </div>\n",
              "  </div>\n",
              "  "
            ]
          },
          "metadata": {},
          "execution_count": 5
        }
      ],
      "source": [
        "queen.head()"
      ]
    },
    {
      "cell_type": "code",
      "execution_count": 6,
      "metadata": {
        "id": "IUOc4FurmWDt"
      },
      "outputs": [],
      "source": [
        "queen = queen.drop(columns=[\"album\", \"track_title\", \"track_n\", \"line\"])"
      ]
    },
    {
      "cell_type": "code",
      "execution_count": 7,
      "metadata": {
        "colab": {
          "base_uri": "https://localhost:8080/",
          "height": 73
        },
        "id": "M0XHxQ-lgYv6",
        "outputId": "0fa5225a-27f4-4855-8200-7cfe5e81c7aa"
      },
      "outputs": [
        {
          "output_type": "display_data",
          "data": {
            "text/plain": [
              "<IPython.core.display.HTML object>"
            ],
            "text/html": [
              "\n",
              "     <input type=\"file\" id=\"files-35bd5b25-9eef-4b4c-8dd8-70f2ef4d4e77\" name=\"files[]\" multiple disabled\n",
              "        style=\"border:none\" />\n",
              "     <output id=\"result-35bd5b25-9eef-4b4c-8dd8-70f2ef4d4e77\">\n",
              "      Upload widget is only available when the cell has been executed in the\n",
              "      current browser session. Please rerun this cell to enable.\n",
              "      </output>\n",
              "      <script>// Copyright 2017 Google LLC\n",
              "//\n",
              "// Licensed under the Apache License, Version 2.0 (the \"License\");\n",
              "// you may not use this file except in compliance with the License.\n",
              "// You may obtain a copy of the License at\n",
              "//\n",
              "//      http://www.apache.org/licenses/LICENSE-2.0\n",
              "//\n",
              "// Unless required by applicable law or agreed to in writing, software\n",
              "// distributed under the License is distributed on an \"AS IS\" BASIS,\n",
              "// WITHOUT WARRANTIES OR CONDITIONS OF ANY KIND, either express or implied.\n",
              "// See the License for the specific language governing permissions and\n",
              "// limitations under the License.\n",
              "\n",
              "/**\n",
              " * @fileoverview Helpers for google.colab Python module.\n",
              " */\n",
              "(function(scope) {\n",
              "function span(text, styleAttributes = {}) {\n",
              "  const element = document.createElement('span');\n",
              "  element.textContent = text;\n",
              "  for (const key of Object.keys(styleAttributes)) {\n",
              "    element.style[key] = styleAttributes[key];\n",
              "  }\n",
              "  return element;\n",
              "}\n",
              "\n",
              "// Max number of bytes which will be uploaded at a time.\n",
              "const MAX_PAYLOAD_SIZE = 100 * 1024;\n",
              "\n",
              "function _uploadFiles(inputId, outputId) {\n",
              "  const steps = uploadFilesStep(inputId, outputId);\n",
              "  const outputElement = document.getElementById(outputId);\n",
              "  // Cache steps on the outputElement to make it available for the next call\n",
              "  // to uploadFilesContinue from Python.\n",
              "  outputElement.steps = steps;\n",
              "\n",
              "  return _uploadFilesContinue(outputId);\n",
              "}\n",
              "\n",
              "// This is roughly an async generator (not supported in the browser yet),\n",
              "// where there are multiple asynchronous steps and the Python side is going\n",
              "// to poll for completion of each step.\n",
              "// This uses a Promise to block the python side on completion of each step,\n",
              "// then passes the result of the previous step as the input to the next step.\n",
              "function _uploadFilesContinue(outputId) {\n",
              "  const outputElement = document.getElementById(outputId);\n",
              "  const steps = outputElement.steps;\n",
              "\n",
              "  const next = steps.next(outputElement.lastPromiseValue);\n",
              "  return Promise.resolve(next.value.promise).then((value) => {\n",
              "    // Cache the last promise value to make it available to the next\n",
              "    // step of the generator.\n",
              "    outputElement.lastPromiseValue = value;\n",
              "    return next.value.response;\n",
              "  });\n",
              "}\n",
              "\n",
              "/**\n",
              " * Generator function which is called between each async step of the upload\n",
              " * process.\n",
              " * @param {string} inputId Element ID of the input file picker element.\n",
              " * @param {string} outputId Element ID of the output display.\n",
              " * @return {!Iterable<!Object>} Iterable of next steps.\n",
              " */\n",
              "function* uploadFilesStep(inputId, outputId) {\n",
              "  const inputElement = document.getElementById(inputId);\n",
              "  inputElement.disabled = false;\n",
              "\n",
              "  const outputElement = document.getElementById(outputId);\n",
              "  outputElement.innerHTML = '';\n",
              "\n",
              "  const pickedPromise = new Promise((resolve) => {\n",
              "    inputElement.addEventListener('change', (e) => {\n",
              "      resolve(e.target.files);\n",
              "    });\n",
              "  });\n",
              "\n",
              "  const cancel = document.createElement('button');\n",
              "  inputElement.parentElement.appendChild(cancel);\n",
              "  cancel.textContent = 'Cancel upload';\n",
              "  const cancelPromise = new Promise((resolve) => {\n",
              "    cancel.onclick = () => {\n",
              "      resolve(null);\n",
              "    };\n",
              "  });\n",
              "\n",
              "  // Wait for the user to pick the files.\n",
              "  const files = yield {\n",
              "    promise: Promise.race([pickedPromise, cancelPromise]),\n",
              "    response: {\n",
              "      action: 'starting',\n",
              "    }\n",
              "  };\n",
              "\n",
              "  cancel.remove();\n",
              "\n",
              "  // Disable the input element since further picks are not allowed.\n",
              "  inputElement.disabled = true;\n",
              "\n",
              "  if (!files) {\n",
              "    return {\n",
              "      response: {\n",
              "        action: 'complete',\n",
              "      }\n",
              "    };\n",
              "  }\n",
              "\n",
              "  for (const file of files) {\n",
              "    const li = document.createElement('li');\n",
              "    li.append(span(file.name, {fontWeight: 'bold'}));\n",
              "    li.append(span(\n",
              "        `(${file.type || 'n/a'}) - ${file.size} bytes, ` +\n",
              "        `last modified: ${\n",
              "            file.lastModifiedDate ? file.lastModifiedDate.toLocaleDateString() :\n",
              "                                    'n/a'} - `));\n",
              "    const percent = span('0% done');\n",
              "    li.appendChild(percent);\n",
              "\n",
              "    outputElement.appendChild(li);\n",
              "\n",
              "    const fileDataPromise = new Promise((resolve) => {\n",
              "      const reader = new FileReader();\n",
              "      reader.onload = (e) => {\n",
              "        resolve(e.target.result);\n",
              "      };\n",
              "      reader.readAsArrayBuffer(file);\n",
              "    });\n",
              "    // Wait for the data to be ready.\n",
              "    let fileData = yield {\n",
              "      promise: fileDataPromise,\n",
              "      response: {\n",
              "        action: 'continue',\n",
              "      }\n",
              "    };\n",
              "\n",
              "    // Use a chunked sending to avoid message size limits. See b/62115660.\n",
              "    let position = 0;\n",
              "    do {\n",
              "      const length = Math.min(fileData.byteLength - position, MAX_PAYLOAD_SIZE);\n",
              "      const chunk = new Uint8Array(fileData, position, length);\n",
              "      position += length;\n",
              "\n",
              "      const base64 = btoa(String.fromCharCode.apply(null, chunk));\n",
              "      yield {\n",
              "        response: {\n",
              "          action: 'append',\n",
              "          file: file.name,\n",
              "          data: base64,\n",
              "        },\n",
              "      };\n",
              "\n",
              "      let percentDone = fileData.byteLength === 0 ?\n",
              "          100 :\n",
              "          Math.round((position / fileData.byteLength) * 100);\n",
              "      percent.textContent = `${percentDone}% done`;\n",
              "\n",
              "    } while (position < fileData.byteLength);\n",
              "  }\n",
              "\n",
              "  // All done.\n",
              "  yield {\n",
              "    response: {\n",
              "      action: 'complete',\n",
              "    }\n",
              "  };\n",
              "}\n",
              "\n",
              "scope.google = scope.google || {};\n",
              "scope.google.colab = scope.google.colab || {};\n",
              "scope.google.colab._files = {\n",
              "  _uploadFiles,\n",
              "  _uploadFilesContinue,\n",
              "};\n",
              "})(self);\n",
              "</script> "
            ]
          },
          "metadata": {}
        },
        {
          "output_type": "stream",
          "name": "stdout",
          "text": [
            "Saving beatles.txt to beatles.txt\n"
          ]
        }
      ],
      "source": [
        "uploaded =files.upload()"
      ]
    },
    {
      "cell_type": "code",
      "execution_count": 9,
      "metadata": {
        "id": "OKum235QhaBn"
      },
      "outputs": [],
      "source": [
        "beatles = pd.read_table(io.BytesIO(uploaded['beatles.txt']), header=None, delimiter=None)"
      ]
    },
    {
      "cell_type": "code",
      "execution_count": 10,
      "metadata": {
        "id": "zV9u3Kcnlcz1"
      },
      "outputs": [],
      "source": [
        "beatles.columns= [\"lyric\"]"
      ]
    },
    {
      "cell_type": "code",
      "execution_count": 10,
      "metadata": {
        "colab": {
          "base_uri": "https://localhost:8080/",
          "height": 206
        },
        "id": "Xm5yvxfAhlgp",
        "outputId": "5b1866bf-8799-4d5b-cfc5-d023eebf920f"
      },
      "outputs": [
        {
          "output_type": "execute_result",
          "data": {
            "text/plain": [
              "                                               lyric\n",
              "0      Yesterday, all my troubles seemed so far away\n",
              "1        Now it looks as though they're here to stay\n",
              "2  Oh, I believe in yesterday Suddenly, I'm not h...\n",
              "3                  There's a shadow hanging over me.\n",
              "4  Oh, yesterday came suddenly Why she had to go ..."
            ],
            "text/html": [
              "\n",
              "  <div id=\"df-10f6e2d7-7bb4-4f93-aa54-85ee9d5b771b\">\n",
              "    <div class=\"colab-df-container\">\n",
              "      <div>\n",
              "<style scoped>\n",
              "    .dataframe tbody tr th:only-of-type {\n",
              "        vertical-align: middle;\n",
              "    }\n",
              "\n",
              "    .dataframe tbody tr th {\n",
              "        vertical-align: top;\n",
              "    }\n",
              "\n",
              "    .dataframe thead th {\n",
              "        text-align: right;\n",
              "    }\n",
              "</style>\n",
              "<table border=\"1\" class=\"dataframe\">\n",
              "  <thead>\n",
              "    <tr style=\"text-align: right;\">\n",
              "      <th></th>\n",
              "      <th>lyric</th>\n",
              "    </tr>\n",
              "  </thead>\n",
              "  <tbody>\n",
              "    <tr>\n",
              "      <th>0</th>\n",
              "      <td>Yesterday, all my troubles seemed so far away</td>\n",
              "    </tr>\n",
              "    <tr>\n",
              "      <th>1</th>\n",
              "      <td>Now it looks as though they're here to stay</td>\n",
              "    </tr>\n",
              "    <tr>\n",
              "      <th>2</th>\n",
              "      <td>Oh, I believe in yesterday Suddenly, I'm not h...</td>\n",
              "    </tr>\n",
              "    <tr>\n",
              "      <th>3</th>\n",
              "      <td>There's a shadow hanging over me.</td>\n",
              "    </tr>\n",
              "    <tr>\n",
              "      <th>4</th>\n",
              "      <td>Oh, yesterday came suddenly Why she had to go ...</td>\n",
              "    </tr>\n",
              "  </tbody>\n",
              "</table>\n",
              "</div>\n",
              "      <button class=\"colab-df-convert\" onclick=\"convertToInteractive('df-10f6e2d7-7bb4-4f93-aa54-85ee9d5b771b')\"\n",
              "              title=\"Convert this dataframe to an interactive table.\"\n",
              "              style=\"display:none;\">\n",
              "        \n",
              "  <svg xmlns=\"http://www.w3.org/2000/svg\" height=\"24px\"viewBox=\"0 0 24 24\"\n",
              "       width=\"24px\">\n",
              "    <path d=\"M0 0h24v24H0V0z\" fill=\"none\"/>\n",
              "    <path d=\"M18.56 5.44l.94 2.06.94-2.06 2.06-.94-2.06-.94-.94-2.06-.94 2.06-2.06.94zm-11 1L8.5 8.5l.94-2.06 2.06-.94-2.06-.94L8.5 2.5l-.94 2.06-2.06.94zm10 10l.94 2.06.94-2.06 2.06-.94-2.06-.94-.94-2.06-.94 2.06-2.06.94z\"/><path d=\"M17.41 7.96l-1.37-1.37c-.4-.4-.92-.59-1.43-.59-.52 0-1.04.2-1.43.59L10.3 9.45l-7.72 7.72c-.78.78-.78 2.05 0 2.83L4 21.41c.39.39.9.59 1.41.59.51 0 1.02-.2 1.41-.59l7.78-7.78 2.81-2.81c.8-.78.8-2.07 0-2.86zM5.41 20L4 18.59l7.72-7.72 1.47 1.35L5.41 20z\"/>\n",
              "  </svg>\n",
              "      </button>\n",
              "      \n",
              "  <style>\n",
              "    .colab-df-container {\n",
              "      display:flex;\n",
              "      flex-wrap:wrap;\n",
              "      gap: 12px;\n",
              "    }\n",
              "\n",
              "    .colab-df-convert {\n",
              "      background-color: #E8F0FE;\n",
              "      border: none;\n",
              "      border-radius: 50%;\n",
              "      cursor: pointer;\n",
              "      display: none;\n",
              "      fill: #1967D2;\n",
              "      height: 32px;\n",
              "      padding: 0 0 0 0;\n",
              "      width: 32px;\n",
              "    }\n",
              "\n",
              "    .colab-df-convert:hover {\n",
              "      background-color: #E2EBFA;\n",
              "      box-shadow: 0px 1px 2px rgba(60, 64, 67, 0.3), 0px 1px 3px 1px rgba(60, 64, 67, 0.15);\n",
              "      fill: #174EA6;\n",
              "    }\n",
              "\n",
              "    [theme=dark] .colab-df-convert {\n",
              "      background-color: #3B4455;\n",
              "      fill: #D2E3FC;\n",
              "    }\n",
              "\n",
              "    [theme=dark] .colab-df-convert:hover {\n",
              "      background-color: #434B5C;\n",
              "      box-shadow: 0px 1px 3px 1px rgba(0, 0, 0, 0.15);\n",
              "      filter: drop-shadow(0px 1px 2px rgba(0, 0, 0, 0.3));\n",
              "      fill: #FFFFFF;\n",
              "    }\n",
              "  </style>\n",
              "\n",
              "      <script>\n",
              "        const buttonEl =\n",
              "          document.querySelector('#df-10f6e2d7-7bb4-4f93-aa54-85ee9d5b771b button.colab-df-convert');\n",
              "        buttonEl.style.display =\n",
              "          google.colab.kernel.accessAllowed ? 'block' : 'none';\n",
              "\n",
              "        async function convertToInteractive(key) {\n",
              "          const element = document.querySelector('#df-10f6e2d7-7bb4-4f93-aa54-85ee9d5b771b');\n",
              "          const dataTable =\n",
              "            await google.colab.kernel.invokeFunction('convertToInteractive',\n",
              "                                                     [key], {});\n",
              "          if (!dataTable) return;\n",
              "\n",
              "          const docLinkHtml = 'Like what you see? Visit the ' +\n",
              "            '<a target=\"_blank\" href=https://colab.research.google.com/notebooks/data_table.ipynb>data table notebook</a>'\n",
              "            + ' to learn more about interactive tables.';\n",
              "          element.innerHTML = '';\n",
              "          dataTable['output_type'] = 'display_data';\n",
              "          await google.colab.output.renderOutput(dataTable, element);\n",
              "          const docLink = document.createElement('div');\n",
              "          docLink.innerHTML = docLinkHtml;\n",
              "          element.appendChild(docLink);\n",
              "        }\n",
              "      </script>\n",
              "    </div>\n",
              "  </div>\n",
              "  "
            ]
          },
          "metadata": {},
          "execution_count": 10
        }
      ],
      "source": [
        "beatles.head()"
      ]
    },
    {
      "cell_type": "code",
      "execution_count": 11,
      "metadata": {
        "colab": {
          "base_uri": "https://localhost:8080/",
          "height": 73
        },
        "id": "Qqy8B3ewgfKi",
        "outputId": "00ae3676-30dd-4412-a6ed-090352550d0e"
      },
      "outputs": [
        {
          "output_type": "display_data",
          "data": {
            "text/plain": [
              "<IPython.core.display.HTML object>"
            ],
            "text/html": [
              "\n",
              "     <input type=\"file\" id=\"files-52f1254e-6228-4f8a-a75d-0e6a67f5e979\" name=\"files[]\" multiple disabled\n",
              "        style=\"border:none\" />\n",
              "     <output id=\"result-52f1254e-6228-4f8a-a75d-0e6a67f5e979\">\n",
              "      Upload widget is only available when the cell has been executed in the\n",
              "      current browser session. Please rerun this cell to enable.\n",
              "      </output>\n",
              "      <script>// Copyright 2017 Google LLC\n",
              "//\n",
              "// Licensed under the Apache License, Version 2.0 (the \"License\");\n",
              "// you may not use this file except in compliance with the License.\n",
              "// You may obtain a copy of the License at\n",
              "//\n",
              "//      http://www.apache.org/licenses/LICENSE-2.0\n",
              "//\n",
              "// Unless required by applicable law or agreed to in writing, software\n",
              "// distributed under the License is distributed on an \"AS IS\" BASIS,\n",
              "// WITHOUT WARRANTIES OR CONDITIONS OF ANY KIND, either express or implied.\n",
              "// See the License for the specific language governing permissions and\n",
              "// limitations under the License.\n",
              "\n",
              "/**\n",
              " * @fileoverview Helpers for google.colab Python module.\n",
              " */\n",
              "(function(scope) {\n",
              "function span(text, styleAttributes = {}) {\n",
              "  const element = document.createElement('span');\n",
              "  element.textContent = text;\n",
              "  for (const key of Object.keys(styleAttributes)) {\n",
              "    element.style[key] = styleAttributes[key];\n",
              "  }\n",
              "  return element;\n",
              "}\n",
              "\n",
              "// Max number of bytes which will be uploaded at a time.\n",
              "const MAX_PAYLOAD_SIZE = 100 * 1024;\n",
              "\n",
              "function _uploadFiles(inputId, outputId) {\n",
              "  const steps = uploadFilesStep(inputId, outputId);\n",
              "  const outputElement = document.getElementById(outputId);\n",
              "  // Cache steps on the outputElement to make it available for the next call\n",
              "  // to uploadFilesContinue from Python.\n",
              "  outputElement.steps = steps;\n",
              "\n",
              "  return _uploadFilesContinue(outputId);\n",
              "}\n",
              "\n",
              "// This is roughly an async generator (not supported in the browser yet),\n",
              "// where there are multiple asynchronous steps and the Python side is going\n",
              "// to poll for completion of each step.\n",
              "// This uses a Promise to block the python side on completion of each step,\n",
              "// then passes the result of the previous step as the input to the next step.\n",
              "function _uploadFilesContinue(outputId) {\n",
              "  const outputElement = document.getElementById(outputId);\n",
              "  const steps = outputElement.steps;\n",
              "\n",
              "  const next = steps.next(outputElement.lastPromiseValue);\n",
              "  return Promise.resolve(next.value.promise).then((value) => {\n",
              "    // Cache the last promise value to make it available to the next\n",
              "    // step of the generator.\n",
              "    outputElement.lastPromiseValue = value;\n",
              "    return next.value.response;\n",
              "  });\n",
              "}\n",
              "\n",
              "/**\n",
              " * Generator function which is called between each async step of the upload\n",
              " * process.\n",
              " * @param {string} inputId Element ID of the input file picker element.\n",
              " * @param {string} outputId Element ID of the output display.\n",
              " * @return {!Iterable<!Object>} Iterable of next steps.\n",
              " */\n",
              "function* uploadFilesStep(inputId, outputId) {\n",
              "  const inputElement = document.getElementById(inputId);\n",
              "  inputElement.disabled = false;\n",
              "\n",
              "  const outputElement = document.getElementById(outputId);\n",
              "  outputElement.innerHTML = '';\n",
              "\n",
              "  const pickedPromise = new Promise((resolve) => {\n",
              "    inputElement.addEventListener('change', (e) => {\n",
              "      resolve(e.target.files);\n",
              "    });\n",
              "  });\n",
              "\n",
              "  const cancel = document.createElement('button');\n",
              "  inputElement.parentElement.appendChild(cancel);\n",
              "  cancel.textContent = 'Cancel upload';\n",
              "  const cancelPromise = new Promise((resolve) => {\n",
              "    cancel.onclick = () => {\n",
              "      resolve(null);\n",
              "    };\n",
              "  });\n",
              "\n",
              "  // Wait for the user to pick the files.\n",
              "  const files = yield {\n",
              "    promise: Promise.race([pickedPromise, cancelPromise]),\n",
              "    response: {\n",
              "      action: 'starting',\n",
              "    }\n",
              "  };\n",
              "\n",
              "  cancel.remove();\n",
              "\n",
              "  // Disable the input element since further picks are not allowed.\n",
              "  inputElement.disabled = true;\n",
              "\n",
              "  if (!files) {\n",
              "    return {\n",
              "      response: {\n",
              "        action: 'complete',\n",
              "      }\n",
              "    };\n",
              "  }\n",
              "\n",
              "  for (const file of files) {\n",
              "    const li = document.createElement('li');\n",
              "    li.append(span(file.name, {fontWeight: 'bold'}));\n",
              "    li.append(span(\n",
              "        `(${file.type || 'n/a'}) - ${file.size} bytes, ` +\n",
              "        `last modified: ${\n",
              "            file.lastModifiedDate ? file.lastModifiedDate.toLocaleDateString() :\n",
              "                                    'n/a'} - `));\n",
              "    const percent = span('0% done');\n",
              "    li.appendChild(percent);\n",
              "\n",
              "    outputElement.appendChild(li);\n",
              "\n",
              "    const fileDataPromise = new Promise((resolve) => {\n",
              "      const reader = new FileReader();\n",
              "      reader.onload = (e) => {\n",
              "        resolve(e.target.result);\n",
              "      };\n",
              "      reader.readAsArrayBuffer(file);\n",
              "    });\n",
              "    // Wait for the data to be ready.\n",
              "    let fileData = yield {\n",
              "      promise: fileDataPromise,\n",
              "      response: {\n",
              "        action: 'continue',\n",
              "      }\n",
              "    };\n",
              "\n",
              "    // Use a chunked sending to avoid message size limits. See b/62115660.\n",
              "    let position = 0;\n",
              "    do {\n",
              "      const length = Math.min(fileData.byteLength - position, MAX_PAYLOAD_SIZE);\n",
              "      const chunk = new Uint8Array(fileData, position, length);\n",
              "      position += length;\n",
              "\n",
              "      const base64 = btoa(String.fromCharCode.apply(null, chunk));\n",
              "      yield {\n",
              "        response: {\n",
              "          action: 'append',\n",
              "          file: file.name,\n",
              "          data: base64,\n",
              "        },\n",
              "      };\n",
              "\n",
              "      let percentDone = fileData.byteLength === 0 ?\n",
              "          100 :\n",
              "          Math.round((position / fileData.byteLength) * 100);\n",
              "      percent.textContent = `${percentDone}% done`;\n",
              "\n",
              "    } while (position < fileData.byteLength);\n",
              "  }\n",
              "\n",
              "  // All done.\n",
              "  yield {\n",
              "    response: {\n",
              "      action: 'complete',\n",
              "    }\n",
              "  };\n",
              "}\n",
              "\n",
              "scope.google = scope.google || {};\n",
              "scope.google.colab = scope.google.colab || {};\n",
              "scope.google.colab._files = {\n",
              "  _uploadFiles,\n",
              "  _uploadFilesContinue,\n",
              "};\n",
              "})(self);\n",
              "</script> "
            ]
          },
          "metadata": {}
        },
        {
          "output_type": "stream",
          "name": "stdout",
          "text": [
            "Saving adele.txt to adele.txt\n"
          ]
        }
      ],
      "source": [
        "uploaded =files.upload()\n",
        "adele = pd.read_table(io.BytesIO(uploaded['adele.txt']), header = None, delimiter=None)\n",
        "adele.columns = [\"lyric\"]"
      ]
    },
    {
      "cell_type": "code",
      "execution_count": 12,
      "metadata": {
        "colab": {
          "base_uri": "https://localhost:8080/",
          "height": 73
        },
        "id": "A73gXVoCh0ho",
        "outputId": "ba31febf-3042-4568-91c3-4b93b54fa614"
      },
      "outputs": [
        {
          "output_type": "display_data",
          "data": {
            "text/plain": [
              "<IPython.core.display.HTML object>"
            ],
            "text/html": [
              "\n",
              "     <input type=\"file\" id=\"files-244747e4-b3cc-4947-bcfb-ca6b59960b41\" name=\"files[]\" multiple disabled\n",
              "        style=\"border:none\" />\n",
              "     <output id=\"result-244747e4-b3cc-4947-bcfb-ca6b59960b41\">\n",
              "      Upload widget is only available when the cell has been executed in the\n",
              "      current browser session. Please rerun this cell to enable.\n",
              "      </output>\n",
              "      <script>// Copyright 2017 Google LLC\n",
              "//\n",
              "// Licensed under the Apache License, Version 2.0 (the \"License\");\n",
              "// you may not use this file except in compliance with the License.\n",
              "// You may obtain a copy of the License at\n",
              "//\n",
              "//      http://www.apache.org/licenses/LICENSE-2.0\n",
              "//\n",
              "// Unless required by applicable law or agreed to in writing, software\n",
              "// distributed under the License is distributed on an \"AS IS\" BASIS,\n",
              "// WITHOUT WARRANTIES OR CONDITIONS OF ANY KIND, either express or implied.\n",
              "// See the License for the specific language governing permissions and\n",
              "// limitations under the License.\n",
              "\n",
              "/**\n",
              " * @fileoverview Helpers for google.colab Python module.\n",
              " */\n",
              "(function(scope) {\n",
              "function span(text, styleAttributes = {}) {\n",
              "  const element = document.createElement('span');\n",
              "  element.textContent = text;\n",
              "  for (const key of Object.keys(styleAttributes)) {\n",
              "    element.style[key] = styleAttributes[key];\n",
              "  }\n",
              "  return element;\n",
              "}\n",
              "\n",
              "// Max number of bytes which will be uploaded at a time.\n",
              "const MAX_PAYLOAD_SIZE = 100 * 1024;\n",
              "\n",
              "function _uploadFiles(inputId, outputId) {\n",
              "  const steps = uploadFilesStep(inputId, outputId);\n",
              "  const outputElement = document.getElementById(outputId);\n",
              "  // Cache steps on the outputElement to make it available for the next call\n",
              "  // to uploadFilesContinue from Python.\n",
              "  outputElement.steps = steps;\n",
              "\n",
              "  return _uploadFilesContinue(outputId);\n",
              "}\n",
              "\n",
              "// This is roughly an async generator (not supported in the browser yet),\n",
              "// where there are multiple asynchronous steps and the Python side is going\n",
              "// to poll for completion of each step.\n",
              "// This uses a Promise to block the python side on completion of each step,\n",
              "// then passes the result of the previous step as the input to the next step.\n",
              "function _uploadFilesContinue(outputId) {\n",
              "  const outputElement = document.getElementById(outputId);\n",
              "  const steps = outputElement.steps;\n",
              "\n",
              "  const next = steps.next(outputElement.lastPromiseValue);\n",
              "  return Promise.resolve(next.value.promise).then((value) => {\n",
              "    // Cache the last promise value to make it available to the next\n",
              "    // step of the generator.\n",
              "    outputElement.lastPromiseValue = value;\n",
              "    return next.value.response;\n",
              "  });\n",
              "}\n",
              "\n",
              "/**\n",
              " * Generator function which is called between each async step of the upload\n",
              " * process.\n",
              " * @param {string} inputId Element ID of the input file picker element.\n",
              " * @param {string} outputId Element ID of the output display.\n",
              " * @return {!Iterable<!Object>} Iterable of next steps.\n",
              " */\n",
              "function* uploadFilesStep(inputId, outputId) {\n",
              "  const inputElement = document.getElementById(inputId);\n",
              "  inputElement.disabled = false;\n",
              "\n",
              "  const outputElement = document.getElementById(outputId);\n",
              "  outputElement.innerHTML = '';\n",
              "\n",
              "  const pickedPromise = new Promise((resolve) => {\n",
              "    inputElement.addEventListener('change', (e) => {\n",
              "      resolve(e.target.files);\n",
              "    });\n",
              "  });\n",
              "\n",
              "  const cancel = document.createElement('button');\n",
              "  inputElement.parentElement.appendChild(cancel);\n",
              "  cancel.textContent = 'Cancel upload';\n",
              "  const cancelPromise = new Promise((resolve) => {\n",
              "    cancel.onclick = () => {\n",
              "      resolve(null);\n",
              "    };\n",
              "  });\n",
              "\n",
              "  // Wait for the user to pick the files.\n",
              "  const files = yield {\n",
              "    promise: Promise.race([pickedPromise, cancelPromise]),\n",
              "    response: {\n",
              "      action: 'starting',\n",
              "    }\n",
              "  };\n",
              "\n",
              "  cancel.remove();\n",
              "\n",
              "  // Disable the input element since further picks are not allowed.\n",
              "  inputElement.disabled = true;\n",
              "\n",
              "  if (!files) {\n",
              "    return {\n",
              "      response: {\n",
              "        action: 'complete',\n",
              "      }\n",
              "    };\n",
              "  }\n",
              "\n",
              "  for (const file of files) {\n",
              "    const li = document.createElement('li');\n",
              "    li.append(span(file.name, {fontWeight: 'bold'}));\n",
              "    li.append(span(\n",
              "        `(${file.type || 'n/a'}) - ${file.size} bytes, ` +\n",
              "        `last modified: ${\n",
              "            file.lastModifiedDate ? file.lastModifiedDate.toLocaleDateString() :\n",
              "                                    'n/a'} - `));\n",
              "    const percent = span('0% done');\n",
              "    li.appendChild(percent);\n",
              "\n",
              "    outputElement.appendChild(li);\n",
              "\n",
              "    const fileDataPromise = new Promise((resolve) => {\n",
              "      const reader = new FileReader();\n",
              "      reader.onload = (e) => {\n",
              "        resolve(e.target.result);\n",
              "      };\n",
              "      reader.readAsArrayBuffer(file);\n",
              "    });\n",
              "    // Wait for the data to be ready.\n",
              "    let fileData = yield {\n",
              "      promise: fileDataPromise,\n",
              "      response: {\n",
              "        action: 'continue',\n",
              "      }\n",
              "    };\n",
              "\n",
              "    // Use a chunked sending to avoid message size limits. See b/62115660.\n",
              "    let position = 0;\n",
              "    do {\n",
              "      const length = Math.min(fileData.byteLength - position, MAX_PAYLOAD_SIZE);\n",
              "      const chunk = new Uint8Array(fileData, position, length);\n",
              "      position += length;\n",
              "\n",
              "      const base64 = btoa(String.fromCharCode.apply(null, chunk));\n",
              "      yield {\n",
              "        response: {\n",
              "          action: 'append',\n",
              "          file: file.name,\n",
              "          data: base64,\n",
              "        },\n",
              "      };\n",
              "\n",
              "      let percentDone = fileData.byteLength === 0 ?\n",
              "          100 :\n",
              "          Math.round((position / fileData.byteLength) * 100);\n",
              "      percent.textContent = `${percentDone}% done`;\n",
              "\n",
              "    } while (position < fileData.byteLength);\n",
              "  }\n",
              "\n",
              "  // All done.\n",
              "  yield {\n",
              "    response: {\n",
              "      action: 'complete',\n",
              "    }\n",
              "  };\n",
              "}\n",
              "\n",
              "scope.google = scope.google || {};\n",
              "scope.google.colab = scope.google.colab || {};\n",
              "scope.google.colab._files = {\n",
              "  _uploadFiles,\n",
              "  _uploadFilesContinue,\n",
              "};\n",
              "})(self);\n",
              "</script> "
            ]
          },
          "metadata": {}
        },
        {
          "output_type": "stream",
          "name": "stdout",
          "text": [
            "Saving blink.txt to blink.txt\n"
          ]
        }
      ],
      "source": [
        "uploaded =files.upload()\n",
        "blink = pd.read_table(io.BytesIO(uploaded['blink.txt']), header=None, delimiter=None)\n",
        "blink.columns = [\"lyric\"]"
      ]
    },
    {
      "cell_type": "code",
      "execution_count": 13,
      "metadata": {
        "colab": {
          "base_uri": "https://localhost:8080/"
        },
        "id": "kY9zHXYdiwq6",
        "outputId": "e7e91f57-dbf2-4cf2-e21e-a10f8a42e833"
      },
      "outputs": [
        {
          "output_type": "stream",
          "name": "stderr",
          "text": [
            "<ipython-input-13-d086f934b618>:1: FutureWarning: The frame.append method is deprecated and will be removed from pandas in a future version. Use pandas.concat instead.\n",
            "  df = ((queen.append(beatles, ignore_index = True)).append(adele, ignore_index =True)).append(blink, ignore_index = True)\n"
          ]
        }
      ],
      "source": [
        "df = ((queen.append(beatles, ignore_index = True)).append(adele, ignore_index =True)).append(blink, ignore_index = True)"
      ]
    },
    {
      "cell_type": "code",
      "execution_count": 14,
      "metadata": {
        "colab": {
          "base_uri": "https://localhost:8080/",
          "height": 423
        },
        "id": "l3bZjb7Umk-8",
        "outputId": "94e84c4a-7a7e-4f9d-d398-39b8d85e8825"
      },
      "outputs": [
        {
          "output_type": "execute_result",
          "data": {
            "text/plain": [
              "                                                  lyric\n",
              "0     I was told a million times of all the troubles...\n",
              "1     Mind you grow a little wiser little better eve...\n",
              "2     But if I crossed a million rivers and I rode a...\n",
              "3     Then I'd still be where I started bread and bu...\n",
              "4     Well I sold a million mirrors In a shopping al...\n",
              "...                                                 ...\n",
              "7182  The only time I feel alive is when I find some...\n",
              "7183                              (The last train home)\n",
              "7184                    (I'll take the last train home)\n",
              "7185  The only time I feel alive is when I find some...\n",
              "7186                             (The last train home) \n",
              "\n",
              "[7187 rows x 1 columns]"
            ],
            "text/html": [
              "\n",
              "  <div id=\"df-a1f9a67f-b3d3-46dd-9ef8-9b7802148b93\">\n",
              "    <div class=\"colab-df-container\">\n",
              "      <div>\n",
              "<style scoped>\n",
              "    .dataframe tbody tr th:only-of-type {\n",
              "        vertical-align: middle;\n",
              "    }\n",
              "\n",
              "    .dataframe tbody tr th {\n",
              "        vertical-align: top;\n",
              "    }\n",
              "\n",
              "    .dataframe thead th {\n",
              "        text-align: right;\n",
              "    }\n",
              "</style>\n",
              "<table border=\"1\" class=\"dataframe\">\n",
              "  <thead>\n",
              "    <tr style=\"text-align: right;\">\n",
              "      <th></th>\n",
              "      <th>lyric</th>\n",
              "    </tr>\n",
              "  </thead>\n",
              "  <tbody>\n",
              "    <tr>\n",
              "      <th>0</th>\n",
              "      <td>I was told a million times of all the troubles...</td>\n",
              "    </tr>\n",
              "    <tr>\n",
              "      <th>1</th>\n",
              "      <td>Mind you grow a little wiser little better eve...</td>\n",
              "    </tr>\n",
              "    <tr>\n",
              "      <th>2</th>\n",
              "      <td>But if I crossed a million rivers and I rode a...</td>\n",
              "    </tr>\n",
              "    <tr>\n",
              "      <th>3</th>\n",
              "      <td>Then I'd still be where I started bread and bu...</td>\n",
              "    </tr>\n",
              "    <tr>\n",
              "      <th>4</th>\n",
              "      <td>Well I sold a million mirrors In a shopping al...</td>\n",
              "    </tr>\n",
              "    <tr>\n",
              "      <th>...</th>\n",
              "      <td>...</td>\n",
              "    </tr>\n",
              "    <tr>\n",
              "      <th>7182</th>\n",
              "      <td>The only time I feel alive is when I find some...</td>\n",
              "    </tr>\n",
              "    <tr>\n",
              "      <th>7183</th>\n",
              "      <td>(The last train home)</td>\n",
              "    </tr>\n",
              "    <tr>\n",
              "      <th>7184</th>\n",
              "      <td>(I'll take the last train home)</td>\n",
              "    </tr>\n",
              "    <tr>\n",
              "      <th>7185</th>\n",
              "      <td>The only time I feel alive is when I find some...</td>\n",
              "    </tr>\n",
              "    <tr>\n",
              "      <th>7186</th>\n",
              "      <td>(The last train home)</td>\n",
              "    </tr>\n",
              "  </tbody>\n",
              "</table>\n",
              "<p>7187 rows × 1 columns</p>\n",
              "</div>\n",
              "      <button class=\"colab-df-convert\" onclick=\"convertToInteractive('df-a1f9a67f-b3d3-46dd-9ef8-9b7802148b93')\"\n",
              "              title=\"Convert this dataframe to an interactive table.\"\n",
              "              style=\"display:none;\">\n",
              "        \n",
              "  <svg xmlns=\"http://www.w3.org/2000/svg\" height=\"24px\"viewBox=\"0 0 24 24\"\n",
              "       width=\"24px\">\n",
              "    <path d=\"M0 0h24v24H0V0z\" fill=\"none\"/>\n",
              "    <path d=\"M18.56 5.44l.94 2.06.94-2.06 2.06-.94-2.06-.94-.94-2.06-.94 2.06-2.06.94zm-11 1L8.5 8.5l.94-2.06 2.06-.94-2.06-.94L8.5 2.5l-.94 2.06-2.06.94zm10 10l.94 2.06.94-2.06 2.06-.94-2.06-.94-.94-2.06-.94 2.06-2.06.94z\"/><path d=\"M17.41 7.96l-1.37-1.37c-.4-.4-.92-.59-1.43-.59-.52 0-1.04.2-1.43.59L10.3 9.45l-7.72 7.72c-.78.78-.78 2.05 0 2.83L4 21.41c.39.39.9.59 1.41.59.51 0 1.02-.2 1.41-.59l7.78-7.78 2.81-2.81c.8-.78.8-2.07 0-2.86zM5.41 20L4 18.59l7.72-7.72 1.47 1.35L5.41 20z\"/>\n",
              "  </svg>\n",
              "      </button>\n",
              "      \n",
              "  <style>\n",
              "    .colab-df-container {\n",
              "      display:flex;\n",
              "      flex-wrap:wrap;\n",
              "      gap: 12px;\n",
              "    }\n",
              "\n",
              "    .colab-df-convert {\n",
              "      background-color: #E8F0FE;\n",
              "      border: none;\n",
              "      border-radius: 50%;\n",
              "      cursor: pointer;\n",
              "      display: none;\n",
              "      fill: #1967D2;\n",
              "      height: 32px;\n",
              "      padding: 0 0 0 0;\n",
              "      width: 32px;\n",
              "    }\n",
              "\n",
              "    .colab-df-convert:hover {\n",
              "      background-color: #E2EBFA;\n",
              "      box-shadow: 0px 1px 2px rgba(60, 64, 67, 0.3), 0px 1px 3px 1px rgba(60, 64, 67, 0.15);\n",
              "      fill: #174EA6;\n",
              "    }\n",
              "\n",
              "    [theme=dark] .colab-df-convert {\n",
              "      background-color: #3B4455;\n",
              "      fill: #D2E3FC;\n",
              "    }\n",
              "\n",
              "    [theme=dark] .colab-df-convert:hover {\n",
              "      background-color: #434B5C;\n",
              "      box-shadow: 0px 1px 3px 1px rgba(0, 0, 0, 0.15);\n",
              "      filter: drop-shadow(0px 1px 2px rgba(0, 0, 0, 0.3));\n",
              "      fill: #FFFFFF;\n",
              "    }\n",
              "  </style>\n",
              "\n",
              "      <script>\n",
              "        const buttonEl =\n",
              "          document.querySelector('#df-a1f9a67f-b3d3-46dd-9ef8-9b7802148b93 button.colab-df-convert');\n",
              "        buttonEl.style.display =\n",
              "          google.colab.kernel.accessAllowed ? 'block' : 'none';\n",
              "\n",
              "        async function convertToInteractive(key) {\n",
              "          const element = document.querySelector('#df-a1f9a67f-b3d3-46dd-9ef8-9b7802148b93');\n",
              "          const dataTable =\n",
              "            await google.colab.kernel.invokeFunction('convertToInteractive',\n",
              "                                                     [key], {});\n",
              "          if (!dataTable) return;\n",
              "\n",
              "          const docLinkHtml = 'Like what you see? Visit the ' +\n",
              "            '<a target=\"_blank\" href=https://colab.research.google.com/notebooks/data_table.ipynb>data table notebook</a>'\n",
              "            + ' to learn more about interactive tables.';\n",
              "          element.innerHTML = '';\n",
              "          dataTable['output_type'] = 'display_data';\n",
              "          await google.colab.output.renderOutput(dataTable, element);\n",
              "          const docLink = document.createElement('div');\n",
              "          docLink.innerHTML = docLinkHtml;\n",
              "          element.appendChild(docLink);\n",
              "        }\n",
              "      </script>\n",
              "    </div>\n",
              "  </div>\n",
              "  "
            ]
          },
          "metadata": {},
          "execution_count": 14
        }
      ],
      "source": [
        "df"
      ]
    },
    {
      "cell_type": "markdown",
      "metadata": {
        "id": "RDoouHp7Zp6D"
      },
      "source": [
        "### 1 - Ejemplo de Preprocesamiento\n",
        "- Hay que transformar las oraciones en tokens.\n",
        "- Dichas oraciones hay que ajustarlas al tamaño fijo de nuestra sentencia de entrada al modelo.\n",
        "- Hay que separar las palabras objetivos (target) que el modelo debe predecir en cada sentencia armada."
      ]
    },
    {
      "cell_type": "code",
      "execution_count": 14,
      "metadata": {
        "id": "m5FeTaGvbDbw"
      },
      "outputs": [],
      "source": [
        "from keras.preprocessing.text import Tokenizer # equivalente a ltokenizer de nltk\n",
        "from keras.preprocessing.text import text_to_word_sequence # equivalente a word_teokenize de nltk\n",
        "from keras.utils import pad_sequences # se utilizará para padding\n",
        "\n",
        "# largo de la secuencia, incluye seq input + word output\n",
        "train_len = 3"
      ]
    },
    {
      "cell_type": "code",
      "execution_count": 16,
      "metadata": {
        "colab": {
          "base_uri": "https://localhost:8080/",
          "height": 36
        },
        "id": "Zf3O7eK6ZpP8",
        "outputId": "e945a321-376e-416d-bfe8-46133744d2ef"
      },
      "outputs": [
        {
          "output_type": "execute_result",
          "data": {
            "text/plain": [
              "'I was told a million times of all the troubles in my way'"
            ],
            "application/vnd.google.colaboratory.intrinsic+json": {
              "type": "string"
            }
          },
          "metadata": {},
          "execution_count": 16
        }
      ],
      "source": [
        "# Ejemplo de como transformar una oración a tokens usando keras\n",
        "text = df['lyric'][0]\n",
        "text"
      ]
    },
    {
      "cell_type": "code",
      "execution_count": null,
      "metadata": {
        "colab": {
          "base_uri": "https://localhost:8080/"
        },
        "id": "JMDMNoALki_5",
        "outputId": "90af4e78-f42f-4476-b144-3aaad97958e4"
      },
      "outputs": [
        {
          "data": {
            "text/plain": [
              "str"
            ]
          },
          "execution_count": 62,
          "metadata": {},
          "output_type": "execute_result"
        }
      ],
      "source": [
        "type(text)"
      ]
    },
    {
      "cell_type": "code",
      "execution_count": 17,
      "metadata": {
        "colab": {
          "base_uri": "https://localhost:8080/"
        },
        "id": "AOv67Sj7aeFH",
        "outputId": "3560fb4e-ac5e-4bcd-c440-73d7a228b64b"
      },
      "outputs": [
        {
          "output_type": "execute_result",
          "data": {
            "text/plain": [
              "['i',\n",
              " 'was',\n",
              " 'told',\n",
              " 'a',\n",
              " 'million',\n",
              " 'times',\n",
              " 'of',\n",
              " 'all',\n",
              " 'the',\n",
              " 'troubles',\n",
              " 'in',\n",
              " 'my',\n",
              " 'way']"
            ]
          },
          "metadata": {},
          "execution_count": 17
        }
      ],
      "source": [
        "tokens = text_to_word_sequence(text) # entran oraciones -> salen vectores de N posiciones (tokens)\n",
        "tokens"
      ]
    },
    {
      "cell_type": "markdown",
      "metadata": {
        "id": "ZrlyqkoiaymK"
      },
      "source": [
        "1.1 - Transformar las oraciones en secuencias (tokens) de palabras"
      ]
    },
    {
      "cell_type": "code",
      "execution_count": 18,
      "metadata": {
        "id": "XH_L14Wjaowe"
      },
      "outputs": [],
      "source": [
        "# Recorrer todas las filas y transformar las oraciones\n",
        "# en secuencias de palabras\n",
        "sentence_tokens = []\n",
        "for _, row in df[:None].iterrows():\n",
        "    sentence_tokens.append(text_to_word_sequence(row[0]))"
      ]
    },
    {
      "cell_type": "code",
      "execution_count": null,
      "metadata": {
        "colab": {
          "base_uri": "https://localhost:8080/"
        },
        "id": "KASzU4CdaxbZ",
        "outputId": "fb076d6d-b472-41b8-db37-d062d5db3327"
      },
      "outputs": [
        {
          "data": {
            "text/plain": [
              "[['i',\n",
              "  'was',\n",
              "  'told',\n",
              "  'a',\n",
              "  'million',\n",
              "  'times',\n",
              "  'of',\n",
              "  'all',\n",
              "  'the',\n",
              "  'troubles',\n",
              "  'in',\n",
              "  'my',\n",
              "  'way'],\n",
              " ['mind',\n",
              "  'you',\n",
              "  'grow',\n",
              "  'a',\n",
              "  'little',\n",
              "  'wiser',\n",
              "  'little',\n",
              "  'better',\n",
              "  'every',\n",
              "  'day']]"
            ]
          },
          "execution_count": 65,
          "metadata": {},
          "output_type": "execute_result"
        }
      ],
      "source": [
        "# Demos un vistazo\n",
        "sentence_tokens[:2]"
      ]
    },
    {
      "cell_type": "code",
      "execution_count": 19,
      "metadata": {
        "id": "A659lswTbIIB"
      },
      "outputs": [],
      "source": [
        "# Código para hacer el desfazaje de las palabras\n",
        "# según el train_len\n",
        "text_sequences = []\n",
        "\n",
        "for i in range(train_len, len(tokens)):\n",
        "  seq = tokens[i-train_len:i]\n",
        "  text_sequences.append(seq)"
      ]
    },
    {
      "cell_type": "code",
      "execution_count": null,
      "metadata": {
        "colab": {
          "base_uri": "https://localhost:8080/"
        },
        "id": "01JEoPPnbgRF",
        "outputId": "38feb658-8575-4496-8df1-f38a3d23a641"
      },
      "outputs": [
        {
          "data": {
            "text/plain": [
              "[['i', 'was', 'told'],\n",
              " ['was', 'told', 'a'],\n",
              " ['told', 'a', 'million'],\n",
              " ['a', 'million', 'times'],\n",
              " ['million', 'times', 'of'],\n",
              " ['times', 'of', 'all'],\n",
              " ['of', 'all', 'the'],\n",
              " ['all', 'the', 'troubles'],\n",
              " ['the', 'troubles', 'in'],\n",
              " ['troubles', 'in', 'my']]"
            ]
          },
          "execution_count": 67,
          "metadata": {},
          "output_type": "execute_result"
        }
      ],
      "source": [
        "# Demos un vistazo a nuestros vectores para entrenar el modelo\n",
        "text_sequences "
      ]
    },
    {
      "cell_type": "markdown",
      "metadata": {
        "id": "4B0gHnKVa4W_"
      },
      "source": [
        "1.2 - Crear los vectores de palabras (word2vec)\n",
        "\n",
        "Ahora necesitamos pasarlos a números para que lo entienda la red y separar input de output.\n",
        "- El Input seran integers (word2vec)\n",
        "- Mientras que el output será one hot encodeado (labels) del tamaño del vocabulario"
      ]
    },
    {
      "cell_type": "code",
      "execution_count": 20,
      "metadata": {
        "id": "fkPNvXeQcS0U"
      },
      "outputs": [],
      "source": [
        "tok = Tokenizer() \n",
        "\n",
        "# El tokeinzer \"aprende\" las palabras que se usaran\n",
        "# Se construye (fit) una vez por proyecto, se aplica N veces (tal cual un encoder)\n",
        "# El token 0 es reservado y no es asignado, esta sutileza nos dará un pequeño\n",
        "# problema al momento de hacer la codificación OHE, pero es sencillo de resolver\n",
        "tok.fit_on_texts(text_sequences) \n",
        "\n",
        "# Convertimos las palabras a números\n",
        "# entran palabras -> salen números\n",
        "sequences = tok.texts_to_sequences(text_sequences)"
      ]
    },
    {
      "cell_type": "code",
      "execution_count": null,
      "metadata": {
        "colab": {
          "base_uri": "https://localhost:8080/"
        },
        "id": "4SIc44IocyQb",
        "outputId": "3119f5eb-f403-4eb2-8c42-98b376375cf7"
      },
      "outputs": [
        {
          "data": {
            "text/plain": [
              "[[11, 9, 1],\n",
              " [9, 1, 2],\n",
              " [1, 2, 3],\n",
              " [2, 3, 4],\n",
              " [3, 4, 5],\n",
              " [4, 5, 6],\n",
              " [5, 6, 7],\n",
              " [6, 7, 8],\n",
              " [7, 8, 10],\n",
              " [8, 10, 12]]"
            ]
          },
          "execution_count": 69,
          "metadata": {},
          "output_type": "execute_result"
        }
      ],
      "source": [
        "# Ahora sequences tiene los números \"ID\", largo 4\n",
        "sequences"
      ]
    },
    {
      "cell_type": "code",
      "execution_count": null,
      "metadata": {
        "colab": {
          "base_uri": "https://localhost:8080/"
        },
        "id": "3ro81yCQc1oX",
        "outputId": "34ba816f-4d8c-422c-cbb1-832766681417"
      },
      "outputs": [
        {
          "name": "stdout",
          "output_type": "stream",
          "text": [
            "10\n"
          ]
        }
      ],
      "source": [
        "# Cantidad de casos (doc) de entrada\n",
        "print(tok.document_count)"
      ]
    },
    {
      "cell_type": "code",
      "execution_count": null,
      "metadata": {
        "colab": {
          "base_uri": "https://localhost:8080/"
        },
        "id": "nzAWNfroc4u1",
        "outputId": "dc177940-02b5-4fc9-b9da-ff6644699dc1"
      },
      "outputs": [
        {
          "name": "stdout",
          "output_type": "stream",
          "text": [
            "12\n"
          ]
        }
      ],
      "source": [
        "# Cantidad de veces que aparece cada palabra\n",
        "print(len(tok.word_counts))"
      ]
    },
    {
      "cell_type": "code",
      "execution_count": null,
      "metadata": {
        "colab": {
          "base_uri": "https://localhost:8080/"
        },
        "id": "spTBxmFQc6h8",
        "outputId": "370e2e11-2685-40e0-cd7f-3a067b32c64d"
      },
      "outputs": [
        {
          "name": "stdout",
          "output_type": "stream",
          "text": [
            "{'told': 1, 'a': 2, 'million': 3, 'times': 4, 'of': 5, 'all': 6, 'the': 7, 'troubles': 8, 'was': 9, 'in': 10, 'i': 11, 'my': 12}\n"
          ]
        }
      ],
      "source": [
        "# El índice para cada palabra\n",
        "# El sistema las ordena de las más populares a las menos populares\n",
        "print(tok.word_index)"
      ]
    },
    {
      "cell_type": "code",
      "execution_count": null,
      "metadata": {
        "colab": {
          "base_uri": "https://localhost:8080/"
        },
        "id": "nUDkjy80c77h",
        "outputId": "f16603be-a1d1-487f-a028-f00c60c3ee6b"
      },
      "outputs": [
        {
          "name": "stdout",
          "output_type": "stream",
          "text": [
            "defaultdict(<class 'int'>, {'was': 2, 'i': 1, 'told': 3, 'a': 3, 'million': 3, 'times': 3, 'of': 3, 'all': 3, 'the': 3, 'troubles': 3, 'in': 2, 'my': 1})\n"
          ]
        }
      ],
      "source": [
        "# Cantidad de veces quea aparece cada palabra en cada \"documento\"\n",
        "# (1 documento = 1 caso de entrada)\n",
        "print(tok.word_docs)"
      ]
    },
    {
      "cell_type": "markdown",
      "metadata": {
        "id": "ohS5Tao1d2KB"
      },
      "source": [
        "### 2 - Preprocesamiento completo\n",
        "Debemos realizar los mismos pasos que en el ejemplo anterior, pero antes de eso debemos transformar ese dataset de filas de oraciones en un texto completo continuo para poder extraer el vocabulario."
      ]
    },
    {
      "cell_type": "code",
      "execution_count": null,
      "metadata": {
        "colab": {
          "base_uri": "https://localhost:8080/",
          "height": 551
        },
        "id": "63Z2-Se2t27r",
        "outputId": "67ed8522-8ec2-4ce1-8b36-5174e0ebd170"
      },
      "outputs": [
        {
          "data": {
            "text/html": [
              "\n",
              "  <div id=\"df-cfa5e57a-b12d-4eff-831d-cc4ef5090a6b\">\n",
              "    <div class=\"colab-df-container\">\n",
              "      <div>\n",
              "<style scoped>\n",
              "    .dataframe tbody tr th:only-of-type {\n",
              "        vertical-align: middle;\n",
              "    }\n",
              "\n",
              "    .dataframe tbody tr th {\n",
              "        vertical-align: top;\n",
              "    }\n",
              "\n",
              "    .dataframe thead th {\n",
              "        text-align: right;\n",
              "    }\n",
              "</style>\n",
              "<table border=\"1\" class=\"dataframe\">\n",
              "  <thead>\n",
              "    <tr style=\"text-align: right;\">\n",
              "      <th></th>\n",
              "      <th>lyric</th>\n",
              "    </tr>\n",
              "  </thead>\n",
              "  <tbody>\n",
              "    <tr>\n",
              "      <th>0</th>\n",
              "      <td>I was told a million times of all the troubles...</td>\n",
              "    </tr>\n",
              "    <tr>\n",
              "      <th>1</th>\n",
              "      <td>Mind you grow a little wiser little better eve...</td>\n",
              "    </tr>\n",
              "    <tr>\n",
              "      <th>2</th>\n",
              "      <td>But if I crossed a million rivers and I rode a...</td>\n",
              "    </tr>\n",
              "    <tr>\n",
              "      <th>3</th>\n",
              "      <td>Then I'd still be where I started bread and bu...</td>\n",
              "    </tr>\n",
              "    <tr>\n",
              "      <th>4</th>\n",
              "      <td>Well I sold a million mirrors In a shopping al...</td>\n",
              "    </tr>\n",
              "    <tr>\n",
              "      <th>5</th>\n",
              "      <td>But I never saw my face In any window any day</td>\n",
              "    </tr>\n",
              "    <tr>\n",
              "      <th>6</th>\n",
              "      <td>Now they say your folks are telling you be a s...</td>\n",
              "    </tr>\n",
              "    <tr>\n",
              "      <th>7</th>\n",
              "      <td>But I tell you just be satisfied stay right wh...</td>\n",
              "    </tr>\n",
              "    <tr>\n",
              "      <th>8</th>\n",
              "      <td>Keep yourself alive, yeah Keep yourself alive</td>\n",
              "    </tr>\n",
              "    <tr>\n",
              "      <th>9</th>\n",
              "      <td>Ooh, it'll take you all your time and money ho...</td>\n",
              "    </tr>\n",
              "    <tr>\n",
              "      <th>10</th>\n",
              "      <td>Well I've loved a million women In a belladoni...</td>\n",
              "    </tr>\n",
              "    <tr>\n",
              "      <th>11</th>\n",
              "      <td>And I ate a million dinners brought to me on s...</td>\n",
              "    </tr>\n",
              "    <tr>\n",
              "      <th>12</th>\n",
              "      <td>Give me everything I need to feed my body and ...</td>\n",
              "    </tr>\n",
              "    <tr>\n",
              "      <th>13</th>\n",
              "      <td>And I'll grow a little bigger maybe that can b...</td>\n",
              "    </tr>\n",
              "    <tr>\n",
              "      <th>14</th>\n",
              "      <td>I was told a million times of all the people i...</td>\n",
              "    </tr>\n",
              "    <tr>\n",
              "      <th>15</th>\n",
              "      <td>How I had to keep on trying and get better eve...</td>\n",
              "    </tr>\n",
              "  </tbody>\n",
              "</table>\n",
              "</div>\n",
              "      <button class=\"colab-df-convert\" onclick=\"convertToInteractive('df-cfa5e57a-b12d-4eff-831d-cc4ef5090a6b')\"\n",
              "              title=\"Convert this dataframe to an interactive table.\"\n",
              "              style=\"display:none;\">\n",
              "        \n",
              "  <svg xmlns=\"http://www.w3.org/2000/svg\" height=\"24px\"viewBox=\"0 0 24 24\"\n",
              "       width=\"24px\">\n",
              "    <path d=\"M0 0h24v24H0V0z\" fill=\"none\"/>\n",
              "    <path d=\"M18.56 5.44l.94 2.06.94-2.06 2.06-.94-2.06-.94-.94-2.06-.94 2.06-2.06.94zm-11 1L8.5 8.5l.94-2.06 2.06-.94-2.06-.94L8.5 2.5l-.94 2.06-2.06.94zm10 10l.94 2.06.94-2.06 2.06-.94-2.06-.94-.94-2.06-.94 2.06-2.06.94z\"/><path d=\"M17.41 7.96l-1.37-1.37c-.4-.4-.92-.59-1.43-.59-.52 0-1.04.2-1.43.59L10.3 9.45l-7.72 7.72c-.78.78-.78 2.05 0 2.83L4 21.41c.39.39.9.59 1.41.59.51 0 1.02-.2 1.41-.59l7.78-7.78 2.81-2.81c.8-.78.8-2.07 0-2.86zM5.41 20L4 18.59l7.72-7.72 1.47 1.35L5.41 20z\"/>\n",
              "  </svg>\n",
              "      </button>\n",
              "      \n",
              "  <style>\n",
              "    .colab-df-container {\n",
              "      display:flex;\n",
              "      flex-wrap:wrap;\n",
              "      gap: 12px;\n",
              "    }\n",
              "\n",
              "    .colab-df-convert {\n",
              "      background-color: #E8F0FE;\n",
              "      border: none;\n",
              "      border-radius: 50%;\n",
              "      cursor: pointer;\n",
              "      display: none;\n",
              "      fill: #1967D2;\n",
              "      height: 32px;\n",
              "      padding: 0 0 0 0;\n",
              "      width: 32px;\n",
              "    }\n",
              "\n",
              "    .colab-df-convert:hover {\n",
              "      background-color: #E2EBFA;\n",
              "      box-shadow: 0px 1px 2px rgba(60, 64, 67, 0.3), 0px 1px 3px 1px rgba(60, 64, 67, 0.15);\n",
              "      fill: #174EA6;\n",
              "    }\n",
              "\n",
              "    [theme=dark] .colab-df-convert {\n",
              "      background-color: #3B4455;\n",
              "      fill: #D2E3FC;\n",
              "    }\n",
              "\n",
              "    [theme=dark] .colab-df-convert:hover {\n",
              "      background-color: #434B5C;\n",
              "      box-shadow: 0px 1px 3px 1px rgba(0, 0, 0, 0.15);\n",
              "      filter: drop-shadow(0px 1px 2px rgba(0, 0, 0, 0.3));\n",
              "      fill: #FFFFFF;\n",
              "    }\n",
              "  </style>\n",
              "\n",
              "      <script>\n",
              "        const buttonEl =\n",
              "          document.querySelector('#df-cfa5e57a-b12d-4eff-831d-cc4ef5090a6b button.colab-df-convert');\n",
              "        buttonEl.style.display =\n",
              "          google.colab.kernel.accessAllowed ? 'block' : 'none';\n",
              "\n",
              "        async function convertToInteractive(key) {\n",
              "          const element = document.querySelector('#df-cfa5e57a-b12d-4eff-831d-cc4ef5090a6b');\n",
              "          const dataTable =\n",
              "            await google.colab.kernel.invokeFunction('convertToInteractive',\n",
              "                                                     [key], {});\n",
              "          if (!dataTable) return;\n",
              "\n",
              "          const docLinkHtml = 'Like what you see? Visit the ' +\n",
              "            '<a target=\"_blank\" href=https://colab.research.google.com/notebooks/data_table.ipynb>data table notebook</a>'\n",
              "            + ' to learn more about interactive tables.';\n",
              "          element.innerHTML = '';\n",
              "          dataTable['output_type'] = 'display_data';\n",
              "          await google.colab.output.renderOutput(dataTable, element);\n",
              "          const docLink = document.createElement('div');\n",
              "          docLink.innerHTML = docLinkHtml;\n",
              "          element.appendChild(docLink);\n",
              "        }\n",
              "      </script>\n",
              "    </div>\n",
              "  </div>\n",
              "  "
            ],
            "text/plain": [
              "                                                lyric\n",
              "0   I was told a million times of all the troubles...\n",
              "1   Mind you grow a little wiser little better eve...\n",
              "2   But if I crossed a million rivers and I rode a...\n",
              "3   Then I'd still be where I started bread and bu...\n",
              "4   Well I sold a million mirrors In a shopping al...\n",
              "5       But I never saw my face In any window any day\n",
              "6   Now they say your folks are telling you be a s...\n",
              "7   But I tell you just be satisfied stay right wh...\n",
              "8       Keep yourself alive, yeah Keep yourself alive\n",
              "9   Ooh, it'll take you all your time and money ho...\n",
              "10  Well I've loved a million women In a belladoni...\n",
              "11  And I ate a million dinners brought to me on s...\n",
              "12  Give me everything I need to feed my body and ...\n",
              "13  And I'll grow a little bigger maybe that can b...\n",
              "14  I was told a million times of all the people i...\n",
              "15  How I had to keep on trying and get better eve..."
            ]
          },
          "execution_count": 74,
          "metadata": {},
          "output_type": "execute_result"
        }
      ],
      "source": [
        "# Vistazo a las primeras filas\n",
        "df.loc[0:15]"
      ]
    },
    {
      "cell_type": "code",
      "execution_count": 21,
      "metadata": {
        "colab": {
          "base_uri": "https://localhost:8080/",
          "height": 123
        },
        "id": "kILsSoxTuHEr",
        "outputId": "a48c5cee-4680-47f4-d2cc-6203c66e48d9"
      },
      "outputs": [
        {
          "output_type": "execute_result",
          "data": {
            "text/plain": [
              "'I was told a million times of all the troubles in my way Mind you grow a little wiser little better every day But if I crossed a million rivers and I rode a million miles Then I\\'d still be where I started bread and butter for a smile Well I sold a million mirrors In a shopping alley way But I never saw my face In any window any day Now they say your folks are telling you be a super star But I tell you just be satisfied stay right where you are Keep yourself alive, yeah Keep yourself alive Ooh, it\\'ll take you all your time and money honey you\\'ll survive Well I\\'ve loved a million women In a belladonic haze And I ate a million dinners brought to me on silver trays Give me everything I need to feed my body and my soul And I\\'ll grow a little bigger maybe that can be my goal I was told a million times of all the people in my way How I had to keep on trying and get better every day But if I crossed a million rivers and I rode a million miles Then I\\'d still be where I started same as when I started Keep yourself alive, come on Keep yourself alive Ooh, it\\'ll take you all your time and money honey You\\'ll survive, shake Keep yourself alive, wow Keep yourself alive Oh, it\\'ll take you all your time and money To keep me satisfied Do you think you\\'re better every day? No, I just think I\\'m two steps nearer to my grave Keep yourself alive, c\\'mon Keep yourself alive you take your time and take more money Keep yourself alive\\nKeep yourself alive C\\'mon keep yourself alive All you people keep yourself alive Keep yourself alive C\\'mon c\\'mon keep yourself alive Take you all your time and-a money to keep me satisfied Is this the real life? Is this just fantasy? Caught in a landslide, no escape from reality Open your eyes, look up to the skies and see I\\'m just a poor boy, I need no sympathy Because I\\'m easy come, easy go, little high, little low Any way the wind blows doesn\\'t really matter to me, to me Mama, just killed a man Put a gun against his head, pulled my trigger, now he\\'s dead Mama, life had just begun But now I\\'ve gone and thrown it all away Mama, ooh, didn\\'t mean to make you cry If I\\'m not back again this time tomorrow Carry on, carry on as if nothing really matters Too late, my time has come Sends shivers down my spine, body\\'s aching all the time Goodbye, everybody, I\\'ve got to go Gotta leave you all behind and face the truth Mama, ooh Any way the wind blows I don\\'t wanna die I sometimes wish I\\'d never been born at all I see a little silhouetto of a man Scaramouche, Scaramouche, will you do the Fandango? Thunderbolt and lightning, very, very frightening me (Galileo) Galileo, (Galileo) Galileo, Galileo Figaro magnifico But I\\'m just a poor boy, nobody loves me He\\'s just a poor boy from a poor family Spare him his life from this monstrosity Easy come, easy go, will you let me go? Bismillah! No, we will not let you go(Let him go) Bismillah! We will not let you go (Let him go) Bismillah! We will not let you go Let me go Will not let you go Let me go Will not let you go Never, never, never, never let me go Ah No, no, no, no, no, no, no (Oh, mamma mia, mamma mia) Mamma mia, let me go Beelzebub has a devil put aside for me, for me, for me! So you think you can stone me and spit in my eye? So you think you can love me and leave me to die? Oh, baby, can\\'t do this to me, baby! Just gotta get out, just gotta get right outta here Nothing really matters, anyone can see Nothing really matters Nothing really matters to me Any way the wind blows Tonight I\\'m gonna have myself a real good time I feel alive and the world, I\\'ll turn it inside out yeah I\\'m floating around in ecstasy So (Don\\'t stop me now)\\n(Don\\'t stop me) Cause I\\'m having a good time\\nHaving a good time I\\'m a shooting star leaping through the sky like a tiger Defying the laws of gravity I\\'m a racing car passing by like Lady Godiva I\\'m gonna go, go, go, there\\'s no stopping me I\\'m burning through the sky, yeah Two hundred degrees, that\\'s why they call me Mister Fahrenheit I\\'m travelling at the speed of light I wanna make a supersonic man outta you (Don\\'t stop me now)\\nI\\'m having such a good time I\\'m having a ball\\n(Don\\'t stop me now) If you wanna have a good time Just give me a call (Don\\'t stop me now)\\n\\'Cause I\\'m having a good time (Don\\'t stop me now)\\nYes, I\\'m having a good time I don\\'t wanna stop at all, yeah I\\'m a rocket ship on my way to Mars on a collision course I am a satellite, I\\'m out of control I\\'m a sex machine ready to reload like an atom bomb About to oh, oh, oh, oh, oh, explode I\\'m burning through the sky, yeah Two hundred degrees, that\\'s why they call me Mister Fahrenheit I\\'m travelling at the speed of light I wanna make a supersonic woman of you (Don\\'t stop me, don\\'t stop me, don\\'t stop me) Hey, hey, hey\\n(Don\\'t stop me, don\\'t stop me, ooh, ooh, ooh) I like it (Don\\'t stop me, don\\'t stop me) Have a good time, good time (Don\\'t stop me, don\\'t stop me) Woah Let loose, honey, all right Oh, I\\'m burning through the sky, yeah Two hundred degrees, that\\'s why they call me Mister Fahrenheit (Hey) Travelling at the speed of light I wanna make a supersonic man outta you (Hey, hey) (Don\\'t stop me now) I\\'m having such a good time I\\'m having a ball (Don\\'t stop me now) If you wanna have a good time Just give me a call (Ooh, alright) (Don\\'t stop me now) Cause I\\'m having a good time (Hey, hey) (Don\\'t stop me now) Yes, I\\'m having a good time I don\\'t wanna stop at all Pressure pushing down on me Pressing down on you, no man ask for Under pressure that burns a building down Splits a family in two puts people on streets It\\'s the terror of knowing what this world is about Watching some good friends screaming, \"Let me out!\" Pray tomorrow gets me higher Pressure on people, people on streets Chipping around, kick my brains around the floor around the floor These are the days it never rains but it pours People on streets Ee da de da de It\\'s the terror of knowing what this world is about Watching some good friends screaming, \\'Let me out\\' Pray tomorrow gets me higher, high Pressure on people, people on streets Turned away from it all like a blind man Sat on a fence but it don\\'t work Keep coming up with love but it\\'s so slashed and torn Why, why, why? Love, love, love, love, love Insanity laughs under pressure we\\'re breaking Can\\'t we give ourselves one more chance? Why can\\'t we give love that one more chance? Why can\\'t we give love, give love give love, give love give love, give Because love\\'s such an old-fashioned word And love dares you to care for The people on the (People on streets) edge of the night And love dares you to change our way of caring about ourselves This is our last dance This is our last dance This is ourselves under pressure Under pressure under pressure Love of my life, you\\'ve hurt me You\\'ve broken my heart and now you leave me Love of my life, can\\'t you see? Bring it back, bring it back Don\\'t take it away from me Because you don\\'t know what it means to me Love of my life, don\\'t leave me You\\'ve taken my love (all my love) and now desert me Love of my life, can\\'t you see? (Please bring it back, back) Bring it back, bring it back Don\\'t take it away from me Because you don\\'t know what it means to me You will remember when this is blown over And everything\\'s all by the way When I grow older I will be there at your side To remind you how I still love you (I still love you) Back, hurry back Please bring it back home to me Because you don\\'t know what it means to me Love of my life Love of my life Ooh, ooh She keeps Moët et Chandon in her pretty cabinet \"Let them eat cake,\" she says Just like Marie Antoinette A built-in remedy for Khrushchev and Kennedy (Ooh, ooh) At anytime an invitation you can\\'t decline (Ooh, ooh) Caviar and cigarettes Well versed in etiquette Extraordinarily nice She\\'s a Killer Queen Gunpowder, gelatine Dynamite with a laser beam Guaranteed to blow your mind Recommended at the price Insatiable an appetite Wanna try? To avoid complications she never kept the same address In conversation she spoke just like a baroness Met a man from China Went down to Geisha Minah (Ooh, ooh) (Killer, killer, she\\'s a killer Queen) Then again incidentally If you\\'re that way inclined Perfume came naturally from Paris (Naturally) For cars, she couldn\\'t care less Fastidious and precise She\\'s a Killer Queen Gunpowder, gelatin dynamite with a laser beam Guaranteed to blow your mind (Pa-pa-pa-pa) anytime Drop of a hat she\\'s as willing as Playful as a pussy cat (Ooh) Then momentarily out of action (Ooh) Temporarily out of gas (Ta-taaa) To absolutely drive you wild, wild She\\'s out to get you She\\'s a Killer Queen Gunpowder, gelatine dynamite with a laser beam (Pa-pa-pa-ra) Guaranteed to blow your mind Anytime Ooh Recommended at the price Insatiable an appetite Wanna try? You wanna try Steve walks warily down the street with the brim pulled way down low Ain\\'t no sound but the sound of his feet Machine guns ready to go Are you ready? Hey, are you ready for this? Are you hanging on the edge of your seat? Out of the doorway the bullets rip To the sound of the beat, yeah Another one bites the dust Another one bites the dust And another one gone, and another one gone Another one bites the dust, yeah Hey, I\\'m gonna get you too Another one bites the dust How do you think I\\'m going to get along Without you, when you\\'re gone You took me for everything that I had And kicked me out on my own Are you happy, are you satisfied? How long can you stand the heat? Out of the doorway the bullets rip To the sound of the beat Look out Another one bites the dust Another one bites the dust And another one gone, and another one gone Another one bites the dust Hey, I\\'m gonna get you, too Another one bites the dust Hey Oh, take it Bite the dust, hey Another one bites the dust Another one bites the dust, ow Another one bites the dust, hey hey Another one bites the dust, hey-eh-eh Ooh There are plenty of ways you can hurt a man And bring him to the ground You can beat him, you can cheat him, you can treat him bad And leave him when he\\'s down, yeah But I\\'m ready, yes I\\'m ready for you I\\'m standing on my own two feet Out of the doorway the bullets rip Repeating the sound of the beat Oh yeah Another one bites the dust Another one bites the dust And another one gone, and another one gone Another one bites the dust, yeah Hey, I\\'m gonna get you, too Another one bites the dust Shoot out Ay-yeah Alright Buddy, you\\'re a boy, make a big noise Playing in the street Gonna be a big man someday You got mud on your face You big disgrace Kicking your can All over the place, singing We will, we will rock you We will, we will rock you Buddy, you\\'re a young man, hard man Shouting in the street Gonna take on the world someday You got blood on your face You big disgrace Waving your banner all over the place We will, we will rock you (Sing it out) We will, we will rock you Buddy, you\\'re an old man, poor man Pleading with your eyes Gonna make you some peace someday You got mud on your face Big disgrace Somebody better put you back into your place We will, we will rock you, sing it We will, we will rock you, everybody We will, we will rock you, hmm We will, we will rock you, alright I\\'d sit alone and watch your light My only friend through teenage nights And everything I had to know I heard it on my radio You gave them all those old time stars Through wars of worlds invaded by Mars You made \\'em laugh, you made \\'em cry You made us feel like we could fly (Radio) So don\\'t become some background noise A backdrop for the girls and boys Who just don\\'t know or just don\\'t care And just complain when you\\'re not there You had your time, you had the power You\\'ve yet to have your finest hour Radio (Radio) All we hear is radio ga ga Radio goo goo, radio ga ga All we hear is radio ga ga Radio blah blah Radio, what\\'s new? Radio, someone still loves you We watch the shows, we watch the stars On videos for hours and hours We hardly need to use our ears How music changes through the years Let\\'s hope you never leave, old friend Like all good things, on you we depend So stick around \\'cause we might miss you When we grow tired of all this visual You had your time, you had the power You\\'ve yet to have your finest hour Radio (Radio) All we hear is radio ga ga Radio goo goo, radio ga ga All we hear is radio ga ga Radio goo goo, radio ga ga All we hear is radio ga ga Radio blah blah Radio, what\\'s new? Someone still loves you (Radio ga ga, radio ga ga) (Radio ga ga, radio ga ga) I\\'ve paid my dues time after time I\\'ve done my sentence But committed no crime And bad mistakes I\\'ve made a few I\\'ve had my share of sand kicked in my face But I\\'ve come through (And I need to go on and on, and on, and on) We are the champions, my friends And we\\'ll keep on fighting \\'til the end We are the champions We are the champions No time for losers Cause we are the champions Of the world I\\'ve taken my bows And my curtain calls You brought me fame and fortune and everything that goes with it I thank you all But it\\'s been no bed of roses No pleasure cruise I consider it a challenge before the whole human race And I ain\\'t gonna lose (And I need to go on and on, and on, and on) We are the champions, my friends And we\\'ll keep on fighting \\'til the end We are the champions We are the champions No time for losers Cause we are the champions Of the world We are the champions, my friends And we\\'ll keep on fighting \\'til the end, oh We are the champions We are the champions No time for losers Cause we are the champions Can anybody find me somebody to love? Ooh, each morning I get up I die a little Can barely stand on my feet (Take a look at yourself in the mirror and cry) Take a look in the mirror and cry Lord, what you\\'re doin\\' to me (Yeah, yeah) I have spent all my years in believin\\' you But I just can\\'t get no relief, Lord Somebody (Somebody) Ooh, somebody (Somebody) Can anybody find me Somebody to love? Yeah I work hard (He works hard) every day of my life I work \\'til I ache my bones At the end (At the end of the day) I take home My hard-earned pay all on my own (Goes home, goes home on his own) I get down (Down) on my knees (Knees) and I start to pray (Praise the Lord) Til the tears run down from my eyes, Lord Somebody (Somebody) Ooh, somebody (Please) Can anybody find me Somebody to love? Oh (He works hard) everyday (Everyday) I try and I try and I try But everybody wants to put me down They say I\\'m goin\\' crazy They say I got a lot of water in my brain I got no common sense (He\\'s got) I got nobody left to believe No, no, no, no (Ooh, ooh, ooh, Lord) Ooh somebody Ooh (Somebody) Anybody find me Somebody to love (Can anybody find me Someone to love?) Got no feel, I got no rhythm I just keep losin\\' my beat (You just keep losing and losing) I\\'m okay, I\\'m alright (He\\'s alright, he\\'s alright) I ain\\'t gonna face no defeat (Yeah, yeah) I just gotta get out of this prison cell (One day) Someday I\\'m gonna be free, Lord Find me somebody to love Find me somebody to love Find me somebody to love Find me somebody to love Find me somebody to love (Find me) Find me somebody to love-ove-ove (Ooh, find me, find me) Find me somebody to love (Somebody to love) Find me somebody to love Somebody (Somebody) Somebody (Somebody) Somebody (Find me) (Somebody find me somebody to love) Can anybody find me Somebody to love? (Find me somebody to love) Find me somebody (Find me somebody to love) Somebody, somebody, somebody to love\\n(Find me somebody to love) Find me, find me Find me, find me, find me (Find me somebody to love) Ooh, somebody to love (Find me somebody to love) Ooh, find me, find me Find me somebody to love (Find me somebody to love) Anybody, anywhere, anybody Find me somebody to love, love Find me, find me, find me, find me I want to break free I want to break free I want to break free from your lies You\\'re so self-satisfied, I don\\'t need you I\\'ve got to break free God knows, God knows I want to break free I\\'ve fallen in love I\\'ve fallen in love for the first time And this time I know it\\'s for real I\\'ve fallen in love, yeah God knows, God knows I\\'ve fallen in love It\\'s strange but it\\'s true, yeah I can\\'t get over the way you love me like you do But I have to be sure When I walk out that door Oh, how I want to be free, baby Oh, how I want to be free Oh, how I want to break free But life still goes on I can\\'t get used to living without, living without Living without you by my side I don\\'t want to live alone, hey God knows, got to make it on my own So baby, can\\'t you see? I\\'ve got to break free I\\'ve got to break free I want to break free, yeah I want, I want, I want, I want to break free Are you gonna take me home tonight? Oh, down beside that red firelight? Are you gonna let it all hang out? Fat bottomed girls You make the rockin\\' world go \\'round Hey, I was just a skinny lad Never knew no good from bad But I knew life before I left my nursery, huh Left alone with big fat Fanny She was such a naughty nanny Hey, big woman You made a bad boy out of me Hey, hey, woo! I\\'ve been singing with my band Cross the water, cross the land I\\'ve seen every blue eyed Floozy on the way, hey But their beauty and their style Went kinda smooth after a while Take me to them dirty ladies every time Come on Oh, won\\'t you take me home tonight Oh, down beside your red firelight? Oh, and you give it all you got Fat bottomed girls You make the rockin\\' world go \\'round Fat bottomed girls You make the rockin\\' world go \\'round Hey, listen here I got mortgages on homes I got stiffness in my bones Ain\\'t no beauty queens In this locality, I tell you Oh, but I still get my pleasure Still got my greatest treasure Hey, big woman, you gonna make A big man of me, now get this (Oh, I know) Are you gonna Take me home tonight? (Please) Oh, down beside that red firelight? Are you gonna let it all hang out? Fat bottomed girls You make the rockin\\' world go \\'round Get on your bikes and ride! Ooh, yeah Oh, yeah Them fat bottomed girls (Fat bottomed girls) Yeah, yeah, yeah Alright, ride \\'em cowboy (Fat bottomed girls) Yes, yes! This thing called love I just can\\'t handle it This thing called love I must get \\'round to it, I ain\\'t ready Crazy little thing called love A-this thing (This thing) Called love (Called love) It cries (Like a baby) In a cradle all night It swings (Woo, woo) It jives (Woo, woo) It shakes all over Woo, I kinda like it Crazy little thing called love There goes my baby She knows how to rock \\'n\\' roll She drives me crazy She gives me hot and cold fever Then she leaves me in a cool, cool sweat I gotta be cool, relax, get hip And get on my tracks Take a back seat, hitch-hike And take a long ride On my motorbike until I\\'m ready Crazy little thing called love Yeah\\nI gotta be cool, relax, get hip And get on my tracks Take a back seat Hitch-hike (Ah hum, ah hum) And take a long ride on my motorbike Until I\\'m ready (Ready Freddie) Crazy little thing called love This thing called love I just can\\'t handle it This thing called love I must get \\'round to it I ain\\'t ready (Ooh ooh ooh ooh) Crazy little thing called love Crazy little thing called love, yeah, yeah Crazy little thing called love, yeah, yeah Crazy little thing called love, yeah, yeah Crazy little thing called love, yeah, yeah Crazy little thing called love, yeah, yeah Crazy little thing called love, yeah, yeah Crazy little thing called love, yeah, yeah Here we stand or here we fall History won\\'t care at all Make the bed, light the light, yeah Lady Mercy won\\'t be home tonight, yeah (You don\\'t waste no time at all) Don\\'t hear the bell but you answer the call (It comes to you as to us all) Yeah, we\\'re just waiting For the hammer to fall, yeah Oh, ev\\'ry night and ev\\'ry day A little piece of you is falling away But lift your face, the Western Way Build your muscles As your body decays, yeah (Tow your line and play their game) Yeah, let the anesthetic cover it all (\\'Til one day they call your name) You know it\\'s time for the hammer to fall, yeah Rich or poor or famous For your truth is all the same Yeah baby (Oh no, oh no) Oh, lock your door but rain is pouring Through your window pane (Oh no) Baby, baby, now your struggle is all in vain For he who grew up tall and proud In the shadow of the mushroom cloud Convinced our voices can\\'t be heard We just wanna scream it louder And louder and louder (What the hell we fighting for?) Oh, just surrender and it won\\'t hurt at all (Just got time to say your prayers) Ehh, while you\\'re waiting For the hammer to, hammer to fall Hey, it\\'s… It\\'s gonna fall Hammer, you know Yeah, hammer to fall Woo! Yeah, yeah Woo, woo! Ha, yeah, waiting For the hammer to fall, now baby Yeah, yeah While you\\'re waiting For the hammer to fall, ooh Give it to me one more time! Yesterday, all my troubles seemed so far away Now it looks as though they\\'re here to stay Oh, I believe in yesterday Suddenly, I\\'m not half the man I used to be There\\'s a shadow hanging over me. Oh, yesterday came suddenly Why she had to go I don\\'t know she wouldn\\'t say I said something wrong, now I long for yesterday Yesterday, love was such an easy game to play Now I need a place to hide away Oh, I believe in yesterday Why she had to go I don\\'t know she wouldn\\'t say I said something wrong, now I long for yesterday Yesterday, love was such an easy game to play Now I need a place to hide away Oh, I believe in yesterday Mm mm mm mm mm mm mm When I find myself in times of trouble, Mother Mary comes to me Speaking words of wisdom, let it be And in my hour of darkness she is standing right in front of me Speaking words of wisdom, let it be Let it be, let it be, let it be, let it be Whisper words of wisdom, let it be And when the broken hearted people living in the world agree There will be an answer, let it be For though they may be parted, there is still a chance that they will see There will be an answer, let it be Let it be, let it be, let it be, let it be There will be an answer, let it be Let it be, let it be, let it be, let it be Whisper words of wisdom, let it be Let it be, let it be, let it be, let it be Whisper words of wisdom, let it be And when the night is cloudy there is still a light that shines on me Shine until tomorrow, let it be I wake up to the sound of music, Mother Mary comes to me Speaking words of wisdom, let it be Let it be, let it be, let it be, yeah, let it be There will be an answer, let it be Let it be, let it be, let it be, yeah, let it be Whisper words of wisdom, let it be Words are flowing out like Endless rain into a paper cup They slither wildly as they slip away across the universe. Pools of sorrow waves of joy Are drifting through my opened mind Possessing and caressing me. Jai Guru Deva. Om Nothing\\'s gonna change my world Nothing\\'s gonna change my world Nothing\\'s gonna change my world Nothing\\'s gonna change my world Images of broken light, which Dance before me like a million eyes, They call me on and on across the universe. Thoughts meander like a Restless wind inside a letter box They tumble blindly as they make their way across the universe. Jai Guru Deva. Om Nothing\\'s gonna change my world Nothing\\'s gonna change my world Nothing\\'s gonna change my world Nothing\\'s gonna change my world Sounds of laughter, shades of life Are ringing through my opened ears Inciting and inviting me. Limitless undying love, which Shines around me like a million suns, It calls me on and on across the universe Jai Guru Deva, om. Nothing\\'s gonna change my world Nothing\\'s gonna change my world Nothing\\'s gonna change my world Nothing\\'s gonna change my world Jai Guru Deva Jai Guru Deva Jai Guru Deva Jai Guru Deva Jai Guru Deva Hey Jude, don\\'t make it bad Take a sad song and make it better Remember to let her into your heart Then you can start to make it better Hey Jude, don\\'t be afraid You were made to go out and get her The minute you let her under your skin Then you begin to make it better And anytime you feel the pain, hey Jude, refrain Don\\'t carry the world upon your shoulders For well you know that it\\'s a fool who plays it cool By making his world a little colder Nah nah nah nah nah nah nah nah nah Hey Jude, don\\'t let me down You have found her, now go and get her Remember to let her into your heart Then you can start to make it better So let it out and let it in, hey Jude, begin You\\'re waiting for someone to perform with And don\\'t you know that it\\'s just you, hey Jude, you\\'ll do The movement you need is on your shoulder Nah nah nah nah nah nah nah nah nah yeah Hey Jude, don\\'t make it bad Take a sad song and make it better Remember to let her under your skin Then you\\'ll begin to make it Better better better better better better, oh Nah nah nah nah nah nah, nah nah nah, hey Jude Nah nah nah nah nah nah, nah nah nah, hey Jude Nah nah nah nah nah nah, nah nah nah, hey Jude Nah nah nah nah nah nah, nah nah nah, hey Jude Nah nah nah nah nah nah, nah nah nah, hey Jude Nah nah nah nah nah nah, nah nah nah, hey Jude Nah nah nah nah nah nah, nah nah nah, hey Jude Nah nah nah nah nah nah, nah nah nah, hey Jude Nah nah nah nah nah nah, nah nah nah, hey Jude Nah nah nah nah nah nah, nah nah nah, hey Jude Nah nah nah nah nah nah, nah nah nah, hey Jude Nah nah nah nah nah nah, nah nah nah, hey Jude Nah nah nah nah nah nah, nah nah nah, hey Jude Nah nah nah nah nah nah, nah nah nah, hey Jude Nah nah nah nah nah nah, nah nah nah, hey Jude Nah nah nah nah nah nah, nah nah nah, hey Jude There are places I\\'ll remember All my life, though some have changed Some forever, not for better Some have gone and some remain All these places have their moments With lovers and friends I still can recall Some are dead and some are living In my life, I\\'ve loved them all But of all these friends and lovers There is no one compares with you And these memories lose their meaning When I think of love as something new Though I know I\\'ll never lose affection For people and things that went before I know I\\'ll often stop and think about them In my life, I love you more Though I know I\\'ll never lose affection For people and things that went before I know I\\'ll often stop and think about them In my life, I love you more In my life-- I love you more Blackbird singing in the dead of night Take these broken wings and learn to fly All your life You were only waiting for this moment to arise Blackbird singing in the dead of night Take these sunken eyes and learn to see All your life You were only waiting for this moment to be free Blackbird fly, blackbird fly Into the light of the dark black night Blackbird fly, blackbird fly Into the light of the dark black night Blackbird singing in the dead of night Take these broken wings and learn to fly All your life You were only waiting for this moment to arise You were only waiting for this moment to arise You were only waiting for this moment to arise Here comes the sun (doo doo doo doo) Here comes the sun, and I say It\\'s all right Little darling, it\\'s been a long cold lonely winter Little darling, it feels like years since it\\'s been here Here comes the sun Here comes the sun, and I say It\\'s all right Little darling, the smiles returning to the faces Little darling, it seems like years since it\\'s been here Here comes the sun Here comes the sun, and I say It\\'s all right Sun, sun, sun, here it comes Sun, sun, sun, here it comes Sun, sun, sun, here it comes Sun, sun, sun, here it comes Sun, sun, sun, here it comes Little darling, I feel that ice is slowly melting Little darling, it seems like years since it\\'s been clear Here comes the sun Here comes the sun, and I say It\\'s all right Here comes the sun Here comes the sun, and I say It\\'s all right It\\'s all right Once there was a way, to get back homeward, Once there was a way, to get back home Sleep pretty darling do not cry, and I will sing a lullaby Golden slumbers fill your eyes, smiles awake you when you rise Sleep pretty darling do not cry, and I will sing a lullaby Once there was a way, to get back homeward, Once there was a way, to get back home Sleep pretty darling do not cry, and I will sing a lullaby Boy you\\'re gonna carry that weight, carry that weight for a long time Boy you\\'re gonna carry that weight, carry that weight for a long time I never give you my pillow, I only send you my invitations And in the middle of the celebrations, I break down Boy you\\'re gonna carry that weight, carry that weight for a long time Boy you\\'re gonna carry that weight, carry that weight for a long time Oh yeah, all right, are you gonna be in my dreams tonight? Love you, love you, love you, love you, love you, love you Love you, love you, love you, love you, love you, love you Love you, love you, love you, love you, love you, love you Love you, love you, love you, love you, love you, love you Love you, love you, love you, love you, love you, love you And in the end, the love you take, is equal to the love you make, Ah Love, love, love, love, love, love, love, love, love. There\\'s nothing you can do that can\\'t be done. Nothing you can sing that can\\'t be sung. Nothing you can say, but you can learn How to play the game It\\'s easy. Nothing you can make that can\\'t be made. No one you can save that can\\'t be saved. Nothing you can do, but you can learn How to be you in time It\\'s easy. All you need is love, all you need is love, All you need is love, love. Love is all you need. Love, love, love, love, love, love, love, love, love. All you need is love, all you need is love, All you need is love, love. Love is all you need. There\\'s nothing you can know that isn\\'t known. Nothing you can see that isn\\'t shown. There\\'s nowhere you can be that isn\\'t where You\\'re meant to be It\\'s easy. All you need is love, all you need is love, All you need is love, love. Love is all you need. All you need is love. (All together now). All you need is love. (Everybody). All you need is love, love. Love is all you need. Love is all you need. Love is all you need (Yesterday) (Oh yeah) (She love you, yeah, yeah, yeah) (She love you, yeah, yeah, yeah) (Oh, yesterday) There are places I remember all my life Though some have changed Some forever, not for better Some have gone and some remain All these places have their moments Of lovers and friends I still can recall Some are dead and some are living In my life I loved them all And with all these friends and lovers There is no one compares with you And these mem\\'ries lose their meaning When I think of love as something new And I know I\\'ll never lose affection For people and things that went before I know I\\'ll often stop and think about them In my life I loved you more And I know I\\'ll never lose affection For people and things that went before I know I\\'ll often stop and think about them In my life I loved you more In my life I loved you more Let me take you down \\'Cause I\\'m going to Strawberry Fields Nothing is real And nothing to get hung about Strawberry Fields forever Living is easy with eyes closed Misunderstanding all you see It\\'s getting hard to be someone But it all works out It doesn\\'t matter much to me Let me take you down \\'Cause I\\'m going to Strawberry Fields Nothing is real And nothing to get hung about Strawberry Fields forever No one I think is in my tree I mean it must be high or low That is you know you can\\'t tune it But it\\'s all right That is I think it\\'s not too bad Let me take you down \\'Cause I\\'m going to Strawberry Fields Nothing is real And nothing to get hung about Strawberry Fields forever Always know sometimes it\\'s me But you know I know when it\\'s a dream I think I know I mean a \"Yes\" But it\\'s all wrong That is I think I disagree Let me take you down \\'Cause I\\'m going to Strawberry Fields Nothing is real And nothing to get hung about Strawberry Fields forever Strawberry Fields forever Strawberry Fields forever Desmond has a barrow in the marketplace Molly is the singer in a band Desmond says to Molly girl I like your face And Molly says this as she takes him by the hand [Chorus] Ob la di ob la da life goes on bra La la how the life goes on Ob la di ob la da life goes on bra La la how the life goes on Desmond takes a trolley to the jeweler\\'s store Buys a twenty carat golden ring Takes it back to Molly waiting at the door And as he gives it to her she begins to sing [Chorus] In a couple of years they have built A home sweet home With a couple of kids running in the yard Of Desmond and Molly Jones Happy ever after in the market place Desmond lets the children lend a hand Molly stays at home and does her pretty face And in the evening she still sings it with the band [Chorus] In a couple of years they have built A home sweet home With a couple of kids running in the yard Of Desmond and Molly Jones Happy ever after in the market place Molly lets the children lend a hand Desmond stays at home and does his pretty face And in the evening he\\'s a singer with the band [Chorus] And if you want some fun sing ob la di bla da When I get older, losing my hair, many years from now Will you still be sending me a valentine, birthday greetings, bottle of wine? If I\\'d been out \\'til quarter to three, would you lock the door? Will you still need me, will you still feed me, when I\\'m sixty-four? You\\'ll be older too Ah And, if you say the word, I could stay with you I could be handy, mending a fuse, when your lights have gone You can knit a sweater by the fireside, Sunday mornings, go for a ride Doing the garden, digging the weeds, who could ask for more? Will you still need me, will you still feed me, when I\\'m sixty-four? Every summer we can rent a cottage In the Isle of Wight if it\\'s not too dear We shall scrimp and save Ah Grandchildren on your knee Vera, Chuck, and Dave Send me a postcard, drop me a line, stating point of view Indicate precisely what you mean to say, yours sincerely, wasting away Give me your answer, fill in a form, mine forever more Will you still need me, will you still feed me when I\\'m sixty-four? Oh yeah I tell you somethin\\' I think you\\'ll understand When I say that somethin\\' I want to hold your hand I want to hold your hand I want to hold your hand Oh please say to me You\\'ll let me be your man And please say to me You\\'ll let me hold your hand Now, let me hold your hand I want to hold your hand And when I touch you I feel happy inside It\\'s such a feelin\\' that my love I can\\'t hide I can\\'t hide I can\\'t hide Yeah, you got that somethin\\' I think you\\'ll understand When I say that somethin\\' I want to hold your hand I want to hold your hand I want to hold your hand And when I touch you I feel happy inside It\\'s such a feelin\\' that my love I can\\'t hide I can\\'t hide I can\\'t hide Yeah, you got that somethin\\' I think you\\'ll understand When I feel that somethin\\' I want to hold your hand I want to hold your hand I want to hold your hand I want to hold your hand Don\\'t let me down, don\\'t let me down Don\\'t let me down, don\\'t let me down Nobody ever loved me like she does Oh, she does, yeah, she does And if somebody loved me like she do me Oh, she do me, yes, she does Don\\'t let me down, don\\'t let me down Don\\'t let me down, don\\'t let me down I\\'m in love for the first time Don\\'t you know it\\'s gonna last It\\'s a love that lasts forever It\\'s a love that had no past Don\\'t let me down, don\\'t let me down Don\\'t let me down, don\\'t let me down And from the first time that she really done me Oh, she done me, she done me good I guess nobody ever really done me Oh, she done me, she done me good Don\\'t let me down, don\\'t let me down Don\\'t let me down Help, I need somebody Help, not just anybody Help, you know I need someone, help When I was younger, so much younger than today I never needed anybody\\'s help in any way But now these days are gone, I\\'m not so self assured Now I find I\\'ve changed my mind and opened up the doors Help me if you can, I\\'m feeling down And I do appreciate you being round Help me, get my feet back on the ground Won\\'t you please, please help me And now my life has changed in oh so many ways My independence seems to vanish in the haze But every now and then I feel so insecure I know that I just need you like I\\'ve never done before Help me if you can, I\\'m feeling down And I do appreciate you being round Help me, get my feet back on the ground Won\\'t you please, please help me When I was younger, so much younger than today I never needed anybody\\'s help in any way But now these days are gone, I\\'m not so self assured Now I find I\\'ve changed my mind and opened up the doors Help me if you can, I\\'m feeling down And I do appreciate you being round Help me, get my feet back on the ground Won\\'t you please, please help me, help me, help me, oh Something in the way she moves Attracts me like no other lover Something in the way she woos me I don\\'t want to leave her now You know I believe and how Somewhere in her smile she knows That I don\\'t need no other lover Something in her style that shows me I don\\'t want to leave her now You know I believe and how You\\'re asking me will my love grow I don\\'t know, I don\\'t know You stick around and it may show I don\\'t know, I don\\'t know Something in the way she knows And all I have to do is think of her Something in the things she shows me I don\\'t want to leave her now You know I believe and how Here come old flat top He come groovin\\' up slowly He got joo joo eyeballs He one holy roller He got hair down to his knee Got to be a joker He just do what he please He wear no shoeshine He got toe jam football He got monkey finger He shoot Coca-Cola He say I know you, you know me One thing I can tell you is You got to be free Come together, right now Over me He bad production He got walrus gumboot He got Ono sideboard He one spinal cracker He got feet down below his knee Hold you in his armchair You can feel his disease Come together, right now Over me He roller coaster He got early warning He got muddy water He one Mojo filter He say one and one and one is three Got to be good looking \\'Cause he\\'s so hard to see Come together right now Over me Come together, yeah Come together, yeah Come together, yeah Come together, yeah Come together, yeah Come together, yeah Come together, yeah Come together, yeah Come together, yeah There were bells on a hill But I never heard them ringing No, I never heard them at all Till there was you There were birds in the sky But I never saw them winging No, I never saw them at all Till there was you Then there was music and wonderful roses They tell me in sweet fragrant meadows Of dawn and dew There was love all around But I never heard it singing No I never heard it at all Till there was you Then there was music and wonderful roses They tell me in sweet fragrant meadows Of dawn and dew There was love all around But I never heard it singing No, I never heard it at all Till there was you Till there was you You say you want a revolution Well, you know We all want to change the world You tell me that it\\'s evolution Well, you know We all want to change the world But when you talk about destruction Don\\'t you know that you can count me out Don\\'t you know it\\'s gonna be All right, all right, all right You say you got a real solution Well, you know We\\'d all love to see the plan You ask me for a contribution Well, you know We\\'re doing what we can But if you want money for people with minds that hate All I can tell is brother you have to wait Don\\'t you know it\\'s gonna be All right, all right, all right You say you\\'ll change the constitution Well, you know We all want to change your head You tell me it\\'s the institution Well, you know You better free you mind instead But if you go carrying pictures of chairman Mao You ain\\'t going to make it with anyone anyhow Don\\'t you know it\\'s gonna be All right, all right, all right All right, all right, all right All right, all right, all right All right, all right In the town where I was born Lived a man who sailed to sea And he told us of his life In the land of submarines So we sailed up to the sun Till we found a sea of green And we lived beneath the waves In our yellow submarine We all live in a yellow submarine Yellow submarine, yellow submarine We all live in a yellow submarine Yellow submarine, yellow submarine And our friends are all aboard Many more of them live next door And the band begins to play We all live in a yellow submarine Yellow submarine, yellow submarine We all live in a yellow submarine Yellow submarine, yellow submarine (Full speed ahead Mr. Boatswain, full speed ahead Full speed ahead it is, Sergeant. Cut the cable, drop the cable Aye, Sir, aye Captain, captain) As we live a life of ease Every one of us has all we need Sky of blue and sea of green In our yellow submarine We all live in a yellow submarine Yellow submarine, yellow submarine We all live in a yellow submarine Yellow submarine, yellow submarine We all live in a yellow submarine Yellow submarine, yellow submarine Who knows how long I\\'ve loved you You know I love you still Will I wait a lonely lifetime? If you want me to, I will And if I ever saw you I didn\\'t catch your name But it never really mattered I will always feel the same Love you forever and forever Love you with all my heart Love you whenever we\\'re together Love you when we\\'re apart And when at last I find you Your song will fill the air Sing it loud so I can hear you Make it easy to be near you For the things you do endear you to me Oh, you know I will Love you forever and forever Love you with all my heart Love you whenever we\\'re together Love you when we\\'re apart And when at last I found you Your song will fill the air Sing it loud so I can hear you Make it easy to be near you All the things you do endear you to me Oh, you know I will Oh, you know I will Oh, you know I will Oh, you know I will What would you think if I sang out of tune Would you stand up and walk out on me Lend me your ears and I\\'ll sing you a song And I\\'ll try not to sing out of key Oh, I get by with a little help from my friends Hmm, I get high with a little help from my friends Hmm, going to try with a little help from my friends What do I do when my love is away Does it worry you to be alone? How do I feel by the end of the day Are you sad because you\\'re on your own? No, I get by with a little help from my friends Hmm, I get high with a little help from my friends Hmm, going to try with a little help from my friends Do you need anybody? I need somebody to love Could it be anybody? I want somebody to love Would you believe in a love at first sight? Yes, I\\'m certain that it happens all the time What do you see when you turn out the light? I can\\'t tell you, but I know it\\'s mine Oh, I get by with a little help from my friends Hmm, I get high with a little help from my friends Hmm, going to try with a little help from my friends Do you need anybody? I just need someone to love Could it be anybody? I want somebody to love Oh, I get by with a little help from my friends Hmm, going to try with a little help from my friends Oh, I get high with a little help from my friends Yes, I get by with a little help from my friends With a little help from my friends I am he as you are he as you are me And we are all together See how they run like pigs from a gun See how they fly I\\'m crying Sitting on a cornflake Waiting for the van to come Corporation T-shirt, stupid bloody Tuesday Man you\\'ve been a naughty boy You let your face grow long I am the eggman They are the eggmen I am the walrus Goo goo g\\' joob Mr. City policeman sitting Pretty little policemen in a row See how they fly like Lucy in the sky See how they run I\\'m crying I\\'m crying, I\\'m crying, I\\'m crying Yellow matter custard Dripping from a dead dog\\'s eye Crabalocker fishwife Pornographic priestess Boy, you\\'ve been a naughty girl You let your knickers down I am the eggman They are the eggmen I am the walrus Goo goo g\\' joob Sitting in an English garden Waiting for the sun If the sun don\\'t come you get a tan From standing in the English rain I am the eggman (\"How do you do sir\") They are the eggmen (\"The man maintains a fortune\") I am the walrus Goo goo g\\' joob Goo Goo Goo g\\' joob Expert, texpert choking smokers Don\\'t you think the joker laughs at you (Ho ho ho hee hee hee hah hah hah) See how they smile like pigs in a sty See how they snide I\\'m crying Semolina Pilchard Climbing up the Eiffel tower Elementary penguin singing Hare Krishna Man, you should have seen them kicking Edgar Allen Poe I am the eggman They are the eggmen I am the walrus Goo goo g\\' joob Goo goo goo g\\' joob Goo goo g\\' joob Goo goo goo g\\' joob Goo goo Juba juba juba Juba juba juba Juba juba juba Juba juba (Oh I\\'m tired, servicible villain Set you down father, rest you) I look at you all see the love there that\\'s sleeping While my guitar gently weeps I look at the floor and I see it needs sweeping Still my guitar gently weeps. I don\\'t know why nobody told you How to unfold your love I don\\'t know how someone controlled you They bought and sold you. I look at the world and I notice it\\'s turning While my guitar gently weeps With every mistake we must surely be learning Still my guitar gently weeps. I don\\'t know how you were diverted You were perverted too I don\\'t know how you were inverted No one alerted you. I look at you all see the love there that\\'s sleeping While my guitar gently weeps Look at you all Still my guitar gently weeps. Oh yeah, all right Are you gonna be in my dreams tonight? Love you, love you Love you, love you Love you, love you Love you, love you Love you, love you Love you, love you Love you, love you Love you, love you Love you, love you Love you, love you Love you, love you Love you, love you And in the end, the love you take Is equal to the love you make I read the news today, oh boy About a lucky man who made the grade And though the news was rather sad Well I just had to laugh I saw the photograph He blew his mind out in a car He didn\\'t notice that the lights had changed A crowd of people stood and stared They\\'d seen his face before Nobody was really sure If he was from the House of Lords I saw a film today, oh boy The English Army had just won the war A crowd of people turned away But I just had to look Having read the book I\\'d love to turn you on Woke up, fell out of bed Dragged a comb across my head Found my way downstairs and drank a cup And looking up I noticed I was late Found my coat and grabbed my hat Made the bus in seconds flat Found my way upstairs and had a smoke Somebody spoke and I went into a dream I read the news today, oh boy Four thousand holes in Blackburn, Lancashire And though the holes were rather small They had to count them all Now they know how many holes it takes to fill the Albert Hall I\\'d love to turn you on Michelle, ma belle These are words that go together well My Michelle Michelle, ma belle Sont les mots qui vont tres bien ensemble Tres bien ensemble I love you, I love you, I love you That\\'s all I want to say Until I find a way I will say the only words I know that you\\'ll understand Michelle, ma belle Sont les mots qui vont tres bien ensemble Tres bien ensemble I need to, I need to, I need to I need to make you see Oh, what you mean to me Until I do, I\\'m hoping you will know what I mean I love you... I want you, I want you, I want you I think you know by now I\\'ll get to you somehow Until I do, I\\'m telling you so you\\'ll understand Michelle, ma belle Sont les mots qui vont tres bien ensemble Tres bien ensemble And I will say the only words I know that you\\'ll understand My Michelle Penny Lane there is a barber showing photographs Of every head he\\'s had the pleasure to know. And all the people that come and go Stop and say \"Hello\". On the corner is a banker with a motorcar, And little children laugh at him behind his back. And the banker never wears a mac In the pouring rain, very strange. Penny Lane is in my ears and in my eyes. There beneath the blue suburban skies I sit, and meanwhile back In Penny Lane there is a fireman with an hourglass, And in his pocket is a portrait of the Queen. He likes to keep his fire engine clean, It\\'s a clean machine. Penny Lane is in my ears and in my eyes. A four of fish and finger pies In summer. Meanwhile back Behind the shelter in the middle of the roundabout The pretty nurse is selling poppies from a tray. And though she feels as if she\\'s in a play, She is anyway. In Penny Lane the barber shaves another customer, We see the banker sitting waiting for a trim, And then the fireman rushes in From the pouring rain - very strange. Penny Lane is in my ears and in my eyes. There beneath the blue suburban skies I sit, and meanwhile back. Penny Lane is in my ears and in my eyes. There beneath the blue suburban skies Penny Lane! Jojo was a man who thought he was a loner But he knew it wouldn\\'t last Jojo left his home in Tucson, Arizona For some California grass Get back, get back Get back to where you once belonged Get back, get back Get back to where you once belonged Get back Jojo, go home Get back, get back Back to where you once belonged Get back, get back Back to where you once belonged Get back Jo Sweet Loretta Martin thought she was a woman But she was another man All the girls around her say she\\'s got it coming But she gets it while she can Get back, get back Get back to where you once belonged Get back, get back Get back to where you once belonged Get back Loretta, go home Get back, get back Get back to where you once belonged Get back, get back Get back to where you once belonged Get back, get back Get back to where you once belonged Get back, get back, get back Once there was a way, To get back homeward. Once there was a way To get back home. Sleep, pretty darling, Dot not cry And I will sing a lullaby. Golden slumbers, Fill your eyes Smiles await you when you rise Sleep pretty darling Do not cry And I will sing a lullaby. Once there was a way To get back homeward Once there was a way To get back home Sleep, pretty darling Do not cry And I will sing a lullaby. You say it\\'s your birthday It\\'s my birthday too--yeah They say it\\'s your birthday We\\'re gonna have a good time I\\'m glad it\\'s your birthday Happy birthday to you. Yes we\\'re going to a party party Yes we\\'re going to a party party Yes we\\'re going to a party party. I would like you to dance--Birthday Take a cha-cha-cha-chance-Birthday I would like you to dance--Birthday Dance You say it\\'s your birthday Well it\\'s my birthday too--yeah You say it\\'s your birthday We\\'re gonna have a good time I\\'m glad it\\'s your birthday Happy birthday to you. Because the world is round it turns me on Because the world is round...aaaaaahhhhhh Because the wind is high it blows my mind Because the wind is high...aaaaaaaahhhh Love is old, love is new Love is all, love is you Because the sky is blue, it makes me cry Because the sky is blue...aaaaaaahhhh Aaaaahhhhhhhhhh... Picture yourself in a boat on a river With tangerine trees and marmalade skies Somebody calls you, you answer quite slowly A girl with kaleidoscope eyes Cellophane flowers of yellow and green Towering over your head Look for the girl with the sun in her eyes And she\\'s gone Lucy in the sky with diamonds Lucy in the sky with diamonds Lucy in the sky with diamonds Ah Follow her down to a bridge by a fountain Where rocking horse people eat marshmallow pies Everyone smiles as you drift past the flowers That grow so incredibly high Newspaper taxis appear on the shore Waiting to take you away Climb in the back with your head in the clouds And you\\'re gone Lucy in the sky with diamonds Lucy in the sky with diamonds Lucy in the sky with diamonds Ah Picture yourself on a train in a station With plasticine porters with looking glass ties Suddenly someone is there at the turnstile The girl with the kaleidoscope eyes Lucy in the sky with diamonds Lucy in the sky with diamonds Lucy in the sky with diamonds Ah Lucy in the sky with diamonds Lucy in the sky with diamonds Lucy in the sky with diamonds Ah Lucy in the sky with diamonds Lucy in the sky with diamonds Lucy in the sky with diamonds A bad little kid moved into my neighborhood He won\\'t do nothing right just sitting down and look so good He don\\'t want to go to school and learn to read and write Just sits around the house and plays the rock and roll music all night Well, he put some tacks on teachers chair Puts chewing gum in little girl\\'s hair Man, junior, behave yourself Buy every rock and roll book on the magazine stand Every dime that he get is lost to the jukebox man Well, he worries his teacher till at night she\\'s ready to poop From rocking and a-rolling spinning in a hula hoop Well, this rock and roll has got to stop Junior\\'s head is hard as rock Now junior, behave yourself Going tell your mama you better do what she said Get to the barber shop and get that hair cut off your head He took your canary and he fed it to the neighbors cat He gave the cocker spaniel a bath in mother\\'s laundromat Well, mama\\'s head has got to stop Junior\\'s head is hard as rock Now junior, behave yourself I give her all my love That\\'s all I do And if you saw my love You\\'d love her to I love her She gives my everything And tenderly The kiss my lover brings She brings to me And I love her A love like ours Could never die As long as I Have you near me Bright are the stars that shine Dark is the sky I know this love of mine Will never die And I love her Bright are the stars that shine Dark is the sky I know this love of mine Will never die And I love her, ooh You say \"Yes\", I say \"No\". You say \"Stop\" and I say \"Go, go, go\". Oh no. You say \"Goodbye\" and I say \"Hello, hello, hello\". I don\\'t know why you say \"Goodbye\", I say \"Hello, hello, hello\". I don\\'t know why you say goodbye, I say hello. I say \"High\", you say \"Low\". You say \"Why?\" And I say \"I don\\'t know\". Oh no. You say \"Goodbye\" and I say \"Hello, hello, hello\". I don\\'t know why you say \"Goodbye\", I say \"Hello, hello, hello\". (Hello, goodbye, hello, goodbye. Hello, goodbye.) I don\\'t know why you say \"Goodbye\", I say \"Hello\". (Hello, goodbye, hello, goodbye. Hello, goodbye. Hello, goodbye.) Why, why, why, why, why, why, do you Say \"Goodbye, goodbye, bye, bye\". Oh no. You say \"Goodbye\" and I say \"Hello, hello, hello\". I don\\'t know why you say \"Goodbye\", I say \"Hello, hello, hello\". I don\\'t know why you say \"Goodbye\", I say \"Hello\". You say \"Yes\", I say \"No\". (I say \"Yes\", but I may mean \"No\"). You say \"Stop\", I say \"Go, go, go\". (I can stay still it\\'s time to go). Oh, oh no. You say \"Goodbye\" and I say \"Hello, hello, hello\". I don\\'t know why you say \"Goodbye\", I say \"Hello, hello, hello\". I don\\'t know why you say \"Goodbye\", I say \"Hello, hello, hello\". I don\\'t know why you say \"Goodbye\", I say \"Hello-wow, oh. Hello\". Hela, heba, helloa. Hela, heba, helloa. Hela, heba, helloa. Hela, heba, helloa. (Hela.) Hela, heba, helloa. Hela, heba, helloa. Hela, heba, helloa. Hela, heba, helloa. Hela, heba, helloa. I once had a girl Or should I say she once had me She showed me her room Isn\\'t it good Norwegian wood? She asked me to stay And she told me to sit anywhere So I looked around And I noticed there wasn\\'t a chair I sat on a rug biding my time Drinking her wine We talked until two and then she said It\\'s time for bed She told me she worked In the morning and started to laugh I told her I didn\\'t And crawled off to sleep in the bath And when I awoke I was alone This bird had flown So I lit a fire Isn\\'t it good Norwegian wood? Well, shake it up baby now Twist and shout Come on, come on, come, come on baby now Come on and work it on out Well, work it on out, honey You know you look so good You know you got me goin\\' now Just like I know you would Well, shake it up baby now Twist and shout Come on, come on, come, come on baby now Come on and work it on out You know you twist, little girl You know you twist so fine Come on and twist a little closer now And let me know that you\\'re mine, woo Ah, ah, ah, ah, wow Baby now Twist and shout Come on, come on, come, come on baby now Come on and work it on out You know you twist, little girl You know you twist so fine Come on and twist a little closer now And let me know that you\\'re mine Well, shake it, shake it, shake it, baby now Well, shake it, shake it, shake it, baby now Well, shake it, shake it, shake it, baby now Ah, ah, ah, ah She loves you, yeah, yeah, yeah She loves you, yeah, yeah, yeah She loves you, yeah, yeah, yeah You think you\\'ve lost your love Well, I saw her yesterday-yi-yay It\\'s you she\\'s thinking of And she told me what to say-yi-yay She says she loves you and you know that can\\'t be bad Yes, she loves you and you know you should be glad She said you hurt her so She almost lost her mind And now she says she knows You\\'re not the hurting kind She says she loves you and you know that can\\'t be bad Yes, she loves you and you know you should be glad Oo, she loves you, yeah, yeah, yeah She loves you, yeah, yeah, yeah With a love like that You know you should be glad You know it\\'s up to you I think it\\'s only fair Pride can hurt you too Apologize to her Because she loves you and you know that can\\'t be bad Yes, she loves you and you know you should be glad Oo, she loves you, yeah, yeah, yeah She loves you, yeah, yeah, yeah With a love like that You know you should be glad With a love like that you know you should be glad With a love like that you know you should be glad Yeah, yeah, yeah, Yeah, yeah, yeah, yeah Ah look at all the lonely people Ah look at all the lonely people Eleanor Rigby, picks up the rice In the church where a wedding has been Lives in a dream Waits at the window, wearing the face That she keeps in a jar by the door Who is it for All the lonely people Where do they all come from? All the lonely people Where do they all belong? Father McKenzie, writing the words Of a sermon that no one will hear No one comes near Look at him working, darning his socks In the night when there\\'s nobody there What does he care All the lonely people Where do they all come from? All the lonely people Where do they all belong? Ah look at all the lonely people Ah look at all the lonely people Eleanor Rigby, died in the church And was buried along with her name Nobody came Father McKenzie, wiping the dirt From his hands as he walks from the grave No one was saved All the lonely people Where do they all come from? All the lonely people Where do they all belong? Well she was just seventeen You know what I mean And the way she looked Was way beyond compare So how could I dance with another, Oh, when I saw her standing there Well she looked at me And I, I could see That before too long I\\'d fall in love with her She wouldn\\'t dance with another Oh, when I saw her standing there Well my heart went boom When I crossed that room And I held her hand in mine Oh we danced through the night And we held each other tight And before too long I fell in love with her Now I\\'ll never dance with another Oh, when I saw her standing there Well my heart went boom When I crossed that room And I held her hand in mine Oh we danced through the night And we held each other tight And before too long I fell in love with her Now I\\'ll never dance with another Oh, when I saw her standing there Oh, since I saw her standing there Yeah, well since I saw her standing there Close your eyes and I\\'ll kiss you Tomorrow I\\'ll miss you Remember I\\'ll always be true And then while I\\'m away I\\'ll write home every day And I\\'ll send all my loving to you I\\'ll pretend that I\\'m kissing The lips I am missing And hope that my dreams will come true And then while I\\'m away I\\'ll write home every day And I\\'ll send all my loving to you All my loving, I will send to you All my loving, darling I\\'ll be true Close your eyes and I\\'ll kiss you Tomorrow I\\'ll miss you Remember I\\'ll always be true And then while I\\'m away I\\'ll write home every day And I\\'ll send all my loving to you All my loving, I will send to you All my loving, darling I\\'ll be true All my loving, all my loving Woo, all my loving, I will send to you It\\'s been a hard day\\'s night, and I been working like a dog It\\'s been a hard day\\'s night, I should be sleeping like a log But when I get home to you I\\'ll find the things that you do Will make me feel alright You know I work all day to get you money to buy you things And it\\'s worth it just to hear you say you\\'re going to give me everything So why on earth should I moan, \\'cause when I get you alone You know I feel ok When I\\'m home everything seems to be right When I\\'m home feeling you holding me tight, tight Owww! So why on earth should I moan, \\'cause when I get you alone You know I feel ok When I\\'m home everything seems to be right When I\\'m home feeling you holding me tight, tight, yeah It\\'s been a hard day\\'s night, and I been working like a dog It\\'s been a hard day\\'s night, I should be sleeping like a log But when I get home to you I\\'ll find the things that you do Will make me feel alright You know I feel alright You know I feel alright... Love, love me do You know I love you I\\'ll always be true So please, love me do Whoa, love me do Love, love me do You know I love you I\\'ll always be true So please, love me do Whoa, love me do Someone to love Somebody new Someone to love Someone like you Love, love me do You know I love you I\\'ll always be true So please, love me do Whoa, love me do Love, love me do You know I love you I\\'ll always be true So please, love me do Whoa, love me do Yeah, love me do Whoa, oh, love me do Good day sunshine, Good day sunshine, Good day sunshine. I need to laugh, and when the sun is out I\\'ve got something I can laugh about, I feel good, in a special way. I\\'m in love and it\\'s a sunny day. Good day sunshine, Good day sunshine, Good day sunshine. We take a walk, the sun is shining down, Burns my feet as they touch the ground. Good day sunshine, Good day sunshine, Good day sunshine. And then we lie, beneath a shady tree, I love her and she\\'s loving me. She feels good, she knows she\\'s looking fine. I\\'m so proud to know that she is mine. Good day sunshine, Good day sunshine, Good day sunshine. Good day sunshine, Good day sunshine, Good day sunshine, Good day sunshine. Can\\'t buy me love, love Can\\'t buy me love I\\'ll buy you a diamond ring my friend if it makes you feel alright I\\'ll get you anything my friend if it makes you feel alright Cos I don\\'t care too much for money, and money can\\'t buy me love I\\'ll give you all I got to give if you say you\\'ll love me too I may not have a lot to give but what I got I\\'ll give to you I don\\'t care too much for money, money can\\'t buy me love Can\\'t buy me love, everybody tells me so Can\\'t buy me love, no no no, no Say you don\\'t need no diamond ring and I\\'ll be satisfied Tell me that you want the kind of thing that money just can\\'t buy I don\\'t care too much for money, money can\\'t buy me love Owww Can\\'t buy me love, everybody tells me so Can\\'t buy me love, no no no, no Say you don\\'t need no diamond ring and I\\'ll be satisfied Tell me that you want the kind of thing that money just can\\'t buy I don\\'t care too much for money, money can\\'t buy me love Can\\'t buy me love, love Can\\'t buy me love When I get older losing my hair, Many years from now. Will you still be sending me a Valentine. Birthday greetings bottle of wine. If I\\'d been out till quarter to three. Would you lock the door. Will you still need me, will you still feed me, When I\\'m sixty-four. You\\'ll be older too, And if I say the word, I could stay with you. I could be handy, mending a fuse When your lights have gone. You can knit a sweater by the fireside Sunday morning go for a ride, Doing the garden, digging the weeds, Who could ask for more. Will you still need me, will you still feed me When I\\'m sixty-four. Every summer we can rent a cottage, In the Isle of Wight, if it\\'s not too dear We shall scrimp and save Grandchildren on your knee Vera Chuck&Dave; Send me a postcard, drop me a line, Stating point of view Indicate precisely what you mean to say Your\\'s sincerely wasting away Give me your answer, fill in a form Mine for evermore Will you still need me, will you still feed me When I\\'m sixty-four It was twenty years ago today, Sgt. Pepper taught the band to play, They\\'ve been going in and out of style But they\\'re guaranteed to raise a smile. So may I introduce to you The act you\\'ve known for all these years Sgt. Pepper\\'s Lonely Hearts Club Band. We\\'re Sgt. Pepper\\'s Lonely Hearts Club Band We hope you will enjoy the show, We\\'re Sgt. Pepper\\'s Lonely Hearts Club Band Sit back and let the evening go. Sgt. Pepper\\'s lonely, Sgt. Pepper\\'s lonely, Sgt. Pepper\\'s Lonely Hearts Club Band It\\'s wonderful to be here It\\'s certainly a thrill You\\'re such a lovely audience We\\'d like to take you home with us We\\'d love to take you home I don\\'t really like to stop the show But I thought that you might like to know That the singer\\'s going to sing a song And he wants you all to sing along So let me introduce to you The one and only Billy Shears And Sgt. Pepper\\'s Lonely Hearts Club Band. To lead a better life I need my love to be here Here, making each day of the year Changing my life with a wave of her hand Nobody can deny that there\\'s something there There, running my hands through her hair Both of us thinking how good it can be Someone is speaking, but she doesn\\'t know he\\'s there I want her everywhere And if she\\'s beside me I know I need never care But to love her is to need her everywhere Knowing that love is to share Each one believing that love never dies Watching their eyes and hoping I\\'m always there I want her everywhere And if she\\'s beside me I know I need never care But to love her is to need her everywhere Knowing that love is to share Each one believing that love never dies Watching their eyes and hoping I\\'m always there I will be there And everywhere Here, there and everywhere I\\'ve just seen a face, I can\\'t forget the time or place Where we just met. She\\'s just the girl for me And I want all the world to see We\\'ve met, mm-mm-mm-m\\'mm-mm Had it been another day I might have looked the other way And I\\'d have never been aware. But as it is I\\'ll dream of her Tonight, di-di-di-di\\'n\\'di. Falling, yes I am falling, And she keeps calling Me back again. I have never known The like of this, I\\'ve been alone And I have missed things And kept out of sight But other girls were never quite Like this, di-di-di-di\\'n\\'di. Falling, yes I am falling, And she keeps calling Me back again. Yeah! Bup-a-lup-bup! Falling, yes I am falling, And she keeps calling Me back again. I\\'ve just seen a face, I can\\'t forget the time or place Where we just met. She\\'s just the girl for me And I want all the world to see We\\'ve met, mm-mm-mm-di-di-di. Falling, yes I am falling, And she keeps calling Me back again. Falling, yes I am falling, And she keeps calling Me back again. Oh, falling, yes I am falling, And she keeps calling Me back again. Imagine there\\'s no heaven It\\'s easy if you try No hell below us Above us only sky Imagine all the people Living for today... Imagine there\\'s no countries It isn\\'t hard to do Nothing to kill or die for And no religion, too Imagine all the people Living life in peace You, you may say I\\'m a dreamer But I\\'m not the only one I hope someday you will join us And the world will be as one Imagine no possessions I wonder if you can No need for greed or hunger A brotherhood of man Imagine all the people Sharing all the world You, you may say I\\'m a dreamer But I\\'m not the only one I hope someday you will join us And the world will live as one The long and winding road That leads to your door Will never disappear I\\'ve seen that road before It always leads me here Lead me to you door The wild and windy night That the rain washed away Has left a pool of tears Crying for the day Why leave me standing here Let me know the way Many times I\\'ve been alone And many times I\\'ve cried Any way you\\'ll never know The many ways I\\'ve tried But still they lead me back To the long winding road You left me waiting here A long long time ago Don\\'t leave me standing here Lead me to your door But still they lead me back To the long winding road You left me waiting here A long long time ago Don\\'t leave me standing here Lead me to your door Oh, I need your love, babe Guess you know it\\'s true Hope you need my love babe Just like I need you Hold me, love me, hold me, love me I ain\\'t got nothing but love, babe Eight days a week Love you every day, girl Always on my mind One thing I can say, girl Love you all the time Hold me, love me, hold me, love me I ain\\'t got nothing but love, girl Eight days a week Eight days a week I love you Eight days a week Is not enough to show I care Ooh I need your love, babe Guess you know it\\'s true Hope you need my love babe Just like I need you Hold me, love me, hold me, love me I ain\\'t got nothing but love, babe Eight days a week Eight days a week I love you Eight days a week is not enough to show I care Love you every day, girl Always on my mind One thing I can say girl Love you all the time Hold me, love me, hold me, love me I ain\\'t got nothing but love, babe Eight days a week Eight days a week Eight days a week Is there anybody going to listen to my story All about the girl who came to stay? She\\'s the kind of girl You want so much it make you sorry Still you don\\'t regret a single day Ah, girl, girl, girl When I think of all the times I tried so hard to leave her She will turn to me and start to cry And she promises the earth to me And I believe her After all this time I don\\'t know why Ah, girl, girl, girl She\\'s the kind of girl who puts you down When friends are there You feel a fool When you say she\\'s looking good She acts as if it\\'s understood She\\'s cool, ooh, oo, oo, oo Girl, girl, girl Was she told when she was young That pain would lead to pleasure Did she understand it when they said That a man must break his back To earn his day of leisure? Will she still believe it when he\\'s dead Ah, girl, girl, girl Girl I\\'d like to be under the sea In an octopus\\' garden in the shade He\\'d let us in, knows where we\\'ve been In his octopus\\' garden in the shade I\\'d ask my friends to come and see An octopus\\' garden with me I\\'d like to be under the sea In an octopus\\' garden in the shade. We would be warm below the storm In our little hideaway beneath the waves Resting our head on the sea bed In an octopus\\' garden near a cave We would sing and dance around Because we know we can\\'t be found I\\'d like to be under the sea In an octopus\\' garden in the shade We would shout and swim about The coral that lies beneath the waves (Lies beneath the ocean waves) Oh what joy for every girl and boy Knowing they\\'re happy and they\\'re safe (Happy and they\\'re safe) We would be so happy you and me No one there to tell us what to do I\\'d like to be under the sea In an octopus\\' garden with you. One two three four Can I have a little more Five six seven eight nine ten I love you A B C D Can I bring my friend to tea E F G H I J I love you Bom bom bom bompa bom Sail the ship Bompa bom Chop the tree bompa bom Skip the rope bompa bom Look at me All together now All together now All together now All together now All together now All together now All together now All together now Black white green red Can I take my friend to bed Pink brown yellow orange and blue I love you All together now All together now All together now All together now All together now All together now All together now All together now All together now All together now All together now All together now All together now All together now All together now All together now Bom bom bom bompa bom Sail the ship Bompa bom Chop the tree bompa bom Skip the rope bompa bom Look at me All together now All together now All together now All together now All together now All together now All together now All together now All together now All together now All together now All together now All together now All together now All together now All together now I dig a pony Well, you can celebrate anything you want Yes, you can celebrate anything you want Oh I do a road hog Well, you can penetrate any place you go Yes, you can penetrate any place you go I told you so All I want is you Everything has got to be just like you want it to Because I pick a moon dog Well, you can radiate everything you are Yes, you can radiate everything you are Oh now I roll a stoney Well, you can imitate everyone you know Yes, you can imitate everyone you know I told you so All I want is you Everything has got to be just like you want it to Because (woo) Oh now I feel the wind blow Well, you can indicate everything you see Yes, you can indicate everything you see Oh now I load a lorry Well, you can syndicate any boat you row Yeah, you can syndicate any boat you row I told you so All I want is you Everything has got to be just like you want it to Because Oh! Darling, please believe me I\\'ll never do you no harm Believe me when I tell you I\\'ll never do you no harm Oh! Darling, if you leave me I\\'ll never make it alone Believe me when I beg you Don\\'t ever leave me alone When you told me you didn\\'t need me anymore Well you know I nearly broke down and cried When you told me you didn\\'t need me anymore Well you know I nearly broke down and died Oh! Darling, if you leave me I\\'ll never make it alone Believe me when I tell you I\\'ll never do you no harm When you told me you didn\\'t need me anymore Well you know I nearly broke down and cried When you told me you didn\\'t need me anymore Well you know I nearly broke down and died Oh! Darling, please believe me I\\'ll never let you down Believe me when I tell you I\\'ll never do you no harm If I fell in love with you Would you promise to be true And help me understand \\'Cause I\\'ve been in love before And I found that love was more Than just holding hands If I give my heart to you I must be sure From the very start That you would love me more than her If I trust in you oh please Don\\'t run and hide If I love you too oh please Don\\'t hurt my pride like her \\'Cause I couldn\\'t stand the pain And I would be sad if our new love was in vain So I hope you see that I Would love to love you And that she will cry When she learns we are two If I fell in love with you I\\'m so tired, I haven\\'t slept a wink I\\'m so tired, my mind is on the blink I wonder should I get up and fix myself a drink No, no, no I\\'m so tired, I don\\'t know what to do I\\'m so tired, my mind is set on you I wonder should I call you but I know what you would do You\\'d say I\\'m putting you on But it\\'s no joke, it\\'s doing me harm You know I can\\'t sleep, I can\\'t stop my brain You know it\\'s three weeks, I\\'m going insane You know I\\'d give you everything I\\'ve got For a little peace of mind I\\'m so tired, I\\'m feeling so upset Although I\\'m so tired, I\\'ll have another cigarette And curse Sir Walter Raleigh He was such a stupid get You\\'d say I\\'m putting you on But it\\'s no joke, it\\'s doing me harm You know I can\\'t sleep, I can\\'t stop my brain You know it\\'s three weeks, I\\'m going insane You know I\\'d give you everything I\\'ve got For a little peace of mind I\\'d give you everything I\\'ve got For a little peace of mind I\\'d give you everything I\\'ve got For a little peace of mind Sheepdog, standing in the rain Bullfrog, doing it again Some kind of happiness is Measured out in miles What makes you think you\\'re Something special when you smile Childlike no one understands Jackknife in your sweaty hands Some kind of innocence is Measured out in years You don\\'t know what it\\'s like To listen to your fears You can talk to me You can talk to me You can talk to me If you\\'re lonely, you can talk to me Big man (yeah) walking in the park Wigwam frightened of the dark Some kind of solitude is Measured out in you You think you know me, but you haven\\'t got a clue You can talk to me You can talk to me You can talk to me If you\\'re lonely, you can talk to me Hey hey Roar Hey, bulldog (hey bulldog) Woof Hey, bulldog Hey, bulldog Hey, bulldog Hey man Whats up brother? Roof What do ya say I say, roof You know any more? Ah ah (you got it, that\\'s it, you had it) That\\'s it man, wo ho, that\\'s it, you got it Woah Look at me man, I only had ten children Ah ah ah ah ah ah ha ha ha ha Quiet, quiet (ok) Quiet Hey, bulldog, hey bulldog Flew in from Miami Beach BOAC Didn\\'t get to bed last night On the way the paper bag was on my knee Man, I had a dreadful flight I\\'m back in the USSR You don\\'t know how lucky you are, boy Back in the USSR, yeah Been away so long I early knew the place Gee, it\\'s good to be back home Leave it till tomorrow to unpack my case Honey disconnect the phone I\\'m back in the USSR You don\\'t know how lucky you are, boy Back in the US Back in the US Back in the USSR Well the Ukraine girls really knock me out They leave the west behind And Moscow girls make me sing and shout That Georgia\\'s always on my my my my my my my my my mind Oh, come on Hu hey hu, hey, ah, yeah Yeah, yeah, yeah I\\'m back in the USSR You don\\'t know how lucky you are, boys Back in the USSR Well the Ukraine girls really knock me out They leave the west behind And Moscow girls make me sing and shout That Georgia\\'s always on my my my my my my my my my mind Oh, show me round your snow peaked Mountain way down south Take me to your daddy\\'s farm Let me hear your balalaika\\'s ringing out Come and keep your comrade warm I\\'m back in the USSR Hey, you don\\'t know how lucky you are, boy Back in the USSR Oh, let me tell you honey Day after day Alone on a hill The man with the foolish grin Is keeping perfectly still But nobody wants to know him They can see that he\\'s just a fool And he never gives an answer But the fool on the hill Sees the sun going down And the eyes in his head See the world spinning round Well on the way Head in a cloud The man of a thousand voices Talking perfectly loud But nobody ever hears him Or the sounds he appears to make And he never seems to notice But the fool on the hill Sees the sun going down And the eyes in his head See the world spinning round And nobody seems to like him They can tell what he wants to do And he never shows his feelings But the fool on the hill Sees the sun going down And the eyes in his head See the world spinning round He never listens to them He knows that they\\'re the fools They don\\'t like him The fool on the hill Sees the sun going down And the eyes in his head See the world spinning round Oh You Never Give Me Your Money You only give me your funny paper And in the middle of negotiations you break down I never give you my number I only give my situation And in the middle of investigation I break down Out of college, money spent See no future, pay no rent All the money\\'s gone, nowhere to go Any jobber got the sack Monday morning, turning back Yellow lorry slow, nowhere to go But, oh, that magic feeling Nowhere to go Oh, that magic feeling Nowhere to go Nowhere to go Ah Ah Ah One sweet dream Pick up the bags and get in the limousine Soon we\\'ll be away from here Step on the gas and wipe that tear away One sweet dream came true today Came true today Came true today Yes it did (na, na) One, two, three, four, five, six, seven All good children go to heaven One, two, three, four, five, six, seven All good children go to heaven One, two, three, four, five, six, seven All good children go to heaven One, two, three, four, five, six, seven All good children go to heaven One, two, three, four, five, six, seven All good children go to heaven One, two, three, four, five, six, seven All good children go to heaven One, two, three, four, five, six, seven All good children go to heaven One, two, three, four, five, six, seven All good children go to heaven One, two, three, four, five, six, seven All good children go to heaven Ah Here come the Sun King Here come the Sun King Everybody\\'s laughing Everybody\\'s happy Here come the Sun King Quando paramucho mi amore defelice corazon Mundo pararazzi mi amore chicka ferdy parasol Cuesto obrigado tanta mucho cake and eat it carousel Mean Mr. Mustard sleeps in the park Shaves in the dark, tryin to save paper Sleeps in a hole in the road Saving up to buy him some clothes Keeps a ten bob note up his nose Such a mean old man Such a mean old man His sister Pam works in the shop She never stops; she\\'s a go-getter Takes him out to look at the queen Only place that he\\'s ever been Always shouts out something obscene Such a dirty old man Dirty old man Well, you should see Polythene Pam She\\'s so good-looking, but she looks like a man Well, you should see her in drag Dressed in her polythene bag Yes, you should see Polythene Pam Yeah, yeah, yeah Get a dose of her in jackboots and kilt She\\'s killer-diller when she\\'s dressed to the hilt She\\'s the kind of a girl Who makes the News Of The World Yes, you could say that she\\'s attractively built Yeah, yeah, yeah (John) She\\'s coming in the house (Paul) Oh, look out! She Came In Through The Bathroom Window Protected by a silver spoon But now she sucks her thumb and wonders By the banks of her own lagoon Didn\\'t anybody tell her? Didn\\'t anybody see? Sunday\\'s on the phone to Monday Tuesday\\'s on the phone to me She said she\\'d always been a dancer She worked at fifteen clubs a day And though she thought I knew the answer Well, I knew what I could not say And so I quit the police department And got myself a steady job And though she tried her best to help me She could steal, but she could not rob Didn\\'t anybody tell her? Didn\\'t anybody see? Sunday\\'s on the phone to Monday Tuesday\\'s on the phone to me Oh, yeah Once there was a way To get back homeward Once there was a way to get back home Sleep, pretty darling; do not cry And I will sing a lullaby Golden Slumbers fill your eyes Smiles awake you when you rise Sleep pretty darling, do not cry And I will sing a lullaby. Once there was a way To get back homeward Once there was a way to get back home Sleep, pretty darling; do not cry And I will sing a lullaby Boy, you\\'re gonna Carry That Weight Carry That Weight a long time Boy, you\\'re gonna Carry That Weight Carry That Weight a long time I never give you my pillow I only send you my invitations And in the middle of the celebrations I break down Boy, you\\'re gonna Carry That Weight Carry That Weight a long time Boy, you\\'re gonna Carry That Weight Carry That Weight a long time Oh yeah! All right! Are you going to be in my dreams tonight? Love you, love you, love you, love you, love you, love you Love you, love you, love you, love you, love you, love you Love you, love you, love you, love you, love you, love you Love you, love you, love you, love you, love you, love you Love you, love you, love you, love you, love you, love you And, in The End The love you take Is equal to the love you make Her Majesty\\'s a pretty nice girl But she doesn\\'t have a lot to say Her majesty\\'s a pretty nice girl But she changes from day to day I want to tell her that I love her a lot But I got to get a bellyful of wine Her majesty\\'s a real nice girl Someday I\\'m going to make her mine Oh yeah, Someday I\\'m going to make her mine Two of us riding nowhere Spending someone\\'s Hard earned pay Two of us Sunday driving Not arriving On our way back home We\\'re on our way home We\\'re on our way home We\\'re going home Two of us sending postcards Writing letters On my wall You and me burning matches Lifting latches On our way back home We\\'re on our way home We\\'re on our way home We\\'re going home You and I have memories Longer than the road that stretches out ahead Two of us wearing raincoats Standing so low In the sun You and me chasing paper Getting nowhere On our way back home We\\'re on our way home We\\'re on our way home We\\'re going home Dear Prudence, won\\'t you come out to play Dear Prudence, greet the brand new day The sun is up, the sky is blue It\\'s beautiful and so are you Dear Prudence won\\'t you come out to play Dear Prudence open up your eyes Dear Prudence see the sunny skies The wind is low the birds will sing That you are part of everything Dear Prudence won\\'t you open up your eyes? Look around round Look around round round Look around Dear Prudence let me see you smile Dear Prudence like a little child The clouds will be a daisy chain So let me see you smile again Dear Prudence won\\'t you let me see you smile? Dear Prudence, won\\'t you come out to play Dear Prudence, greet the brand new day The sun is up, the sky is blue It\\'s beautiful and so are you Dear Prudence won\\'t you come out to play I should have known better with a girl like you, That I would love everything that you do; and I do, Hey, hey, hey, and I do. Whoa, oh, I never realized what a kiss could be, This could only happen to me Can\\'t you see, can\\'t you see That when I tell you that I love you, oh, You\\'re gonna say you love me too, Hoo, hoo, hoo, hoo, oh And when I ask you to be mine, You\\'re gonna say you love me too So oh I should realized a lot of things before If this is love you\\'ve got to give me more Give me more, hey hey hey, give me more Whoa, oh, I never realized what a kiss could be, This could only happen to me Can\\'t you see, can\\'t you see That when I tell you that I love you, oh, You\\'re gonna say you love me too, Hoo, hoo, hoo, hoo, oh And when I ask you to be mine, You\\'re gonna say you love me too You love me too, you love me too, you love me too He\\'s a real nowhere man Sitting in his nowhere land Making all his nowhere plans for nobody Doesn\\'t have a point of view Knows not where he\\'s going to Isn\\'t he a bit like you and me? Nowhere man please listen You don\\'t know what you\\'re missing Nowhere man, The world is at your command He\\'s as blind as he can be Just sees what he wants to see Nowhere man, can you see me at all Nowhere man don\\'t worry Take your time, don\\'t hurry Leave it all till somebody else Lends you a hand Ah, la, la, la, la Doesn\\'t have a point of view Knows not where he\\'s going to Isn\\'t he a bit like you and me? Nowhere man please listen You don\\'t know what you\\'re missing Nowhere man, The world is at your command Ah, la, la, la, la He\\'s a real nowhere man Sitting in his nowhere land Making all his nowhere plans for nobody Making all his nowhere plans for nobody Making all his nowhere plans for nobody Now somewhere in the Black Mountain Hills of Dakota There lived a young boy named Rocky Raccoon And one day his woman ran off with another guy Hit young Rocky in the eye Rocky didn\\'t like that He said, \"I\\'m gonna get that boy\" So one day he walked into town Booked himself a room in the local saloon Rocky Raccoon checked into his room Only to find Gideon\\'s Bible Rocky had come, equipped with a gun To shoot off the legs of his rival His rival it seems, had broken his dreams By stealing the girl of his fancy Her name was Magill, and she called herself Lil But everyone knew her as Nancy Now she and her man, who called himself Dan Were in the next room at the hoe down Rocky burst in, and grinning a grin He said, \"Danny boy, this is a showdown\" But Daniel was hot, he drew first and shot And Rocky collapsed in the corner Now the doctor came in, stinking of gin And proceeded to lie on the table He said, \"Rocky, you met your match\" And Rocky said, \"Doc, it\\'s only a scratch And I\\'ll be better, I\\'ll be better, Doc, as soon as I am able\" Now Rocky Raccoon, he fell back in his room Only to find Gideon\\'s Bible Gideon checked out, and he left it, no doubt To help with good Rocky\\'s revival Try to see it my way, Do I have to keep on talking till I can\\'t go on? While you see it your way, Run the risk of knowing that our love may soon be gone We can work it out, We can work it out Think of what you\\'re saying You can get it wrong and still you think that it\\'s alright Think of what I\\'m saying, We can work it out and get it straight, or say good night We can work it out, We can work it out Life is very short, and there\\'s no time For fussing and fighting, my friend I have always thought that it\\'s a crime, So I will ask you once again Try to see it my way, Only time will tell if I am right or I am wrong While you see it your way There\\'s a chance that we may fall apart before too long We can work it out, We can work it out Life is very short, and there\\'s no time For fussing and fighting, my friend I have always thought that it\\'s a crime, So I will ask you once again Try to see it my way, Only time will tell if I am right or I am wrong While you see it your way There\\'s a chance that we may fall apart before too long We can work it out, We can work it out Joan was quizzical; studied pataphysical Science in the home. Late nights all alone with a test tube. Oh, oh, oh, oh. Maxwell Edison, majoring in medicine, Calls her on the phone. Can I take you out to the pictures,\\r\\nJoa, oa, oa, oan? But as she\\'s getting ready to go, A knock comes on the door. Bang! Bang! Maxwell\\'s silver hammer Came down upon her head. Bang! Bang! Maxwell\\'s silver hammer Made sure that she was dead. Back in school again Maxwell plays the fool again. Teacher gets annoyed. Wishing to avoid and unpleasant Sce, e, e, ene, She tells Max to stay when the class has gone away, So he waits behind Writing fifty times \"I must not be So, o, o, o\" But when she turns her back on the boy, He creeps up from behind. Bang! Bang! Maxwell\\'s silver hammer Came down upon her head. Bang! Bang! Maxwell\\'s silver hammer Made sure that she was dead. P. C. Thirty-one said, \"We caught a dirty one.\" Maxwell stands alone Painting testimonial pictures. Oh, oh, oh, oh. Rose and Valerie, screaming from the gallery Say he must go free (Maxwell must go free) The judge does not agree and he tells them So, o, o, o. But as the words are leaving his lips, A noise comes from behind. Bang! Bang! Maxwell\\'s silver hammer Came down upon his head. Bang! Bang! Maxwell\\'s silver hammer Made sure that he was dead. Whoa, oh, oh, oh. Silver hammer man Here I stand head in hand Turn my face to the wall If she\\'s gone I can\\'t go on Feeling two foot small Everywhere people stare Each and every day I can see them laugh at me And I hear them say Hey you\\'ve got to hide your love away Hey you\\'ve got to hide your love away How can I even try? I can never win Hearing them, seeing them In the state I\\'m in How could she say to me Love will find a way? Gather round all you clowns Let me hear you say Hey you\\'ve got to hide your love away Hey you\\'ve got to hide your love away Last night I said these words to my girl I know you never even try, girl Come on, (come on) come on, (come on) come on, (come on) come on, (come on) Please, please me, woah yeah, like I please you You don\\'t need me to show the way, love Why do I always have to say, love Come on, (come on) come on, (come on) come on, (come on) come on, (come on) Please, please me, woah yeah, like I please you I don\\'t want to sound complaining But you know there\\'s always rain in my heart (in my heart) I do all the pleasing with you It\\'s so hard to reason with you Woah yeah, why do you make me blue? Last night I said these words to my girl I know you never even try, girl Come on, (come on) come on, (come on) come on, (come on) come on, (come on) Please, please me, woah yeah, like I please you Me, woah yeah, like I please you Me, woah yeah, like I please you Let me tell you how it will be There\\'s one for you, nineteen for me \\'Cause I\\'m the taxman, yeah, I\\'m the taxman Should five per cent appear too small Be thankful I don\\'t take it all \\'Cause I\\'m the taxman, yeah I\\'m the taxman If you drive a car, I\\'ll tax the street, If you try to sit, I\\'ll tax your seat. If you get too cold I\\'ll tax the heat, If you take a walk, I\\'ll tax your feet. Don\\'t ask me what I want it for If you don\\'t want to pay some more \\'Cause I\\'m the taxman, yeah, I\\'m the taxman Now my advice for those who die Declare the pennies on your eyes \\'Cause I\\'m the taxman, yeah, I\\'m the taxman And you\\'re working for no one but me.  Looking for some education Made my way into the night All that bullshit conversation Baby, can\\'t you read the signs? I won\\'t bore you with the details, baby I don\\'t even wanna waste your time Let\\'s just say that maybe You could help me ease my mind I ain\\'t Mr. Right But if you\\'re looking for fast love If that\\'s love in your eyes It\\'s more than enough Had some bad love So fast love is all that I\\'ve got on my mind Ooh, ooh Ooh, ooh Looking for some affirmation Made my way into the sun My friends got their ladies And they\\'re all having babies I just wanna have some fun I won\\'t bore you with the details, baby I don\\'t even wanna waste your time Let\\'s just say that maybe You could help me ease my mind I ain\\'t Mr. Right But if you\\'re looking for fast love If that\\'s love in your eyes It\\'s more than enough I\\'ve had some bad love So fast love is all that I\\'ve got on my mind Ooh, ooh Baby, baby Ooh, ooh Baby, baby Ooh, ooh Baby, baby Ooh In the absence of security I made my way into the night Stupid cupid keeps on calling me And I see nothing in his eyes I miss my baby Oh I, I miss my baby I miss my baby I miss, I miss, I miss, I miss my baby Ooh I, I miss my baby I don\\'t want you to be no slave I don\\'t want you to work all day But I want you to be true And I just want to make love to you Love to you, ooh baby Love to you, yeah All I want to do is wash your clothes I don\\'t want to keep you indoors There is nothing you can\\'t do But keep me making love to me Love to me, ooh baby Love to you, yeah And I can tell by the way you walk that walk And I can hear by the way you talk that talk And I can know by the way you treat your girl That I can give you all the loving in the whole wide world All I want you to do is make your bread Just to make sure you\\'re well fed I don\\'t want you sad and blue And I just want to make love to you Love to you, ooh yeah Love to you, yeah And I can tell by the way you walk that walk And I can hear by the way you talk that talk And I can know by the way you treat your girl That I can give you all the loving in the whole wide world All I want you to do baby is make your bread Just to make sure you\\'re well fed I don\\'t want you sad and blue And I just want to make love to you Love to you, ooh yeah Love to you, yeah Oh I just want to make love to you Happy New Year! I heard that you\\'re settled down That you found a girl and you\\'re married now I heard that your dreams came true Guess she gave you things I didn\\'t give to you Old friend, why are you so shy? Ain\\'t like you to hold back or hide from the light I hate to turn up out of the blue, uninvited But I couldn\\'t stay away, I couldn\\'t fight it I had hoped you\\'d see my face and that you\\'d be reminded That for me, it isn\\'t over Never mind, I\\'ll find someone like you I wish nothing but the best for you two Don\\'t forget me, I beg, I remember you said Sometimes it lasts in love, but sometimes it hurts instead Sometimes it lasts in love, but sometimes it hurts instead You know how the time flies Only yesterday was the time of our lives We were born and raised in a summer haze Bound by the surprise of our glory days I hate to turn up out of the blue, uninvited But I couldn\\'t stay away, I couldn\\'t fight it I had hoped you\\'d see my face and that you\\'d be reminded That for me, it isn\\'t over Never mind, I\\'ll find someone like you I wish nothing but the best for you two Don\\'t forget me, I beg, I remember you said Sometimes it lasts in love, but sometimes it hurts instead, yeah Nothing compares, no worries or cares Regrets and mistakes, they\\'re memories made Who would have known how bittersweet this would taste? Never mind, I\\'ll find someone like you I wish nothing but the best for you Don\\'t forget me, I beg, I remember you said Sometimes it lasts in love, but sometimes it hurts instead Never mind, I\\'ll find someone like you I wish nothing but the best for you two Don\\'t forget me, I beg, I remember you said Sometimes it lasts in love, but sometimes it hurts instead Sometimes it lasts in love, but sometimes it hurts instead There\\'s a fire starting in my heart Reaching a fever pitch, it\\'s bringing me out the dark Finally I can see you crystal clear [Clean version:] Go \\'head and sell me out and I\\'ll lay your ship bare [Explicit version:] Go \\'head and sell me out and I\\'ll lay your shit bare See how I leave with every piece of you Don\\'t underestimate the things that I will do There\\'s a fire starting in my heart Reaching a fever pitch And it\\'s bringing me out the dark The scars of your love remind me of us They keep me thinking that we almost had it all The scars of your love, they leave me breathless I can\\'t help feeling We could have had it all (You\\'re gonna wish you never had met me) Rolling in the deep (Tears are gonna fall, rolling in the deep) You had my heart inside of your hand (You\\'re gonna wish you never had met me) And you played it, to the beat (Tears are gonna fall, rolling in the deep) Baby, I have no story to be told But I\\'ve heard one on you And I\\'m gonna make your head burn Think of me in the depths of your despair Make a home down there As mine sure won\\'t be shared (You\\'re gonna wish you never had met me) The scars of your love remind me of us (Tears are gonna fall, rolling in the deep) They keep me thinking that we almost had it all (You\\'re gonna wish you never had met me) The scars of your love, they leave me breathless (Tears are gonna fall, rolling in the deep) I can\\'t help feeling We could have had it all (You\\'re gonna wish you never had met me) Rolling in the deep (Tears are gonna fall, rolling in the deep) You had my heart inside of your hand (You\\'re gonna wish you never had met me) And you played it, to the beat (Tears are gonna fall, rolling in the deep) We could have had it all Rolling in the deep You had my heart inside of your hand But you played it, with a beating Throw your soul through every open door (woah) Count your blessings to find what you look for (woah) Turn my sorrow into treasured gold (woah) You\\'ll pay me back in kind and reap just what you sow (woah) (You\\'re gonna wish you never had met me) We could have had it all (Tears are gonna fall, rolling in the deep) We could have had it all (You\\'re gonna wish you never had met me) It all, it all, it all (Tears are gonna fall, rolling in the deep) We could have had it all (You\\'re gonna wish you never had met me) Rolling in the deep (Tears are gonna fall, rolling in the deep) You had my heart inside of your hand (You\\'re gonna wish you never had met me) And you played it to the beat (Tears are gonna fall, rolling in the deep) We could have had it all (You\\'re gonna wish you never had met me) Rolling in the deep (Tears are gonna fall, rolling in the deep) You had my heart inside of your hand (You\\'re gonna wish you never had met me) But you played it You played it You played it You played it to the beat. Hello, it\\'s me I was wondering if after all these years you\\'d like to meet To go over everything They say that time\\'s supposed to heal ya But I ain\\'t done much healing Hello, can you hear me? I\\'m in California dreaming about who we used to be When we were younger and free I\\'ve forgotten how it felt before the world fell at our feet There\\'s such a difference between us And a million miles Hello from the other side I must\\'ve called a thousand times To tell you I\\'m sorry For everything that I\\'ve done But when I call you never Seem to be home Hello from the outside At least I can say that I\\'ve tried To tell you I\\'m sorry For breaking your heart But it don\\'t matter, it clearly Doesn\\'t tear you apart anymore Hello, how are you? It\\'s so typical of me to talk about myself, I\\'m sorry I hope that you\\'re well Did you ever make it out of that town Where nothing ever happened? It\\'s no secret That the both of us Are running out of time So hello from the other side (other side) I must\\'ve called a thousand times (thousand times) To tell you I\\'m sorry For everything that I\\'ve done But when I call you never Seem to be home Hello from the outside (outside) At least I can say that I\\'ve tried (I\\'ve tried) To tell you I\\'m sorry For breaking your heart But it don\\'t matter, it clearly Doesn\\'t tear you apart anymore Oh, anymore Oh, anymore Oh, anymore Anymore Hello from the other side (other side) I must\\'ve called a thousand times (thousand times) To tell you I\\'m sorry For everything that I\\'ve done But when I call you never Seem to be home Hello from the outside (outside) At least I can say that I\\'ve tried (I\\'ve tried) To tell you I\\'m sorry For breaking your heart But it don\\'t matter, it clearly Doesn\\'t tear you apart anymore I will leave my heart at the door I won\\'t say a word They\\'ve all been said before you know So why don\\'t we just play pretend Like we\\'re not scared of what\\'s coming next Or scared of having nothing left Look, don\\'t get me wrong I know there is no tomorrow All I ask is If this is my last night with you Hold me like I\\'m more than just a friend Give me a memory I can use Take me by the hand while we do what lovers do It matters how this ends \\'Cause what if I never love again? I don\\'t need your honesty It\\'s already in your eyes And I\\'m sure my eyes, they speak for me No one knows me like you do And since you\\'re the only one that matters Tell me who do I run to? Look, don\\'t get me wrong I know there is no tomorrow All I ask is If this is my last night with you Hold me like I\\'m more than just a friend Give me a memory I can use Take me by the hand while we do what lovers do It matters how this ends \\'Cause what if I never love again? Let this be our lesson in love Let this be the way we remember us I don\\'t wanna be cruel or vicious And I ain\\'t asking for forgiveness All I ask is If this is my last night with you Hold me like I\\'m more than just a friend Give me a memory I can use Take me by the hand while we do what lovers do It matters how this ends \\'Cause what if I never love again? I let it fall, my heart, And as it fell you rose to claim it It was dark and I was over Until you kissed my lips and you saved me My hands, they\\'re strong But my knees were far too weak To stand in your arms Without falling to your feet But there\\'s a side to you that I never knew, never knew All the things you\\'d say, they were never true, never true And the games you\\'d play, you would always win, always win But I set fire to the rain Watched it pour as I touched your face Let it burn while I cry \\'Cause I heard it screaming out your name, your name When laying with you I could stay there, close my eyes Feel you here, forever You and me together, nothing gets better Cause there\\'s a side to you that I never knew, never knew All the things you\\'d say, they were never true, never true And the games you\\'d play, you would always win, always win But I set fire to the rain Watched it pour as I touched your face Let it burn while I cried \\'Cause I heard it screaming out your name, your name I set fire to the rain And I threw us into the flames Where I felt something die, \\'cause I knew that That was the last time, the last time Sometimes I wake up by the door As if that heart you caught is still waiting for you Even now when it\\'s already over I can\\'t help myself from looking for you I set fire to the rain Watched it pour as I touched your face Let it burn while I cried \\'Cause I heard it screaming out your name, your name I set fire to the rain And I threw us into the flames Where I felt something die \\'Cause I knew that that was the last time, the last time, oh Oh, oh Let it burn, oh Let it burn Let it burn Everybody loves the things you do From the way you talk To the way you move Everybody here is watching you \\'Cause you feel like home You\\'re like a dream come true But if by chance you\\'re here alone Can I have a moment Before I go? \\'Cause I\\'ve been by myself all night long Hoping you\\'re someone I used to know You look like a movie You sound like a song My God, this reminds me Of when we were young Let me photograph you in this light In case it is the last time That we might be exactly like we were Before we realized We were sad of getting old It made us restless It was just like a movie It was just like a song I was so scared to face my fears Nobody told me that you\\'d be here And I swore you moved overseas That\\'s what you said, when you left me You still look like a movie You still sound like a song My God, this reminds me Of when we were young Let me photograph you in this light In case it is the last time That we might be exactly like we were Before we realized We were sad of getting old It made us restless It was just like a movie It was just like a song When we were young When we were young When we were young When we were young It\\'s hard to win me back Everything just takes me back To when you were there To when you were there And a part of me keeps holding on Just in case it hasn\\'t gone I guess I still care Do you still care? It was just like a movie It was just like a song My God, this reminds me Of when we were young When we were young When we were young When we were young When we were young Let me photograph you in this light In case it is the last time That we might be exactly like we were Before we realized We were sad of getting old It made us restless Oh, I\\'m so mad I\\'m getting old It makes me reckless It was just like a movie It was just like a song When we were young Whenever I\\'m alone with you You make me feel like I am home again Whenever I\\'m alone with you You make me feel like I am whole again Whenever I\\'m alone with you You make me feel like I am young again Whenever I\\'m alone with you You make me feel like I am fun again However far away I will always love you However long I stay I will always love you Whatever words I say I will always love you I will always love you Whenever I\\'m alone with you You make me feel like I am free again Whenever I\\'m alone with you You make me feel like I am clean again However far away I will always love you However long I stay I will always love you Whatever words I say I will always love you I will always love you However far away I will always love you However long I stay I will always love you Whatever words I say I will always love you I will always love you I will always love you \\'Cause I love you When the rain is blowing in your face And the whole world is on your case I could offer you a warm embrace To make you feel my love When the evening shadows and the stars appear And there is no one there to dry your tears I could hold you for a million years To make you feel my love I know you haven\\'t made your mind up yet But I would never do you wrong I\\'ve known it from the moment that we met no doubt in my mind were you belong I\\'d go hungry, I\\'d go black and blue I\\'d go crawling down the avenue No, there\\'s nothing that I wouldn\\'t do To make you feel my love The storms are raging on the rolling sea And on the highway of regret The winds of change are blowing wild and free You ain\\'t seen nothing like me yet I could make you happy, make your dreams come true Nothing that I wouldn\\'t do Go to the ends of the Earth for you To make you feel my love To make you feel my love I\\'ve made up my mind Don\\'t need to think it over If I\\'m wrong I am right Don\\'t need to look no further This ain\\'t lust I know this is love but If I tell the world I\\'ll never say enough Cause it was not said to you And that\\'s exactly what I need to do If I\\'m in love with you Should I give up Or should I just keep chasing pavements? Even if it leads nowhere Or would it be a waste? Even If I knew my place should I leave it there? Should I give up Or should I just keep chasing pavements? Even if it leads nowhere I\\'d build myself up And fly around in circles Waiting as my heart drops And my back begins to tingle Finally could this be it or Should I give up Or should I just keep chasing pavements? Even if it leads nowhere Or would it be a waste? Even if I knew my place should I leave it there? Should I give up Or should I just keep chasing pavements? Even if it leads nowhere yeah Should I give up Or should I just keep chasing pavements? Even if, it leads nowhere Or would it be a waste? Even if I knew my place should I leave it there? Should I give up, Or should I just keep on chasing pavements? Should I just keep on chasing pavements? Or Should I give up Or should I just keep chasing pavements? Even if it leads nowhere Or would it be a waste? Even if I knew my place should I leave it there? Should I give up Or should I just keep chasing pavements? Even if it leads nowhere When will I see you again? You left with no goodbye, not a single word was said No final kiss to seal anything I had no idea of the state we were in I know I have a fickle heart and a bitterness And a wandering eye, and a heaviness in my head But don\\'t you remember, don\\'t you remember? The reason you loved me before, Baby please remember me once more When was the last time you thought of me? Or have you completely erased me from your memories? I often think about where I went wrong The more I do, the less I know But I know I have a fickle heart and a bitterness And a wandering eye, and a heaviness in my head But don\\'t you remember, don\\'t you remember? The reason you loved me before Baby please remember me once more Oh, I gave you the space so you could breathe I kept my distance so you would be free In hope that you find the missing piece To bring you back to me Why don\\'t you remember, don\\'t you remember? The reason you loved me before Baby please remember me once more When will I see you again? She, she ain\\'t real She ain\\'t gonna be able to love you like I will She is a stranger You and I have history Or don\\'t you remember Sure, she\\'s got it all But, baby, is that really what you want Bless your soul, you\\'ve got you\\'re head in the clouds You made a fool out of you And, boy, she\\'s bringing you down She made your heart melt But you\\'re cold to the core Now rumor has it she ain\\'t got your love anymore Rumor has it, ooh Rumor has it, ooh Rumor has it, ooh Rumor has it, ooh Rumor has it, ooh Rumor has it, ooh Rumor has it, ooh Rumor has it, ooh She is half your age But I\\'m guessing that\\'s the reason that you stayed I heard you\\'ve been missing me You\\'ve been telling people things that you shouldn\\'t be Like when we creep out and she ain\\'t around Haven\\'t you heard the rumors Bless your soul, you\\'ve got your head in the clouds You made a fool out of me And, boy, you\\'re bringing me down You made my heart melt, yet I\\'m cold to the core But rumor has it I\\'m the one you\\'re leaving her for Rumor has it, ooh Rumor has it, ooh Rumor has it, ooh Rumor has it, ooh Rumor has it, ooh Rumor has it, ooh Rumor has it, ooh Rumor has it, ooh All of these words whispered in my ear Tell a story that I cannot bear to hear Just \\'cause I said it, it don\\'t mean that I meant it People say crazy things Just \\'cause I said it, don\\'t mean that I meant it Just \\'cause you heard it Rumor has it, ooh, Rumor has it, ooh, Rumor has it, ooh, Rumor has it, ooh, Rumor has it, ooh, Rumor has it, ooh, Rumor has it, ooh, Rumor has it, ooh, Rumor has it, ooh, Rumor has it, ooh, Rumor has it, ooh, Rumor has it, ooh, Rumor has it, ooh, Rumor has it, ooh But rumor has it he\\'s the one I\\'m leaving you for You\\'ve been on my mind I grow fonder every day Lose myself in time Just thinking of your face God only knows why it\\'s taken me So long to let my doubts go You\\'re the only one that I want I don\\'t know why I\\'m scared I\\'ve been here before Every feeling, every word I\\'ve imagined it all You\\'ll never know if you never try To forget your past and simply be mine I dare you to let me be your, your one and only I promise I\\'m worthy To hold in your arms So come on and give me the chance To prove I am the one who can walk that mile Until the end starts If I\\'ve been on your mind You hang on every word I say Lose yourself in time At the mention of my name Will I ever know how it feels to hold you close And have you tell me Whichever road I choose, you\\'ll go? I don\\'t know why I\\'m scared \\'Cause I\\'ve been here before Every feeling, every word I\\'ve imagined it all You\\'ll never know if you never try To forget your past and simply be mine I dare you to let me be your, your one and only I promise I\\'m worthy, mm To hold in your arms So come on and give me the chance To prove I am the one who can walk that mile Until the end starts I know it ain\\'t easy giving up your heart I know it ain\\'t easy giving up your heart Nobody\\'s perfect (I know it ain\\'t easy giving up your heart) Trust me I\\'ve learned it Nobody\\'s perfect (I know it ain\\'t easy giving up your heart) Trust me I\\'ve learned it Nobody\\'s perfect (I know it ain\\'t easy giving up your heart) Trust me I\\'ve learned it Nobody\\'s perfect (I know it ain\\'t easy giving up your heart) Trust me I\\'ve learned it So I dare you to let me be your, your one and only I promise I\\'m worthy To hold in your arms So come on and give me the chance To prove that I am the, one who can walk that mile Until the end starts Come on and give me the chance To prove that I am the one who can, walk that mile Until the end starts If you\\'re not the one for me Then I\\'ll come back and bring you to your knees If you\\'re not the one for me Why do I hate the idea of being free? And if I\\'m not the one for you You\\'ve gotta stop holding me the way you do Oh when you found that the one for you Why have we been through what we have been through It\\'s so cold out here in your wilderness I want you to be my keeper But not if you are so reckless If you\\'re gonna let me down, let me down gently Don\\'t pretend that you don\\'t want me Our love ain\\'t water under the bridge If you\\'re gonna let me down, let me down gently Don\\'t pretend that you don\\'t want me Our love ain\\'t water under the bridge Say that our love ain\\'t water under the bridge What are you waiting for? You never seem to make it through the door And who are you hiding from? It ain\\'t no life to live like you\\'re on the run Have I ever asked for much? The only thing that I want is your love If you\\'re gonna let me down, let me down gently Don\\'t pretend that you don\\'t want me Our love ain\\'t water under the bridge If you\\'re gonna let me down, let me down gently Don\\'t pretend that you don\\'t want me Our love ain\\'t water under the bridge Say that our love ain\\'t water under the bridge It\\'s so cold in your wilderness I want you to be my keeper But not if you are so reckless If you\\'re gonna let me down, let me down gently Don\\'t pretend that you don\\'t want me Our love ain\\'t water under the bridge If you\\'re gonna let me down, let me down gently Don\\'t pretend that you don\\'t want me Our love ain\\'t water under the bridge Say it ain\\'t so, say it ain\\'t so Say it ain\\'t so, say it ain\\'t so Say it ain\\'t so, say it ain\\'t so Say it ain\\'t so, say it ain\\'t so Say it ain\\'t so, say it ain\\'t so Say it ain\\'t so, say it ain\\'t so Say it ain\\'t so, say it ain\\'t so Say it ain\\'t so, say it ain\\'t so Say that our love ain\\'t water under the bridge I\\'ve been walking in the same way as I did Missing out the cracks in the pavement And turning my heel and strutting my feet Is there anything I can do for you dear?\\r\\nIs there anyone I could call? No and thank you, please Madam.\\r\\nI ain\\'t lost, just wandering Round my hometown Memories are fresh Round my hometown Ooh the people I\\'ve met Are the wonders of my world Are the wonders of my world Are the wonders of this world Are the wonders of now I like it in the city when the air is so thick and opaque I love to see everybody in short skirts, shorts and shades I like it in the city when two worlds collide You get the people and the government Everybody taking different sides Shows that we ain\\'t gonna stand shit Shows that we are united Shows that we ain\\'t gonna take it Shows that we ain\\'t gonna stand shit Shows that we are united Round my hometown Memories are fresh Round my hometown Ooh the people I\\'ve met yea Are the wonders of my world Are the wonders of my world Are the wonders of this world Are the wonders of my world Of my world, yeah Of my world Of my world, yeah Close enough to start a war All that I have is on the floor God only knows what we\\'re fighting for All that I say, you always say more I can\\'t keep up with your turning tables Under your thumb, I can\\'t breathe So I won\\'t let you close enough to hurt me No, I won\\'t ask you, you to just desert me I can\\'t give you what you think you gave me It\\'s time to say goodbye to turning tables, to turning tables Under haunted skies I see Where love is lost, your ghost is found I\\'ve braved a hundred storms to leave you As hard as you try, no, I will never be knocked down I can\\'t keep up with your turning tables Under your thumb, I can\\'t breathe So I won\\'t let you close enough to hurt me, no I won\\'t ask you, you to just desert me I can\\'t give you what you think you gave me It\\'s time to say goodbye to turning tables, turning tables Next time I\\'ll be braver, I\\'ll be my own savior When the thunder calls to me Next time I\\'ll be braver, I\\'ll be my own savior Standing on my own two feet I won\\'t let you close enough to hurt me, no I won\\'t ask you, you to just desert me I can\\'t give you what you think you gave me It\\'s time to say goodbye to turning tables, to turning tables Turning tables, yeah, turning This is the end Hold your breath and count to ten Feel the earth move and then Hear my heart burst again For this is the end I\\'ve drowned and dreamt this moment So overdue I owe them Swept away, I\\'m stolen Let the sky fall When it crumbles We will stand tall Face it all together Let the sky fall When it crumbles We will stand tall Face it all together At skyfall At skyfall Skyfall is where we start A thousand miles and poles apart Where worlds collide and days are dark You may have my number, you can take my name But you\\'ll never have my heart Let the sky fall When it crumbles We will stand tall Face it all together Let the sky fall When it crumbles We will stand tall Face it all together At skyfall Where you go I go What you see I see I know I\\'d never be me Without the security Of your loving arms Keeping me from harm Put your hand in my hand And we\\'ll stand Let the sky fall When it crumbles We will stand tall Face it all together Let the sky fall When it crumbles We will stand tall Face it all together At skyfall Let the sky fall We will stand tall At skyfall Just the guitar This was all you, none of it me You put your hands all over my body and told me, umm You told me you were ready For the big one, for the big jump I\\'d be your last love everlasting you and me That was what you told me I\\'m giving you up I\\'ve forgiven it all You set me free, oh Send my love to your new lover Treat her better We\\'ve gotta let go of all of our ghosts We both know we ain\\'t kids no more Send my love to your new lover Treat her better We\\'ve gotta let go of all of our ghosts We both know we ain\\'t kids no more I was too strong you were trembling You couldn\\'t handle the hot heat rising (rising), umm Baby I\\'m so rising I was running, you were walking You couldn\\'t keep up, you were falling down (down), umm There\\'s only one way down I\\'m giving you up I\\'ve forgiven it all You set me free, oh Send my love to your new lover Treat her better We gotta let go of all of our ghosts We\\'ve both know we ain\\'t kids no more Send my love to your new lover Treat her better We\\'ve gotta let go of all of our ghosts We both know we ain\\'t kids no more If you\\'re ready, if you\\'re ready If you\\'re ready, I am ready If you\\'re ready, if you\\'re ready We both know we ain\\'t kids no more No, we ain\\'t kids no more I\\'m giving you up I\\'ve forgiven it all You set me free Send my love to your new lover Treat her better We\\'ve gotta let go of all of our ghosts We both know we ain\\'t kids no more Send my love to your new lover Treat her better We\\'ve gotta let go of all of our ghosts We both know we ain\\'t kids no more If you\\'re ready, if you\\'re ready (Send my love to your new lover) If you\\'re ready, are you ready? (Treat her better) We\\'ve gotta let go of all of our ghosts We both know we ain\\'t kids no more If you\\'re ready, if you\\'re ready (Send my love to your new lover) If you\\'re ready, are you ready? (Treat her better) We\\'ve gotta let go of all of our ghosts We both know we ain\\'t kids no more Just the guitar This was all you, none of it me You put your hands all over my body and told me, umm You told me you were ready For the big one, for the big jump I\\'d be your last love everlasting you and me That was what you told me I\\'m giving you up I\\'ve forgiven it all You set me free, oh Send my love to your new lover Treat her better We\\'ve gotta let go of all of our ghosts We both know we ain\\'t kids no more Send my love to your new lover Treat her better We\\'ve gotta let go of all of our ghosts We both know we ain\\'t kids no more I was too strong you were trembling You couldn\\'t handle the hot heat rising (rising), umm Baby I\\'m so rising I was running, you were walking You couldn\\'t keep up, you were falling down (down), umm There\\'s only one way down I\\'m giving you up I\\'ve forgiven it all You set me free, oh Send my love to your new lover Treat her better We gotta let go of all of our ghosts We\\'ve both know we ain\\'t kids no more Send my love to your new lover Treat her better We\\'ve gotta let go of all of our ghosts We both know we ain\\'t kids no more If you\\'re ready, if you\\'re ready If you\\'re ready, I am ready If you\\'re ready, if you\\'re ready We both know we ain\\'t kids no more No, we ain\\'t kids no more I\\'m giving you up I\\'ve forgiven it all You set me free Send my love to your new lover Treat her better We\\'ve gotta let go of all of our ghosts We both know we ain\\'t kids no more Send my love to your new lover Treat her better We\\'ve gotta let go of all of our ghosts We both know we ain\\'t kids no more If you\\'re ready, if you\\'re ready (Send my love to your new lover) If you\\'re ready, are you ready? (Treat her better) We\\'ve gotta let go of all of our ghosts We both know we ain\\'t kids no more If you\\'re ready, if you\\'re ready (Send my love to your new lover) If you\\'re ready, are you ready? (Treat her better) We\\'ve gotta let go of all of our ghosts We both know we ain\\'t kids no more I only wanted to have fun Learning to fly, learning to run I let my heart decide the way When I was young Deep down I must have always known That this would be inevitable To earn my stripes I\\'d have to pay And bear my soul I know I\\'m not the only one Who regrets the things they\\'ve done Sometimes I just feel it\\'s only me Who can\\'t stand the reflection that they see I wish I could live a little more Look up to the sky, not just the floor I feel like my life is flashing by And all I can do is watch and cry I miss the air, I miss my friends I miss my mother, I miss it when Life was a party to be thrown But that was a million years ago When I walk around all of the streets Where I grew up and found my feet They can\\'t look me in the eye It\\'s like they\\'re scared of me I try to think of things to say Like a joke or a memory But they don\\'t recognize me now In the light of day I know I\\'m not the only one Who regrets the things they\\'ve done Sometimes I just feel it\\'s only me Who never became who they thought they\\'d be I wish I could live a little more Look up to the sky, not just the floor I feel like my life is flashing by And all I can do is watch and cry I miss the air, I miss my friends I miss my mother, I miss it when Life was a party to be thrown But that was a million years ago A million years ago Looking for some education Made my way into the night All that bullshit conversation Baby, can\\'t you read the signs? I won\\'t bore you with the details, baby I don\\'t even wanna waste your time Let\\'s just say that maybe You could help me ease my mind I ain\\'t Mr. Right But if you\\'re looking for fast love If that\\'s love in your eyes It\\'s more than enough Had some bad love So fast love is all that I\\'ve got on my mind Ooh, ooh Ooh, ooh Looking for some affirmation Made my way into the sun My friends got their ladies And they\\'re all having babies I just wanna have some fun I won\\'t bore you with the details, baby I don\\'t even wanna waste your time Let\\'s just say that maybe You could help me ease my mind I ain\\'t Mr. Right But if you\\'re looking for fast love If that\\'s love in your eyes It\\'s more than enough I\\'ve had some bad love So fast love is all that I\\'ve got on my mind Ooh, ooh Baby, baby Ooh, ooh Baby, baby Ooh, ooh Baby, baby Ooh In the absence of security I made my way into the night Stupid cupid keeps on calling me And I see nothing in his eyes I miss my baby Oh I, I miss my baby I miss my baby I miss, I miss, I miss, I miss my baby Ooh I, I miss my baby Take your eyes off of me so I can leave I\\'m far too ashamed to do it with you watching me This is never ending, we have been here before But I can\\'t stay this time \\'cause I don\\'t love you anymore Please stay where you are Don\\'t come any closer Don\\'t try to change my mind I\\'m being cruel to be kind I can\\'t love you in the dark It feels like we\\'re oceans apart There is so much space between us Maybe we\\'re already defeated Ah-yeah-yeah-yeah-yeah-yeah-yeah everything changed me You have given me something that I can\\'t live without You mustn\\'t underestimate that when you are in doubt But I don\\'t want to carry on like everything is fine The longer we ignore it all the more that we will fight Please don\\'t fall apart I can\\'t face your breaking heart I\\'m trying to be brave Stop asking me to stay I can\\'t love you in the dark It feels like we\\'re oceans apart There is so much space between us Maybe we\\'re already defeated Ah-yeah-yeah-yeah-yeah-yeah-yeah everything changed me We\\'re not the only ones I don\\'t regret a thing Every word I\\'ve said You know I\\'ll always mean It is the world to me That you are in my life But I want to live And not just survive That\\'s why I can\\'t love you in the dark It feels like we\\'re oceans apart There is so much space between us Maybe we\\'re already defeated \\'Cause ah-yeah-yeah-yeah-yeah-yeah-yeah everything changed me And I-I-I-I-I don\\'t think you can save me I want every single piece of you I want your heaven and your ocean\\'s too Treat me soft but touch me cool I wanna teach you things you never knew, baby Bring the floor up to my knees Let me fall into your gravity And kiss me back to life to see Your body standing over me Baby don\\'t let the lights go down Baby don\\'t let the lights go down Baby don\\'t let the lights go down Lights go down, lights go down Lights go down, lights go down Down, down, down, down I miss you when the lights go out It illuminates all of my doubts Pull me in, hold me tight Don\\'t let go, baby give me light I miss you when the lights go out It illuminates all of my doubts Pull me in, hold me tight Don\\'t let go, baby give me light I love the way your body moves Towards me from across the room Brushing past my every groove No one has me like you do In your heart I bring my soul But be delicate with my ego I wanna step into your great unknown With you and me setting the tone Baby don\\'t let the lights go down Baby don\\'t let the lights go down Baby don\\'t let the lights go down Lights go down, lights go down Lights go down, lights go down Down, down, down, down I miss you when the lights go out It illuminates all of my doubts Pull me in, hold me tight Don\\'t let go, baby give me light I miss you when the lights go out It illuminates all of my doubts Pull me in, hold me tight Don\\'t let go, baby give me light We play so dirty in the dark \\'Cause we are living worlds apart It only makes it harder baby It only makes it harder baby (harder baby) Harder baby (harder baby), harder baby I miss you when the lights go out It illuminates all of my doubts Pull me in, hold me tight Don\\'t let go, baby give me light I miss you when the lights go out It illuminates all of my doubts Pull me in, hold me tight Don\\'t let go, baby give me light I miss you, I miss you I miss you, I miss you I miss you, I miss you I miss you, I miss you I remember all of the things that I thought I wanted to be So desperate to find a way out of my world and finally breathe Right before my eyes I saw, my heart it came to life This ain\\'t easy it\\'s not meant to be Every story has its scars When the pain cuts you deep When the night keeps you from sleeping Just look and you will see That I will be your remedy When the world seems so cruel And your heart makes you feel like a fool I promise you will see That I will be, I will be your remedy No river is too wide or too deep for me to swim to you Come whenever I\\'ll be the shelter that won\\'t let the rain come through Your love, it is my truth And I will always love you Love you When the pain cuts you deep When the night keeps you from sleeping Just look and you will see That I will be your remedy When the world seems so cruel And your heart makes you feel like a fool I promise you will see That I will be, I will be your remedy, oh When the pain cuts you deep When the night keeps you from sleeping Just look and you will see I will be, I will be When the world seems so cruel And your heart makes you feel like a fool I promise you will see That I will be, I will be, I will be Your remedy, oh Didn\\'t I give it all? Tried my best Gave you everything I had, everything and no less Didn\\'t I do it right? Did I let you down? Maybe you got too used to having me \\'round Still how can you walk away From all my tears It\\'s gonna be an empty road without me right here But go on and take it, take it all with you Don\\'t look back at this crumbling fool Just take it all with my love, take it all with my love Maybe I should leave, to help you see Nothing is better than this and this is everything we need So is it over? Is this really it, you\\'re giving up so easily I thought you loved me more than this But go on, go on, take it, take it all with you Don\\'t look back at this crumbling fool Just take it all with my love, take it all with my love I will change if I must Slow it down and bring it home, I will adjust Oh if only, if only you knew Everything I do, is for you But go on and take it, take it all with you Don\\'t look back at this crumbling fool Just take it, take it all with you Don\\'t look back at this crumbling fool Just take it all, with my love Take it all with my love Take it all with my love This is how the story went I met someone by accident It blew me away Blew me away It was in the darkest of my days When you took my sorrow and you took my pain And buried them away, you buried them away I wish I could lay down beside you When the day is done And wake up to your face against the morning sun But like everything I\\'ve ever known You disappear one day So I spend my whole life hiding my heart away Dropped you off at the train station Put a kiss on top of your head Watch you wave And watched you wave Then I went on home to my skyscrapers And neon lights and waiting papers That I call home I call that home I wish I could lay down beside you When the day is done And wake up to your face against the morning sun But like everything I\\'ve ever known You disappear one day So I spend my whole life hiding my heart away, away Woke up feeling heavy-hearted I\\'m going back to where I started The morning rain, the morning rain And though I wish that you were here On that same old road that brought me here It\\'s calling me home, It\\'s calling me home I wish I could lay down beside you When the day is done And wake up to your face against the morning sun But like everything I\\'ve ever known You disappear one day So I spend my whole life hiding my heart away I can\\'t spend my whole life hiding my heart away I don\\'t want you to be no slave I don\\'t want you to work all day But I want you to be true And I just want to make love to you Love to you, ooh baby Love to you, yeah All I want to do is wash your clothes I don\\'t want to keep you indoors There is nothing you can\\'t do But keep me making love to me Love to me, ooh baby Love to you, yeah And I can tell by the way you walk that walk And I can hear by the way you talk that talk And I can know by the way you treat your girl That I can give you all the loving in the whole wide world All I want you to do is make your bread Just to make sure you\\'re well fed I don\\'t want you sad and blue And I just want to make love to you Love to you, ooh yeah Love to you, yeah And I can tell by the way you walk that walk And I can hear by the way you talk that talk And I can know by the way you treat your girl That I can give you all the loving in the whole wide world All I want you to do baby is make your bread Just to make sure you\\'re well fed I don\\'t want you sad and blue And I just want to make love to you Love to you, ooh yeah Love to you, yeah Oh I just want to make love to you Happy New Year! Turn down the lights Turn down the bed Turn down these voices Inside my head Lay down with me And tell me no lies Just hold me closly Don\\'t patronize Don\\'t patronize me \\'Cause I can\\'t make you love me If you don\\'t You can\\'t make your heart feel Something that it won\\'t And even in the dark These final hours I will lay down my heart I will feel the power But you won\\'t No, you won\\'t \\'Cause I can\\'t make you love me When you don\\'t When you don\\'t, yeah I\\'ll close my eyes \\'Cause then I don\\'t see The love you don\\'t feel When you\\'re holding me Morning will come And I\\'ll do what\\'s right Just give me till then To give up this fight And I will give up this fight \\'Cause I can\\'t make you love me If you don\\'t You can\\'t make your heart feel Something that it won\\'t And even in the dark These final hours I will lay down my heart I will feel the power But you won\\'t No, you won\\'t \\'Cause I can\\'t make you love me When you don\\'t When you don\\'t, ooh don\\'t You, when you don\\'t, yeah, yeah Hold me closer, one more time Say that you love me in your last goodbye Please forgive me, for my sins Yes, I swam dirty waters But you pushed me in I\\'ve seen your face, under every sky Over every border and on every line You know my heart, more than I do We were the greatest, me and you But we had time against us And miles between us The heavens cried I know I left you speechless But now the sky has cleared and it\\'s blue And I see my future in you I\\'ll be waiting for you when you\\'re ready to love me again I\\'ll put my hands up I\\'ll do everything different I\\'ll be better to you, I\\'ll be waiting for you when you\\'re ready to love me again I\\'ll put my hands up I\\'ll be somebody different I\\'ll be better to you Let me stay here for just one more night Build your world around me And pull me to the light So I can tell you that I was wrong I was a child then, but now I\\'m willing to learn But we had time against us And miles between us The heavens cried I know I left you speechless But now the sky has cleared and it\\'s blue And I see my future in you I\\'ll be waiting for you when you\\'re ready to love me again I\\'ll put my hands up I\\'ll do everything different I\\'ll be better to you I\\'ll be waiting for you when you\\'re ready to love me again I\\'ll put my hands up I\\'ll be somebody different I\\'ll be better to you Time against us Miles between us Heavens cried I know I left you speechless Time against us Miles between us Heavens cried I know I left you speechless I know I left you speechless I\\'ll be waiting I\\'ll be waiting for you when you\\'re ready to love me again I\\'ll put my hands up I\\'ll do everything different I\\'ll be better to you I\\'ll be waiting for you when you\\'re ready to love me again I\\'ll put my hands up I\\'ll be somebody different I\\'ll be better for you This is the end Hold your breath and count to ten Feel the Earth move, and then Hear my heart burst again For this is the end I\\'ve drowned and dreamt this moment So overdue, I owe them Swept away, I\\'m stolen Let the sky fall, when it crumbles We will stand tall And face it all together Let the sky fall, when it crumbles We will stand tall And face it all together At sky fall at sky fall Skyfall is where we start A thousand miles and poles apart Where worlds collide and days are dark You may have my number You can take my name But you\\'ll never have my heart Let the sky fall, when it crumbles We will stand tall And face it all together Let the sky fall, when it crumbles We will stand tall And face it all together At sky fall Let the sky fall, when it crumbles We will stand tall Let the sky fall, when it crumbles We will stand tall Where you go I go What you see I see I know I\\'d never be me with out the security Of your loving arms keeping me from harm Put your hand in my hand And we\\'ll stand.... Let the sky fall, when it crumbles We will stand tall And face it all together Let the sky fall, when it crumbles We will stand tall And face it all together At sky fall Let the sky fall We will stand tall At skyfall (Verse 1) There\\'s a fire starting in my heart Reaching a fever pitch and it\\'s bringing me out the dark Finally I can see you crystal clear Go head and sell me out and I\\'ll lay your ship bare See how I\\'ll leave with every piece of you Don\\'t underestimate the things that I will do There\\'s a fire starting in my heart Reaching a fever pitch and it\\'s bringing me out the dark Chorus 1 The scars of your love remind me of us They keep me thinkin\\' that we almost had it all The scars of your love, they leave me breathless I can\\'t help feeling, we could\\'ve had it all... (You\\'re gonna wish you never met me) Rolling in the deep... (Tears are gonna fall rollin\\' in the deep) You had my heart inside of your hand (You\\'re gonna wish you never met me) And you played it to the beat (Tears are gonna fall rollin\\' in the deep) Verse 2 Baby I have no story to be told But I\\'ve heard one on you and I\\'m gonna make your head burn Think of me in the depths of your despair Making a home down there, as mine sure won\\'t be shared (Chorus 2) The scars of your love remind me of us They keep me thinkin\\' that we almost had it all The scars of your love, they leave me breathless I can\\'t help feeling, we could\\'ve had it all Rolling in the deep... you had my heart inside of your hand And you played it to the beat Could\\'ve had it all... Rollin\\' in the deep You had my heart inside of your hand But you played it with a beating (Verse 3) Throw your stone through every open door Count your blessings to find what you look for Turn my sorrow into treasured gold You pay me back in kind and reap just what you sow (Chorus 3) We could\\'ve had it all... We could\\'ve had it all... It all, It all, It all... We could\\'ve had it all... Rollin\\' in the deep... You had my heart inside of your hand And you played it to the beat Could\\'ve had it all Rollin\\' in the deep You had my heart inside of your hand But you played it, you played it, you played it, you played it to the beat Some say, I\\'ll be better without you, They don\\'t know you like I do, Or at least as far as I thought I knew I can\\'t bear this time, It drags, as I lose my mind Reminded by things I find I know some clothes you left behind. Wake me up, wake me up when all is done I won\\'t rise until this battle\\'s won My dignity is become undone But I won\\'t go I can\\'t do it on my own If this ain\\'t love, then what is? I\\'m willing to take the risk I won\\'t go, I can\\'t do it on my own, If this is ain\\'t love, then what is? I\\'m willing to take the risk So petrified, I\\'m so scared to step into this right, What if I lose my heart and fail the ? I won\\'t forgive me if I gave up trying I heard his voice today I didn\\'t know a single word he said Now I\\'m resemblance to the man I met Just a vague and broken boy instead But I won\\'t go, I can\\'t do it on my own If this ain\\'t love, then what is? I\\'m willing to take the risk I won\\'t go, I can\\'t do it on my own If this ain\\'t love, then what is? I\\'m willing to take the risk There will be times, we\\'ll try and give it up Bursting at the seams, no doubt We almost fall apart and burn up easy So watch them turn to dust But nothing will never taint us I won\\'t go, I can\\'t do it on my own If this ain\\'t love, then what is? I\\'m willing to take the risk I won\\'t go, I can\\'t do it on my own If this ain\\'t love, then what is? I\\'m willing to take the risk Will he, will he still remember me? Will he still love me even when he\\'s free Or will he go back to the place where He will choose the poison over me? When we spoke yesterday He said to hold my breath, to sit and wait I\\'ll be home soon, I won\\'t be late He won\\'t go He can\\'t do it on his own If this ain\\'t love, then what is? He\\'s willing to take the risk So I won\\'t go, I can\\'t do it on his own, If this ain\\'t love, then what is? I\\'m willing to take the risk \\'Cause he won\\'t go He can\\'t do it on his own If this ain\\'t love, then what is? We\\'re willing to take the risk I won\\'t go! I can\\'t do it on my own If this ain\\'t love, then what is? I\\'m willing to take the risk I let it fall, my heart, And as it fell you rose to claim it It was dark and I was over Until you kissed my lips and you saved me My hands, they\\'re strong But my knees were far too weak To stand in your arms Without falling to your feet But there\\'s a side to you That I never knew, never knew All the things you\\'d say They were never true, never true And the games you play You would always win, always win But I set fire to the rain Watched it pour as I touched your face Well, it burned while I cried \\'Cause I heard it screaming Out your name, Your name When I lay with you I could stay there Close my eyes Feel you here forever You and me together nothing gets better \\'Cause there\\'s a side to you That I never knew, never knew All the things you\\'d say They were never true, never true And the games you play You would always win, always win But I set fire to the rain Watched it pour as I touched your face Well, it burned while I cried \\'Cause I heard it screaming out your name, Your name I set fire to the rain And I threw us into the flames Well, it felt something died \\'Cause I knew that that was The last time, the last time Sometimes I wake up by the door, That heart you caught must be waiting for you Even now when we\\'re already over I can\\'t help myself from looking for you I set fire to the rain Watched it pour as I touched your face Well, it burned while I cried \\'Cause I heard it screaming Out your name, Your name I set fire to the rain, And I threw us into the flames Well, it felt something died \\'Cause I knew that, that was the last time The last time Let it burn Let it burn Let it burn Daydreamer Sitting on the sea Soaking up the sun He is a real lover And making up the past Feeling up his girl Like he\\'s never felt a figure before A jaw dropper Looks good when he walks Is the subject of their talk He would be hard to chase But good to catch And he could change the world With his hands behind his back, oh You can find him sittin\\' on your doorstep Waiting for a surprise And he will feel like he\\'s been there for hours And you can tell that he\\'ll be there for life Daydreamer With eyes that make you melt He lends his coat for shelter Plus he\\'s there for you When he shouldn\\'t be But he stays all the same Waits for you Then sees you through There\\'s no way I Could describe him What I\\'ll say is Just what I\\'m hoping for But I will find him sittin\\' on my doorstep Waiting for a surprise And he will feel like he\\'s been there for hours And I can tell that he\\'ll be there for life And I can tell that he\\'ll be there for life With your loving, there ain\\'t nothing That I can\\'t adore The way I\\'m running, with you, honey Is we can break every low I find it funny that you\\'re the only One I never looked for There is something in your loving That tears down my walls I wasn\\'t ready then, I\\'m ready now I\\'m heading straight for you You will only be eternally The one that I belong to The sweetest devotion Hitting me like an explosion All of my life, I\\'ve been frozen The sweetest devotion I\\'ve known I\\'ll forever be whatever you want me to be I\\'ll go under and all over for your clarity When you wonder if I\\'m gonna lose my way home Just remember, that come whatever, I\\'ll be yours all alone I wasn\\'t ready then, I\\'m ready now I\\'m heading straight for you You will only be eternally The one that I belong to The sweetest devotion Hitting me like an explosion All of my life, I\\'ve been frozen The sweetest devotion I\\'ve known I\\'ve been looking for you, baby In every face that I\\'ve ever known And there is something \\'bout the way you love me That finally feels like home All my life, you\\'re my darkness You\\'re the right kind of madness And you\\'re my hope, you\\'re my despair You\\'re my scope, everything, everywhere The sweetest devotion Hitting me like an explosion All of my life, I\\'ve been frozen The sweetest devotion I\\'ve known Sweetest It\\'s the sweetest Sweetest It\\'s the sweetest Sweetest It\\'s the sweetest Sweetest It\\'s the sweetest Devotion [Verse 1] When did it go wrong, I will never know I have loved you all my life How did it slow down, I go round and round Thinking about it all the time [Pre-Chorus] I gave you heaven on a platter baby I gave you everything you never gave me I never lied and I never faked it Only wanted for you to save me This love, it ain\\'t over yet There\\'s too much that I haven\\'t said [Chorus] Did you find the note that I wrote? I hid it in the seam of your coat It was hard to write, had a lump in my throat Do you even know that I can\\'t let go [Verse 2] Why were you so cold, let the truth be told Tell me was it all for the thrill? What was I thinking, I gave you everything But you still went for the kill [Pre-Chorus] I gave you heaven on a platter baby I gave you everything you never gave me I never lied and I never faked it Only wanted for you to save me [Chorus] Did you find the note that I wrote? I hid it in the seam of your coat It was hard to write, had a lump in my throat Do you even know that I can\\'t let go [Bridge] Oooh sometimes I feel like I\\'m in the dark Oooh I thought I\\'d die in your arms [Chorus] Did you find the note that I wrote? I hid it in the seam of your coat It was hard to write, I had a lump in my throat Do you even know that I can\\'t let go [Outro] Hope you know, I won\\'t let go I thought I told you, he\\'d be home soon Couldn\\'t help myself, you\\'re too good to be true. I fall short each time, Every time he ain\\'t here You and your charm creep closer Closer and near Like a fool for fire, I fall, with my pride and all. Like a bomb before explosion, Ticking by your call, You\\'re the wiser one, disguised from greed, And I\\'m just a child who belongs on her knees. But I found a boy who I love more, Than I ever did you before, So stand beside the river I cried, And lay yourself down. Look how you want me now that I don\\'t need you. So, you thought that I\\'d crumble to my knees At the first sight of you crawling back to me To whisper \"will you leave your man? \" Cause you swear that this time you can stand by me. I won\\'t stand by you. Cause I found a boy who I love more, Than I ever did you before, So stand beside the river I cried And lay yourself down. Look how you want me now that I don\\'t need you! I ain\\'t yours for no taking, You must be mistaken I could never look into your eyes, and settle for wrong And ignore the right When I found a boy who loves me more, Than you ever did me before. So stand beside the river you cried And lay yourself down! Look how you want me now that I don\\'t need you! Found myself today singing out your name, You said I\\'m crazy, If I am I\\'m crazy for you. Sometimes sitting in the dark wishing you were here Turns me crazy, But it\\'s you who makes me lose my head. And every time I\\'m meant to be acting sensible You drift into my head And turn me into a crumbling fool. Tell me to run and I\\'ll race, If you want me to stop I\\'ll freeze, And if you want me gone. I\\'ll leave, just hold me closer baby, And make me crazy for you. Crazy for you. Lately with this state I\\'m in I can\\'t help myself but spin. I wish you\\'d come over, Send me spinning closer to you. My oh my, how my blood boils, it\\'s sweet taste for you, Strips me down bare And gets me into my favorite mood. I keep on trying, fighting these feelings away, But the more I do, The crazier I turn into. Pacing floors and opening doors, Hoping you\\'ll walk through And save me boy, Because I\\'m too crazy for you. Crazy for you Everybody tells me it\\'s \\'bout time that I moved on And I need to learn to lighten up and learn how to be young But my heart is a valley, it\\'s so shallow and man made I\\'m scared to death if I let you in that you\\'ll see I\\'m just a fake Sometimes I feel lonely in the arms of your touch But I know that\\'s just me, \\'cause nothing ever is enough When I was a child I grew up by the River Lea There was something in the water, now that something\\'s in me Oh I can\\'t go back, but the reeds are growing out of my fingertips I can\\'t go back to the river But it\\'s in my roots, it\\'s in my veins It\\'s in my blood and I stain every heart that I use to heal the pain But it\\'s in my roots, it\\'s in my veins It\\'s in my blood and I stain every heart that I use to heal the pain So I blame it on the River Lea, the River Lea, the River Lea Yeah, I blame it on the River Lea, the River Lea, the River Lea I should probably tell you now before it\\'s way too late That I never meant to hurt you or lie straight to your face Consider this my apology, I know it\\'s years in advance But I\\'d rather say it now in case I never get the chance No, I can\\'t go back, but the reeds are growing out of my fingertips I can\\'t go back to the river But it\\'s in my roots, it\\'s in my veins It\\'s in my blood and I stain every heart that I use to heal the pain It\\'s in my roots, it\\'s in my veins It\\'s in my blood and I stain every heart that I use to heal the pain So I blame it on the River Lea, the River Lea, the River Lea Yeah I blame it on the River Lea, the River Lea, the River Lea So I blame it on the River Lea, the River Lea, the River Lea Yeah, I blame it on the River Lea, the River Lea, the River Lea I never woulda hitch-hiked to Birmingham If it hadn\\'t been for love I never woulda caught the train to Louisiana If it hadn\\'t been for love I never woulda run through the blindin\\' rain Without one dollar to my name If it hadn\\'t been, if it hadn\\'t been for love I never woulda seen the trouble that I\\'m in If it hadn\\'t been for love Woulda been gone like a wayward wind If it hadn\\'t been for love Nobody knows it better than me I wouldn\\'t be wishing I was free If it hadn\\'t been, if it hadn\\'t been for love Four cold walls against my will At least I know he\\'s lying still Four cold walls without parole Lord have mercy on my soul Four cold walls against my will At least I know he\\'s lying still Four cold walls without parole Lord have mercy on my soul I never woulda hitch-hiked to Birmingham If it hadn\\'t been for love I never woulda caught the train to Louisiana If it hadn\\'t been for love I never woulda loaded up a forty-four Put myself behind a jailhouse door If it hadn\\'t been, if it hadn\\'t been for love If it hadn\\'t been, if it hadn\\'t been for love, yes If it hadn\\'t been, if it hadn\\'t been for love, yes Hold my hand while you cut me down It had only just begun but now it\\'s over now And you\\'re in the heat of moments with your heart playing up cold I\\'m between the middle watching hastiness unfold On my eyes you were smiling in the spotlight dancing with the night The night When I fell off your mind I\\'m tired of trying Your teasing ain\\'t enough Fed up of biding your time When I don\\'t get nothing back And for what, and for what, and for what When I don\\'t get nothing back Oy, I\\'m tired Where\\'d you go when you stayed behind I looked up and inside down and outside only to find A double taking punching hard and laughing at my smile I get closer you obviously prefer her I\\'m tired of trying Your teasing ain\\'t enough Fed up of biding your time When I don\\'t get nothing back And for what, and for what, and for what When I don\\'t get nothing back Boy I\\'m tired of trying Your teasing ain\\'t enough Fed up of biding your time When I don\\'t get nothing back And for what, and for what, and for what When I don\\'t get nothing back Oy, I\\'m tired (I should have known) Never mind said your open arms I couldn\\'t help believe they tricked me back into them, even though I\\'m tired of trying Your teasing ain\\'t enough Fed up of biding your time When I don\\'t get nothing back And for what, and for what, and for what When I don\\'t get nothing back Boy I\\'m tired of trying Your teasing ain\\'t enough Fed up of biding your time When I don\\'t get nothing back And for what, and for what, and for what When I don\\'t get nothing back Oy, I\\'m tired Who wants to be right as rain It\\'s better when something is wrong You get excitement in your bones And everything you do\\'s a game When night comes and you\\'re on your own You can say I chose to be alone Who wants to be right as rain It\\'s harder when you\\'re on top \\'Cause when hard work don\\'t pay off And I\\'m tired there ain\\'t no room in my bed As far as I\\'m concerned So wipe that dirty smile off We won\\'t be making up I\\'ve cried my heart out And now I\\'ve had enough of love Who wants to be riding high When you\\'ll just crumble back on down You give up everything you are And even then you don\\'t get far They make believe that everything Is exactly what it seems But at least when you\\'re at your worst You know how to feel things \\'Cause when hard work don\\'t pay off And I\\'m tired there ain\\'t no room in my bed As far as I\\'m concerned So wipe that dirty smile off We won\\'t be making up I\\'ve cried my heart out And now I\\'ve had enough of love Go ahead and still my heart To make me cry again \\'Cause it will never hurt As much as it did then We were both right And no one had blame But now I give up On this endless game \\'Cause who wants to be right as rain It\\'s better when something is wrong I get excitement in my bones Even though everything\\'s a strain When night comes and I\\'m on my own You should know I chose to be alone Who wants to be right as rain It\\'s harder when you\\'re on top \\'Cause when hard work don\\'t pay off And I\\'m tired there ain\\'t no room in my bed As far as I\\'m concerned So wipe that dirty smile off We won\\'t be making up I\\'ve cried my heart out And now I\\'ve had enough of love No room in my bed As far as I\\'m concerned So wipe that dirty smile off We won\\'t be making up I\\'ve cried my heart out And now I\\'ve had enough of love So little to say but so much time Despite my empty mouth the words are in my mind Please wear the face, the one where you smile Because you lighten up my heart when I start to cry Forgive me first love, but I\\'m tired I need to get away to feel again Try to understand why, don\\'t get so close to change my mind Please wipe that look out of your eyes, it\\'s bribing me to doubt myself Simply, it\\'s tiring This love has dried up and stayed behind And if I stay I\\'ll be alive Then choke on words I\\'d always hide Excuse me first love, but we\\'re through I need to taste the kiss from someone new Forgive me first love, but I\\'m too tired I\\'m bored to say the least and I, I lack desire Forgive me first love, forgive me first love, forgive me first love Forgive me first love forgive me, forgive me first love, forgive me first love This is the end Hold your breath and count to ten Feel the earth move and then Hear my heart burst again For this is the end I\\'ve drowned and dreamt this moment So overdue I owe them Swept away, I\\'m stolen Let the skyfall When it crumbles We will stand tall Face it all together Let the skyfall When it crumbles We will stand tall Face it all together At skyfall At skyfall Skyfall is where we start A thousand miles and poles apart Where worlds collide and days are dark You may have my number, you can take my name But you\\'ll never have my heart Let the skyfall (let the sky fall) When it crumbles (when it crumbles) We will stand tall (we will stand tall) Face it all together Let the skyfall (let the sky fall) When it crumbles (when it crumbles) We will stand tall (we will stand tall) Face it all together At skyfall [x2:] (Let the sky fall When it crumbles We will stand tall) Where you go I go What you see I see I know I\\'d never be me Without the security Of your loving arms Keeping me from harm Put your hand in my hand And we\\'ll stand Let the skyfall (let the sky fall) When it crumbles (when it crumbles) We will stand tall (we will stand tall) Face it all together Let the skyfall (let the sky fall) When it crumbles (when it crumbles) We will stand tall (we will stand tall) Face it all together At skyfall Let the sky fall We will stand tall At skyfall This is how the story went I met someone by accident It blew me away Blew me away It was in the darkest of my days When you took my sorrow and you took my pain And buried them away, you buried them away I wish I could lay down beside you When the day is done And wake up to your face against the morning sun But like everything I\\'ve ever known You disappear one day So I spend my whole life hiding my heart away Dropped you off at the train station Put a kiss on top of your head Watch you wave And watched you wave Then I went on home to my skyscrapers And neon lights and waiting papers That I call home I call that home I wish I could lay down beside you When the day is done And wake up to your face against the morning sun But like everything I\\'ve ever known You disappear one day So I spend my whole life hiding my heart away, away Woke up feeling heavy-hearted I\\'m going back to where I started The morning rain, the morning rain And though I wish that you were here On that same old road that brought me here It\\'s calling me home, It\\'s calling me home I wish I could lay down beside you When the day is done And wake up to your face against the morning sun But like everything I\\'ve ever known You disappear one day So I spend my whole life hiding my heart away I can\\'t spend my whole life hiding my heart away Right under my feet there\\'s air made of bricks Pulls me down turns me weak for you I find myself repeating like a broken tune And I\\'m forever excusing your intentions That I give in to my pretendings Which forgive you each time Without me knowing They melt my heart to stone And I hear your words that I made up You say my name like there could be an us I best tidy up my head I\\'m the only one in love I\\'m the only one in love Each and every time I turn around to leave I feel my heart begin to burst and bleed So desperately I try to link it with my head But instead I fall back to my knees As you tear your way right through me I forgive you once again Without me knowing You\\'ve burnt my heart to stone And I hear your words that I made up You say my name like there could be an us I best tidy up my head I\\'m the only one in love I\\'m the only one in love Why do you steal my hand Whenever I\\'m standing my own ground You build me up, then leave me dead I hear your words you made up I say your name like there should be an us I best tidy up my head I\\'m the only one, in love I\\'m the only one in love Fool that I am for falling in love with you And fool that I am for thinking you loved me too You took my heart then played the part of little coquette And my dreams just disappeared like the smoke from a cigarette Fool that I am for hoping you\\'d understand And thinking you would listen to all of the things The things I had planned But we couldn\\'t see eye to eye So darling Darling Darling this is goodbye Oh I still care Fool that I am Ooh I still care Fool that I am You say it\\'s all in my head And the things I think just don\\'t make sense So where you been then? Don\\'t go all coy Don\\'t turn it round on me like it\\'s my fault See I can see that look in your eyes The one that shoots me each and every time You grace me with your cold shoulder Whenever you look at me I wish I was her You shower me with words made of knives Whenever you look at me I wish I was her These days when I see you You make it look like I\\'m see-through Do tell me why you waste our time When your heart ain\\'t in it, and you\\'re not satisfied You know I know just how you feel I\\'m starting to find myself feeling that way too When you grace me with your cold shoulder Whenever you look at me I wish I was her You shower me with words made of knives Whenever you look at me I wish I was her Time and time again, I play the role of fool (Just for you) Even in the daylight when you think that (I don\\'t see you) Try to look for things I hear but our eyes never find Though I do know how you play You grace me with your cold shoulder Whenever you look at me I wish I was her You shower me with words made of knives Whenever you look at me I wish I was her You grace me with your cold shoulder Whenever you look at me I wish I was her You shower me with words made of knives Whenever you look at me I wish I was her [Adele] Why do you love me Do you love me...? Why do you love me Do you love me? Why do you love me Do you love me? Why do you love me...? Why do you love me, do you love me? Why do you love me, do you love me? Why do you love me, do you love me? Why do you love me? Why do you love me? There must be something in the water Cause baby I\\'m in deeper than I knew How do you keep me coming back for more After all we\\'ve been through I can\\'t decide if I should run and hide It\\'s above and beyond me It\\'s out of my hands Your love drives me crazy It\\'s hard to understand just why I want you to love me I want you to love me I want you to love me I want you to love me... Who knows why I love you It could be something in the air I breath Whatever it is, I depend on it Where does the time go? I spend every single moment daydreaming of you I can\\'t describe how I feel, it feels right It\\'s above and beyond me It\\'s out of my hands Your love drives me crazy It\\'s hard to understand just why I want you to love me I want you to love me I want you to love me I want you to love me You were a shock in the dark that blew me away And you left your mark and it never will fade You ignited a spark, let the fires away Are you ready, ready? You have a place in my heart that will always be yours You are the peak and art of my universe Every piece and part, you were the first I am ready, ready It\\'s above and beyond me, It\\'s out of my hands Your love drives me crazy, it\\'s hard to understand just why I want you to love me I want you to love me I want you to love me I want you It\\'s above and beyond me, It\\'s out of my hands Your love drives me crazy, it\\'s hard to understand just why I want you to love me I want you to love me I want you to love me I want you to love me... Why do you love me, do you love me? Why do you love me, do you love me? Why do you love me, do you love me? Why do you love me, do you love me? You said I\\'m stubborn and I never give in I think you\\'re stubborn \\'cept you\\'re always softening You say I\\'m selfish, I agree with you on that I think you\\'re giving out in way too much in fact I say we\\'ve only known each other a year You say I\\'ve known you longer my dear You like to be so close, I like to be alone I like to sit on chairs and you prefer the floor Walking with each other, Think we\\'ll never match at all, but we do But we do, but we do, but we do I thought I knew myself, somehow you know me more I\\'ve never known this, never before You\\'re the first to make up whenever we argue I don\\'t know who I\\'d be if I didn\\'t know you You\\'re so provocative, I\\'m so conservative You\\'re so adventurous, I\\'m so very cautious, combining You think we would and we do, But we do, but we do, but we do Favoritism ain\\'t my thing but, In this situation I\\'ll be glad Favoritism ain\\'t my thing but, In this situation I\\'ll be glad to make an exception You said I\\'m stubborn and I never give in I think you\\'re stubborn \\'cept you\\'re always softening You say I\\'m selfish, I agree with you on that I think you\\'re giving out in way too much in fact I say we\\'ve only known each other one year You say I\\'ve known you longer my dear You like to be so close, I like to be alone I like to sit on chairs and you prefer the floor Walking with each other, Think we\\'ll never match at all, but we do In the darkness of my heart is a shadow of your face From the deepest part of my regret I hear the words I wish I\\'d said At the dawning of the day I can\\'t wait to see the light Make up memories in my head They help to fill the emptiness you\\'ve left I can\\'t drown in your tears I won\\'t face your fears I need to fight my own You\\'ll never see me again oh baby in time Let the weight take me under I know I\\'ll survive You\\'ll never see me again At the dawning of the day I can\\'t bare to see the light Make up memories in my head They help to fill the emptiness you\\'ve left I can\\'t drown in your tears I won\\'t face your fears I need to fight my own You\\'ll never see me again oh baby in time Let the weight take me under I know I\\'ll survive Let the floor beneath of me fall Let the sky come crashing down Turn all my right to wrong But after you that goes on You\\'ll never see me again I\\'ve been learning to live without you It\\'s taken all of my stake But I\\'m stronger now You\\'ll never see me again oh baby in time Let the weight take me under I know I\\'ll survive Let the floor beneath of me fall Let the sky come crashing down Turn all my right to wrong But after you that goes on You\\'ll never see me again You\\'ll never see me again You\\'ll never see me again I want to see your face in every kind of light In fields of dawn and forests of the night And when you stand before the candles on a cake Oh, let me be the one to hear the silent wish you make What are you doing the rest of your life? North and South and East and West of your life I have only one request of your life That you spend it all with me All the seasons and the times of your days All the nickels and the dimes of your days Let the reasons and the rhymes of your days All begin and end with me I want to see your face in every kind of light In the fields of dawn and the forests of the night And when you stand before the candles on a cake Oh, let me be the one to hear the silent wish you make Those tomorrows waiting deep in your eyes In the world of love that you keep in your eyes I\\'ll awaken what\\'s asleep in your eyes It may take a kiss or two Through all of my life Summer, Winter, Spring, and Fall of my life All I ever will recall of my life Is all of my life with you Wait, do you see my heart on my sleeve? It\\'s been there for days on end and It\\'s been waiting for you to open up Yours too baby, come on now I\\'m trying to tell you just how I\\'d like to hear the words roll out of your mouth finally Say that it\\'s always been me That\\'s made you feel the way you\\'ve never felt before And I\\'m all you need and that you never want more Then you\\'d say all of the right things without a clue But you\\'d save the best for last Like I\\'m the one for you You should know that you\\'re just a temporary fix This is not rooted with you it don\\'t mean that much to me Oh just a filler in the space that happened to be free How dare you think you\\'d get away with trying to play me Why is it every time I think I\\'ve tried my hardest It turns out it ain\\'t enough You\\'re still not mentioning love What am I supposed to do to make you want me properly? I\\'m taking these chances and getting nowhere And though I\\'m trying my hardest you go back to her And I think that I know things may never change I\\'m still hoping one day I might hear you say I make you feel the way you\\'ve never felt before And I\\'m all you need and that you never want more Then you\\'d say all of the right things without a clue But you\\'d save the best for last Like I\\'m the one for you You should know that you\\'re just a temporary fix This is not rooted with you it don\\'t mean that much to me Oh just a filler in the space that happened to be free How dare you think you\\'d get away with trying to play me But, despite the truth that I know I find it hard to let go and give up on you Seems I love the things you do Like the meaner you treat me the more eager I am To persist with this heartbreak and running around And I will do until I\\'m finding myself you And make you feel a way you\\'ve never felt before And be all you need so that you never want more And you\\'ll say all of the right things without a clue And you\\'ll be the one for me and me the one for you I let it fall, my heart, And as it fell you rose to claim it It was dark and I was over Until you kissed my lips and you saved me My hands, they\\'re strong But my knees were far too weak To stand in your arms Without falling to your feet But there\\'s a side to you That I never knew, never knew All the things you\\'d say They were never true, never true And the games you play You would always win, always win But I set fire to the rain Watched it pour as I touched your face Well, it burned while I cried \\'Cause I heard it screaming Out your name, Your name When I lay with you I could stay there Close my eyes Feel you here forever You and me together nothing gets better \\'Cause there\\'s a side to you That I never knew, never knew All the things you\\'d say They were never true, never true And the games you play You would always win, always win But I set fire to the rain Watched it pour as I touched your face Well, it burned while I cried \\'Cause I heard it screaming out your name, Your name I set fire to the rain And I threw us into the flames Well, it felt something died \\'Cause I knew that that was The last time, the last time Sometimes I wake up by the door, That heart you caught must be waiting for you Even now when we\\'re already over I can\\'t help myself from looking for you I set fire to the rain Watched it pour as I touched your face Well, it burned while I cried \\'Cause I heard it screaming Out your name, Your name I set fire to the rain, And I threw us into the flames Well, it felt something died \\'Cause I knew that, that was the last time The last time Let it burn Let it burn Let it burn [Adele] I would never lie to you unless you tell me to... Every part of me All my words to hold And hold against me Why won\\'t you let it be? Don\\'t you ever say my love opened up your heart No I\\'m not gonna do it standing up The words don\\'t come out right when you\\'re right in front of me Help me baby Won\\'t you turn off the lights Lay me down \\'til the morning! Lay me down (through the night) Lay me down (I can fall in) Lay me down (Won\\'t you) Lay me down (I can baby) Lay me down (Someone believe me) I would never break the rules unless you tell me to You can read my mind, be it truth or lies Lie down beside me, why won\\'t you let it be? Don\\'t you ever say my love opened up your heart No I\\'m not gonna do it standing up The words don\\'t come out right when you\\'re right in front of me Help me baby, won\\'t you turn off the lights Lay me down (\\'til the morning) Lay me down (through the night) Lay me down (I can fall in) Lay me down (Won\\'t you) Lay me down (I can baby) Lay me down (Someone believe me) Lay down with me Lay down with me Lay down with me Lay down with me Words don\\'t come out right when you\\'re right in front of me Help me baby, won\\'t you turn off the lights Lay me down (\\'til the morning) Lay me down (through the night) Lay me down (I can fall in) Lay me down (Won\\'t you) Lay me down (I can baby) Lay me down Someone believe me Never been a girl who used to cry Didn`t show emotions, don`t know why Didn`t wanna feel the pain inside, I guess But as the years keep going by, you came along and changed my mind I should leave the past behind me, I should let you find me, supposed to stay beside me You were supposed to guide me, through the ups and downs, you were always gonna be around until the end I still think we could `cause you and me, we`re good And I`ll tell you why this hurts, \\'cause I`m sober But I just wanna be drunk so I can forget about you and all the stupid things that love has put me through Even when I\\'ve had too much, I still feel your touch Maybe this just means that I`m not drunk enough So I pour myself another drink whenever I start to think about you `cause I do but I really don`t want to but sometimes my dreams just come through And when I get there, to a place where I see you in a kitchen I start wishing for that thing and I don`t need you, I don`t really wanna see you and I don`t want you to see me, you would think that I was crazy, you might think that I wanna be close to you but I`d rather wanna drink some Whisky and maybe have a little sip `o wine `cause right now it`s the only thing that makes me forget you were mine but right now I am sober But I just wanna be drunk so I can forget about you and all the stupid things that love has put me through Even when I\\'ve had too much, I still feel your touch Maybe this just means that I`m not drunk enough I still think we could (I`m not drunk enough) `cause you and me, we`re good `cause I`m sober But I just wanna be drunk so I can forget about you and all the stupid things that love has put me through Even when I\\'ve had too much, I still feel your touch Maybe this just means that I`m not drunk enough (I still think we could) But I just wanna be drunk so I can forget about you and all the stupid things that love has put me through (`cause you and me we`re good) Even when I\\'ve had too much, I still feel your touch Maybe this just means that I`m not drunk enough Think I\\'ve had enough I must my way I\\'ve fallen off the edge to find that I\\'ve gone blind You\\'re leading me astray You haunt me like a ghost And that scares me the most There you are the devil on my shoulder Smiling as the flames are growing colder How can I believer what I have? For a little confidence I\\'ll grab But when my hand goes out don\\'t take it for I\\'m trying to make it on my own I fell it in my bones any minute now! This train of thought will leave the statio My impatience will come out to play You\\'ve turned out to be the only face I see! Running through the empty hallways I can tell that I am not alone You spin a web in every room You spin a web in every room And try to break the backbone that I\\'ve grown Will I make my own path or wander where I\\'m thrown Will I make my own path or wander where I\\'m thrown Or wander where I\\'m thrown? When we used To say goodnight I\\'d always kiss And hold you tight But lately You don\\'t seem To care You close the door And leave me Standing there Oh, honey That\\'s not fair That\\'s it I quit I\\'m movin\\' on The other night We had a date An you showed up Two hours late And though your hair Was all in place Somebody smeared Their lipstick On your face Oh, they smeared it Every place Ye that\\'s it honey I quit I\\'m movin\\' on [Chorus] You made me want you You made me leave you You made me tumble And fall But if I Can\\'t have you the way I want you I don\\'t want you at all Baby, I can take a lot \\'Cause I love Everything you got Though your kisses Fill me So if you got Someone else I gotta go Oh, that you know Ye that\\'s it honey I quit I\\'m movin\\' on [Chorus] Baby I can take a lot \\'Cause I love Everything you got Though your kisses Fill me So if you got Someone else I gotta go Oh, that you know So that\\'s it baby I quit I\\'m movin\\' on Ye that\\'s it baby I quit now I\\'m movin\\' on Don\\'t ask me What you know is true Don\\'t have to tell you I love your precious heart I was standing You were there Two worlds collided And they could never tear us apart We could live For a thousand years But if I hurt you I\\'d make wine from your tears I told you That we could fly \\'Cause we all have wings But some of us don\\'t know why I I was standing You were there Two worlds collided And they could never ever tear us apart I know sometimes you\\'re scared of the light But how will you ever know if you never try There\\'s something new inside my heart And it grabs like a child whenever we\\'re apart I see your face under every sky I find the less I look, more I find So let\\'s go back there, back to the star You know I\\'m never gonna leave you You\\'re the only one I want Let\\'s go back there, back to the star You know I\\'m never gonna leave you You\\'re the only one I want You know sometimes that I\\'m scared of the dark But I\\'m feeling sun babe when I\\'m in your arms You said my name in the dead of glory You hold me alright When I\\'m short of falling So let\\'s go back there, back to the star You know I\\'m never gonna leave you You\\'re the only one I want Let\\'s go back there, back to the star You know I\\'m never gonna leave you You\\'re the only one I want There will be times When we\\'ll try to give it up Bursting out, it seems no doubt that will almost fall apart than burn to pieces And we\\'ll watch them turn to dust But without each other, nothing is easy enough So let\\'s go back there, back to the star You know I\\'m never gonna leave you You\\'re the only one I want Let\\'s go back there, back to the star You know I\\'m never gonna leave you \\'cause you\\'re the only one I want, yeah You\\'re the only one Never gonna leave you No, I\\'m never gonna leave you, no Go ahead, go ahead and smash it on the floor Take whatever is left, and take it with you out the door See if I cry See if I shed a single sorry tear Can\\'t say that it\\'s been that great No in fact it\\'s been a wasted worried year [Chorus] Everybody sees And everyone agrees That you and I are wrong And it\\'s been that way to long Take it as it comes And be thankful when it\\'s done There\\'s so many ways to act And there\\'s many shades of black There\\'s so many shades of black Let it out, let it all out Say what\\'s on your mind You can kick and scream and shout and say things that are so unkind Yeah-see if I care, see if I stand firm or if I fall Cause in the back of my mind, and on the tip of my tongue Is the answer to it all [Chorus] Yeah there\\'s many shades of black [Chorus] Cause there\\'s many shades of black There\\'s so many shades of black Yeah there\\'s any shades of black There\\'s so many shades of black Yeah there\\'s many shades of black There\\'s so many shades of black And there\\'s many shades of black There\\'s so many shades of black Go ahead... Last night she said Oh, baby I feel so down Oh, and turned me off When I feel left out So I I turned around Oh, baby I don\\'t care no more I know this for sure I\\'m walking Out that door Well, I\\'ve been in town For just about fifteen Whole minutes now Oh, baby, I feel so down And I don\\'t know why I keep walking for miles But the people They don\\'t understand No, girlfriends They can\\'t understand Your grandsons They won\\'t understand On top of this I ain\\'t ever Gonna understand Last night she said Oh, baby Don\\'t feel so down Oh, and turned me off When I feel left out So I, I turned around Oh, baby I\\'m gonna be alright It was a great big lie Cuz I left that night Yeah Oh, people They don\\'t understand No, girlfriends They don\\'t understand In spaceships They won\\'t understand And me I ain\\'t ever Gonna understand Last night she said Oh, baby I feel so down She had turned me off When I feel left out So I I turned around Oh, little girl I don\\'t care no more I know this for sure I\\'m walking Out that door, yeah Painting pictures with my mind Making memories using my eyes Filling up my heart with golden stories Who adds some spice to the rhythm of life, oh Welcome sunrise with the morning glory I\\'ve changed my mind There is no simple I thought of me, I want to see I want to feel my heartbeat so With the world that you feel, leave I can feel the pressure pushing onto my heart And it\\'s teasing me To scratch my itch and beat my drum So I can start to begin what\\'s begun Painting pictures Filling up my heart with golden stories Painting pictures Filling up my heart with golden stories Running riots inside my soul Fire burning and it\\'s lighting me up To scratch my itch and beat my drum So I can finish what has begun Painting pictures Filling up my heart with golden stories Painting pictures Filling up my heart with golden stories Sometimes the hole you left hurts My heart so bad, it cuts through The deepest parts of me and fills up my mouth with the words that cry Out, I\\'m still trying to stay inside Hearts break and hearts wait To make us grow from dust Then our eyes cry and souls sigh So that we know that it hurts Our hearts break and hearts wait To make us grow from dust Then our eyes cry and souls sigh So that we know that it hurts Every now and then my memories ache With empty ideas of the ones we\\'d have made it But as time goes on and my age gets older I love the ones I know, they\\'re enough to picture the rest \\'Cause heart break and hearts wait To make us grow from dust Then our eyes cry and souls sigh So that we know that it hurts Our hearts break and hearts wait To make us grow from dust Then our eyes cry and souls sigh So that we know that it hurts You know when to make me, imagine you\\'re here You know when to make me, imagine you\\'re here You know when to make me, imagine you\\'re here You know when to make me, imagine you\\'re here Find yourself a girl And settle down Live a simple life In a quiet town Steady as she goes (Steady as she goes) Steady as she goes (Steady as she goes) So steady as she goes Your friends have shown A kink In the single life You\\'ve had Too much to think Now you need a wife Steady as she goes (Steady as she goes) So steady as she goes (Steady as she goes) Well here we go again You\\'ve found yourself A friend That knows you well But no matter What you do You\\'ll always feel As though you Tripped and fell So steady as she goes When you have completed What you thought You had to do And your blood\\'s Depleted To the point Of stable glue Then you\\'ll get along Then you\\'ll get along Steady as she goes (Steady as she goes) So steady as she goes (Steady as she goes) Well here we go again You\\'ve found yourself A friend That knows you well But no matter What you do You\\'ll always feel As though you Tripped and fell So steady as she goes Steady as she goes Settle for a girl (Settle for a girl) Neither up or down (Neither up or down) Sell it to the crowd (Sell it to the crowd) That is gathered round (That is gathered round) Settle for a girl (Settle for a girl) Neither up or down (Neither up or down) Sell it to the crowd (Sell it to the crowd) That is gathered round (That is gathered round) So steady as she goes (Steady as she goes) Steady as she goes (Steady as she goes) Steady as she goes (Steady as she goes) So steady as she goes (Steady as she goes) Steady as she go Are you steady now? Steady as she goes Are you steady now? Steady as she goes Are you steady now? Steady as she goes Are you steady now? Steady as she goes I\\'m insane in the brain You\\'re not already... Feel the pain running through my veins Don\\'t you piss me off, pretentious, ostentatious Other words are spring to me ... emolicious, for the shoot posses no... And you want me to respect you And have... for yourself You\\'re out of control with nobody around to help Help, help oh oh. Chorus: This time you\\'re on your own Running back to mommy hoping that she\\'s home But if she\\'s not there and you\\'re on your alone So... you then go calling Call it a fiasco, call it a fiasco, fiasco ... fiasco, fiasco,... fiasco 1 2 3 4. Hustle... Wanna try to testify in a... of happiness Be the best, have success, Doesn\\'t mean you\\'re Hollywood Feel blessed not impressed By the glamour if you think you could. And you want me to respect you And have... for yourself You\\'re out of control with nobody around to help Help, help oh oh. Chorus: This time you\\'re on your own Running about the mammy hoping that she\\'s home But if she\\'s not there and you\\'re on your alone So... you then go calling Fiasco, call it fiasco, fiasco ... fiasco, fiasco,... fiasco 1 2 3 4. Fiasco, fiasco [Chorus:] 1 2 3 4 I\\'m calling, I\\'m calling, I\\'m calling it fiasco, I\\'m calling, I\\'m calling, I\\'m calling it fiasco, I\\'m calling, I\\'m calling, I\\'m calling it fiasco. Can we forget about the things I said when I was drunk... I didn\\'t mean to call you that I can\\'t remember what was said Or what you threw at me Please tell me Please tell me why My car is in the front yard And I am sleeping with my cloths on I came in throught the window... Last night And your... Gone Gone It\\'s no suprise to me I am my own worst enemy Cuz every now and then I kick the living shit out of me The smoke alarm is going offf and there a cigarette Still buring Please tell me why My car is in the front yard And I\\'m sleeping with my clothes on I came in throught the windo last night And your gone Gone Please tell me why My car is in the front yard And I am sleeping with my clothes on I came inthrough the windo last night It\\'s no suprise to me I am my own worst enemy Cuz every now and then I kick the livin\\' shit out of me Can we forget about the things I said when I was drunk I didn\\'t mean to call you that I, I can\\'t get you more pregnant but if you\\'re worried, all I can take care of myself, I can take care of myself. Remember the days We would drink on the train On our way to the show, Chicago Naked Raygun live at the Cabaret Metro Ten bucks to get into a fight you can\\'t win Boots and braces, yellow laces Oxblood traces of the night before We are forgotten young suburbia Loose on the streets of California Underneath fluorescent lights We\\'ll waste the best nights of our life Fuck this place, let\\'s put up a parking lot (Na, na na, na na, na na Na, na na, na na, na na) Fuck this place, let\\'s put up a parking lot I can\\'t wait \\'til I\\'m off of work I\\'ll meet my friends at the Target curb I rolled my ankle, Matt just broke his wrist I climbed through your window at 3am We listened to The Smiths and The Violent Femmes Yeah, we both sang, \"Why can\\'t I get one kiss?\" We are forgotten young suburbia Loose on the streets of California Underneath fluorescent lights We\\'ll waste the best nights of our life Fuck this place, let\\'s put up a parking lot We are the broken No end in sight We\\'re the forgotten soldiers you left behind There\\'s no use trying We lost the war Now the dead and dying Are back to even the score We are forgotten young suburbia Loose on the streets of California Underneath fluorescent lights We\\'ll waste the best nights of our life Fuck this place, let\\'s put up a parking lot Na, na na, na na, na na Na, na na, na na, na na Fuck this place, let\\'s put up a parking lot I\\'m a wreck, I\\'m out of time I barely made it out alive I\\'m not bent, I\\'m not cracked I\\'m just broken I watched the fire burn the sea I wrapped my car around a tree Hold me up, underneath This heavy burden There\\'s a halo in the distance Salvation\\'s barely out of reach Torn apart like the brokenhearted Up in smoke with the fire we started Misery loves company I don\\'t need anyone Smash it up like there\\'s no tomorrow Leave me here with the fear and sorrow Misery loves company I don\\'t need anyone Tied up to a heart of stone I screamed into a microphone I burned the bridge, so I won\\'t find my way home (find my way home) Lay with me, I can\\'t sleep Misery loves company When I\\'m bent, when I\\'m cracked When I\\'m broken There\\'s a halo in the distance Salvation\\'s barely out of reach (out of reach) Torn apart like the brokenhearted Up in smoke with the fire we started Misery loves company I don\\'t need anyone Smash it up like there\\'s no tomorrow Leave me here with the fear and sorrow Misery loves company I don\\'t need anyone I don\\'t need anyone I don\\'t need anyone I don\\'t need anyone I don\\'t need anyone I don\\'t need anyone Fifteen times a night, when the sun\\'s gone down In the dark awake and you\\'re not around And the closest thought is the edge of oblivion Fifteen times a day when you check your phone And I won\\'t be there and you\\'re all alone \\'Cause we always lived on the edge of oblivion Left to find our way through a Hitchcock film In an empty bed with an hour to kill \\'Cause it\\'s only fun on the edge of oblivion (oblivion) Torn apart like the brokenhearted Up in smoke with the fire we started Misery loves company I don\\'t need anyone Smash it up like there\\'s no tomorrow Leave me here with the fear and sorrow Misery loves company I don\\'t need anyone I don\\'t need anyone I don\\'t need anyone I don\\'t need anyone I don\\'t need anyone I don\\'t need anyone Hello there, the angel from my nightmare The shadow in the background of the morgue The unsuspecting victim of darkness in the valley We can live like Jack and Sally if we want Where you can always find me We\\'ll have Halloween on Christmas And in the night we\\'ll wish this never ends We\\'ll wish this never ends (I miss you, miss you) (I miss you, miss you) Where are you and I\\'m so sorry I cannot sleep, I cannot dream tonight I need somebody and always This sick strange darkness Comes creeping on so haunting every time And as I stared I counted Webs from all the spiders Catching things and eating their insides Like indecision to call you And hear your voice of treason Will you come home and stop this pain tonight Stop this pain tonight Don\\'t waste your time on me you\\'re already The voice inside my head (I miss you, miss you) Don\\'t waste your time on me you\\'re already The voice inside my head (I miss you, miss you) Don\\'t waste your time on me you\\'re already The voice inside my head (I miss you, miss you) Don\\'t waste your time on me you\\'re already The voice inside my head (I miss you, miss you) Don\\'t waste your time on me you\\'re already The voice inside my head (I miss you, miss you) Don\\'t waste your time on me you\\'re already The voice inside my head (I miss you, miss you) (I miss you, miss you) (I miss you, miss you) (I miss you, miss you) (I miss you, miss you) (I miss you miss you) Hello there the angel from my nightmare The shadow in the background of the morgue The unsuspecting victim of darkness in the valley We can live like Jack and Sally if we want Where you can always find me And we\\'ll have Halloween on Christmas And in the night we\\'ll wish this never ends We\\'ll wish this never ends (I miss you I miss you) (I miss you I miss you) Where are you and I\\'m so sorry I cannot sleep I cannot dream tonight I need somebody and always This sick strange darkness Comes creeping on so haunting every time And as I stared I counted The Webs from all the spiders Catching things and eating their insides Like indecision to call you And hear your voice of treason Will you come home and stop the pain tonight Stop this pain tonight Don\\'t waste your time on me you\\'re already The voice inside my head (I miss you miss you) Don\\'t waste your time on me you\\'re already The voice inside my head (I miss you miss you) Don\\'t waste your time on me you\\'re already The voice inside my head (I miss you miss you) Don\\'t waste your time on me you\\'re already The voice inside my head (I miss you miss you) Don\\'t waste your time on me you\\'re already The voice inside my head (I miss you miss you) Don\\'t waste your time on me you\\'re already The voice inside my head (I miss you miss you) I miss you (miss you miss you) (I miss you miss you) I took her out, it was a Friday night I wore cologne to get the feeling right We started making out and she took off my pants But then I turned on the TV And that\\'s about the time she walked away from me Nobody likes you when you\\'re twenty three And I\\'m still more amused by TV shows What the hell is A.D.D.? My friends say I should act my age What\\'s my age again, what\\'s my age again? Then later on, on the drive home I called her mom from a pay phone I said I was the cops And your husband\\'s in jail The state looks down on sodomy And that\\'s about the time that bitch hung up on me Nobody likes you when you\\'re twenty three And I\\'m still more amused by prank phone calls What the hell is call ID? My friends say I should act my age What\\'s my age again, what\\'s my age again? And that\\'s about the time she walked away from me Nobody likes you when you\\'re twenty three And you still act like you\\'re in freshman year What the hell is wrong with me? My friends say I should act my age What\\'s my age again, what\\'s my age again? That\\'s about the time she broke up with me No one should take themselves so seriously With many years ahead to fall in line Why would you wish that on me? I never want to act my age What\\'s my age again, what\\'s my age again? What\\'s my age again? All the small things True care truth brings I\\'ll take one lift Your ride best trip Always I know You\\'ll be at my show Watching, waiting, commiserating Say it ain\\'t so, I will not go Turn the lights off, carry me home Na, na, na, na Na, na, na, na, na, na, na, na, na, na, na Late night, come home Work sucks, I know She left me roses by the stairs Surprises let me know she cares Say it ain\\'t so, I will not go Turn the lights off, carry me home Na, na, na, na Na, na, na, na, na, na, na, na, na, na, na Say it ain\\'t so, I will not go Turn the lights off, carry me home Keep your head still, I\\'ll be your thrill The night will go on, my little windmill Say it ain\\'t so, I will not go Turn the lights off, carry me home Keep your head still, I\\'ll be your thrill The night will go on The night will go on My little windmill Shit, piss, fuck, cunt, cock-sucker, Mother-fucker, tits, fart, turd, and twat. Shit, piss, fuck, cunt, cock-sucker, Mother-fucker, tits, fart, turd, and twat. Shit, piss, fuck, cunt, cock-sucker, Mother-fucker, tits, fart, turd, and twat. Shit, piss, fuck, cunt, cock-sucker, Mother-fucker, tits, fart, turd, and twat. I fucked your mom I wunna suck my dad, and my mom too, oh is this thing on? (I miss you miss you) Hello there the angel from my nightmare The shadow in the background of the morgue The unsuspecting victim of darkness in the valley We can live like Jack and Sally if we want Where you can always find me And we\\'ll have Halloween on Christmas And in the night we\\'ll wish this never ends We\\'ll wish this never ends (I miss you I miss you) (I miss you I miss you) Where are you and I\\'m so sorry I cannot sleep I cannot dream tonight I need somebody and always This sick strange darkness Comes creeping on so haunting every time And as I stared I counted The Webs from all the spiders Catching things and eating their insides Like indecision to call you And hear your voice of treason Will you come home and stop the pain tonight Stop this pain tonight Don\\'t waste your time on me you\\'re already The voice inside my head (I miss you miss you) Don\\'t waste your time on me you\\'re already The voice inside my head (I miss you miss you) Don\\'t waste your time on me you\\'re already The voice inside my head (I miss you miss you) Don\\'t waste your time on me you\\'re already The voice inside my head (I miss you miss you) Don\\'t waste your time on me you\\'re already The voice inside my head (I miss you miss you) Don\\'t waste your time on me you\\'re already The voice inside my head (I miss you miss you) I miss you (miss you miss you) (I miss you miss you) It\\'s alright to tell me what you think about me I won\\'t try to argue or hold it against you I know that you\\'re leaving, you must have your reasons The season is calling, your pictures are falling down The steps that I retrace, the sad look on your face The timing and structure did you hear he fucked her? A day late a buck short I\\'m writing the report On losing and failing when I move I\\'m flailing now And it\\'s happened once again I\\'ll turn to a friend Someone that understands Sees through the master plan But everybody\\'s gone And I\\'ve been here for too long To face this on my own, well I guess this is growing up Well I guess this is growing up And maybe I\\'ll see you at a movie sneak preview You\\'ll show up and walk by on the arm of that guy And I\\'ll smile and you\\'ll wave, we\\'ll pretend it\\'s okay The charade, it won\\'t last, when he\\'s gone I won\\'t come back And it\\'ll happen once again You\\'ll turn to a friend Someone that understands And sees through the master plan But everybody\\'s gone And you\\'ve been there for too long To face this on your own, well I guess this is growing up Well, I guess this is growing up Well, I guess this is growing up Well, I guess this is growing up Well, I guess this is growing up Well, I guess this is growing up I never thought I\\'d die alone I laughed the loudest who\\'d have known? I trace the cord back to the wall No wonder it was never plugged in at all I took my time, I hurried up The choice was mine I didn\\'t think enough I\\'m too depressed to go on You\\'ll be sorry when I\\'m gone I never conquered, rarely came Sixteen just held such better days Days when I still felt alive We couldn\\'t wait to get outside The world was wide, too late to try The tour was over, we\\'d survived I couldn\\'t wait till I got home To pass the time in my room alone I never thought I\\'d die alone Another six months I\\'ll be unknown Give all my things to all my friends You\\'ll never step foot in my room again You\\'ll close it off, board it up Remember the time that I spilled the cup Of apple juice in the hall Please tell mom this is not her fault I never conquered, when you came Sixteen just held such better days Days when I still felt alive We couldn\\'t wait to get outside The world was wide, too late to try The tour was over, we\\'d survived I couldn\\'t wait till I got home To pass the time in my room alone I never conquered, when you came Tomorrow holds such better days Days when I can still feel alive When I can\\'t wait to get outside The world is wide, the time goes by The tour is over, I\\'ve survived I can\\'t wait till I get home To pass the time in my room alone In the car I just can\\'t wait To pick you up on our very first date Is it cool if I hold your hand? Is it wrong if I think it\\'s lame to dance? Do you like my stupid hair? Would you guess that I didn\\'t know what to wear? I\\'m just scared of what you think You make me nervous so I really can\\'t eat Let\\'s go Don\\'t wait This night\\'s almost over Honest, let\\'s make This night last forever Forever and ever Let\\'s make this last forever Forever and ever Let\\'s make this last forever When you smile, I melt inside I\\'m not worthy for a minute of your time I really wish it was only me and you I\\'m jealous of everybody in the room Please don\\'t look at me with those eyes Please don\\'t hint that you\\'re capable of lies I dread the thought of our very first kiss A target that I\\'m probably gonna miss Let\\'s go Don\\'t wait This night\\'s almost over Honest, let\\'s make This night last forever Forever and ever Let\\'s make this last forever Forever and ever Let\\'s make this last forever Let\\'s go Don\\'t wait This night\\'s almost over Honest, let\\'s make This night last forever Forever and ever Let\\'s make this last forever Forever and ever Let\\'s make this last forever Forever and ever Let\\'s make this last forever Forever and ever Let\\'s make this last forever I\\'ve been here before a few times And I\\'m quite aware we\\'re dying And your hands they shake with goodbyes And I\\'ll take you back if you\\'d have me So here I am I\\'m trying So here I am are you ready Come on let me hold you touch you feel you Always Kiss you taste you all night Always And I\\'ll miss your laugh your smile I\\'ll admit I\\'m wrong if you\\'d tell me I\\'m so sick of fights I hate them Lets start this again for real So here I am I\\'m trying So here I am are you ready So here I am I\\'m trying So here I am are you ready Come on let me hold you touch you feel you Always Kiss you taste you all night Always Touch you feel you Always Kiss you taste you all night Always I\\'ve been here before a few times And I\\'m quite aware we\\'re dying Come on let me hold you touch you feel you Always Kiss you taste you all night Always Touch you feel you Always Kiss you taste you all night Always (Get ready for action!) I got to regret right now (I\\'m feeling this) The air is so cold and null (I\\'m feeling this) Let me go in her room (I\\'m feeling this) I wanna take off her clothes (I\\'m feeling this) Show me the way to bed (I\\'m feeling this) Show me the way you move (I\\'m feeling this) Fuck it it\\'s such a blur (I\\'m feeling this) I love all the things you do (I\\'m feeling this) Fate fell short this time Your smile fades in the summer Place your hand in mine I\\'ll leave when I wanna Where do we go from here Turn all the lights down now Smiling from ear to ear (I\\'m feeling this) Our breathing has got too loud (I\\'m feeling this) Show me the bedroom floor (I\\'m feeling this) Show me the bathroom mirror (I\\'m feeling this) We\\'re taking this way too slow (I\\'m feeling this) Take me away from here (I\\'m feeling this) Fate fell short this time Your smile fades in the summer Place your hand in mine I\\'ll leave when I wanna Fate fell short this time Your smile fades in the summer Place your hand in mine I\\'ll leave when I wanna This place was never the same again After you came and went How can you say you meant anything different To anyone standing alone On the street with a cigarette On the first night we met Look to the past And remember her smile And maybe tonight I can breathe for a while I\\'m not in the seat I think I\\'m fallin\\' asleep But then all that it means is I\\'ll always be dreaming of you Fate fell short this time Your smile fades in the summer Place your hand in mine I\\'ll leave when I wanna Fate fell short this time Your smile fades in the summer Place your hand in mine I\\'ll leave when I wanna Fate fell short this time Your smile fades in the summer Place your hand in mine I\\'ll leave when I wanna Fate fell short this time Your smile fades in the summer Place your hand in mine I\\'ll leave when I wanna Fate fell short this time Your smile fades in the summer Place your hand in mine I\\'ll leave when I wanna I said settle down, settle down everything is fine Take your eyes off the floor She said no I\\'m not, no I\\'m not, no I\\'m not alright I lost my head on the door She\\'s a-a-a-antisocial A-a-a-antisocial A-a-a She\\'s an angel yeah I\\'m in deep with this girl but she\\'s out of her mind (wooo oh oh ohhh oh) She said babe I\\'m sorry but I\\'m crazy tonight (wooo oh oh ohhh oh) She got a black shirt, black skirt and Bauhaus stuck in her head I\\'m in deep with this girl but she\\'s out of her mind (wooo oh oh ohhh oh) Oh yeah We all need something to live for Oh yeah We all need something to live for She said I let her down, let her down I no longer dream Of anything anymore Said I\\'m a know-it-all, know-it-all you make me want to scream And threw herself on the floor She\\'s a-a-a-antisocial A-a-a-antisocial A-a-a She\\'s an angel yeah I\\'m in deep with this girl but she\\'s out of her mind (wooo oh oh ohhh oh) She said babe I\\'m sorry but I\\'m crazy tonight (wooo oh oh ohhh oh) She got a black shirt, black skirt and Bauhaus stuck in her head I\\'m in deep with this girl but she\\'s out of her mind (wooo oh oh ohhh oh) She\\'s not complicated Can\\'t be overstated at all She\\'s not complicated-ated-ated at all I\\'m in deep with this girl but she\\'s out of her mind (wooo oh oh ohhh oh) (she\\'s out of her mind) She said babe I\\'m sorry but I\\'m crazy tonight (wooo oh oh ohhh oh) She got a black shirt, black skirt and Bauhaus stuck in her head I\\'m in deep with this girl but she\\'s out of her mind (wooo oh oh ohhh oh) Oh yeah We all need something to live for Oh yeah We all need something to live for It\\'s hard to wake up When the shades have been pulled shut This house is haunted It\\'s so pathetic It makes no sense at all I\\'m ripe with things to say The words rot and fall away What stupid poem could fix this home I\\'d read it every day So here\\'s your holiday Hope you enjoy it this time You gave it all away It was mine So when you\\'re dead and gone Will you remember this night Twenty years now lost It\\'s not right Their anger hurts my ears Been running strong for seven years Rather than fix the problems They never solve them It makes no sense at all I see them everyday We get along, so why can\\'t they? If this is what he wants And this is what she wants Then why is there so much pain? So here\\'s your holiday Hope you enjoy it this time You gave it all away It was mine So when you\\'re dead and gone Will you remember this night Twenty years now lost It\\'s not right So here\\'s your holiday Hope you enjoy it this time You gave it all away It was mine So when you\\'re dead and gone Will you remember this night Twenty years now lost It\\'s not right It\\'s not right It\\'s not right It\\'s not right I can\\'t get my feet up off the edge I kinda like the little rush you get When you\\'re standing close to death Like when you\\'re driving me crazy Hold on as we crash into the earth A bit of pain will help us suffer when you\\'re hurt For real \\'cause you were driving me crazy Bite your lips, your word\\'s a robbery Do you grin inside, you\\'re killing me All along we talked of forever I kinda think that we won\\'t get better It\\'s the longest start, but the end is not too far away Did you know, I\\'m here to stay We\\'ll stagger home after midnight Sleep arm-in-arm in the stairwell We\\'ll fall apart on the weekend These nights go on and on and on I can\\'t keep your voice out of my head All I hear are the many echoes of The darkest words you said And it\\'s driving me crazy I can\\'t find the best in all of this But I\\'m always looking out for you \\'Cause you\\'re the one I miss And it\\'s driving me crazy Bite your lips, your word\\'s a robbery Do you grin inside, you\\'re killing me All along we talked of forever I kinda think that we won\\'t get better It\\'s the longest start, but the end\\'s not too far away Did you know, I\\'m here to stay We\\'ll stagger home after midnight Sleep arm-in-arm in the stairwell We\\'ll fall apart on the weekend These nights go on and on and on We\\'ll stagger home after midnight Sleep arm-in-arm in the stairwell We\\'ll fall apart on the weekend These nights go on and on and on We\\'ll stagger home after midnight Sleep arm-in-arm in the stairwell We\\'ll fall apart on the weekend These nights go on and on and on We\\'ll stagger home after midnight Sleep arm-in-arm in the stairwell We\\'ll fall apart on the weekend These nights go on and on and on I\\'m a wreck, I\\'m out of time I barely made it out alive I\\'m not bent, I\\'m not cracked I\\'m just broken I watched the fire burn the sea I wrapped my car around a tree Hold me up, underneath This heavy burden There\\'s a halo in the distance Salvation\\'s barely out of reach Torn apart like the brokenhearted Up in smoke with the fire we started Misery loves company I don\\'t need anyone Smash it up like there\\'s no tomorrow Leave me here with the fear and sorrow Misery loves company I don\\'t need anyone Tied up to a heart of stone I screamed into a microphone I burned the bridge, so I won\\'t find my way home (find my way home) Lay with me, I can\\'t sleep Misery loves company When I\\'m bent, when I\\'m cracked When I\\'m broken There\\'s a halo in the distance Salvation\\'s barely out of reach (out of reach) Torn apart like the brokenhearted Up in smoke with the fire we started Misery loves company I don\\'t need anyone Smash it up like there\\'s no tomorrow Leave me here with the fear and sorrow Misery loves company I don\\'t need anyone I don\\'t need anyone I don\\'t need anyone I don\\'t need anyone I don\\'t need anyone I don\\'t need anyone Fifteen times a night, when the sun\\'s gone down In the dark awake and you\\'re not around And the closest thought is the edge of oblivion Fifteen times a day when you check your phone And I won\\'t be there and you\\'re all alone \\'Cause we always lived on the edge of oblivion Left to find our way through a Hitchcock film In an empty bed with an hour to kill \\'Cause it\\'s only fun on the edge of oblivion (oblivion) Torn apart like the brokenhearted Up in smoke with the fire we started Misery loves company I don\\'t need anyone Smash it up like there\\'s no tomorrow Leave me here with the fear and sorrow Misery loves company I don\\'t need anyone I don\\'t need anyone I don\\'t need anyone I don\\'t need anyone I don\\'t need anyone I don\\'t need anyone There\\'s an echo pulling out the meaning Rescuing a nightmare from a dream The voices in my head are always screaming That none of this means anything to me And it\\'s a long way back from seventeen The whispers turn into a scream And I\\'m, I\\'m not coming home Save your breath, I\\'m nearly Bored to death and fading fast Life is too short to last long Back on earth, I\\'m broken Lost and cold and fading fast Life is too short to last long There\\'s a stranger staring at the ceiling Rescuing a tiger from a tree The pictures in her head are always dreaming Each of them means everything to me And it\\'s a long way back from seventeen The whispers turn into a scream And I\\'m, I\\'m not coming home Save your breath, I\\'m nearly Bored to death and fading fast Life is too short to last long Back on earth, I\\'m broken Lost and cold and fading fast Life is too short to last long Oh oh oh oh oh oh oh Oh oh oh oh oh oh oh oh (Oh oh oh oh) I think I met her at the minute that the rhythm was set down (Oh oh oh oh) I said I\\'m sorry I\\'m a little bit of a letdown (Oh oh oh oh) but all my friends are daring me to come over (Oh oh oh oh) so I come over and over and over (Oh oh oh oh) so let me buy you a drink and we\\'ll pretend that you think (Oh oh oh oh) that I\\'m the man of your dreams come to life in a dive bar (Oh oh oh oh) and we\\'ll go over and over and over (Oh oh oh oh) and we\\'ll go over and over and over (Oh oh oh oh) and we\\'ll go over and over and over (Oh oh oh oh) and we\\'ll go over and over and over Save your breath, I\\'m nearly Bored to death and fading fast Life is too short to last long Back on earth, I\\'m broken Lost and cold and fading fast Life is too short to last long (Oh oh oh oh oh, oh oh) (Oh oh oh oh oh oh oh life is too short to last long) (Oh oh oh oh oh oh oh oh) Yeah my girlfriend takes me home when I\\'m too drunk to drive And she doesn\\'t get all jealous when I hang out with the guys She laughs at my dumb jokes when no one does She brings me mexican food from sombrero just because And my girlfriend likes ul and dhc And she\\'s so smart and independent I dont think she needs me Quite half as much as I know I need her I wonder why there\\'s not another guy that she\\'d prefer And when I feel like giving up like my world is falling down I show up at three a.m. she\\'s still up watching vacation And I see her pretty face it takes me away to a better place And I know that everything\\'s gonna be fine Yeah my girlfriend takes collect calls from the road And it doesn\\'t seem to matter that I\\'m lacking in the bulge She laughs at my dumb jokes when no one does She brings me mexican food from sombrero just because And when I feel like giving up like my world is falling down I show up at three a.m. she\\'s still up watching vacation And I see her pretty face it takes me away to a better place And I know that everything\\'s gonna be fine Hanging out behind the club on the weekend Acting stupid, getting drunk with my best friends I couldn\\'t wait for the summer and the Warped Tour I remember it\\'s the first time that I saw her there She\\'s getting kicked out of school cause she\\'s failing I\\'m kind of nervous cause I think all her friends hate me She\\'s the one, she\\'ll always be there She took my hand and that made it I swear Because I fell in love with the girl at the rock show She said \"what?\" and I told her that I didn\\'t know She\\'s so cool, I\\'m gonna sneak in through her window Everything\\'s better when she\\'s around I can\\'t wait till her parents go out of town I fell in love with the girl at the rock show When we said we were gonna move to Vegas I remember the look her mother gave us Seventeen without a purpose or direction We don\\'t owe anyone a fucking explanation I fell in love with the girl at the rock show She said \"what?\" and I told her that I didn\\'t know She\\'s so cool, I\\'m gonna sneak in through her window Everything\\'s better when she\\'s around I can\\'t wait till her parents go out of town I fell in love with the girl at the rock show Black and white picture of her on my wall I waited for her call She always kept me waiting And if I ever got another chance I\\'d still ask her to dance Because she kept me waiting I fell in love with the girl at the rock show She said \"what?\" and I told her that I didn\\'t know She\\'s so cool, I\\'m gonna sneak in through her window Everything\\'s better when she\\'s around I can\\'t wait till her parents go out of town I fell in love with the girl at the rock show With the girl at the rock show With the girl at the rock show (I\\'ll never forget tonight) with the girl at the rock show (I\\'ll never forget tonight) with the girl at the rock show (I\\'ll never forget tonight) with the girl at the rock show (I\\'ll never forget tonight) with the girl at the rock show The drops of rain they fall all over This awkward silence makes me crazy The glow inside burns light upon her I\\'ll try to kiss you if you let me (this can\\'t be the end) Tidal waves they rip right through me Tears from eyes worn cold and sad Pick me up now, I need you so bad Down down down down Down down down down Down down down down Down down down down It gets me so Down down down down Down down down down Down down down down Down down down down It gets me so Your vows of silence fall all over The look in your eyes makes me crazy I feel the darkness break upon her I\\'ll take you over if you let me (You did this) Tidal waves they rip right through me Tears from eyes worn cold and sad Pick me up now, I need you so bad. Down down down down Down down down down Down down down down Down down down down It gets me so Down down down down Down down down down Down down down down Down down down down It gets me so It\\'s understood, I said it many ways Too scared to run, I\\'m too scared stay I said I\\'d leave, but I could never leave her And if I did, you know I\\'d never cheat her But this I ask, it\\'s what I want to know How would you feel, if I should choose to go Another guy, you think he\\'d be unlike me Another guy, you think he\\'d want to fight me She\\'s a dove, she\\'s a fucking nightmare Unpredictable, it was my mistake to stay here On the go and it\\'s way too late to play I need a girl that I can train I heard it once, I\\'m sure I heard it twice My dad used to give me all of his advice He would say you got to turn your back and run now Come on son, you haven\\'t got a chance now She\\'s a dove, she\\'s a fucking nightmare Unpredictable, it was my mistake to stay here On the go and it\\'s way too late to play I need a girl that I can train She\\'s a dove, she\\'s a fucking nightmare Unpredictable, it was my mistake to stay here On the go and it\\'s way too late to play I need a girl that I can train Need a girl that I can train Need a girl that I can train Turn your back and run now You haven\\'t got a chance now Need a girl that I can train Need a girl that I can train Turn your back and run now You haven\\'t got a chance now Nineteen, your eyes are glowing to my beating heart Oh, it seems like it is fine as my hand is moving up your arm And you never really know where it goes up until it starts I got my eye on you Whatcha gonna do Day dream near a stream with the linear bites Oh, I listen to the song on repeat from the other night And I can\\'t picture you but I sure got the feeling right What a crazy world Pretty little girl And we wake from the night in a bed with a bruise And we\\'re laughing out loud over the craziest news And you reached for my hand I was scared in your room We fell on the floor and we started to move And your hands were like birds as they flew from the coop Up my back they would climb just as I came unglued She said If you break my heart then I\\'ll change your mind And I\\'ll do it again If you play the part then I will play mine And I\\'ll do it again If we miss the mark if we hold on tight We\\'ll be there to try it again Nineteen as we roll across the bedroom floor Your eyes they cannot lie as you\\'re dreaming of our future home And the kids are growing up as you and I we are growing old What a crazy world Pretty little girl In the rain with the drink from the back of the bar I would raise up my voice, you would raise it up more We\\'d forget that our lives being apart it is hard We\\'d thought we were close but it still feels far Can we learn to get by if we learn to have scars If we learn to forgive and accept who we are You said If you break my heart then I\\'ll change your mind And I\\'ll do it again If you play the part then I will play mine And I\\'ll do it again If we miss the mark if we hold on tight We\\'ll be here to do it again Wait a minute hold up a second Don\\'t leave me here with this feeling Like I\\'m the one full of regret Like I never did good for us both Like you never did pull out that weapon And stick that knife in my back Was I supposed to accept it When your words are like More than just sticks and stones Kinda like a bullet A hollow tip that lodged in my bones And I can\\'t just swallow it My pride is more than all that I own So I gotta give it away And some of the times I\\'m all the way wrong But can\\'t you see past me and see my fucked up home That made me the meanest, the devil is just singing along To the song I write til I\\'m alone at night And I hang up the phone and bite my tongue \\'Cause I know that me and you is just only right but one It\\'s a cry from the past we have been through a lot Every year has been great and a few have been tough And your kids they will reach for the stars up above We\\'ll sit and relax as we cheer in the morrow The ropes to the light from the crypt to the grave We started alone in the end we\\'re okay You said If you break my heart then I\\'ll change your mind And I\\'ll do it again If you play the part then I will play mine And I\\'ll do it again If we miss the mark if we hold on tight We\\'ll be here to try it again Im sick of always hearing All the sad songs on the radio All day it is there to remind An oversensitive guy That hes lost and alone, yeah I hate our favorite restaurant Our favorite movie, our favorite show We would stay up all through the night We would laugh and get high And never answer the phone I cant forgive Cant forget, cant give in What went wrong? Cause you said this was right You fucked up my life Im sick of always hearing Sappy love songs on the radio This place, its fucking cursed In its plague and I can never escape When my heart, it explodes I cant forgive Cant forget, cant give in What went wrong? Cause you said this was right You fucked up my life Im kicking out fiercely At the world around me What went wrong? Im kicking out fiercely At the world around me What went wrong? Im kicking out fiercely At the world around me What went wrong? Im kicking out fiercely At the world around me What went wrong? Im kicking Shit piss fuck cunt cocksucker motherfucker tit fart turd and twat Shit piss fuck cunt cocksucker motherfucker tit fart turd and twat Shit piss fuck cunt cocksucker motherfucker tit fart turd and twat Shit piss fuck cunt cocksucker motherfucker tit fart turd and twat I fucked your mom And I want to suck my dad And my mama too Oh, is this thing on? I swear that I can go on forever again Please let me know that my one bad day will end I will go down as your lover, your friend Give me your lips and with one kiss we begin Are you afraid of being alone Cause I am, I\\'m lost without you Are you afraid of leaving tonight Cause I am, I\\'m lost without you I\\'ll leave my room open till sunrise for you I\\'ll keep my eyes patiently focused on you Where are you now I can hear footsteps I\\'m dreaming And if you will, keep me from waking to believe this Are you afraid of being alone Cause I am, I\\'m lost without you Are you afraid of leaving tonight Cause I am, I\\'m lost without you Are you afraid of being alone Cause I am, I\\'m lost without you Are you afraid of leaving tonight Cause I am, I\\'m lost without you Are you afraid of being alone Cause I am, I\\'m lost without you Are you afraid of leaving tonight Cause I am, I\\'m lost without you I\\'m lost without you I\\'m lost without you Don\\'t leave me all alone Just drop me off at home I\\'ll be fine, it\\'s not the first Just like last time, but a little worse, and She said that I\\'m not the one that she thinks about and She said it stopped being fun, I just bring her down I said, don\\'t let your future be destroyed by my past. She said, \"don\\'t let my door hit your ass.\" One more chance, I\\'ll try this time I\\'ll give you yours, I won\\'t take mine I\\'ll listen up, pretend to care Go on ahead, I\\'ll meet you there, and She said that I\\'m not the one that she thinks about and She said it stopped being fun, I just bring her down I said, \"don\\'t let your future be destroyed by my past.\" She said, \"don\\'t let my door hit your ass.\" Let\\'s try this one more time with feeling One more time with feeling One more time with feeling One more time with feeling She said that I\\'m not the one that she thinks about and She said it stopped being fun, I just bring her down I said, don\\'t let your future be destroyed by my past. She said, don\\'t let my door hit your ass Don\\'t leave me all alone Just drop me off at home And I\\'ll be fine Remember the days We would drink on the train On our way to the show, Chicago Naked Raygun live at the Cabaret Metro Ten bucks to get into a fight you can\\'t win Boots and braces, yellow laces Oxblood traces of the night before We are forgotten young suburbia Loose on the streets of California Underneath fluorescent lights We\\'ll waste the best nights of our life Fuck this place, let\\'s put up a parking lot (Na, na na, na na, na na Na, na na, na na, na na) Fuck this place, let\\'s put up a parking lot I can\\'t wait \\'til I\\'m off of work I\\'ll meet my friends at the Target curb I rolled my ankle, Matt just broke his wrist I climbed through your window at 3am We listened to The Smiths and The Violent Femmes Yeah, we both sang, \"Why can\\'t I get one kiss?\" We are forgotten young suburbia Loose on the streets of California Underneath fluorescent lights We\\'ll waste the best nights of our life Fuck this place, let\\'s put up a parking lot We are the broken No end in sight We\\'re the forgotten soldiers you left behind There\\'s no use trying We lost the war Now the dead and dying Are back to even the score We are forgotten young suburbia Loose on the streets of California Underneath fluorescent lights We\\'ll waste the best nights of our life Fuck this place, let\\'s put up a parking lot Na, na na, na na, na na Na, na na, na na, na na Fuck this place, let\\'s put up a parking lot It\\'s alright to tell me what you think about me I won\\'t try to argue or hold it against you I know that you\\'re leaving you must have your reasons The season is calling and your pictures are falling down The steps that I retrace the sad look on your face The timing and structure did you hear he fucked her? A day late a buck short I\\'m writing the report On losing and failing when I move I\\'m flailing now And it\\'s happened once again I\\'ll turn to a friend Someone that understands and sees through the master plan But everybody\\'s gone And I\\'ve been here for too long To face this on my own Well, I guess this is growing up Well, I guess this is growing up And maybe I\\'ll see you at a movie sneak preview You\\'ll show up and walk by on the arm of that guy And I\\'ll smile and you\\'ll wave we\\'ll pretend it\\'s okay The charade it won\\'t last when he\\'s gone I won\\'t come back And it\\'ll happen once again You\\'ll turn to a friend Someone that understands And sees through the master plan But everybody\\'s gone And you\\'ve been there for too long To face this on your own Well, I guess this is growing up Well, I guess this is growing up Well, I guess this is growing up Well, I guess this is growing up Well, I guess this is growing up Well, I guess this is growing up Everything has fallen to pieces Earth is dying help me Jesus We need guidance We\\'ve been misled Young and hostile But not stupid Corporate leaders, politicians Kids can\\'t vote, adults elect them Mobs that rule the school and workplace Signs that caution, sixteen\\'s unsafe We really need to see this through We never wanted to be abused We\\'ll never give up, it\\'s no use If we\\'re f***ed up You\\'re to blame Let this train wreck burn more slowly Kids are victims in this story Drown our youth with useless warnings Teenage rules they\\'re f***ed and boring We really need to see this through We never wanted to be abused We\\'ll never give up, it\\'s no use If we\\'re f***ed up You\\'re to blame Everything has fallen to pieces Everything has fallen to pieces Everything has fallen to pieces Everything has fallen to pieces Everything has fallen to We really need to see this through We never wanted to be abused We\\'ll never give up, it\\'s no use If we\\'re f***ed up You\\'re to blame He pauses shaving and he tells himself that he is the bomb She has her curlers set, her credit cards are paying the funds He\\'s not that old, I\\'ve been told, a strong sexual goal They go out everyday she goes every way, oh yeah They don\\'t even care at all She\\'s open waiting for more And I know he\\'s only looking to score And it is way too unhealthy Often they\\'ve typically been starved for attention before She smokes a dozen and he doesn\\'t seem to notice the smell He took the seat off his own bike because the way that it felt He wants to bone, this I know, she is ready to blow They go out every night, his pants are super tight, oh yeah They don\\'t even care at all She\\'s open waiting for more (she\\'s open for more) And I know he\\'s only looking to score (he\\'s only looking to score) And it is way too unhealthy Often they\\'ve typically been starved for attention before She\\'s open waiting for more And I know he\\'s only looking to score And it is way too unhealthy Often they\\'ve typically been starved for attention before Can we forget about the things I said when I was drunk... I didn\\'t mean to call you that I can\\'t remember what was said Or what you threw at me Please tell me Please tell me why My car is in the front yard And I am sleeping with my cloths on I came in throught the window... Last night And your... Gone Gone It\\'s no suprise to me I am my own worst enemy Cuz every now and then I kick the living shit out of me The smoke alarm is going offf and there a cigarette Still buring Please tell me why My car is in the front yard And I\\'m sleeping with my clothes on I came in throught the windo last night And your gone Gone Please tell me why My car is in the front yard And I am sleeping with my clothes on I came inthrough the windo last night It\\'s no suprise to me I am my own worst enemy Cuz every now and then I kick the livin\\' shit out of me Can we forget about the things I said when I was drunk I didn\\'t mean to call you that Come here, please hold my hand LORD now Help me, I\\'m scared please show me how To fight this, God has a master plan And I guess, I am in his demand Please save me, this time I cannot run And I\\'ll see, you when this is done And now I, have come to realize That you are, the one who\\'s left behind Please stay, until I\\'m gone I\\'m here, hold on, to me I\\'m right here, waiting I see, the light it feels good And I\\'ll come, back soon just like you would It\\'s useless, my name has made the list And I wish, I gave you one last kiss Please stay, until I\\'m gone I\\'m here, hold on, to me I\\'m right here, waiting And take, my one last breath And don\\'t forget That I will be right here, waiting [Repeat: x3] We\\'re falling faster than we can fly Forgotten seconds out on Sunset Drive And I hold on tight But not enough to hold you back It feels like the moon Is spinning off into outer space without you This room is such a lonely place without you I wish that we could save today But I know we can\\'t stay the same And I keep pushing you away Don\\'t wait for me Don\\'t wait for me Home is such a lonely place without you Home is such a lonely place I love the lightning but hate the rain Tomorrow\\'s frightening but not today Wish I could slow down time But not enough to slow you down I feel like the moon Is spinning off into outer space without you The universe an empty place without you I wish that we could save today But I know we can\\'t stay the same And I keep pushing you away Don\\'t wait for me Don\\'t wait for me Home is such a lonely place without you Home is such a lonely place We\\'re falling faster than we can fly Forgotten seconds out on Sunset Drive I wish that we could save today But I know we can\\'t stay the same And I keep pushing you away Don\\'t wait for me Don\\'t wait for me I wish that we could save today But I know we can\\'t stay the same And I keep pushing you away Don\\'t wait for me Don\\'t wait for me Home is such a lonely place without you Home is such a lonely place Home is such a lonely place I always flirt with death I look ill but I don\\'t care about it I can face your threats and Stand up straight and tall and shout about it I think I\\'m on another world with you With you I\\'m on another planet with you With you You get under my skin I don\\'t find it irritating You always play to win But I won\\'t need rehabilitating, oh no I think I\\'m on another world with you With you I\\'m on another planet with you With you Another girl, another planet Another girl, another planet Space travel\\'s in my blood There ain\\'t nothing I can do about it Long journeys wear me out but I know, I can\\'t live without it oh no I think I\\'m on another world with you With you I\\'m on another planet with you With you Another girl, who\\'s loving you now Another planet, who\\'s holding you down Another planet Please, mom You ground me all the time I know that I was right All along And I\\'m hoping Remember I\\'m a kid I know not what I did Just having fun You couldn\\'t wait for something new And yesterday I thought of you It left me to think as if I couldn\\'t walk away It\\'s too late, I fell through Nothing to lose A boy who went out when he finished all his chores Nothing to do They can\\'t trust me because I blew it once before Shit, dad Please don\\'t kick my ass I know I\\'ve seen you trashed At least one time Can I blame it On one of my dumb friends It\\'s been awhile Since I have used that line You couldn\\'t wait for something new And yesterday I thought of you It left me to think as if I couldn\\'t walk away It\\'s too late, I fell through Nothing to lose A boy who went out when he finished all his chores Nothing to do They can\\'t trust me because I blew it once before (Alright) Nothing to lose A boy who went out when he finished all his chores Nothing to do They can\\'t trust me because I blew it once before Beige little boxes in a row Neighbors and friends that you don\\'t know Here\\'s a form, go wait in line Can\\'t you see I\\'m doing fine, it\\'s what I\\'ve always wanted Two little kids out on the lawn Once we had love, now it\\'s gone Good things haven\\'t happened yet I\\'m empty as a movie set, it\\'s what I\\'ve always wanted Hey, here\\'s to you California Beautiful haze of suburbia Living in the perfect weather Spending time inside together Hey, here\\'s to you California Wearing all black out on the beach Faces I\\'ve seen in magazines Let\\'s take a walk out on the pier Watch the shoreline disappear, iIt\\'s what I\\'ve always wanted Hey, here\\'s to you California Beautiful haze of suburbia Living in the perfect weather Spending time inside together Hey, here\\'s to you California Na, na na, na na, na na, na na (woah-ohh) Na, na na, na na, na na, na na (woah-ohh) Na, na na, na na, na na, na na (woah-ohh) Na, na na, na na, na na, na na (woah-ohh) Hey, here\\'s to you California Beautiful haze of suburbia Living in the perfect weather Spending time inside together Hey, here\\'s to you California Cut the skin to the bone Fall asleep all alone Hear your voice in the dark Lose myself in your eyes Choke my voice Say goodnight As the world falls apart Fuck I can\\'t let this kill me, let go I need some more time to fix this Here\\'s a letter for you But the words get confused And the conversation dies Apologize for the past Talk some shit take it back Are we cursed to this life Fuck I can\\'t let this kill me, let go I need some more time to fix this problem I need some more time to fix this problem I need some more time to fix this I\\'m talking to the ceiling My life just lost all meaning Do one thing for me tonight I\\'m dying in this silence The last star left in heaven Is falling down to earth and Do you still feel the same way Do you still feel the same way Fuck I can\\'t let this kill me, let go I need some more time to fix this problem I need some more time to fix this problem I need some more time to fix this So sorry it\\'s over, so sorry it\\'s over There\\'s so much more that I wanted and (So sorry it\\'s over) There\\'s so much more that I needed and (So sorry it\\'s over) Time keeps moving on and on and on Soon we\\'ll all be gone Let\\'s take some time to talk this over You\\'re out of line and rarely sober We can\\'t depend on your excuses \\'Cause in the end it\\'s fuckin\\' useless You can only lean on me for so long Bring the ship about to watch a friend drown Sit out on the ledge, begged you to come down You can only lean on me for so long I remember shots without a chaser Absentminded thoughts, now you\\'re a stranger Cover up the scars put on your gameface Left you in the bar to try and save face You can only lean on me for so long Bring the ship about to watch a friend drown Sit out on the ledge, begged you to come down You can only lean on me for so long So sorry it\\'s over, so sorry it\\'s over There\\'s so much more that I wanted and (So sorry it\\'s over) There\\'s so much more that I needed and (So sorry it\\'s over) Time keeps moving on and on and on Soon we\\'ll all be gone Man on a mission, can\\'t say I miss him around Insider information, hand in your resignation Loss of a good friend best of intentions I found Tight lipped procrastination Yeah later, see you around (Here we go motherfuckers) Do you want to come to a party My friends picked me up in their truck at 11:30 This things at a frat house but the people are cool there Reluctant I followed but I never dreamed there Would be someone there who would catch my attention I wasn\\'t out searching for love or affection So I paid my 3 and the girls got in free Shine the beer for tequila and we headed into the party And then in the backyard some terrible ska band Someone in the background was doing a keg stand This place is so lame all these girls look the same All these guys have no game I wish I would have stayed In my bed back at home watching TV alone Where I\\'d put on some porn or have sex on the phone Far from people I hate down from anywhere state Trying to intoxicate girls to give them head after the party And then I saw her standing there With green eyes and long blond hair She wasn\\'t wearing underwear at least I prayed that She might be the one maybe we\\'d have some fun Maybe we\\'d watch the sun rise But that night I learned some girls try too hard Some girls try too hard Some girls try too hard to impress With the way that they dress With those things on their chests And the things they suggest to me I couldn\\'t believe what this lady was saying The names she was dropping the games she was playing She dated this guy who now rides for Black Fly\\'s How she\\'s down with the Iwise well constructed disguise Now I\\'d rather go dateless than stay here and hate this Her volume of makeup her fake tits were tasteless So I said I\\'d call her but never would bother Until I got turned down by another girl at a party So when you see her standing there With green eyes and long blonde hair She won\\'t be wearing underwear and you\\'ll discover This girl\\'s not the one and she\\'ll never be fun You should just turn and run because you\\'ll find out that Some girls try too hard Some girls try too hard Some girls try too hard to impress With the way that they dress With those things on their chest And the things they suggest to me Some girls try too hard Some girls try too hard I wanna have the same last dream again The one where I wake up and I\\'m alive Just as the four walls close me within My eyes are open up with pure sunlight I\\'m the first to know My dearest friends Even if your hope has burned with time Anything that is dead shall be re-grown And your vicious pain, your warning sign You will be fine hey yo here I am And here we go Life\\'s waiting to begin Any type of love it will be shown Like every single tree reach for the sky If you\\'re gonna to fall I\\'ll let you know That I will pick you up Like you for I I felt this thing I can\\'t replace Where everyone was working for this goal Where all the children left without a trace Only to come back as pure as gold To recite this so hey yo here I am And here we go Life\\'s waiting to begin Tonight hey ohhh here I am And here we go Life\\'s waiting to begin Tonight hey yo here I am And here we go Life\\'s waiting to begin I cannot live I can\\'t breathe Unless you do this with me I cannot live I can\\'t breathe Unless you do this with me I cannot live I can\\'t breathe Unless you do this with me I cannot live I can\\'t breathe Unless you do this with me I cannot live I can\\'t breathe Unless you do this with me I cannot live I can\\'t breathe Unless you do this with me hey yo, here I am (do this with me) Here we go life\\'s waiting to begin (do this with me) hey ohhh, here I am (do this with me) Here we go life\\'s waiting to begin Life\\'s waiting to begin. With all of this I know now Everything inside of my head It all just goes to show how Nothing I know changes me at all Again I waited for this to change instead To tear the world in two Another night with her But I\\'m always wanting you Use me Holly come on and use me We know where we go Use me Holly come on and use me We go where we know With all of this I feel now Everything inside of my heart It all just seems to be how Nothing I feel pulls at me at all Again I waited for this to pull apart To break my time in two Another night with her But I\\'m always wanting you Use me Holly come on and use me We know where we go Use me Holly come on and use me We go where we know She\\'s all I need She\\'s all I dream She\\'s all I\\'m always wanting She\\'s all I need She\\'s all I dream She\\'s all I\\'m always wanting you I\\'m always wanting you I\\'m always wanting you Use me Holly come on and use me We know where we go Use me Holly come on and use me We go where we know She\\'s all I need She\\'s all I dream She\\'s all I\\'m always wanting She\\'s all I need She\\'s all I dream She\\'s all I\\'m always wanting you And all again I wait for this To fill a whole, to shake the sky in two Another night with her I\\'m always wanting you Another night with her But I\\'m always wanting you Been gone a long time I kinda lost my way, can\\'t find you And I caught a short ride to the grave and back this season I can try to get by, but every time I start to panic I\\'m a little bit shy, a bit strange and a little bit manic La da da da, da da da da La da da da, da da da da da La da da da, da da da da La da da da, da da da da da I went to a wishing well, I sank to the ocean floor Cut up by sharpened rocks, and washed up along the shore I reached for a shooting star, it burned a hole through my hand Made it\\'s way through my heart, had fun in the promised land On the narrowing line, what a way to sort my troubles In a very short time, gonna pop, better duck and cover Can you figure me out? I got caught like a little kid stealing Did I say it too loud? A bit hard or a little misleading La da da da, da da da da La da da da, da da da da da La da da da, da da da da La da da da, da da da da da I went to a wishing well, I sank to the ocean floor Cut up by sharpened rocks and washed up along the shore I reached for a shooting star, it burned a hole through my hand Made it\\'s way through my heart, had fun in the promised land La da da da, da da da da La da da da, da da da da da La da da da, da da da da La da da da, da da da da da I went to a wishing well, I sank to the ocean floor Cut up by sharpened rocks and washed up along the shore I reached for a shooting star, it burned a hole through my hand Made it\\'s way through my heart, had fun in the promised land I went to a wishing well, I sank to the ocean floor Cut up by sharpened rocks and washed up along the shore I reached for a shooting star, it burned a hole through my hand Made it\\'s way through my heart, had fun in the promised land Everyone wants to call it all around our life with a better name Everyone falls and spins and gets up again with a friend who does the same Everyone lies and cheats their wants and needs and still believes their heart And everyone gets the chills, the kind that kills when the pain begins to start Let me get this straight, do you want me here? As I struggle through each and every year And all these demons, they keep me up all night They keep me up all night They keep me up all night Everyone\\'s cross to bears are the crown they wear on endless holiday Everyone raises kids in a world that changes life to a bitter game Everyone works and fights, stays up all night to celebrate the day And everyone lives to tell the tale of how we die alone some day Let me get this straight, do you want me here? As I struggle through each and every year And all these demons, they keep me up all night They keep me up all night They keep me up all night They keep me up all night They keep me up all night I talk to you every now and then I never felt so alone again I stop to think at a wishing well My thoughts send me on a carousel Here I am standing on my own Not a motion from the telephone I know not a reason why Solitude\\'s a reason to die Just you wait and see (just you wait and see) As school life is a It is a woken dream Aren\\'t you feeling alone? I guess its just another I guess its just another (I had sex with your mother) night alone Now as I walk down the street I need a job just to sleep in sheets Buying food every once in a while But not enough to purchase a smile A tank of gas is a treasure to me I know now that nothing is free I talk to you every now and then I never felt so alone again Just you wait and see (just you wait and see) As school life is a It is a woken dream Aren\\'t you feeling alone? I guess its just another I guess its just another Night alone Thanks a lot you guys! Hey kids, it\\'s Satan. Thanks a lot for coming on down to The show tonight. Hope you all had a great time. I know I did Those Blink fellas sure put on a kick ass show, huh. Hope to see You all at the after show party. I\\'m gonna start sucking dicks And squeezin\\' titties, maybe I can put my peepee in your mouth I love it when the kids come on over and I get, I have them suck And kiss my peepee tenderly and gently. I like it when the kids sit On my lap, and talk about unicorns and flowers and things like that Maybe I\\'ll even suck their blood. See ya kids later! Hey, how you guys doin\\' up in the back? Now from the top balcony Can I get an Amen? Now from the floor, can I get a Hallelujah? Now from All these other assholes, can I get an oh yeah? On and on, reckless abandon Something\\'s wrong This is gonna shock them Nothing to hold on to We\\'ll use this song To lead you on I learned a lot today Not sure if I\\'ll get laid and Not sure if I\\'ll fail or pass Kissed every girl in class Everybody would waste it all To have a summer that they could call A memory that\\'s full of fun Fucked up when it\\'s all done On and on, reckless abandon Something\\'s wrong This is gonna shock them Nothing to hold on to We\\'ll use this song To lead you on And break the truth With more bad news We left a scar Size extra large Sip a drink of the alcohol End up kneeling in bathroom stalls Eyes are red and my movements slow Too high, got vertigo He took a shit in the bathroom tub And fed the dog brownie drugs Tried hard not to get caught He fucked a chick in the parking lot On and on, reckless abandon Something\\'s wrong This is gonna shock them Nothing to hold on to We\\'ll use this song To lead you on And break the truth With more bad news We left a scar Size extra large Break a window and bust a wall Making fun of your friend\\'s mom Turn the music up way too loud Charge the pizza to the house Everybody would waste it all To have a summer that they could call A memory that\\'s full of fun Fucked up when it\\'s all done On and on, reckless abandon Something\\'s wrong This is gonna shock them Nothing to hold on to We\\'ll use this song To lead you on And break the truth With more bad news We left a scar Size extra large It\\'d be nice To have a blow job It would be nice To have a blow job It would be nice To have a blow job It would be nice To have a blow job It would be nice To have a blow job It would be nice To have a blow job It would be nice To have a blow job It would be nice To have a blow job From your mom My Dearest, I\\'ve missed you very, very much since that last night we were together, and will hold that night especially in my memories for years to come. I\\'ve been turning it over and over in my mind lately. I\\'ve read your letter through at least four times, and will probably read it more times before I\\'m through. I\\'ve been sitting here, looking at your picture and getting more homesick every minute. I\\'ve wanted that picture more than anything else I know of, except, of course, you yourself. I keep thinking of you, Darling, keep wishing I could be home with you. I want to leave in the worst possible way so I can come home to see you, but things don\\'t look so good on that subject. But this war has spoiled a lot of things for everyone, I guess. I\\'ve never been so lonesome in my life as I am right now. I\\'m completely lost without you, Darling. I never realized I could miss any one person so much. I just hope it won\\'t be too much longer until I\\'m able to be with you again... and live a sane and normal life. I\\'m sick of always hearing All the sad songs on the radio All day it is there to remind an over sensitive guy That he\\'s lost and alone, yeah I hate our favorite restaurant, favorite movie, our favorite show We would stay up all through the night We would laugh and get high And never answer the phone I can\\'t forgive Can\\'t forget Can\\'t give in what went wrong \\'Cause you said this was right You fucked up my life I\\'m sick of always hearing Sappy love songs on the radio This place is fucking cursed in its plague And I can never escape when my heart it explodes I can\\'t forgive Can\\'t forget Can\\'t give in what went wrong Cause you said this was right You fucked up my life I\\'m kicking out fiercely of the world around me What went wrong I\\'m kicking Don\\'t wanna hear the static on the TV screen Don\\'t wanna live a life of cellphone memories When did you go missing? Where did I go wrong? Sometimes I just don\\'t know where I belong Save yourself where I was saving We\\'re not the same, we\\'re two in a million These are the good old days These are the good old days We\\'ve gone through hell, the battles we fought \\'em We stood as one, the young and forgotten These are the good old days These are the good old days You\\'re not the only one who grew up feeling scared You\\'re not the only broken heart gone un-repaired Everyone\\'s gone missing Everyone\\'s done wrong Sometimes we both fly too close to the sun Save yourself where I was saving We\\'re not the same, we\\'re two in a million These are the good old days These are the good old days We\\'ve gone through hell, the battles we fought \\'em We stood as one, the young and forgotten These are the good old days These are the good old days You\\'re giving up We\\'re getting out We were young and we\\'re not growing up We\\'re not growing up You\\'re giving up We\\'re getting out We were young and we\\'re not growing up We\\'re not growing up Save yourself where I was saving We\\'re not the same, we\\'re two in a million These are the good old days These are the good old days We\\'ve gone through hell, the battles we fought \\'em We stood as one, the young and forgotten These are the good old days These are the good old days These are the good old days These are the good old days These are the good old days These are the good old days Last night it came as a picture With a good reason, a warning sign This place is void of all passion If you can imagine it\\'s easy if you try Believe me I failed this effort I wrote a reminder this wasn\\'t a vision This time where are you Houston Is somebody out there will somebody listen Should I go back should I go back should I I feel alone and tired Should I go back should I go back should I I hope I won\\'t forget you My head is made up of memories Most of them useless delusions This room is bored of rehearsal And sick of the boundaries I miss you so much Should I go back should I go back should I I feel alone and tired Should I go back should I go back should I This time I don\\'t want to Should I go back should I go back should I I feel alone and tired Should I go back should I go back should I I hope I won\\'t forget you Should I go back should I go back should I I feel alone and tired Should I go back should I go back should I This time I don\\'t want to Should I go back should I go back should I I feel alone and tired Should I go back should I go back should I I hope I won\\'t forget you Sometimes I wonder where our lives go They question who we used to be Sometimes I feel like I\\'m the oxygen between The cigarette and gasoline I can\\'t sleep \\'cause what if I dream Of going back to San Diego We bought a one way ticket So we could go see the Cure And listen to our favorite songs in the parking lot And think of every person I ever lost in San Diego (to San Diego) Can\\'t go back to San Diego (can\\'t go back to San Diego) Abandoned houses with the lights on (oh, oh, oh) Late at night I call your name (oh, oh, oh, oh) Abandoned love songs smashed across the hardwood floors I read the sadness on your face I can\\'t sleep \\'cause what if I dream Of going back to San Diego We bought a one way ticket So we could go see the Cure And listen to our favorite songs in the parking lot And think of every person I ever lost in San Diego (to San Diego) Can\\'t go back to San Diego (can\\'t go back to San Diego) I never needed to hear All of the pain and the fear Your secrets filled up my ears Like the ocean blue I never wanted to know How deep these cuts on you go And like a river they flow To the ocean blue Going back to San Diego We bought a one way ticket So we could go see the Cure And listen to our favorite songs in the parking lot And think of every person I ever lost at San Diego (San Diego) (to San Diego) Can\\'t go back to San Diego (San Diego) (can\\'t go back to San Diego) I got no regret right now (I\\'m feeling this) The air is so cold and numb (I\\'m feeling this) Let me go in her room (I\\'m feeling this) I wanna take off her clothes (I\\'m feeling this) Show me the way to bed (I\\'m feeling this) Show me the way you move (I\\'m feeling this) Fuck it it\\'s such a blur (I\\'m feeling this) I love all the things you do (I\\'m feeling this) Fate fell short this time Your smile fades in the summer Place your hand in mine I\\'ll leave when I wanna Where do we go from here Turn all the lights down now Smiling from ear to ear (I\\'m feeling this) Our breathing has got too loud (I\\'m feeling this) Show me the bedroom floor (I\\'m feeling this) Show me the bathroom mirror (I\\'m feeling this) Were taking this way too slow (I\\'m feeling this) Take me away from here (I\\'m feeling this) Fate fell short this time Your smile fades in the summer Place your hand in mine I\\'ll leave when I wanna Fate fell short this time Your smile fades in the summer Place your hand in mine I\\'ll leave when I wanna This place was never the same again after you came and went How can you say you meant anything different To anyone standing alone on the street With a cigarette on the first night we met Look to the past and remember her smile And maybe tonight I can breathe for a while I\\'m not in this scene I think I\\'m falling asleep But then all that it means is I\\'ll always be dreaming of you Fate fell short this time Your smile fades in the summer Place your hand in mine I\\'ll leave when I wanna Fate fell short this time (Fate fell short this time) Your smile fades in the summer (Your smile fades in the summer) Place your hand in mine (Place your hand in mine) I\\'ll leave when I wanna (I\\'ll leave when I wanna) Fate fell short this time (Fate fell short this time) Your smile fades in the summer (So lost and disillusioned) Place your hand in mine (Place your hand in mine) I\\'ll leave when I wanna (So lost and disillusioned) Fate fell short this time (Are we alone do you feel it) Your smile fades in the summer (So lost and disillusioned) Place your hand in mine (Are we alone do you feel it) I\\'ll leave when I wanna (So lost and disillusioned) Fate fell short this time (Are we alone do you feel it) Your smile fades in the summer (So lost and disillusioned) Place your hand in mine (Are we alone do you feel it) I\\'ll leave when I wanna (So lost and disillusioned) I know I messed up and it might be over But let me call you when I\\'m sober I\\'m a dandelion, you\\'re a four-leaf clover But let me call you when I\\'m sober Naa, na na na na na naaaa Na na na na na na Naa, na na na na na naaaa Na na na na na na I woke up in the pouring rain West Side Humboldt 7am Sleeping by a dumpster to keep me dry With the radio on and a new black eye Because I bet you couldn\\'t knock me out And I guess you, you really got me now Black sedan ran a red light Just a drunken bike messenger on Tuesday night I know I messed up and it might be over But let me call you when I\\'m sober I\\'m a dandelion, you\\'re a four-leaf clover But let me call you when I\\'m sober Naa, na na na na na naaaa Na na na na na na (when I\\'m sober) Naa, na na na na na naaaa Na na na na na na (when I\\'m sober) She undressed and we stumbled downstairs Fell onto the table as the neighbors just stared We laughed out loud and smashed their lights Digging with our hands in the dirt outside And she dragged me to the edge of town And she slapped me then she pulled me down I can do bad and you can do better Spending all night getting lost together I know I messed up and it might be over But let me call you when I\\'m sober I\\'m a dandelion, you\\'re a four-leaf clover But let me call you when I\\'m sober Sober Sober I know I messed up and it might be over But let me call you when I\\'m sober I\\'m a dandelion, you\\'re a four-leaf clover But let me call you when I\\'m sober Naa, na na na na na naaaa Na na na na na na (when I\\'m sober) Naa, na na na na na naaaa Na na na na na na (when I\\'m sober) Naa, na na na na na naaaa Na na na na na na (when I\\'m sober) Naa, na na na na na naaaa Na na na na na na (when I\\'m sober) All the small things True care truth brings I\\'ll take one lift Your ride best trip Always I know You\\'ll be at my show Watching, waiting, commiserating Say it ain\\'t so, I will not go Turn the lights off, carry me home Na, na, na, na Na, na, na, na, na, na, na, na, na, na, na Late night, come home Work sucks, I know She left me roses by the stairs Surprises let me know she cares Say it ain\\'t so, I will not go Turn the lights off, carry me home Na, na, na, na Na, na, na, na, na, na, na, na, na, na, na Say it ain\\'t so, I will not go Turn the lights off, carry me home Keep your head still, I\\'ll be your thrill The night will go on, my little windmill Say it ain\\'t so, I will not go Turn the lights off, carry me home Keep your head still, I\\'ll be your thrill The night will go on The night will go on My little windmill Please take me by the hand It\\'s so cold out tonight, I\\'ll Put blankets on the bed I won\\'t turn out the light, just Don\\'t forget to think about me and I Won\\'t forget you I\\'ll write you once a week, she said Why does it feel the same To fall in love or break it off And if young love is just a game then I must have missed the kick off Don\\'t depend on me to ever follow through on Anything but I\\'d go through hell for you and I haven\\'t been this scared in a long time And I\\'m so unprepared so here\\'s your valentine Bouquet of clumsy words, a simple melody This world\\'s an ugly place, but you\\'re so beautiful to me I\\'ll think about the times She kissed me after class And she put up with my friends I acted like an ass, I\\'d Ditch my lecture to watch the girls play soccer Is my picture still hanging in her locker? I haven\\'t been this scared in a long time And I\\'m so unprepared so here\\'s your valentine Bouquet of clumsy words, a simple melody This world\\'s an ugly place, but you\\'re so beautiful I haven\\'t been this scared in a long time And I\\'m so unprepared so here\\'s your valentine Bouquet of clumsy words, a simple melody This world\\'s an ugly place, but you\\'re so beautiful Got a lotta heart ache He\\'s a fucking weasel His issues make my mind ache Want to make a deal \\'Cause I love your little motions You do with your pigtails What a nice creation Worth another night in jail He\\'s a player, diarrhea giver Tried to grow his hair out When friends were listening to Slayer I would like to find him Friday night Hanging out with mom and trying on his fathers tights Life just sucks, I lost the one, I\\'m giving up she found someone There\\'s plenty more, girls are such a drag So all you little ladies Be sure to choose the right guys You\\'ll come back to me maybe I\\'ll shower you with lies Got a lotta heart ache He\\'s a fucking weasel Decisions make my mind ache Want to make a deal Ease away the problems and the pain The girl chose the one guy who makes you want to kick and scream All along, you wish that she would stay Fuck the guy who took and ran away He\\'s a player, diarrhea giver Tried to grow his hair out When friends were listening to slayer I would like to find him Friday night Hanging out with mom and trying on his fathers tights Life just sucks, I lost the one, I\\'m giving up she found someone There\\'s plenty more, girls are such a drag Fuck this place, I lost the war I hate you all, your mom\\'s a whore Where\\'s my dog? \\'Cause girls are such a drag Eyes are, open words are spoken Here\\'s to the sunrise Head is loaded cards are folded Under the moonlight Can you remember, you remember the last time We woke up sober? Can you remember, you remember the last night You ran me over? Are we halfway gone or halfway there? Left alone We\\'re only halfway home Sink like stones Fall into the unknown Break me down, I\\'m not afraid of you Pull me under Slowly drown, I never wanted to Left alone to wonder Mind is open, thoughts are woken There goes the sunrise Heart is broken, love unspoken Here comes the moonlight Can you remember, you remember the last time I left hungover? Can you remember, you remember the last night That I stayed over? Are we halfway gone or halfway there? Left alone We\\'re only halfway home Sink like stones Fall into the unknown Break me down, I\\'m not afraid of you Pull me under Slowly drown, I never wanted to Left alone to wonder (Whoa-oh-oh) we\\'re left alone (whoa-oh-oh) (Whoa-oh-oh) we\\'re left alone (whoa-oh-oh) (Whoa-oh-oh) we\\'re left alone (whoa-oh-oh) (Whoa-oh-oh) we\\'re left alone (whoa-oh-oh) Left alone We\\'re only halfway home Sink like stones Fall into the unknown Break me down, I\\'m not afraid of you Pull me under Slowly drown, I never wanted to Left alone to wonder (Whoa-oh-oh) we\\'re left alone (whoa-oh-oh) (Whoa-oh-oh) we\\'re left alone (whoa-oh-oh) (Whoa-oh-oh) we\\'re left alone (whoa-oh-oh) (Whoa-oh-oh) we\\'re left alone (whoa-oh-oh) Josie, you\\'re my Source of most frustration Forget when I Don\\'t meet expectations Everything you wished came true In the end we all blamed you Even though, as they all know you weren\\'t the only one, two, three, four Why do you still keep it around When you know it brings me down, I\\'m hating everything And I know that you dated other guys But I gotta wonder why you\\'d leave it out for me (shit!) Why am I still hanging around When I know it brings me down, I\\'m hating everything And you are getting rides home in his car You\\'re making out in his front yard, I\\'m hating everything Please don\\'t remind me, put your past behind me It shines so bright it blinds me, I wish that this would end And I am not fine, last night I saw you online Your screen name used to be mine, why can\\'t we just pretend? And if we can have another day I\\'ve got so much left to say, I\\'d tell you everything And I\\'ll laugh when I think about the past When I see you after class, you\\'re hating everything Please don\\'t remind me, put your past behind me It shines so bright it blinds me, I wish that this would end And I am not fine, last night I saw you online Your screen name used to be mine, why can\\'t we just pretend? Please don\\'t remind me, put your past behind me It shines so bright it blinds me, I wish that this would end And I am not fine, last night I saw you online Your screen name used to be mine, why can\\'t we just pretend? And she said, (na na na na na na na na na na na na na) I just forgot you were there (na na na na na na na na na na na na na) I just forgot you were there (na na na na na na na na na na na na na na na na) I just forgot you were there (na na na na na na na na na na na na na na na na) Please don\\'t remind me, put your past behind me It shines so bright it blinds me, I wish that this would end And I am not fine, last night I saw you online Your screen name used to be mine, why can\\'t we just pretend? Please don\\'t remind me, put your past behind me It shines so bright it blinds me, I wish that this would end And I am not fine, last night I saw you online Your screen name used to be mine, why can\\'t we just pretend? And she said, (na na na na na) Can you read my thoughts, I\\'m not sure what I said I feel dumb and long night coming Did you steal my prayers I don\\'t know where I was I feel numb and all or nothing (All or nothing) It\\'s Friday night let\\'s lose our minds in a downward spiral Here we go \\'Cause we got no control (No control) It\\'s Friday nights always save my life from the worst of times we ever had Thank God for punk rock bands Till Monday morning strikes again We are the kings of the weekend I can feel my head falling off my neck I need something To keep going So just take my hand Only seconds left The clock\\'s running Our time\\'s coming Aaah! It\\'s Friday night let\\'s lose our minds in a downward spiral Here we go \\'Cause we got no control (No control) It\\'s Friday nights always save my life from the worst of times we ever had Thank God for punk rock bands Till Monday morning strikes again We are the kings of the weekend It\\'s Friday night let\\'s lose our minds in a downward spiral Here we go \\'Cause we got no control (No control) It\\'s Friday nights always save my life from the worst of times we ever had Thank God for punk rock bands Till Monday morning strikes again We are the kings of the weekend This is the first (thing I remember) Now it\\'s the last (thing left on my mind) Afraid of the dark (do you hear me whisper) An empty heart (replaced with paranoia) Where do we go (life\\'s temporary) After we\\'re gone (like new years resolutions) Why is this hard (do you recognize me) I know I\\'m wrong (but I can\\'t help believing) I\\'m so lost I\\'m barely here I wish I could explain myself But words escape me It\\'s too late To save me You\\'re too late You\\'re too late You\\'re cold with disappointment While I\\'m drowning in the next room The last contagious victim of this plague between us I\\'m sick with apprehension I\\'m crippled from exhaustion And I dread the moment when you finally come to kill me This is the first (thing I remember) Now it\\'s the last (thing left on my mind) Afraid of the dark (do you hear me whisper) An empty heart (replaced with paranoia) Where do we go (life\\'s temporary) After we\\'re gone (like new years resolutions) Why is this hard (do you recognize me) I know I\\'m wrong (but I can\\'t help believing) Crossed the street Naked at night Bent over to show some moonlight Pulled out some beer and gulped it down Nude in a gutter is how I was found Thrown in a police car and the door slammed No noise just silence as I screamed my dick was jammed Now in prison for one month no one to see All I got is this guy Ben Dover Don\\'t like hesh-don\\'t like rap Kicked ol\\' Sally cause she\\'s fat I\\'m a jerk I\\'m a punk Took a shower cause I stunk Smoked a bong killed a cat Had my nuts attacked by rats Dad got nude, I wore a thong For a hobby I make bombs Went to a farm to tip some cows Forgot that I left my pants down Bent over to pick them up Felt a twelve gauge next to my shit The farmer took me to his house Showed me the closet from the inside out The police came and took me away Saw Ben Dover again and he\\'s still gay Don\\'t like hesh-don\\'t like rap Kicked ol\\' Sally cause she\\'s fat I\\'m a jerk I\\'m a punk Took a shower cause I stunk Smoked a bong killed a cat Had my nuts attacked by rats Dad got nude-I wore a thong For a hobby I make bombs When the clock strikes two, There\\'s just so much to do And I can\\'t explain what I need Jobs and social groups Hearing the latest news Keeping our reputations clean And I, don\\'t want to worry About being on time I\\'ve seen the way you hurry And time runs your life Again The difference between east and west Money is so much less Not that I\\'m poor, just to fine I wish that the clock would often just be stopped And then we\\'d look Into the time And I, don\\'t want to worry About being on time I\\'ve seen the way you hurry And time runs your life I talk to you every now and then I never felt so alone again I stop to think at a wishing well My thoughts send me on a carousel Here I am standing on my own Not a motion from the telephone I know not a reason why Solitudes a reason to die Just you wait and see As school life is a It is a woken dream Aren\\'t you feeling alone? I guess its just another I guess its just another I guess its just another night alone Now as I walk down the street I need a job just to sleep in sheets Buying food every once in a while But not enough to purchase a smile A tank of gas is a treasure to me I know now that nothing is free I talk to you every now and then I never felt so alone again Just you wait and see As school life is a It is a woken dream Aren\\'t you feeling alone? I guess its just another I guess its just another I guess its just another night alone Let\\'s get started, the faint and broken-hearted Hold it up, I\\'ve got something I cannot hide Worst painkiller, that all-in filler The apart and departed look in my eyes Sad, how far you ran, I\\'ll search this land Up through the clouds then back here We could reignite like fireflies, like an atom bomb At all hours I\\'m empty like the day after Christmas Swept beneath the wave of your goodbye You left me on the day after Christmas There\\'s nothing left to say, and so goodnight I will follow the trail to tomorrow With my loneliness with sorrow all through the night Sons and daughters, mothers and their fathers Just the bridges and the waters their clues left behind Sad, how far you ran, I\\'ll search this land Up through the clouds then back here We could reignite like fireflies, like an atom bomb At all hours I\\'m empty like the day after Christmas Swept beneath the wave of your goodbye You left me on the day after Christmas There\\'s nothing left to say, and so goodnight I\\'m empty like the day after Christmas Swept beneath the wave of your goodbye You left me on the day after Christmas There\\'s nothing left to say, and so goodnight There\\'s nothing left to say, and so goodnight Goodnight There she was like a starry night Like a Ferris wheel, full of blue green eyes And a heart of steel always on her own Almost never real When the night will begin The pain it won\\'t end even if she falls in love Fact you wanna turn back your heart will attack Even if she falls in love And she was like a blade of ice Like a lonely road clears day of life Always sharp and cold always beautiful I am such a fool When the night will begin The pain won\\'t end even if she falls in love Fact you wanna turn back your heart will attack Even if she falls in love Try to look in her eyes the light is just right Even if she falls in love and it isn\\'t so bad it\\'s Driving you mad even if she falls in love There\\'s a cynical feeling saying I should give up You said everything you\\'ll ever say There\\'s a moment of panic when I hear the phone ring Anxiety\\'s calling in my head Is it back again? Are you back again? Don\\'t wake me up before you leave Is there the slightest trace of what you once believed (woah oh oh oh) I feel your hand unlock the door Leaving fingerprints of water in the oil (woah oh oh oh) What\\'s the point of saying sorry now Lost my voice while fighting my way out (while fighting my way out) What\\'s the point of saying sorry now (not sorry, not sorry, not sorry, I\\'m not sorry) Lost my voice while fighting my way out (not sorry, not sorry, not sorry, I\\'m not sorry now) Dear head, shut up I can\\'t listen no more It\\'s late, so shut up Is one night too much to ask for You are a haunted house You\\'re superstitious You are the coldest stone-carved marble faces I won\\'t fall down that fucking rabbit hole I\\'m barely standing on the ground All the hints that you leave are too hard to believe at all I won\\'t fall down that fucking rabbit hole With you, with you, with you, with you again With you, with you, with you, with you again This bed, on fire I can\\'t sleep here no more Too late and tired Dreaming down on the floor I\\'m a haunted house I\\'m superstitious I am a cardboard cutout, old and faded I won\\'t fall down that fucking rabbit hole I\\'m barely standing on the ground All the hints that you leave are too hard to believe at all I won\\'t fall down that fucking rabbit hole With you, with you, with you, with you again With you, with you, with you, with you again With you, with you, with you, with you again With you, with you, with you, with you again I won\\'t fall down that fucking rabbit hole (I won\\'t fall down, I won\\'t fall down) I\\'m barely standing on the ground (Barely standing on the ground) All the hints that you leave are too hard to believe at all I won\\'t fall down that fucking rabbit hole (I won\\'t fall down that fucking rabbit hole) Oh, oh Oh, oh Oh, oh Oh, oh Oh, oh Oh, oh Oh, oh, oh, oh Where the hell did you come from, outer space or heaven above Short of breath my long-lost love I can\\'t believe my eyes, are you for real? My life before was such a mess There\\'s no use dwelling on the past My broken heart was in a cast Then you showed up and it began to heal \\'Cause you\\'re the only thing that matters \\'Cause you\\'re the only thing that\\'s real \\'Cause you\\'re the only thing I\\'ll never let go \\'Cause you\\'re the only thing I feel Someday You\\'ll come back to me And I\\'ll say Something bitterly And you\\'ll go racing toward the kitchen Grab a knife, erase my vision Take my flatscreen television And my paintings by Marilyn Manson \\'Cause you\\'re the only thing that matters \\'Cause you\\'re the only thing that\\'s real \\'Cause you\\'re the only thing I\\'ll never let go \\'Cause you\\'re the only thing I feel \\'Cause you\\'re the only thing that matters \\'Cause you\\'re the only thing that\\'s real \\'Cause you\\'re the only thing I\\'ll never let go \\'Cause you\\'re the only thing I feel Six bottles went down the drain One hours waste of time I\\'d ask if you feel the same Still pushing that chance to try Your breath in this cool room chill Long hair that blows side to side You speak and make time stand still And each time walk right on by? Like violence you have me, forever, and after Like violence you kill me, forever, and after Can\\'t count all the eyes that stare Can\\'t count all the things they see She kills with no life to spare Just victims left to bleed One drink and the pain goes down Soft shadows lay by her feet Lay soft as you slowly drown Lay still while you fall asleep (Fall asleep) Like violence you have me, forever, and after Like violence you kill me, forever and after (And after, and after, and after) Like violence you have me, forever, and after Like violence you kill me, Like violence you have me, forever, and after Like violence you kill me Like violence you have me, forever, and after Like violence you kill me, forever and after Like violence you have me, forever, and after Like violence you kill me, forever and after Push it out, fake a smile Avert disaster just in time I need a drink, cause in a while Worthless answers from friends of mine It\\'s dumb to ask, cool to ignore Girls possess me but they\\'re never mine I made my entrance Avoided hazards Checked my engine I fell behind I fell behind She makes me feel like it\\'s raining outside And when the storms gone I\\'m all torn up inside I\\'m always nervous on days like this like the prom I get too scared to move cause I\\'m a fuckin\\' boy Remember when I was in The grocery store, now\\'s my time Lost the words, lost the nerve, Lost the girl, left the line I would wish upon a star But that star, it doesn\\'t shine So read my book, with a boring ending A short story of a lonely guy Who fell behind She makes me feel like it\\'s raining outside And when the storms gone I\\'m all torn up inside I\\'m always nervous on days like this like the prom I get too scared to move cause I\\'m a fuckin\\' boy She makes me feel like it\\'s raining outside And when the storms gone I\\'m all torn up inside I\\'m always nervous on days like this like the prom I get too scared to move cause I\\'m still Just a stupid, worthless boy She didn\\'t mean to deceive you, believe me But sometimes the hardest part is conceiving The good intentions that you had Now only came to this And although she saw the mark The arrow missed It isn\\'t exciting reciting the stories Of kind words turned hurting when routine gets boring Both getting tired of punk rock clubs And both playing in punk rock bands The start was something good But some good things must end And she said, \"It could never survive With such differing lives One home, one out on tour again We may never come back The strike of a match The candle\\'s burning at both ends.\" And now she knows too much And I\\'m too fucked up It\\'s awkward trying to make my move I\\'ll pretend that I\\'m fine Show up right on time But I know I\\'ll never be that cool I never wanted to hold you back I just wanted to hold on But my chance is gone I know just where I stand, a boy Trapped in the body of a man and I\\'ll take what you\\'re willing to give And I\\'ll teach myself to live With a walk-on part of a background shot From a movie I\\'m not in She\\'s so important And I\\'m so retarded And now I realize I should have kissed you in L.A. But I drove home all alone As if I had a choice, anyway Where are you coming from? What are you running from? Is it so hard to see? And if you\\'re feeling scared Remember the time we shared You know it meant everything (everything) You know that it meant everything to me You know that it meant everything to me I think of awhile ago We might have had it all But I was so stupid then You needed time to grow But now just as things change As well my feelings do In time things rearrange I am so sick of chasing you But what do I get \\'Cause I just seem to lose You make me regret Those times I spent with you And playing those games A I wait for your call And now I give up, So goodbye and so long It\\'s not a change of pace This time I\\'ll get it right It\\'s not a change of taste I was the one there last night You have your other friends They were there When you cried Didn\\'t mean to hurt you then Best friends just won\\'t Leave your side But what do I get \\'Cause I just seem to lose You make me regret Those times I spent with you And playing those games As I wait for your call And now I give up, So goodbye and so long It\\'s not a change of pace This time I\\'ll get it right It\\'s not a change of taste I was the one there last night When I needed you most When I needed a friend You let me down now Like I let you down then So sorry, it\\'s over (Ah) One thing / I don\\'t know why It doesn\\'t even matter how hard you try Keep that in mind / I designed this rhyme To explain in due time All I know time is a valuable thing Watch it fly by as the pendulum swings Watch it count down to the end of the day The clock ticks life away It\\'s so unreal Didn\\'t look out below Watch the time go right out the window Trying to hold on / but didn\\'t even know Wasted it all just to Watch you go I kept everything inside and even though I tried / it all fell apart What it meant to me / will eventually / be a memory / of a time when I tried so hard And got so far But in the end It doesn\\'t even matter I had to fall To lose it all But in the end It doesn\\'t even matter One thing / I don\\'t know why It doesn\\'t even matter how hard you try Keep that in mind / I designed this rhyme To remind myself how I tried so hard In spite of the way you were mocking me Acting like I was part of your property Remembering all the times you fought with me I\\'m surprised it got so (far) Things aren\\'t the way they were before You wouldn\\'t even recognize me anymore Not that you knew me back then But it all comes back to me In the end You kept everything inside and even though I tried / it all fell apart What it meant to me / will eventually / be a memory / of a time when I I tried so hard And got so far But in the end It doesn\\'t even matter I had to fall To lose it all But in the end It doesn\\'t even matter I\\'ve put my trust in you Pushed as far as I can go For all this There\\'s only one thing you should know I\\'ve put my trust in you Pushed as far as I can go For all this There\\'s only one thing you should know I tried so hard And got so far But in the end It doesn\\'t even matter I had to fall To lose it all But in the end It doesn\\'t even matter I saw you again I think you used me again Should we try this before we give up and move on And pretend to restore what we have and hold on At times like these It\\'s obvious I saw you again I know you fucked him again Can you comfort yourself with a sense of revenge Are you leaving me here with the taste of the end At times like these It\\'s obvious At times like these It\\'s obvious I saw you again and again and again There\\'s some room to move on, to move on, to move on And I saw you again and again and again How do we fix this if we never have vision I saw you again and again and again There\\'s some room to move on, to move on, to move on And I saw you again and again and again How do we fix this if we never have vision I saw you again and again and again There\\'s some room to move on, to move on, to move on And I saw you again and again and again How do we fix this if we never have vision I saw you again and again and again There\\'s some room to move on, to move on, to move on And I saw you again and again and again How do we fix this if we never have vision Day in day out Up at 3 AM with the searchlights shining down Day in day out It\\'s the blinding light underneath the dirt downtown Whoa Listen to the sound as they bomb the Sixth Street Bridge Whoa Listen to the sound of the voices south of Fifth In Los Angeles, when will you save me Los Angeles when will you save me Los Angeles, when will you save me Los Angeles, I\\'m never coming home (I\\'m never coming, I\\'m never coming) Come down I\\'ve been awake for days Knocked out By the sound of falling rain Come down yeah we\\'ll watch the sun just burn away the sky Watch the city lights die out up on Mulholland Drive Los Angeles, when will you save me Los Angeles, when will you save me Los Angeles, when will you save me Los Angeles, I\\'m never coming home Wake me when this war is over Meet me where the skyline ends Wake me when this war is over Meet me where the skyline ends Wake me when this war is over Meet me where the skyline ends Los Angeles when will you save me Los Angeles when will you save me Los Angeles when will you save me Los Angeles I\\'m never coming home I\\'m never coming home I\\'m never coming home I\\'m never coming home I\\'m never coming home [Verse 1: Matt Skiba] Late at night on mercy street The summer air is way too sweet The way I feel inside is worse than poison Washed up standing on a beach Something inside is incomplete I numb the pain for one more night of mourning This is the one last time I promise one last time [Chorus: Mark Hoppus (Matt Skiba)] (I\\'ll take the last train home) (The last train home) (I\\'ll take the last train home) (The last train home) (I\\'ll take the last train home) The only time I feel alive is when I find something I would die for (The last train home) (I\\'ll take the last train home) The only time I feel alive is when I find something I would die for (The last train home) [Verse 2: Mark Hoppus] The tidal wave and aftermath I\\'m seasick from the years we\\'ve passed Adrift at sea with no one left to rescue Tonic and a fifth of gin She said goodbye and left again These empty rooms are deafening without you This is one last time I promise one last time [Chorus: Mark Hoppus (Matt Skiba)] (I\\'ll take the last train home) (The last train home) (I\\'ll take the last train home) (The last train home) (I\\'ll take the last train home) The only time I feel alive is when I find something I would die for (The last train home) (I\\'ll take the last train home) The only time I feel alive is when I find something I would die for (The last train home) [Bridge: Mark Hoppus and Matt Skiba] Life\\'s so strange Time won\\'t change The world slips by, I\\'m afraid that she never gave much anyway Life\\'s so strange [Outro: Mark Hoppus (Matt Skiba)] (I\\'ll take the last train home) (The last train home) (I\\'ll take the last train home) (The last train home) (I\\'ll take the last train home) (The last train home) (I\\'ll take the last train home) The only time I feel alive is when I find something I would die for (The last train home) (I\\'ll take the last train home) The only time I feel alive is when I find something I would die for (The last train home) '"
            ],
            "application/vnd.google.colaboratory.intrinsic+json": {
              "type": "string"
            }
          },
          "metadata": {},
          "execution_count": 21
        }
      ],
      "source": [
        "# Concatenamos todos los rows en un solo valor\n",
        "corpus = df.apply(lambda row: ' '.join(row.values.astype(str)), axis=0)[0]\n",
        "corpus"
      ]
    },
    {
      "cell_type": "code",
      "execution_count": 22,
      "metadata": {
        "colab": {
          "base_uri": "https://localhost:8080/"
        },
        "id": "_KlsYd7_uOez",
        "outputId": "f31d765d-bb61-4759-aeec-8b85d227e684"
      },
      "outputs": [
        {
          "output_type": "execute_result",
          "data": {
            "text/plain": [
              "['i',\n",
              " 'was',\n",
              " 'told',\n",
              " 'a',\n",
              " 'million',\n",
              " 'times',\n",
              " 'of',\n",
              " 'all',\n",
              " 'the',\n",
              " 'troubles',\n",
              " 'in',\n",
              " 'my',\n",
              " 'way',\n",
              " 'mind',\n",
              " 'you',\n",
              " 'grow',\n",
              " 'a',\n",
              " 'little',\n",
              " 'wiser',\n",
              " 'little']"
            ]
          },
          "metadata": {},
          "execution_count": 22
        }
      ],
      "source": [
        "# Transformar el corpus a tokens\n",
        "tokens=text_to_word_sequence(corpus)\n",
        "# Vistazo general de los primeros tokens\n",
        "tokens[:20]"
      ]
    },
    {
      "cell_type": "code",
      "execution_count": null,
      "metadata": {
        "colab": {
          "base_uri": "https://localhost:8080/"
        },
        "id": "GlqpZSJOJ1xQ",
        "outputId": "4a1ec182-c717-4e0f-a7ce-bf10953e77be"
      },
      "outputs": [
        {
          "name": "stdout",
          "output_type": "stream",
          "text": [
            "Cantidad de tokens en el corpus: 57252\n"
          ]
        }
      ],
      "source": [
        "print(\"Cantidad de tokens en el corpus:\", len(tokens))"
      ]
    },
    {
      "cell_type": "code",
      "execution_count": 23,
      "metadata": {
        "id": "RhQevOynuYk2"
      },
      "outputs": [],
      "source": [
        "# Código para hacer el desfazaje de las palabras\n",
        "# según el train_len\n",
        "text_sequences = []\n",
        "for i in range(train_len, len(tokens)):\n",
        "  seq = tokens[i-train_len:i]\n",
        "  text_sequences.append(seq)"
      ]
    },
    {
      "cell_type": "code",
      "execution_count": null,
      "metadata": {
        "colab": {
          "base_uri": "https://localhost:8080/"
        },
        "id": "FU3FuqHSuhzq",
        "outputId": "35ffda3c-9f0d-44ec-f690-7894dbe0df02"
      },
      "outputs": [
        {
          "data": {
            "text/plain": [
              "[['i', 'was', 'told'],\n",
              " ['was', 'told', 'a'],\n",
              " ['told', 'a', 'million'],\n",
              " ['a', 'million', 'times'],\n",
              " ['million', 'times', 'of'],\n",
              " ['times', 'of', 'all'],\n",
              " ['of', 'all', 'the'],\n",
              " ['all', 'the', 'troubles'],\n",
              " ['the', 'troubles', 'in'],\n",
              " ['troubles', 'in', 'my'],\n",
              " ['in', 'my', 'way'],\n",
              " ['my', 'way', 'mind'],\n",
              " ['way', 'mind', 'you'],\n",
              " ['mind', 'you', 'grow'],\n",
              " ['you', 'grow', 'a'],\n",
              " ['grow', 'a', 'little'],\n",
              " ['a', 'little', 'wiser'],\n",
              " ['little', 'wiser', 'little'],\n",
              " ['wiser', 'little', 'better'],\n",
              " ['little', 'better', 'every']]"
            ]
          },
          "execution_count": 79,
          "metadata": {},
          "output_type": "execute_result"
        }
      ],
      "source": [
        "# Demos un vistazo a nuestros vectores para entrenar el modelo\n",
        "text_sequences[:20]"
      ]
    },
    {
      "cell_type": "code",
      "execution_count": 24,
      "metadata": {
        "colab": {
          "base_uri": "https://localhost:8080/"
        },
        "id": "064N2jtLvHRg",
        "outputId": "9e18adba-22d6-47b8-984f-484ba5aaa752"
      },
      "outputs": [
        {
          "output_type": "execute_result",
          "data": {
            "text/plain": [
              "[[1, 58, 265],\n",
              " [58, 265, 7],\n",
              " [265, 7, 410],\n",
              " [7, 410, 254],\n",
              " [410, 254, 12],\n",
              " [254, 12, 14],\n",
              " [12, 14, 3],\n",
              " [14, 3, 1290],\n",
              " [3, 1290, 10],\n",
              " [1290, 10, 9],\n",
              " [10, 9, 67],\n",
              " [9, 67, 151],\n",
              " [67, 151, 2],\n",
              " [151, 2, 472],\n",
              " [2, 472, 7],\n",
              " [472, 7, 131],\n",
              " [7, 131, 1596],\n",
              " [131, 1596, 131],\n",
              " [1596, 131, 154],\n",
              " [131, 154, 124]]"
            ]
          },
          "metadata": {},
          "execution_count": 24
        }
      ],
      "source": [
        "# Proceso de tokenizacion\n",
        "tok = Tokenizer() \n",
        "tok.fit_on_texts(text_sequences) \n",
        "\n",
        "# Convertimos las palabras a números\n",
        "# entran palabras -> salen números\n",
        "sequences = tok.texts_to_sequences(text_sequences)\n",
        "\n",
        "# Damos un vistazo\n",
        "sequences[:20]"
      ]
    },
    {
      "cell_type": "code",
      "execution_count": null,
      "metadata": {
        "colab": {
          "base_uri": "https://localhost:8080/"
        },
        "id": "vwsvmvDKKXSP",
        "outputId": "d6268316-1efb-443b-d4d2-91005b785325"
      },
      "outputs": [
        {
          "name": "stdout",
          "output_type": "stream",
          "text": [
            "Cantidad de rows del dataset: 57249\n"
          ]
        }
      ],
      "source": [
        "print(\"Cantidad de rows del dataset:\", len(sequences))"
      ]
    },
    {
      "cell_type": "markdown",
      "metadata": {
        "id": "QMVP4bj0vL2e"
      },
      "source": [
        "### 3 - Input y target"
      ]
    },
    {
      "cell_type": "code",
      "execution_count": 25,
      "metadata": {
        "colab": {
          "base_uri": "https://localhost:8080/"
        },
        "id": "mx2xwdz3KloJ",
        "outputId": "53b6c008-874e-4933-b001-73a4bd19f73e"
      },
      "outputs": [
        {
          "output_type": "execute_result",
          "data": {
            "text/plain": [
              "array([[1, 2, 3, 4],\n",
              "       [5, 6, 7, 8]])"
            ]
          },
          "metadata": {},
          "execution_count": 25
        }
      ],
      "source": [
        "# Con numpy es muy fácil realizar el slicing de vectores\n",
        "ex = np.array([[1,2,3,4],[5,6,7,8]])\n",
        "ex"
      ]
    },
    {
      "cell_type": "code",
      "execution_count": null,
      "metadata": {
        "colab": {
          "base_uri": "https://localhost:8080/"
        },
        "id": "BEod7qghvTVt",
        "outputId": "fc608323-c00c-4627-d883-5ba190b3d98b"
      },
      "outputs": [
        {
          "name": "stdout",
          "output_type": "stream",
          "text": [
            "Dimension: (2, 4)\n",
            "Todos los elementos: [[1 2 3 4]\n",
            " [5 6 7 8]]\n",
            "Todos los elementos menos el último: [[1 2 3]\n",
            " [5 6 7]]\n"
          ]
        }
      ],
      "source": [
        "# Con numpy es muy fácil realizar el slicing de vectores\n",
        "print(\"Dimension:\", ex.shape)\n",
        "print(\"Todos los elementos:\", ex)\n",
        "print(\"Todos los elementos menos el último:\", ex[:, :-1])"
      ]
    },
    {
      "cell_type": "code",
      "execution_count": null,
      "metadata": {
        "colab": {
          "base_uri": "https://localhost:8080/"
        },
        "id": "i95xWqtCvp8T",
        "outputId": "f872d65d-61ca-4d2d-c620-50100c7a9fae"
      },
      "outputs": [
        {
          "name": "stdout",
          "output_type": "stream",
          "text": [
            "Input: [[1 2 3]\n",
            " [5 6 7]]\n",
            "Target: [4 8]\n"
          ]
        }
      ],
      "source": [
        "input = ex[:,:-1] # todos los rows, menos la ultima col\n",
        "target = ex[:, -1] # última col de cada row\n",
        "\n",
        "print(\"Input:\", input)\n",
        "print(\"Target:\", target)"
      ]
    },
    {
      "cell_type": "code",
      "execution_count": 25,
      "metadata": {
        "colab": {
          "base_uri": "https://localhost:8080/"
        },
        "id": "e1vJTG65v4Qn",
        "outputId": "7d887480-b21d-401a-a875-cd32a355aa51"
      },
      "outputs": [
        {
          "output_type": "stream",
          "name": "stdout",
          "text": [
            "(57249, 2)\n",
            "(57249,)\n"
          ]
        }
      ],
      "source": [
        "arr_sequences = np.array(sequences)\n",
        "x_data = arr_sequences[:,:-1]\n",
        "y_data_int = arr_sequences[:,-1] # aún falta el oneHotEncoder\n",
        "\n",
        "print(x_data.shape)\n",
        "print(y_data_int.shape)"
      ]
    },
    {
      "cell_type": "code",
      "execution_count": null,
      "metadata": {
        "colab": {
          "base_uri": "https://localhost:8080/"
        },
        "id": "ln6kVWVlwBBs",
        "outputId": "e4a50e31-13af-47f4-a26b-9136d91b017e"
      },
      "outputs": [
        {
          "data": {
            "text/plain": [
              "{1: 'i',\n",
              " 2: 'you',\n",
              " 3: 'the',\n",
              " 4: 'and',\n",
              " 5: 'to',\n",
              " 6: 'me',\n",
              " 7: 'a',\n",
              " 8: 'it',\n",
              " 9: 'my',\n",
              " 10: 'in',\n",
              " 11: 'love',\n",
              " 12: 'of',\n",
              " 13: 'your',\n",
              " 14: 'all',\n",
              " 15: 'that',\n",
              " 16: \"i'm\",\n",
              " 17: 'on',\n",
              " 18: 'we',\n",
              " 19: 'this',\n",
              " 20: 'is',\n",
              " 21: 'when',\n",
              " 22: 'be',\n",
              " 23: \"don't\",\n",
              " 24: 'oh',\n",
              " 25: 'so',\n",
              " 26: 'but',\n",
              " 27: 'with',\n",
              " 28: 'know',\n",
              " 29: 'for',\n",
              " 30: 'na',\n",
              " 31: 'down',\n",
              " 32: 'up',\n",
              " 33: 'go',\n",
              " 34: 'let',\n",
              " 35: \"it's\",\n",
              " 36: 'never',\n",
              " 37: 'time',\n",
              " 38: 'like',\n",
              " 39: 'will',\n",
              " 40: \"you're\",\n",
              " 41: 'she',\n",
              " 42: 'just',\n",
              " 43: 'do',\n",
              " 44: 'if',\n",
              " 45: 'can',\n",
              " 46: 'are',\n",
              " 47: \"i'll\",\n",
              " 48: 'out',\n",
              " 49: 'back',\n",
              " 50: 'no',\n",
              " 51: 'now',\n",
              " 52: 'yeah',\n",
              " 53: 'say',\n",
              " 54: 'one',\n",
              " 55: \"can't\",\n",
              " 56: 'at',\n",
              " 57: 'her',\n",
              " 58: 'was',\n",
              " 59: 'get',\n",
              " 60: 'want',\n",
              " 61: 'nah',\n",
              " 62: 'not',\n",
              " 63: 'as',\n",
              " 64: 'need',\n",
              " 65: 'there',\n",
              " 66: 'home',\n",
              " 67: 'way',\n",
              " 68: 'see',\n",
              " 69: 'what',\n",
              " 70: \"i've\",\n",
              " 71: 'night',\n",
              " 72: 'come',\n",
              " 73: 'have',\n",
              " 74: 'make',\n",
              " 75: 'from',\n",
              " 76: 'again',\n",
              " 77: 'feel',\n",
              " 78: 'heart',\n",
              " 79: 'here',\n",
              " 80: 'they',\n",
              " 81: 'take',\n",
              " 82: 'gonna',\n",
              " 83: 'miss',\n",
              " 84: 'too',\n",
              " 85: \"ain't\",\n",
              " 86: 'had',\n",
              " 87: 'always',\n",
              " 88: 'got',\n",
              " 89: 'only',\n",
              " 90: 'last',\n",
              " 91: 'more',\n",
              " 92: 'life',\n",
              " 93: 'ooh',\n",
              " 94: 'baby',\n",
              " 95: 'he',\n",
              " 96: 'right',\n",
              " 97: 'been',\n",
              " 98: \"won't\",\n",
              " 99: 'why',\n",
              " 100: 'fall',\n",
              " 101: 'da',\n",
              " 102: 'find',\n",
              " 103: 'give',\n",
              " 104: \"'cause\",\n",
              " 105: 'should',\n",
              " 106: 'day',\n",
              " 107: 'think',\n",
              " 108: 'our',\n",
              " 109: 'still',\n",
              " 110: 'good',\n",
              " 111: 'where',\n",
              " 112: 'well',\n",
              " 113: 'girl',\n",
              " 114: 'then',\n",
              " 115: 'how',\n",
              " 116: 'am',\n",
              " 117: 'alone',\n",
              " 118: 'leave',\n",
              " 119: 'world',\n",
              " 120: \"she's\",\n",
              " 121: 'hey',\n",
              " 122: 'said',\n",
              " 123: 'were',\n",
              " 124: 'every',\n",
              " 125: 'away',\n",
              " 126: 'together',\n",
              " 127: 'would',\n",
              " 128: 'through',\n",
              " 129: 'over',\n",
              " 130: 'could',\n",
              " 131: 'little',\n",
              " 132: \"there's\",\n",
              " 133: 'face',\n",
              " 134: 'by',\n",
              " 135: 'keep',\n",
              " 136: 'nothing',\n",
              " 137: 'hold',\n",
              " 138: 'everything',\n",
              " 139: 'head',\n",
              " 140: 'eyes',\n",
              " 141: 'look',\n",
              " 142: \"we're\",\n",
              " 143: 'hand',\n",
              " 144: 'things',\n",
              " 145: 'left',\n",
              " 146: 'his',\n",
              " 147: 'place',\n",
              " 148: 'tell',\n",
              " 149: 'has',\n",
              " 150: 'some',\n",
              " 151: 'mind',\n",
              " 152: 'please',\n",
              " 153: 'another',\n",
              " 154: 'better',\n",
              " 155: 'sky',\n",
              " 156: 'wish',\n",
              " 157: 'long',\n",
              " 158: 'help',\n",
              " 159: 'or',\n",
              " 160: 'gone',\n",
              " 161: 'ready',\n",
              " 162: 'somebody',\n",
              " 163: 'feeling',\n",
              " 164: 'us',\n",
              " 165: 'even',\n",
              " 166: \"you'll\",\n",
              " 167: \"we'll\",\n",
              " 168: 'try',\n",
              " 169: 'before',\n",
              " 170: 'stand',\n",
              " 171: 'hard',\n",
              " 172: 'man',\n",
              " 173: 'inside',\n",
              " 174: 'these',\n",
              " 175: 'wanna',\n",
              " 176: 'who',\n",
              " 177: 'thing',\n",
              " 178: 'sun',\n",
              " 179: 'made',\n",
              " 180: 'about',\n",
              " 181: 'days',\n",
              " 182: 'remember',\n",
              " 183: 'waiting',\n",
              " 184: 'mine',\n",
              " 185: 'hello',\n",
              " 186: \"i'd\",\n",
              " 187: 'forever',\n",
              " 188: 'an',\n",
              " 189: 'friends',\n",
              " 190: 'lost',\n",
              " 191: 'turn',\n",
              " 192: 'end',\n",
              " 193: 'lights',\n",
              " 194: 'into',\n",
              " 195: 'goes',\n",
              " 196: 'something',\n",
              " 197: 'words',\n",
              " 198: 'ever',\n",
              " 199: 'fell',\n",
              " 200: 'off',\n",
              " 201: 'put',\n",
              " 202: 'them',\n",
              " 203: 'wait',\n",
              " 204: 'around',\n",
              " 205: 'call',\n",
              " 206: 'without',\n",
              " 207: 'show',\n",
              " 208: 'ah',\n",
              " 209: 'stop',\n",
              " 210: 'hear',\n",
              " 211: 'lay',\n",
              " 212: 'people',\n",
              " 213: 'own',\n",
              " 214: 'boy',\n",
              " 215: \"let's\",\n",
              " 216: 'after',\n",
              " 217: 'once',\n",
              " 218: 'train',\n",
              " 219: 'two',\n",
              " 220: 'going',\n",
              " 221: 'much',\n",
              " 222: 'smile',\n",
              " 223: \"he's\",\n",
              " 224: 'name',\n",
              " 225: 'wrong',\n",
              " 226: 'stay',\n",
              " 227: 'cause',\n",
              " 228: 'rain',\n",
              " 229: 'anyone',\n",
              " 230: 'crazy',\n",
              " 231: 'true',\n",
              " 232: 'live',\n",
              " 233: 'waste',\n",
              " 234: 'apart',\n",
              " 235: 'tonight',\n",
              " 236: 'old',\n",
              " 237: 'free',\n",
              " 238: 'while',\n",
              " 239: 'guess',\n",
              " 240: 'sorry',\n",
              " 241: 'short',\n",
              " 242: 'deep',\n",
              " 243: 'goodbye',\n",
              " 244: \"that's\",\n",
              " 245: 'light',\n",
              " 246: 'yes',\n",
              " 247: 'under',\n",
              " 248: 'went',\n",
              " 249: 'break',\n",
              " 250: 'knew',\n",
              " 251: 'play',\n",
              " 252: 'save',\n",
              " 253: 'enough',\n",
              " 254: 'times',\n",
              " 255: 'saw',\n",
              " 256: 'yourself',\n",
              " 257: 'standing',\n",
              " 258: 'new',\n",
              " 259: 'someone',\n",
              " 260: 'steady',\n",
              " 261: 'such',\n",
              " 262: 'change',\n",
              " 263: 'forget',\n",
              " 264: 'rumor',\n",
              " 265: 'told',\n",
              " 266: \"didn't\",\n",
              " 267: 'loves',\n",
              " 268: \"you've\",\n",
              " 269: 'young',\n",
              " 270: 'lonely',\n",
              " 271: 'kids',\n",
              " 272: 'fire',\n",
              " 273: 'sometimes',\n",
              " 274: 'came',\n",
              " 275: 'rock',\n",
              " 276: 'radio',\n",
              " 277: 'dark',\n",
              " 278: 'room',\n",
              " 279: 'girls',\n",
              " 280: 'use',\n",
              " 281: 'door',\n",
              " 282: 'falling',\n",
              " 283: 'tall',\n",
              " 284: 'pain',\n",
              " 285: 'nowhere',\n",
              " 286: 'four',\n",
              " 287: 'because',\n",
              " 288: 'cry',\n",
              " 289: 'care',\n",
              " 290: 'met',\n",
              " 291: 'years',\n",
              " 292: 'believe',\n",
              " 293: 'comes',\n",
              " 294: 'send',\n",
              " 295: 'la',\n",
              " 296: 'than',\n",
              " 297: 'yellow',\n",
              " 298: 'did',\n",
              " 299: 'alive',\n",
              " 300: 'carry',\n",
              " 301: 'tired',\n",
              " 302: 'walk',\n",
              " 303: \"you'd\",\n",
              " 304: 'both',\n",
              " 305: 'voice',\n",
              " 306: 'gotta',\n",
              " 307: 'behind',\n",
              " 308: 'myself',\n",
              " 309: 'heard',\n",
              " 310: 'goo',\n",
              " 311: 'done',\n",
              " 312: 'their',\n",
              " 313: 'cold',\n",
              " 314: 'black',\n",
              " 315: 'sleep',\n",
              " 316: 'talk',\n",
              " 317: 'river',\n",
              " 318: \"we've\",\n",
              " 319: 'move',\n",
              " 320: 'work',\n",
              " 321: 'lot',\n",
              " 322: 'first',\n",
              " 323: 'far',\n",
              " 324: 'fool',\n",
              " 325: 'darling',\n",
              " 326: 'summer',\n",
              " 327: 'set',\n",
              " 328: 'thought',\n",
              " 329: 'whoa',\n",
              " 330: 'calling',\n",
              " 331: 'already',\n",
              " 332: 'trying',\n",
              " 333: 'bad',\n",
              " 334: 'lose',\n",
              " 335: 'though',\n",
              " 336: 'round',\n",
              " 337: 'crumbles',\n",
              " 338: 'growing',\n",
              " 339: 'fuck',\n",
              " 340: 'maybe',\n",
              " 341: 'same',\n",
              " 342: 'mean',\n",
              " 343: 'late',\n",
              " 344: 'him',\n",
              " 345: 'floor',\n",
              " 346: \"couldn't\",\n",
              " 347: 'sing',\n",
              " 348: 'friend',\n",
              " 349: 'ga',\n",
              " 350: 'called',\n",
              " 351: 'known',\n",
              " 352: 'dream',\n",
              " 353: 'looking',\n",
              " 354: 'kiss',\n",
              " 355: 'best',\n",
              " 356: 'easy',\n",
              " 357: 'really',\n",
              " 358: 'die',\n",
              " 359: 'nobody',\n",
              " 360: 'dust',\n",
              " 361: 'treat',\n",
              " 362: 'tears',\n",
              " 363: 'knows',\n",
              " 364: 'sure',\n",
              " 365: 'blue',\n",
              " 366: 'jude',\n",
              " 367: 'submarine',\n",
              " 368: 'hands',\n",
              " 369: 'cried',\n",
              " 370: 'scared',\n",
              " 371: \"doesn't\",\n",
              " 372: 'ask',\n",
              " 373: 'gave',\n",
              " 374: 'hope',\n",
              " 375: 'morning',\n",
              " 376: 'until',\n",
              " 377: 'found',\n",
              " 378: 'chorus',\n",
              " 379: 'many',\n",
              " 380: 'understand',\n",
              " 381: 'past',\n",
              " 382: 'other',\n",
              " 383: 'till',\n",
              " 384: 'broken',\n",
              " 385: 'three',\n",
              " 386: 'lover',\n",
              " 387: 'whenever',\n",
              " 388: 'makes',\n",
              " 389: 'close',\n",
              " 390: 'loving',\n",
              " 391: 'giving',\n",
              " 392: 'sober',\n",
              " 393: 'money',\n",
              " 394: 'real',\n",
              " 395: 'alright',\n",
              " 396: 'coming',\n",
              " 397: 'pretty',\n",
              " 398: 'watch',\n",
              " 399: 'bed',\n",
              " 400: 'each',\n",
              " 401: 'start',\n",
              " 402: 'must',\n",
              " 403: 'sad',\n",
              " 404: 'fun',\n",
              " 405: 'rolling',\n",
              " 406: 'shit',\n",
              " 407: 'burn',\n",
              " 408: 'felt',\n",
              " 409: 'skyfall',\n",
              " 410: 'million',\n",
              " 411: 'any',\n",
              " 412: 'dead',\n",
              " 413: 'chance',\n",
              " 414: 'feet',\n",
              " 415: 'wake',\n",
              " 416: 'weight',\n",
              " 417: 'buy',\n",
              " 418: 'fine',\n",
              " 419: 'tight',\n",
              " 420: 'pretend',\n",
              " 421: 'tried',\n",
              " 422: 'wanted',\n",
              " 423: 'lea',\n",
              " 424: 'woah',\n",
              " 425: 'bring',\n",
              " 426: 'took',\n",
              " 427: \"what's\",\n",
              " 428: 'anybody',\n",
              " 429: 'song',\n",
              " 430: 'making',\n",
              " 431: 'dear',\n",
              " 432: 'today',\n",
              " 433: 'kind',\n",
              " 434: 'forgive',\n",
              " 435: 'fate',\n",
              " 436: 'matter',\n",
              " 437: 'tomorrow',\n",
              " 438: 'side',\n",
              " 439: 'keeps',\n",
              " 440: 'bites',\n",
              " 441: 'whole',\n",
              " 442: 'run',\n",
              " 443: 'hide',\n",
              " 444: 'win',\n",
              " 445: 'played',\n",
              " 446: 'fiasco',\n",
              " 447: 'fades',\n",
              " 448: 'san',\n",
              " 449: 'diego',\n",
              " 450: 'started',\n",
              " 451: 'against',\n",
              " 452: 'having',\n",
              " 453: 'gets',\n",
              " 454: 'along',\n",
              " 455: 'nights',\n",
              " 456: 'fly',\n",
              " 457: 'used',\n",
              " 458: 'beside',\n",
              " 459: 'yesterday',\n",
              " 460: \"they're\",\n",
              " 461: 'may',\n",
              " 462: 'begin',\n",
              " 463: 'seems',\n",
              " 464: 'getting',\n",
              " 465: 'running',\n",
              " 466: 'lucy',\n",
              " 467: 'sunshine',\n",
              " 468: 'fix',\n",
              " 469: 'cannot',\n",
              " 470: 'ghosts',\n",
              " 471: \"hadn't\",\n",
              " 472: 'grow',\n",
              " 473: 'star',\n",
              " 474: 'loved',\n",
              " 475: 'open',\n",
              " 476: 'high',\n",
              " 477: 'everybody',\n",
              " 478: 'beat',\n",
              " 479: 'big',\n",
              " 480: 'wants',\n",
              " 481: 'water',\n",
              " 482: 'living',\n",
              " 483: 'listen',\n",
              " 484: 'cool',\n",
              " 485: 'hammer',\n",
              " 486: 'mm',\n",
              " 487: 'afraid',\n",
              " 488: 'birthday',\n",
              " 489: 'being',\n",
              " 490: 'diamonds',\n",
              " 491: 'bridge',\n",
              " 492: 'heaven',\n",
              " 493: 'anymore',\n",
              " 494: 'phone',\n",
              " 495: 'age',\n",
              " 496: 'drunk',\n",
              " 497: \"here's\",\n",
              " 498: 'fucking',\n",
              " 499: 'shake',\n",
              " 500: 'car',\n",
              " 501: 'hurt',\n",
              " 502: 'happy',\n",
              " 503: 'might',\n",
              " 504: 'god',\n",
              " 505: 'shades',\n",
              " 506: 'children',\n",
              " 507: 'does',\n",
              " 508: 'touch',\n",
              " 509: 'stupid',\n",
              " 510: 'sleeping',\n",
              " 511: 'turning',\n",
              " 512: 'california',\n",
              " 513: 'everyone',\n",
              " 514: 'kill',\n",
              " 515: 'bom',\n",
              " 516: 'fast',\n",
              " 517: 'forgotten',\n",
              " 518: 'ends',\n",
              " 519: 'its',\n",
              " 520: 'empty',\n",
              " 521: 'sweetest',\n",
              " 522: 'parking',\n",
              " 523: 'misery',\n",
              " 524: 'company',\n",
              " 525: 'fucked',\n",
              " 526: 'window',\n",
              " 527: 'very',\n",
              " 528: 'screaming',\n",
              " 529: 'dance',\n",
              " 530: 'remind',\n",
              " 531: 'nice',\n",
              " 532: 'blow',\n",
              " 533: 'willing',\n",
              " 534: 'sit',\n",
              " 535: 'seen',\n",
              " 536: 'answer',\n",
              " 537: 'memories',\n",
              " 538: 'moment',\n",
              " 539: 'fill',\n",
              " 540: 'meant',\n",
              " 541: 'hair',\n",
              " 542: 'sea',\n",
              " 543: 'beneath',\n",
              " 544: 'gently',\n",
              " 545: 'read',\n",
              " 546: 'party',\n",
              " 547: 'earth',\n",
              " 548: 'road',\n",
              " 549: 'hole',\n",
              " 550: 'guy',\n",
              " 551: 'hurts',\n",
              " 552: 'outside',\n",
              " 553: 'arms',\n",
              " 554: 'watched',\n",
              " 555: 'burned',\n",
              " 556: 'arm',\n",
              " 557: 'miles',\n",
              " 558: 'streets',\n",
              " 559: 'watching',\n",
              " 560: 'turned',\n",
              " 561: 'sound',\n",
              " 562: 'champions',\n",
              " 563: 'barely',\n",
              " 564: 'woo',\n",
              " 565: 'band',\n",
              " 566: 'sorrow',\n",
              " 567: \"nothing's\",\n",
              " 568: 'learn',\n",
              " 569: 'feels',\n",
              " 570: \"isn't\",\n",
              " 571: 'fields',\n",
              " 572: 'di',\n",
              " 573: 'hate',\n",
              " 574: 'anything',\n",
              " 575: 'hearts',\n",
              " 576: 'six',\n",
              " 577: \"haven't\",\n",
              " 578: 'prudence',\n",
              " 579: 'part',\n",
              " 580: 'bang',\n",
              " 581: 'between',\n",
              " 582: 'movie',\n",
              " 583: 'breathe',\n",
              " 584: 'pull',\n",
              " 585: 'violence',\n",
              " 586: 'los',\n",
              " 587: 'angeles',\n",
              " 588: 'matters',\n",
              " 589: 'truth',\n",
              " 590: 'edge',\n",
              " 591: 'means',\n",
              " 592: 'street',\n",
              " 593: 'ground',\n",
              " 594: 'those',\n",
              " 595: 'laugh',\n",
              " 596: 'fighting',\n",
              " 597: \"'til\",\n",
              " 598: 'pay',\n",
              " 599: 'fallen',\n",
              " 600: 'front',\n",
              " 601: 'changed',\n",
              " 602: \"we'd\",\n",
              " 603: 'pictures',\n",
              " 604: 'juba',\n",
              " 605: 'thousand',\n",
              " 606: 'hoping',\n",
              " 607: 'glad',\n",
              " 608: 'fed',\n",
              " 609: 'almost',\n",
              " 610: 'lead',\n",
              " 611: 'wave',\n",
              " 612: 'imagine',\n",
              " 613: 'wonder',\n",
              " 614: 'babe',\n",
              " 615: 'eight',\n",
              " 616: 'week',\n",
              " 617: 'five',\n",
              " 618: 'seven',\n",
              " 619: 'sees',\n",
              " 620: 'job',\n",
              " 621: 'chasing',\n",
              " 622: 'risk',\n",
              " 623: 'wishing',\n",
              " 624: 'leaving',\n",
              " 625: 'fight',\n",
              " 626: 'taste',\n",
              " 627: 'scars',\n",
              " 628: 'least',\n",
              " 629: 'breath',\n",
              " 630: 'blame',\n",
              " 631: 'sick',\n",
              " 632: 'ohhh',\n",
              " 633: \"life's\",\n",
              " 634: 'honey',\n",
              " 635: 'caught',\n",
              " 636: 'eye',\n",
              " 637: 'kick',\n",
              " 638: 'torn',\n",
              " 639: 'word',\n",
              " 640: 'singing',\n",
              " 641: 'shows',\n",
              " 642: 'hours',\n",
              " 643: 'knees',\n",
              " 644: 'fat',\n",
              " 645: 'land',\n",
              " 646: 'dirty',\n",
              " 647: 'line',\n",
              " 648: 'hell',\n",
              " 649: 'mother',\n",
              " 650: 'darkness',\n",
              " 651: 'dreams',\n",
              " 652: 'strawberry',\n",
              " 653: 'takes',\n",
              " 654: 'garden',\n",
              " 655: 'count',\n",
              " 656: 'instead',\n",
              " 657: 'ahead',\n",
              " 658: 'air',\n",
              " 659: 'sitting',\n",
              " 660: 'smoke',\n",
              " 661: 'hela',\n",
              " 662: 'thinking',\n",
              " 663: 'year',\n",
              " 664: 'trust',\n",
              " 665: 'drink',\n",
              " 666: 'clothes',\n",
              " 667: 'rocky',\n",
              " 668: 'reason',\n",
              " 669: 'pour',\n",
              " 670: 'space',\n",
              " 671: 'spend',\n",
              " 672: 'favorite',\n",
              " 673: 'worst',\n",
              " 674: 'mark',\n",
              " 675: 'mom',\n",
              " 676: 'wanting',\n",
              " 677: 'silver',\n",
              " 678: 'soul',\n",
              " 679: 'wind',\n",
              " 680: 'control',\n",
              " 681: 'pressure',\n",
              " 682: 'someday',\n",
              " 683: 'kicking',\n",
              " 684: 'ears',\n",
              " 685: 'lord',\n",
              " 686: 'strange',\n",
              " 687: 'ride',\n",
              " 688: 'game',\n",
              " 689: 'often',\n",
              " 690: 'lullaby',\n",
              " 691: 'golden',\n",
              " 692: 'sweet',\n",
              " 693: 'yard',\n",
              " 694: 'doing',\n",
              " 695: 'town',\n",
              " 696: 'loud',\n",
              " 697: 'news',\n",
              " 698: 'blew',\n",
              " 699: 'house',\n",
              " 700: 'war',\n",
              " 701: 'belonged',\n",
              " 702: 'picture',\n",
              " 703: 'write',\n",
              " 704: 'heba',\n",
              " 705: 'helloa',\n",
              " 706: 'twist',\n",
              " 707: 'closer',\n",
              " 708: 'leads',\n",
              " 709: 'story',\n",
              " 710: 'regret',\n",
              " 711: 'harm',\n",
              " 712: 'promise',\n",
              " 713: 'walking',\n",
              " 714: 'tear',\n",
              " 715: 'wonders',\n",
              " 716: 'beautiful',\n",
              " 717: 'seem',\n",
              " 718: 'games',\n",
              " 719: 'touched',\n",
              " 720: 'threw',\n",
              " 721: 'pavements',\n",
              " 722: 'hiding',\n",
              " 723: 'different',\n",
              " 724: 'tables',\n",
              " 725: 'drown',\n",
              " 726: 'm',\n",
              " 727: 'piss',\n",
              " 728: 'suburbia',\n",
              " 729: 'underneath',\n",
              " 730: 'christmas',\n",
              " 731: 'friday',\n",
              " 732: 'wooo',\n",
              " 733: 'weekend',\n",
              " 734: 'satisfied',\n",
              " 735: 'knowing',\n",
              " 736: 'blood',\n",
              " 737: 'hmm',\n",
              " 738: 'worlds',\n",
              " 739: 'lies',\n",
              " 740: \"wouldn't\",\n",
              " 741: 'across',\n",
              " 742: 'jai',\n",
              " 743: 'guru',\n",
              " 744: 'deva',\n",
              " 745: 'since',\n",
              " 746: 'slowly',\n",
              " 747: 'tree',\n",
              " 748: 'molly',\n",
              " 749: 'twenty',\n",
              " 750: 'needed',\n",
              " 751: 'cut',\n",
              " 752: 't',\n",
              " 753: \"g'\",\n",
              " 754: 'joob',\n",
              " 755: 'guitar',\n",
              " 756: 'penny',\n",
              " 757: 'lane',\n",
              " 758: 'school',\n",
              " 759: 'spinning',\n",
              " 760: 'brings',\n",
              " 761: 'shout',\n",
              " 762: 'lips',\n",
              " 763: 'missing',\n",
              " 764: 'sgt',\n",
              " 765: 'everywhere',\n",
              " 766: 'disappear',\n",
              " 767: 'single',\n",
              " 768: 'ten',\n",
              " 769: 'bompa',\n",
              " 770: 'ussr',\n",
              " 771: 'slow',\n",
              " 772: 'soon',\n",
              " 773: 'hoo',\n",
              " 774: 'bit',\n",
              " 775: 'taxman',\n",
              " 776: 'wide',\n",
              " 777: 'meet',\n",
              " 778: 'memory',\n",
              " 779: 'harder',\n",
              " 780: 'settle',\n",
              " 781: 'woulda',\n",
              " 782: 'unless',\n",
              " 783: 'reach',\n",
              " 784: 'oblivion',\n",
              " 785: 'cunt',\n",
              " 786: 'fart',\n",
              " 787: 'turd',\n",
              " 788: 'twat',\n",
              " 789: 'songs',\n",
              " 790: 'falls',\n",
              " 791: 'naa',\n",
              " 792: 'naaaa',\n",
              " 793: 'survive',\n",
              " 794: 'feed',\n",
              " 795: 'body',\n",
              " 796: 'skies',\n",
              " 797: 'poor',\n",
              " 798: 'low',\n",
              " 799: 'thrown',\n",
              " 800: 'stone',\n",
              " 801: 'ship',\n",
              " 802: 'loose',\n",
              " 803: 'pushing',\n",
              " 804: \"everything's\",\n",
              " 805: 'killer',\n",
              " 806: 'kept',\n",
              " 807: 'pa',\n",
              " 808: 'drive',\n",
              " 809: 'hanging',\n",
              " 810: 'yet',\n",
              " 811: 'calls',\n",
              " 812: 'bottomed',\n",
              " 813: \"'round\",\n",
              " 814: 'kinda',\n",
              " 815: 'roll',\n",
              " 816: 'wisdom',\n",
              " 817: 'whisper',\n",
              " 818: 'shines',\n",
              " 819: 'waves',\n",
              " 820: 'upon',\n",
              " 821: 'lovers',\n",
              " 822: 'blackbird',\n",
              " 823: 'desmond',\n",
              " 824: 'point',\n",
              " 825: 'lasts',\n",
              " 826: 'top',\n",
              " 827: 'green',\n",
              " 828: 'next',\n",
              " 829: 'full',\n",
              " 830: 'mr',\n",
              " 831: 'near',\n",
              " 832: 'crying',\n",
              " 833: 'bright',\n",
              " 834: 'belong',\n",
              " 835: 'died',\n",
              " 836: 'holding',\n",
              " 837: 'lie',\n",
              " 838: 'ago',\n",
              " 839: \"they've\",\n",
              " 840: 'act',\n",
              " 841: \"pepper's\",\n",
              " 842: 'above',\n",
              " 843: \"octopus'\",\n",
              " 844: 'ocean',\n",
              " 845: 'pick',\n",
              " 846: 'nearly',\n",
              " 847: 'broke',\n",
              " 848: 'cigarette',\n",
              " 849: 'bulldog',\n",
              " 850: 'case',\n",
              " 851: 'future',\n",
              " 852: 'realized',\n",
              " 853: 'straight',\n",
              " 854: 'o',\n",
              " 855: 'finally',\n",
              " 856: 'sell',\n",
              " 857: 'dreaming',\n",
              " 858: 'strong',\n",
              " 859: 'flames',\n",
              " 860: 'reckless',\n",
              " 861: 'whatever',\n",
              " 862: 'doubts',\n",
              " 863: 'perfect',\n",
              " 864: 'verse',\n",
              " 865: '1',\n",
              " 866: \"could've\",\n",
              " 867: '2',\n",
              " 868: '3',\n",
              " 869: 'devotion',\n",
              " 870: 'shower',\n",
              " 871: 'goodnight',\n",
              " 872: 'smash',\n",
              " 873: 'matt',\n",
              " 874: 'fear',\n",
              " 875: 'nightmare',\n",
              " 876: 'im',\n",
              " 877: 'planet',\n",
              " 878: 'halfway',\n",
              " 879: 'punk',\n",
              " 880: 'rabbit',\n",
              " 881: 'haze',\n",
              " 882: 'mama',\n",
              " 883: 'burning',\n",
              " 884: 'speed',\n",
              " 885: 'bomb',\n",
              " 886: 'older',\n",
              " 887: 'says',\n",
              " 888: 'remedy',\n",
              " 889: 'queen',\n",
              " 890: 'drop',\n",
              " 891: 'seat',\n",
              " 892: 'playing',\n",
              " 893: 'peace',\n",
              " 894: 'stars',\n",
              " 895: \"'em\",\n",
              " 896: 'background',\n",
              " 897: 'music',\n",
              " 898: 'ache',\n",
              " 899: 'bones',\n",
              " 900: 'losing',\n",
              " 901: 'red',\n",
              " 902: 'piece',\n",
              " 903: 'shadow',\n",
              " 904: 'scream',\n",
              " 905: 'universe',\n",
              " 906: 'opened',\n",
              " 907: 'thoughts',\n",
              " 908: 'minute',\n",
              " 909: 'shoulder',\n",
              " 910: 'homeward',\n",
              " 911: 'middle',\n",
              " 912: 'wine',\n",
              " 913: 'sixty',\n",
              " 914: 'yours',\n",
              " 915: \"somethin'\",\n",
              " 916: 'hill',\n",
              " 917: 'plan',\n",
              " 918: 'ease',\n",
              " 919: 'weeps',\n",
              " 920: 'rather',\n",
              " 921: 'crowd',\n",
              " 922: 'michelle',\n",
              " 923: 'tres',\n",
              " 924: 'bien',\n",
              " 925: 'ensemble',\n",
              " 926: 'clouds',\n",
              " 927: 'looked',\n",
              " 928: \"wasn't\",\n",
              " 929: 'biding',\n",
              " 930: 'lives',\n",
              " 931: 'held',\n",
              " 932: 'tells',\n",
              " 933: 'club',\n",
              " 934: 'thrill',\n",
              " 935: 'washed',\n",
              " 936: 'monday',\n",
              " 937: 'wipe',\n",
              " 938: \"everybody's\",\n",
              " 939: 'fifteen',\n",
              " 940: 'quit',\n",
              " 941: 'driving',\n",
              " 942: 'longer',\n",
              " 943: 'ran',\n",
              " 944: 'doubt',\n",
              " 945: 'saying',\n",
              " 946: \"maxwell's\",\n",
              " 947: 'painting',\n",
              " 948: 'hearing',\n",
              " 949: 'bringing',\n",
              " 950: 'heal',\n",
              " 951: 'happened',\n",
              " 952: 'kissed',\n",
              " 953: 'however',\n",
              " 954: 'learned',\n",
              " 955: 'taking',\n",
              " 956: 'swept',\n",
              " 957: 'umm',\n",
              " 958: 'forgiven',\n",
              " 959: 'rising',\n",
              " 960: 'illuminates',\n",
              " 961: 'walls',\n",
              " 962: 'death',\n",
              " 963: 'teasing',\n",
              " 964: 'asleep',\n",
              " 965: 'pieces',\n",
              " 966: 'stories',\n",
              " 967: 'fluorescent',\n",
              " 968: 'dying',\n",
              " 969: 'score',\n",
              " 970: 'bent',\n",
              " 971: 'brokenhearted',\n",
              " 972: 'dad',\n",
              " 973: 'fading',\n",
              " 974: 'guys',\n",
              " 975: 'cant',\n",
              " 976: 'ass',\n",
              " 977: 'holly',\n",
              " 978: 'screen',\n",
              " 979: 'vision',\n",
              " 980: 'disillusioned',\n",
              " 981: 'crossed',\n",
              " 982: 'bread',\n",
              " 983: \"it'll\",\n",
              " 984: 'blows',\n",
              " 985: 'pulled',\n",
              " 986: 'galileo',\n",
              " 987: 'shooting',\n",
              " 988: 'woman',\n",
              " 989: 'breaking',\n",
              " 990: 'less',\n",
              " 991: 'rip',\n",
              " 992: 'kicked',\n",
              " 993: 'heat',\n",
              " 994: 'ways',\n",
              " 995: 'hour',\n",
              " 996: 'thank',\n",
              " 997: 'roses',\n",
              " 998: 'works',\n",
              " 999: 'sense',\n",
              " 1000: 'hang',\n",
              " ...}"
            ]
          },
          "execution_count": 86,
          "metadata": {},
          "output_type": "execute_result"
        }
      ],
      "source": [
        "# Palabras del vocabulario\n",
        "tok.index_word"
      ]
    },
    {
      "cell_type": "code",
      "execution_count": 26,
      "metadata": {
        "colab": {
          "base_uri": "https://localhost:8080/"
        },
        "id": "gJgVhq1zwEpf",
        "outputId": "4d0c94b1-e2f9-4a95-ddeb-792c21073c57"
      },
      "outputs": [
        {
          "output_type": "execute_result",
          "data": {
            "text/plain": [
              "3389"
            ]
          },
          "metadata": {},
          "execution_count": 26
        }
      ],
      "source": [
        "# Cantidad de palabras en el vocabulario\n",
        "vocab_size = len(tok.word_counts)\n",
        "vocab_size"
      ]
    },
    {
      "cell_type": "code",
      "execution_count": 27,
      "metadata": {
        "id": "wKV85M2uwKJ9"
      },
      "outputs": [],
      "source": [
        "# Transformar los datos a oneHotEncoding\n",
        "y_data_int_offset = y_data_int -1\n",
        "y_data = to_categorical(y_data_int_offset, num_classes=vocab_size)"
      ]
    },
    {
      "cell_type": "code",
      "execution_count": 29,
      "metadata": {
        "colab": {
          "base_uri": "https://localhost:8080/"
        },
        "id": "vbOFBxWSRa-P",
        "outputId": "3c7f0079-397f-458f-91a2-d11221c4cb9d"
      },
      "outputs": [
        {
          "output_type": "execute_result",
          "data": {
            "text/plain": [
              "(57249, 3389)"
            ]
          },
          "metadata": {},
          "execution_count": 29
        }
      ],
      "source": [
        "y_data.shape"
      ]
    },
    {
      "cell_type": "markdown",
      "metadata": {
        "id": "GmJWNyxQwfCE"
      },
      "source": [
        "### 4 - Entrenar el modelo"
      ]
    },
    {
      "cell_type": "code",
      "execution_count": 28,
      "metadata": {
        "colab": {
          "base_uri": "https://localhost:8080/"
        },
        "id": "0cOmNZT_weK2",
        "outputId": "aceea044-a49e-4f4f-f2b5-4ea02d7f0b26"
      },
      "outputs": [
        {
          "output_type": "execute_result",
          "data": {
            "text/plain": [
              "2"
            ]
          },
          "metadata": {},
          "execution_count": 28
        }
      ],
      "source": [
        "# largo de la secuencia de entrada\n",
        "input_seq_len = x_data.shape[1] \n",
        "input_seq_len"
      ]
    },
    {
      "cell_type": "code",
      "execution_count": 29,
      "metadata": {
        "colab": {
          "base_uri": "https://localhost:8080/"
        },
        "id": "qtwITjgnwlgp",
        "outputId": "e39a401d-7b0e-4ee6-f632-563a96f672b8"
      },
      "outputs": [
        {
          "output_type": "execute_result",
          "data": {
            "text/plain": [
              "3389"
            ]
          },
          "metadata": {},
          "execution_count": 29
        }
      ],
      "source": [
        "# Largo del vector de salida --> vocab_size\n",
        "output_size = vocab_size\n",
        "output_size"
      ]
    },
    {
      "cell_type": "code",
      "execution_count": 40,
      "metadata": {
        "colab": {
          "base_uri": "https://localhost:8080/"
        },
        "id": "jzTZRXrrwrvi",
        "outputId": "a46ddc68-f174-4045-e2db-425642b171d2"
      },
      "outputs": [
        {
          "output_type": "stream",
          "name": "stdout",
          "text": [
            "Model: \"sequential_5\"\n",
            "_________________________________________________________________\n",
            " Layer (type)                Output Shape              Param #   \n",
            "=================================================================\n",
            " embedding_5 (Embedding)     (None, 2, 3)              10170     \n",
            "                                                                 \n",
            " bidirectional_5 (Bidirectio  (None, 2, 128)           34816     \n",
            " nal)                                                            \n",
            "                                                                 \n",
            " dropout_5 (Dropout)         (None, 2, 128)            0         \n",
            "                                                                 \n",
            " lstm_15 (LSTM)              (None, 2, 128)            131584    \n",
            "                                                                 \n",
            " lstm_16 (LSTM)              (None, 64)                49408     \n",
            "                                                                 \n",
            " dense_13 (Dense)            (None, 32)                2080      \n",
            "                                                                 \n",
            " dense_14 (Dense)            (None, 3389)              111837    \n",
            "                                                                 \n",
            "=================================================================\n",
            "Total params: 339,895\n",
            "Trainable params: 339,895\n",
            "Non-trainable params: 0\n",
            "_________________________________________________________________\n"
          ]
        }
      ],
      "source": [
        "model = Sequential()\n",
        "\n",
        "# Embedding:\n",
        "# input_seq_len = 3 --> ingreso 3 palabras\n",
        "# input_dim = vocab_size --> 1628 palabras distintas\n",
        "# output_dim = 5 --> crear embeddings de tamaño 5 (tamaño variable y ajustable)\n",
        "model.add(Embedding(input_dim=vocab_size+1, output_dim=3, input_length=input_seq_len))\n",
        "\n",
        "model.add(Bidirectional(LSTM(64, return_sequences=True)))\n",
        "model.add(Dropout(0.2))\n",
        "model.add(LSTM(128, return_sequences=True))\n",
        "model.add(LSTM(64))\n",
        "model.add(Dense(32))\n",
        "\n",
        "# Predicción de clasificación con softmax\n",
        "# La salida vuelve al espacio de 1628 palabras posibles\n",
        "model.add(Dense(vocab_size, activation='softmax'))\n",
        "\n",
        "# Clasificación multiple categórica --> loss = categorical_crossentropy\n",
        "model.compile(loss='categorical_crossentropy', optimizer='adam', metrics=['accuracy'])\n",
        "\n",
        "model.summary()"
      ]
    },
    {
      "cell_type": "code",
      "execution_count": 41,
      "metadata": {
        "colab": {
          "base_uri": "https://localhost:8080/"
        },
        "id": "oQq1PHDkxDvN",
        "outputId": "691ab979-158f-4e87-d81c-4169e1666e3e"
      },
      "outputs": [
        {
          "output_type": "stream",
          "name": "stdout",
          "text": [
            "Epoch 1/25\n",
            "1432/1432 [==============================] - 29s 15ms/step - loss: 6.1377 - accuracy: 0.0403 - val_loss: 6.5329 - val_accuracy: 0.0420\n",
            "Epoch 2/25\n",
            "1432/1432 [==============================] - 17s 12ms/step - loss: 5.8032 - accuracy: 0.0489 - val_loss: 6.4237 - val_accuracy: 0.0439\n",
            "Epoch 3/25\n",
            "1432/1432 [==============================] - 19s 13ms/step - loss: 5.5399 - accuracy: 0.0579 - val_loss: 6.4490 - val_accuracy: 0.0621\n",
            "Epoch 4/25\n",
            "1432/1432 [==============================] - 17s 12ms/step - loss: 5.3593 - accuracy: 0.0717 - val_loss: 6.4497 - val_accuracy: 0.0686\n",
            "Epoch 5/25\n",
            "1432/1432 [==============================] - 19s 14ms/step - loss: 5.1947 - accuracy: 0.0863 - val_loss: 6.4512 - val_accuracy: 0.0769\n",
            "Epoch 6/25\n",
            "1432/1432 [==============================] - 17s 12ms/step - loss: 5.0222 - accuracy: 0.1018 - val_loss: 6.4655 - val_accuracy: 0.0800\n",
            "Epoch 7/25\n",
            "1432/1432 [==============================] - 17s 12ms/step - loss: 4.8729 - accuracy: 0.1146 - val_loss: 6.5229 - val_accuracy: 0.0822\n",
            "Epoch 8/25\n",
            "1432/1432 [==============================] - 17s 12ms/step - loss: 4.7348 - accuracy: 0.1281 - val_loss: 6.5936 - val_accuracy: 0.0810\n",
            "Epoch 9/25\n",
            "1432/1432 [==============================] - 18s 13ms/step - loss: 4.6091 - accuracy: 0.1433 - val_loss: 6.6755 - val_accuracy: 0.0858\n",
            "Epoch 10/25\n",
            "1432/1432 [==============================] - 19s 13ms/step - loss: 4.4949 - accuracy: 0.1577 - val_loss: 6.7424 - val_accuracy: 0.0885\n",
            "Epoch 11/25\n",
            "1432/1432 [==============================] - 18s 12ms/step - loss: 4.3892 - accuracy: 0.1674 - val_loss: 6.8226 - val_accuracy: 0.0901\n",
            "Epoch 12/25\n",
            "1432/1432 [==============================] - 17s 12ms/step - loss: 4.2914 - accuracy: 0.1812 - val_loss: 6.9149 - val_accuracy: 0.0892\n",
            "Epoch 13/25\n",
            "1432/1432 [==============================] - 16s 11ms/step - loss: 4.2020 - accuracy: 0.1893 - val_loss: 6.9635 - val_accuracy: 0.0958\n",
            "Epoch 14/25\n",
            "1432/1432 [==============================] - 17s 12ms/step - loss: 4.1186 - accuracy: 0.1980 - val_loss: 7.0666 - val_accuracy: 0.0895\n",
            "Epoch 15/25\n",
            "1432/1432 [==============================] - 17s 12ms/step - loss: 4.0443 - accuracy: 0.2073 - val_loss: 7.1130 - val_accuracy: 0.0894\n",
            "Epoch 16/25\n",
            "1432/1432 [==============================] - 18s 13ms/step - loss: 3.9726 - accuracy: 0.2149 - val_loss: 7.1755 - val_accuracy: 0.0970\n",
            "Epoch 17/25\n",
            "1432/1432 [==============================] - 18s 12ms/step - loss: 3.9073 - accuracy: 0.2226 - val_loss: 7.2615 - val_accuracy: 0.0937\n",
            "Epoch 18/25\n",
            "1432/1432 [==============================] - 17s 12ms/step - loss: 3.8451 - accuracy: 0.2323 - val_loss: 7.3035 - val_accuracy: 0.0956\n",
            "Epoch 19/25\n",
            "1432/1432 [==============================] - 17s 12ms/step - loss: 3.7831 - accuracy: 0.2402 - val_loss: 7.3400 - val_accuracy: 0.0955\n",
            "Epoch 20/25\n",
            "1432/1432 [==============================] - 17s 12ms/step - loss: 3.7264 - accuracy: 0.2495 - val_loss: 7.4142 - val_accuracy: 0.0982\n",
            "Epoch 21/25\n",
            "1432/1432 [==============================] - 19s 13ms/step - loss: 3.6735 - accuracy: 0.2520 - val_loss: 7.5064 - val_accuracy: 0.0962\n",
            "Epoch 22/25\n",
            "1432/1432 [==============================] - 24s 17ms/step - loss: 3.6207 - accuracy: 0.2613 - val_loss: 7.5211 - val_accuracy: 0.0967\n",
            "Epoch 23/25\n",
            "1432/1432 [==============================] - 23s 16ms/step - loss: 3.5703 - accuracy: 0.2658 - val_loss: 7.5793 - val_accuracy: 0.0965\n",
            "Epoch 24/25\n",
            "1432/1432 [==============================] - 18s 12ms/step - loss: 3.5273 - accuracy: 0.2721 - val_loss: 7.6204 - val_accuracy: 0.0934\n",
            "Epoch 25/25\n",
            "1432/1432 [==============================] - 17s 12ms/step - loss: 3.4786 - accuracy: 0.2807 - val_loss: 7.6432 - val_accuracy: 0.0934\n"
          ]
        }
      ],
      "source": [
        "hist = model.fit(x_data, y_data, epochs=25, validation_split=0.2)"
      ]
    },
    {
      "cell_type": "code",
      "execution_count": 42,
      "metadata": {
        "colab": {
          "base_uri": "https://localhost:8080/"
        },
        "outputId": "47ce45eb-77d2-4dc5-9455-243cf26c70ee",
        "id": "G67DQVz0elvd"
      },
      "outputs": [
        {
          "output_type": "stream",
          "name": "stdout",
          "text": [
            "Model: \"sequential_6\"\n",
            "_________________________________________________________________\n",
            " Layer (type)                Output Shape              Param #   \n",
            "=================================================================\n",
            " embedding_6 (Embedding)     (None, 2, 3)              10170     \n",
            "                                                                 \n",
            " bidirectional_6 (Bidirectio  (None, 2, 512)           532480    \n",
            " nal)                                                            \n",
            "                                                                 \n",
            " dropout_6 (Dropout)         (None, 2, 512)            0         \n",
            "                                                                 \n",
            " lstm_18 (LSTM)              (None, 2, 256)            787456    \n",
            "                                                                 \n",
            " lstm_19 (LSTM)              (None, 124)               188976    \n",
            "                                                                 \n",
            " dense_15 (Dense)            (None, 32)                4000      \n",
            "                                                                 \n",
            " dense_16 (Dense)            (None, 3389)              111837    \n",
            "                                                                 \n",
            "=================================================================\n",
            "Total params: 1,634,919\n",
            "Trainable params: 1,634,919\n",
            "Non-trainable params: 0\n",
            "_________________________________________________________________\n"
          ]
        }
      ],
      "source": [
        "modelo = Sequential()\n",
        "\n",
        "# Embedding:\n",
        "# input_seq_len = 3 --> ingreso 3 palabras\n",
        "# input_dim = vocab_size --> 1628 palabras distintas\n",
        "# output_dim = 5 --> crear embeddings de tamaño 5 (tamaño variable y ajustable)\n",
        "modelo.add(Embedding(input_dim=vocab_size+1, output_dim=3, input_length=input_seq_len))\n",
        "\n",
        "modelo.add(Bidirectional(LSTM(256, return_sequences=True)))\n",
        "modelo.add(Dropout(0.2))\n",
        "modelo.add(LSTM(256, return_sequences=True))\n",
        "modelo.add(LSTM(124))\n",
        "modelo.add(Dense(32))\n",
        "\n",
        "# Predicción de clasificación con softmax\n",
        "# La salida vuelve al espacio de 1628 palabras posibles\n",
        "modelo.add(Dense(vocab_size, activation='softmax'))\n",
        "\n",
        "# Clasificación multiple categórica --> loss = categorical_crossentropy\n",
        "modelo.compile(loss='categorical_crossentropy', optimizer='adam', metrics=['accuracy'])\n",
        "\n",
        "modelo.summary()"
      ]
    },
    {
      "cell_type": "code",
      "execution_count": 43,
      "metadata": {
        "colab": {
          "base_uri": "https://localhost:8080/"
        },
        "outputId": "52312cfb-0ba7-41f6-efc4-caffbedbacec",
        "id": "j1ed9mpMelvd"
      },
      "outputs": [
        {
          "output_type": "stream",
          "name": "stdout",
          "text": [
            "Epoch 1/25\n",
            "1432/1432 [==============================] - 31s 15ms/step - loss: 6.0986 - accuracy: 0.0422 - val_loss: 6.3707 - val_accuracy: 0.0448\n",
            "Epoch 2/25\n",
            "1432/1432 [==============================] - 17s 12ms/step - loss: 5.5900 - accuracy: 0.0602 - val_loss: 6.3109 - val_accuracy: 0.0762\n",
            "Epoch 3/25\n",
            "1432/1432 [==============================] - 16s 11ms/step - loss: 5.2860 - accuracy: 0.0871 - val_loss: 6.2972 - val_accuracy: 0.0753\n",
            "Epoch 4/25\n",
            "1432/1432 [==============================] - 17s 12ms/step - loss: 5.0026 - accuracy: 0.1068 - val_loss: 6.2397 - val_accuracy: 0.0776\n",
            "Epoch 5/25\n",
            "1432/1432 [==============================] - 18s 12ms/step - loss: 4.7639 - accuracy: 0.1275 - val_loss: 6.3876 - val_accuracy: 0.0907\n",
            "Epoch 6/25\n",
            "1432/1432 [==============================] - 19s 13ms/step - loss: 4.5619 - accuracy: 0.1497 - val_loss: 6.4655 - val_accuracy: 0.0870\n",
            "Epoch 7/25\n",
            "1432/1432 [==============================] - 17s 12ms/step - loss: 4.3893 - accuracy: 0.1712 - val_loss: 6.6227 - val_accuracy: 0.0914\n",
            "Epoch 8/25\n",
            "1432/1432 [==============================] - 18s 12ms/step - loss: 4.2296 - accuracy: 0.1896 - val_loss: 6.7339 - val_accuracy: 0.0941\n",
            "Epoch 9/25\n",
            "1432/1432 [==============================] - 17s 12ms/step - loss: 4.0850 - accuracy: 0.2115 - val_loss: 6.7860 - val_accuracy: 0.1015\n",
            "Epoch 10/25\n",
            "1432/1432 [==============================] - 17s 12ms/step - loss: 3.9509 - accuracy: 0.2282 - val_loss: 6.9089 - val_accuracy: 0.0937\n",
            "Epoch 11/25\n",
            "1432/1432 [==============================] - 18s 13ms/step - loss: 3.8274 - accuracy: 0.2438 - val_loss: 7.0447 - val_accuracy: 0.1010\n",
            "Epoch 12/25\n",
            "1432/1432 [==============================] - 17s 12ms/step - loss: 3.7099 - accuracy: 0.2603 - val_loss: 7.1237 - val_accuracy: 0.1035\n",
            "Epoch 13/25\n",
            "1432/1432 [==============================] - 17s 12ms/step - loss: 3.6060 - accuracy: 0.2736 - val_loss: 7.2301 - val_accuracy: 0.1072\n",
            "Epoch 14/25\n",
            "1432/1432 [==============================] - 18s 12ms/step - loss: 3.5033 - accuracy: 0.2841 - val_loss: 7.2907 - val_accuracy: 0.1031\n",
            "Epoch 15/25\n",
            "1432/1432 [==============================] - 18s 12ms/step - loss: 3.4088 - accuracy: 0.2987 - val_loss: 7.3709 - val_accuracy: 0.1038\n",
            "Epoch 16/25\n",
            "1432/1432 [==============================] - 18s 13ms/step - loss: 3.3179 - accuracy: 0.3120 - val_loss: 7.4479 - val_accuracy: 0.1087\n",
            "Epoch 17/25\n",
            "1432/1432 [==============================] - 17s 12ms/step - loss: 3.2378 - accuracy: 0.3244 - val_loss: 7.5355 - val_accuracy: 0.1049\n",
            "Epoch 18/25\n",
            "1432/1432 [==============================] - 17s 12ms/step - loss: 3.1615 - accuracy: 0.3321 - val_loss: 7.6238 - val_accuracy: 0.1021\n",
            "Epoch 19/25\n",
            "1432/1432 [==============================] - 18s 12ms/step - loss: 3.0870 - accuracy: 0.3439 - val_loss: 7.7141 - val_accuracy: 0.1028\n",
            "Epoch 20/25\n",
            "1432/1432 [==============================] - 17s 12ms/step - loss: 3.0174 - accuracy: 0.3533 - val_loss: 7.7833 - val_accuracy: 0.1050\n",
            "Epoch 21/25\n",
            "1432/1432 [==============================] - 17s 12ms/step - loss: 2.9555 - accuracy: 0.3629 - val_loss: 7.8687 - val_accuracy: 0.1133\n",
            "Epoch 22/25\n",
            "1432/1432 [==============================] - 18s 12ms/step - loss: 2.8910 - accuracy: 0.3716 - val_loss: 7.9386 - val_accuracy: 0.1065\n",
            "Epoch 23/25\n",
            "1432/1432 [==============================] - 17s 12ms/step - loss: 2.8251 - accuracy: 0.3824 - val_loss: 7.9921 - val_accuracy: 0.1043\n",
            "Epoch 24/25\n",
            "1432/1432 [==============================] - 17s 12ms/step - loss: 2.7757 - accuracy: 0.3886 - val_loss: 8.0570 - val_accuracy: 0.0921\n",
            "Epoch 25/25\n",
            "1432/1432 [==============================] - 17s 12ms/step - loss: 2.7185 - accuracy: 0.3977 - val_loss: 8.1632 - val_accuracy: 0.1052\n"
          ]
        }
      ],
      "source": [
        "hist = modelo.fit(x_data, y_data, epochs=25, validation_split=0.2)"
      ]
    },
    {
      "cell_type": "code",
      "execution_count": 45,
      "metadata": {
        "id": "nxZPjkwpYoOi"
      },
      "outputs": [],
      "source": [
        "import matplotlib.pyplot as plt\n",
        "import seaborn as sns\n"
      ]
    },
    {
      "cell_type": "code",
      "execution_count": 46,
      "metadata": {
        "colab": {
          "base_uri": "https://localhost:8080/",
          "height": 430
        },
        "id": "q_orBXOrCsNn",
        "outputId": "ef23e6b4-077d-4041-819d-42370547e8b7"
      },
      "outputs": [
        {
          "output_type": "display_data",
          "data": {
            "text/plain": [
              "<Figure size 640x480 with 1 Axes>"
            ],
            "image/png": "[encoded data removed]"
          },
          "metadata": {}
        }
      ],
      "source": [
        "# Entrenamiento\n",
        "epoch_count = range(1, len(hist.history['accuracy']) + 1)\n",
        "sns.lineplot(x=epoch_count,  y=hist.history['accuracy'], label='train')\n",
        "sns.lineplot(x=epoch_count,  y=hist.history['val_accuracy'], label='valid')\n",
        "plt.show()"
      ]
    },
    {
      "cell_type": "code",
      "execution_count": 39,
      "metadata": {
        "colab": {
          "base_uri": "https://localhost:8080/"
        },
        "id": "TuNW46m7iSna",
        "outputId": "3e6ae14d-e246-40a2-ee2a-771eedd4ebb8"
      },
      "outputs": [
        {
          "output_type": "stream",
          "name": "stdout",
          "text": [
            "Model: \"sequential_2\"\n",
            "_________________________________________________________________\n",
            " Layer (type)                Output Shape              Param #   \n",
            "=================================================================\n",
            " embedding_2 (Embedding)     (None, 2, 5)              16950     \n",
            "                                                                 \n",
            " bidirectional_2 (Bidirectio  (None, 2, 64)            9728      \n",
            " nal)                                                            \n",
            "                                                                 \n",
            " dropout_2 (Dropout)         (None, 2, 64)             0         \n",
            "                                                                 \n",
            " lstm_7 (LSTM)               (None, 2, 128)            98816     \n",
            "                                                                 \n",
            " lstm_8 (LSTM)               (None, 64)                49408     \n",
            "                                                                 \n",
            " dense_4 (Dense)             (None, 32)                2080      \n",
            "                                                                 \n",
            " dense_5 (Dense)             (None, 3389)              111837    \n",
            "                                                                 \n",
            "=================================================================\n",
            "Total params: 288,819\n",
            "Trainable params: 288,819\n",
            "Non-trainable params: 0\n",
            "_________________________________________________________________\n"
          ]
        }
      ],
      "source": [
        "model = Sequential()\n",
        "\n",
        "# Embedding:\n",
        "# input_seq_len = 3 --> ingreso 3 palabras\n",
        "# input_dim = vocab_size --> 1628 palabras distintas\n",
        "# output_dim = 5 --> crear embeddings de tamaño 5 (tamaño variable y ajustable)\n",
        "model.add(Embedding(input_dim=vocab_size+1, output_dim=5, input_length=input_seq_len))\n",
        "\n",
        "model.add(Bidirectional(LSTM(32, return_sequences=True)))\n",
        "model.add(Dropout(0.15))\n",
        "model.add(LSTM(128, return_sequences=True))\n",
        "model.add(LSTM(64))# La última capa LSTM no lleva return_sequences\n",
        "model.add(Dense(32, activation='relu'))\n",
        "\n",
        "# Predicción de clasificación con softmax\n",
        "# La salida vuelve al espacio de 1628 palabras posibles\n",
        "model.add(Dense(vocab_size, activation='softmax'))\n",
        "\n",
        "# Clasificación multiple categórica --> loss = categorical_crossentropy\n",
        "model.compile(loss='categorical_crossentropy', optimizer='adam', metrics=['accuracy'])\n",
        "\n",
        "model.summary()"
      ]
    },
    {
      "cell_type": "code",
      "execution_count": null,
      "metadata": {
        "colab": {
          "base_uri": "https://localhost:8080/"
        },
        "id": "ybrXqxdfiSnb",
        "outputId": "dca08530-8ec6-41b8-d386-cff3b0fb13c3"
      },
      "outputs": [
        {
          "name": "stdout",
          "output_type": "stream",
          "text": [
            "Epoch 1/70\n",
            "1432/1432 [==============================] - 28s 15ms/step - loss: 6.1485 - accuracy: 0.0414 - val_loss: 6.4727 - val_accuracy: 0.0275\n",
            "Epoch 2/70\n",
            "1432/1432 [==============================] - 18s 13ms/step - loss: 5.8368 - accuracy: 0.0457 - val_loss: 6.4456 - val_accuracy: 0.0453\n",
            "Epoch 3/70\n",
            "1432/1432 [==============================] - 16s 12ms/step - loss: 5.5771 - accuracy: 0.0543 - val_loss: 6.3992 - val_accuracy: 0.0417\n",
            "Epoch 4/70\n",
            "1432/1432 [==============================] - 17s 12ms/step - loss: 5.3961 - accuracy: 0.0617 - val_loss: 6.5015 - val_accuracy: 0.0551\n",
            "Epoch 5/70\n",
            "1432/1432 [==============================] - 17s 12ms/step - loss: 5.2484 - accuracy: 0.0701 - val_loss: 6.6465 - val_accuracy: 0.0668\n",
            "Epoch 6/70\n",
            "1432/1432 [==============================] - 17s 12ms/step - loss: 5.1136 - accuracy: 0.0794 - val_loss: 6.7419 - val_accuracy: 0.0748\n",
            "Epoch 7/70\n",
            "1432/1432 [==============================] - 18s 12ms/step - loss: 4.9773 - accuracy: 0.0911 - val_loss: 6.8402 - val_accuracy: 0.0728\n",
            "Epoch 8/70\n",
            "1432/1432 [==============================] - 17s 12ms/step - loss: 4.8457 - accuracy: 0.1054 - val_loss: 6.9244 - val_accuracy: 0.0697\n",
            "Epoch 9/70\n",
            "1432/1432 [==============================] - 18s 13ms/step - loss: 4.7162 - accuracy: 0.1199 - val_loss: 7.0394 - val_accuracy: 0.0782\n",
            "Epoch 10/70\n",
            "1432/1432 [==============================] - 18s 12ms/step - loss: 4.6022 - accuracy: 0.1323 - val_loss: 7.3075 - val_accuracy: 0.0811\n",
            "Epoch 11/70\n",
            "1432/1432 [==============================] - 18s 13ms/step - loss: 4.4989 - accuracy: 0.1436 - val_loss: 7.4280 - val_accuracy: 0.0873\n",
            "Epoch 12/70\n",
            "1432/1432 [==============================] - 17s 12ms/step - loss: 4.4119 - accuracy: 0.1554 - val_loss: 7.6032 - val_accuracy: 0.0841\n",
            "Epoch 13/70\n",
            "1432/1432 [==============================] - 17s 12ms/step - loss: 4.3318 - accuracy: 0.1645 - val_loss: 7.6764 - val_accuracy: 0.0858\n",
            "Epoch 14/70\n",
            "1432/1432 [==============================] - 18s 13ms/step - loss: 4.2586 - accuracy: 0.1719 - val_loss: 7.9376 - val_accuracy: 0.0866\n",
            "Epoch 15/70\n",
            "1432/1432 [==============================] - 18s 12ms/step - loss: 4.1889 - accuracy: 0.1791 - val_loss: 8.2390 - val_accuracy: 0.0895\n",
            "Epoch 16/70\n",
            "1432/1432 [==============================] - 17s 12ms/step - loss: 4.1265 - accuracy: 0.1881 - val_loss: 8.4567 - val_accuracy: 0.0881\n",
            "Epoch 17/70\n",
            "1432/1432 [==============================] - 18s 13ms/step - loss: 4.0721 - accuracy: 0.1939 - val_loss: 8.5181 - val_accuracy: 0.0947\n",
            "Epoch 18/70\n",
            "1432/1432 [==============================] - 17s 12ms/step - loss: 4.0124 - accuracy: 0.2031 - val_loss: 8.8908 - val_accuracy: 0.0901\n",
            "Epoch 19/70\n",
            "1432/1432 [==============================] - 17s 12ms/step - loss: 3.9640 - accuracy: 0.2070 - val_loss: 9.2462 - val_accuracy: 0.0927\n",
            "Epoch 20/70\n",
            "1432/1432 [==============================] - 18s 12ms/step - loss: 3.9193 - accuracy: 0.2148 - val_loss: 9.2821 - val_accuracy: 0.0969\n",
            "Epoch 21/70\n",
            "1432/1432 [==============================] - 16s 11ms/step - loss: 3.8677 - accuracy: 0.2200 - val_loss: 9.5856 - val_accuracy: 0.0934\n",
            "Epoch 22/70\n",
            "1432/1432 [==============================] - 17s 12ms/step - loss: 3.8311 - accuracy: 0.2259 - val_loss: 9.5976 - val_accuracy: 0.0944\n",
            "Epoch 23/70\n",
            "1432/1432 [==============================] - 18s 13ms/step - loss: 3.7965 - accuracy: 0.2305 - val_loss: 9.8464 - val_accuracy: 0.0916\n",
            "Epoch 24/70\n",
            "1432/1432 [==============================] - 18s 12ms/step - loss: 3.7617 - accuracy: 0.2336 - val_loss: 10.0520 - val_accuracy: 0.0938\n",
            "Epoch 25/70\n",
            "1432/1432 [==============================] - 17s 12ms/step - loss: 3.7270 - accuracy: 0.2375 - val_loss: 10.1930 - val_accuracy: 0.0976\n",
            "Epoch 26/70\n",
            "1432/1432 [==============================] - 18s 12ms/step - loss: 3.6958 - accuracy: 0.2435 - val_loss: 10.3995 - val_accuracy: 0.1002\n",
            "Epoch 27/70\n",
            "1432/1432 [==============================] - 18s 12ms/step - loss: 3.6647 - accuracy: 0.2481 - val_loss: 10.4791 - val_accuracy: 0.0988\n",
            "Epoch 28/70\n",
            "1432/1432 [==============================] - 17s 12ms/step - loss: 3.6349 - accuracy: 0.2514 - val_loss: 10.7698 - val_accuracy: 0.0971\n",
            "Epoch 29/70\n",
            "1432/1432 [==============================] - 18s 12ms/step - loss: 3.6081 - accuracy: 0.2552 - val_loss: 10.8082 - val_accuracy: 0.0968\n",
            "Epoch 30/70\n",
            "1432/1432 [==============================] - 17s 12ms/step - loss: 3.5776 - accuracy: 0.2600 - val_loss: 11.0588 - val_accuracy: 0.1010\n",
            "Epoch 31/70\n",
            "1432/1432 [==============================] - 17s 12ms/step - loss: 3.5486 - accuracy: 0.2647 - val_loss: 11.4156 - val_accuracy: 0.0993\n",
            "Epoch 32/70\n",
            "1432/1432 [==============================] - 16s 11ms/step - loss: 3.5315 - accuracy: 0.2656 - val_loss: 11.4264 - val_accuracy: 0.0987\n",
            "Epoch 33/70\n",
            "1432/1432 [==============================] - 18s 13ms/step - loss: 3.5038 - accuracy: 0.2696 - val_loss: 11.6810 - val_accuracy: 0.0975\n",
            "Epoch 34/70\n",
            "1432/1432 [==============================] - 17s 12ms/step - loss: 3.4787 - accuracy: 0.2725 - val_loss: 11.6710 - val_accuracy: 0.0969\n",
            "Epoch 35/70\n",
            "1432/1432 [==============================] - 18s 12ms/step - loss: 3.4573 - accuracy: 0.2776 - val_loss: 11.9521 - val_accuracy: 0.0963\n",
            "Epoch 36/70\n",
            "1432/1432 [==============================] - 18s 13ms/step - loss: 3.4385 - accuracy: 0.2786 - val_loss: 11.9814 - val_accuracy: 0.0987\n",
            "Epoch 37/70\n",
            "1432/1432 [==============================] - 16s 11ms/step - loss: 3.4137 - accuracy: 0.2812 - val_loss: 12.1470 - val_accuracy: 0.1014\n",
            "Epoch 38/70\n",
            "1432/1432 [==============================] - 18s 12ms/step - loss: 3.3981 - accuracy: 0.2851 - val_loss: 12.2546 - val_accuracy: 0.0992\n",
            "Epoch 39/70\n",
            "1432/1432 [==============================] - 17s 12ms/step - loss: 3.3740 - accuracy: 0.2883 - val_loss: 12.2959 - val_accuracy: 0.1043\n",
            "Epoch 40/70\n",
            "1432/1432 [==============================] - 17s 12ms/step - loss: 3.3570 - accuracy: 0.2920 - val_loss: 12.5437 - val_accuracy: 0.0948\n",
            "Epoch 41/70\n",
            "1432/1432 [==============================] - 18s 12ms/step - loss: 3.3319 - accuracy: 0.2963 - val_loss: 12.5369 - val_accuracy: 0.0968\n",
            "Epoch 42/70\n",
            "1432/1432 [==============================] - 19s 13ms/step - loss: 3.3216 - accuracy: 0.2934 - val_loss: 12.8426 - val_accuracy: 0.0964\n",
            "Epoch 43/70\n",
            "1432/1432 [==============================] - 17s 12ms/step - loss: 3.3040 - accuracy: 0.2994 - val_loss: 12.7559 - val_accuracy: 0.0991\n",
            "Epoch 44/70\n",
            "1432/1432 [==============================] - 18s 12ms/step - loss: 3.2832 - accuracy: 0.3013 - val_loss: 12.9749 - val_accuracy: 0.1015\n",
            "Epoch 45/70\n",
            "1432/1432 [==============================] - 19s 13ms/step - loss: 3.2658 - accuracy: 0.3039 - val_loss: 13.0807 - val_accuracy: 0.1008\n",
            "Epoch 46/70\n",
            "1432/1432 [==============================] - 17s 12ms/step - loss: 3.2461 - accuracy: 0.3096 - val_loss: 13.1477 - val_accuracy: 0.0993\n",
            "Epoch 47/70\n",
            "1432/1432 [==============================] - 17s 12ms/step - loss: 3.2349 - accuracy: 0.3105 - val_loss: 13.3365 - val_accuracy: 0.1010\n",
            "Epoch 48/70\n",
            "1432/1432 [==============================] - 19s 13ms/step - loss: 3.2240 - accuracy: 0.3112 - val_loss: 13.3010 - val_accuracy: 0.0928\n",
            "Epoch 49/70\n",
            "1432/1432 [==============================] - 18s 13ms/step - loss: 3.1987 - accuracy: 0.3161 - val_loss: 13.4989 - val_accuracy: 0.1017\n",
            "Epoch 50/70\n",
            "1432/1432 [==============================] - 17s 12ms/step - loss: 3.1857 - accuracy: 0.3169 - val_loss: 13.6515 - val_accuracy: 0.1023\n",
            "Epoch 51/70\n",
            "1432/1432 [==============================] - 18s 13ms/step - loss: 3.1683 - accuracy: 0.3185 - val_loss: 13.8125 - val_accuracy: 0.0966\n",
            "Epoch 52/70\n",
            "1432/1432 [==============================] - 17s 12ms/step - loss: 3.1570 - accuracy: 0.3217 - val_loss: 13.8778 - val_accuracy: 0.1009\n",
            "Epoch 53/70\n",
            "1432/1432 [==============================] - 17s 12ms/step - loss: 3.1392 - accuracy: 0.3253 - val_loss: 13.7589 - val_accuracy: 0.1026\n",
            "Epoch 54/70\n",
            "1432/1432 [==============================] - 19s 13ms/step - loss: 3.1310 - accuracy: 0.3248 - val_loss: 14.0300 - val_accuracy: 0.1002\n",
            "Epoch 55/70\n",
            "1432/1432 [==============================] - 18s 12ms/step - loss: 3.1127 - accuracy: 0.3279 - val_loss: 14.0090 - val_accuracy: 0.1026\n",
            "Epoch 56/70\n",
            "1432/1432 [==============================] - 17s 12ms/step - loss: 3.0988 - accuracy: 0.3290 - val_loss: 14.1654 - val_accuracy: 0.1027\n",
            "Epoch 57/70\n",
            "1432/1432 [==============================] - 17s 12ms/step - loss: 3.0881 - accuracy: 0.3311 - val_loss: 14.1449 - val_accuracy: 0.1047\n",
            "Epoch 58/70\n",
            "1432/1432 [==============================] - 18s 13ms/step - loss: 3.0701 - accuracy: 0.3356 - val_loss: 14.3514 - val_accuracy: 0.0990\n",
            "Epoch 59/70\n",
            "1432/1432 [==============================] - 17s 12ms/step - loss: 3.0592 - accuracy: 0.3370 - val_loss: 14.1974 - val_accuracy: 0.1053\n",
            "Epoch 60/70\n",
            "1432/1432 [==============================] - 17s 12ms/step - loss: 3.0453 - accuracy: 0.3383 - val_loss: 14.4611 - val_accuracy: 0.1074\n",
            "Epoch 61/70\n",
            "1432/1432 [==============================] - 17s 12ms/step - loss: 3.0382 - accuracy: 0.3407 - val_loss: 14.4855 - val_accuracy: 0.1065\n",
            "Epoch 62/70\n",
            "1432/1432 [==============================] - 17s 12ms/step - loss: 3.0232 - accuracy: 0.3429 - val_loss: 14.5704 - val_accuracy: 0.1064\n",
            "Epoch 63/70\n",
            "1432/1432 [==============================] - 17s 12ms/step - loss: 3.0111 - accuracy: 0.3448 - val_loss: 14.7916 - val_accuracy: 0.1023\n",
            "Epoch 64/70\n",
            "1432/1432 [==============================] - 18s 12ms/step - loss: 2.9937 - accuracy: 0.3472 - val_loss: 14.8756 - val_accuracy: 0.1057\n",
            "Epoch 65/70\n",
            "1432/1432 [==============================] - 17s 12ms/step - loss: 2.9838 - accuracy: 0.3483 - val_loss: 14.8153 - val_accuracy: 0.1016\n",
            "Epoch 66/70\n",
            "1432/1432 [==============================] - 17s 12ms/step - loss: 2.9731 - accuracy: 0.3514 - val_loss: 15.1586 - val_accuracy: 0.1031\n",
            "Epoch 67/70\n",
            "1432/1432 [==============================] - 18s 12ms/step - loss: 2.9656 - accuracy: 0.3528 - val_loss: 14.9568 - val_accuracy: 0.1062\n",
            "Epoch 68/70\n",
            "1432/1432 [==============================] - 18s 12ms/step - loss: 2.9518 - accuracy: 0.3542 - val_loss: 15.2774 - val_accuracy: 0.1041\n",
            "Epoch 69/70\n",
            "1432/1432 [==============================] - 17s 12ms/step - loss: 2.9425 - accuracy: 0.3572 - val_loss: 15.2841 - val_accuracy: 0.1043\n",
            "Epoch 70/70\n",
            "1432/1432 [==============================] - 18s 13ms/step - loss: 2.9291 - accuracy: 0.3588 - val_loss: 15.2897 - val_accuracy: 0.1038\n"
          ]
        }
      ],
      "source": [
        "hist = model.fit(x_data, y_data, epochs=70, validation_split=0.2)"
      ]
    },
    {
      "cell_type": "code",
      "execution_count": null,
      "metadata": {
        "colab": {
          "base_uri": "https://localhost:8080/",
          "height": 430
        },
        "id": "N74WT1DJiSnb",
        "outputId": "f620b866-545e-4af8-eadf-ac8a4ae62158"
      },
      "outputs": [
        {
          "data": {
            "image/png": "[encoded data removed]",
            "text/plain": [
              "<Figure size 640x480 with 1 Axes>"
            ]
          },
          "metadata": {},
          "output_type": "display_data"
        }
      ],
      "source": [
        "# Entrenamiento\n",
        "epoch_count = range(1, len(hist.history['accuracy']) + 1)\n",
        "sns.lineplot(x=epoch_count,  y=hist.history['accuracy'], label='train')\n",
        "sns.lineplot(x=epoch_count,  y=hist.history['val_accuracy'], label='valid')\n",
        "plt.show()"
      ]
    },
    {
      "cell_type": "markdown",
      "metadata": {
        "id": "ECP9DF6VV5EI"
      },
      "source": [
        "Aumentando al doble la cantidad de neuronas de la capa LSTM, el accuracy no parece variar"
      ]
    },
    {
      "cell_type": "markdown",
      "metadata": {
        "id": "KN6Fg_BsxJe6"
      },
      "source": [
        "### 5 - Predicción de próxima palabra"
      ]
    },
    {
      "cell_type": "code",
      "execution_count": null,
      "metadata": {
        "id": "iy_AXWQWzeeE"
      },
      "outputs": [],
      "source": [
        "# Keras pad_sequences\n",
        "# https://www.tensorflow.org/api_docs/python/tf/keras/preprocessing/sequence/pad_sequences\n",
        "# Si la secuencia de entrada supera al input_seq_len (3) se trunca\n",
        "# Si la secuencia es más corta se agregna ceros al comienzo"
      ]
    },
    {
      "cell_type": "code",
      "execution_count": 45,
      "metadata": {
        "id": "IBvKHFPmzpy2"
      },
      "outputs": [],
      "source": [
        "# Se utilizará gradio para ensayar el modelo\n",
        "# Herramienta poderosa para crear interfaces rápidas para ensayar modelos\n",
        "# https://gradio.app/\n",
        "import sys\n",
        "!{sys.executable} -m pip install gradio --quiet"
      ]
    },
    {
      "cell_type": "code",
      "execution_count": 47,
      "metadata": {
        "colab": {
          "base_uri": "https://localhost:8080/",
          "height": 929
        },
        "id": "HNyBykvhzs7-",
        "outputId": "ebb06b8b-ba66-4108-a1f2-185543086e7b"
      },
      "outputs": [
        {
          "output_type": "stream",
          "name": "stderr",
          "text": [
            "/usr/local/lib/python3.9/dist-packages/gradio/deprecation.py:40: UserWarning: `layout` parameter is deprecated, and it has no effect\n",
            "  warnings.warn(value)\n"
          ]
        },
        {
          "output_type": "stream",
          "name": "stdout",
          "text": [
            "Colab notebook detected. This cell will run indefinitely so that you can see errors and logs. To turn off, set debug=False in launch().\n",
            "Note: opening Chrome Inspector may crash demo inside Colab notebooks.\n",
            "\n",
            "To create a public link, set `share=True` in `launch()`.\n"
          ]
        },
        {
          "output_type": "display_data",
          "data": {
            "text/plain": [
              "<IPython.core.display.Javascript object>"
            ],
            "application/javascript": [
              "(async (port, path, width, height, cache, element) => {\n",
              "                        if (!google.colab.kernel.accessAllowed && !cache) {\n",
              "                            return;\n",
              "                        }\n",
              "                        element.appendChild(document.createTextNode(''));\n",
              "                        const url = await google.colab.kernel.proxyPort(port, {cache});\n",
              "\n",
              "                        const external_link = document.createElement('div');\n",
              "                        external_link.innerHTML = `\n",
              "                            <div style=\"font-family: monospace; margin-bottom: 0.5rem\">\n",
              "                                Running on <a href=${new URL(path, url).toString()} target=\"_blank\">\n",
              "                                    https://localhost:${port}${path}\n",
              "                                </a>\n",
              "                            </div>\n",
              "                        `;\n",
              "                        element.appendChild(external_link);\n",
              "\n",
              "                        const iframe = document.createElement('iframe');\n",
              "                        iframe.src = new URL(path, url).toString();\n",
              "                        iframe.height = height;\n",
              "                        iframe.allow = \"autoplay; camera; microphone; clipboard-read; clipboard-write;\"\n",
              "                        iframe.width = width;\n",
              "                        iframe.style.border = 0;\n",
              "                        element.appendChild(iframe);\n",
              "                    })(7860, \"/\", \"100%\", 500, false, window.element)"
            ]
          },
          "metadata": {}
        },
        {
          "output_type": "stream",
          "name": "stdout",
          "text": [
            "1/1 [==============================] - 1s 1s/step\n",
            "1/1 [==============================] - 0s 21ms/step\n",
            "1/1 [==============================] - 0s 21ms/step\n",
            "1/1 [==============================] - 0s 20ms/step\n",
            "1/1 [==============================] - 0s 20ms/step\n",
            "1/1 [==============================] - 0s 20ms/step\n",
            "1/1 [==============================] - 0s 20ms/step\n",
            "1/1 [==============================] - 0s 34ms/step\n",
            "1/1 [==============================] - 0s 24ms/step\n",
            "1/1 [==============================] - 0s 21ms/step\n",
            "1/1 [==============================] - 0s 21ms/step\n",
            "1/1 [==============================] - 0s 33ms/step\n",
            "1/1 [==============================] - 0s 20ms/step\n",
            "1/1 [==============================] - 0s 21ms/step\n",
            "1/1 [==============================] - 0s 21ms/step\n",
            "Keyboard interruption in main thread... closing server.\n"
          ]
        },
        {
          "output_type": "execute_result",
          "data": {
            "text/plain": []
          },
          "metadata": {},
          "execution_count": 47
        }
      ],
      "source": [
        "import gradio as gr\n",
        "\n",
        "def model_response(human_text):\n",
        "\n",
        "    # Encodeamos\n",
        "    encoded = tok.texts_to_sequences([human_text])[0]\n",
        "    # Si tienen distinto largo\n",
        "    encoded = pad_sequences([encoded], maxlen=2, padding='pre')\n",
        "    \n",
        "    # Predicción softmax\n",
        "    y_hat = model.predict(encoded).argmax(axis=-1)\n",
        "\n",
        "    # Debemos buscar en el vocabulario la palabra\n",
        "    # que corresopnde al indice (y_hat) predicho por le modelo\n",
        "    out_word = ''\n",
        "    for word, index in tok.word_index.items():\n",
        "        if index == y_hat:\n",
        "            out_word = word\n",
        "            break\n",
        "\n",
        "    # Agrego la palabra a la frase predicha\n",
        "    return human_text + ' ' + out_word\n",
        "\n",
        "iface = gr.Interface(\n",
        "    fn=model_response,\n",
        "    inputs=[\"textbox\"],\n",
        "    outputs=\"text\",\n",
        "    layout=\"vertical\")\n",
        "\n",
        "iface.launch(debug=True)"
      ]
    },
    {
      "cell_type": "markdown",
      "metadata": {
        "id": "mCeMWWupxN1-"
      },
      "source": [
        "### 6 - Generación de secuencias nuevas"
      ]
    },
    {
      "cell_type": "code",
      "execution_count": 47,
      "metadata": {
        "id": "bwbS_pfhxvB3"
      },
      "outputs": [],
      "source": [
        "def generate_seq(model, tokenizer, seed_text, max_length, n_words):\n",
        "    \"\"\"\n",
        "        Exec model sequence prediction\n",
        "\n",
        "        Args:\n",
        "            model (keras): modelo entrenado\n",
        "            tokenizer (keras tokenizer): tonenizer utilizado en el preprocesamiento\n",
        "            seed_text (string): texto de entrada (input_seq)\n",
        "            max_length (int): máxima longitud de la sequencia de entrada\n",
        "            n_words (int): números de palabras a agregar a la sequencia de entrada\n",
        "        returns:\n",
        "            output_text (string): sentencia con las \"n_words\" agregadas\n",
        "    \"\"\"\n",
        "    output_text = seed_text\n",
        "\t# generate a fixed number of words\n",
        "    for _ in range(n_words):\n",
        "\t\t# Encodeamos\n",
        "        encoded = tokenizer.texts_to_sequences([output_text])[0]\n",
        "\t\t# Si tienen distinto largo\n",
        "        encoded = pad_sequences([encoded], maxlen=max_length, padding='pre')\n",
        "\t\t\n",
        "\t\t# Predicción softmax\n",
        "        y_hat = model.predict(encoded).argmax(axis=-1)\n",
        "\t\t# Vamos concatenando las predicciones\n",
        "        out_word = ''\n",
        "\n",
        "        # Debemos buscar en el vocabulario la palabra\n",
        "        # que corresopnde al indice (y_hat) predicho por le modelo\n",
        "        for word, index in tokenizer.word_index.items():\n",
        "            if index == y_hat:\n",
        "                out_word = word\n",
        "                break\n",
        "\n",
        "\t\t# Agrego las palabras a la frase predicha\n",
        "        output_text += ' ' + out_word\n",
        "    return output_text"
      ]
    },
    {
      "cell_type": "code",
      "execution_count": 49,
      "metadata": {
        "colab": {
          "base_uri": "https://localhost:8080/",
          "height": 70
        },
        "id": "JoFqRC5pxzqS",
        "outputId": "f72f1ab5-9d42-47cd-c9d7-28b8cbdf1a77"
      },
      "outputs": [
        {
          "output_type": "stream",
          "name": "stdout",
          "text": [
            "1/1 [==============================] - 2s 2s/step\n",
            "1/1 [==============================] - 0s 20ms/step\n"
          ]
        },
        {
          "output_type": "execute_result",
          "data": {
            "text/plain": [
              "'where are i was'"
            ],
            "application/vnd.google.colaboratory.intrinsic+json": {
              "type": "string"
            }
          },
          "metadata": {},
          "execution_count": 49
        }
      ],
      "source": [
        "input_text='where are'\n",
        "\n",
        "generate_seq(model, tok, input_text, max_length=2, n_words=2)"
      ]
    },
    {
      "cell_type": "code",
      "source": [
        "input_text='where are'\n",
        "\n",
        "generate_seq(model, tok, input_text, max_length=2, n_words=5)"
      ],
      "metadata": {
        "colab": {
          "base_uri": "https://localhost:8080/",
          "height": 122
        },
        "id": "Ns4jnF3ViwmX",
        "outputId": "2559a978-b222-4a62-aaba-6d7dd7eed116"
      },
      "execution_count": 50,
      "outputs": [
        {
          "output_type": "stream",
          "name": "stdout",
          "text": [
            "1/1 [==============================] - 0s 21ms/step\n",
            "1/1 [==============================] - 0s 25ms/step\n",
            "1/1 [==============================] - 0s 22ms/step\n",
            "1/1 [==============================] - 0s 24ms/step\n",
            "1/1 [==============================] - 0s 25ms/step\n"
          ]
        },
        {
          "output_type": "execute_result",
          "data": {
            "text/plain": [
              "'where are i was door know '"
            ],
            "application/vnd.google.colaboratory.intrinsic+json": {
              "type": "string"
            }
          },
          "metadata": {},
          "execution_count": 50
        }
      ]
    },
    {
      "cell_type": "code",
      "source": [
        "input_text='never mind I'\n",
        "\n",
        "generate_seq(model, tok, input_text, max_length=2, n_words=5)"
      ],
      "metadata": {
        "colab": {
          "base_uri": "https://localhost:8080/",
          "height": 122
        },
        "id": "E7_lZ-lki1JL",
        "outputId": "4f8ff926-7eac-4e65-8c2b-70b58f399459"
      },
      "execution_count": 51,
      "outputs": [
        {
          "output_type": "stream",
          "name": "stdout",
          "text": [
            "1/1 [==============================] - 0s 21ms/step\n",
            "1/1 [==============================] - 0s 19ms/step\n",
            "1/1 [==============================] - 0s 22ms/step\n",
            "1/1 [==============================] - 0s 20ms/step\n",
            "1/1 [==============================] - 0s 25ms/step\n"
          ]
        },
        {
          "output_type": "execute_result",
          "data": {
            "text/plain": [
              "'never mind I get me and  '"
            ],
            "application/vnd.google.colaboratory.intrinsic+json": {
              "type": "string"
            }
          },
          "metadata": {},
          "execution_count": 51
        }
      ]
    },
    {
      "cell_type": "code",
      "source": [
        "input_text='close your'\n",
        "\n",
        "generate_seq(model, tok, input_text, max_length=2, n_words=7)"
      ],
      "metadata": {
        "colab": {
          "base_uri": "https://localhost:8080/",
          "height": 157
        },
        "id": "nMKbPTj7lwdd",
        "outputId": "c3c0f663-b2de-4345-b7a9-c17c86907de0"
      },
      "execution_count": 53,
      "outputs": [
        {
          "output_type": "stream",
          "name": "stdout",
          "text": [
            "1/1 [==============================] - 0s 22ms/step\n",
            "1/1 [==============================] - 0s 22ms/step\n",
            "1/1 [==============================] - 0s 19ms/step\n",
            "1/1 [==============================] - 0s 21ms/step\n",
            "1/1 [==============================] - 0s 22ms/step\n",
            "1/1 [==============================] - 0s 19ms/step\n",
            "1/1 [==============================] - 0s 20ms/step\n"
          ]
        },
        {
          "output_type": "execute_result",
          "data": {
            "text/plain": [
              "'close your feel      '"
            ],
            "application/vnd.google.colaboratory.intrinsic+json": {
              "type": "string"
            }
          },
          "metadata": {},
          "execution_count": 53
        }
      ]
    },
    {
      "cell_type": "markdown",
      "metadata": {
        "id": "T2SHmXbgxQH9"
      },
      "source": [
        "### 7 - Conclusiones\n",
        "El modelo entrenado tuvo un muy mail desempeño en el entrenamiento además de overfitting. Cuestiones que podrían mejorarse:\n",
        "- Agregar más capas o neuronaes\n",
        "- Incrementar la cantidad de épocas\n",
        "- Agregar BRNN\n",
        "\n",
        "Es importante destacar que en este ejemplo estamos entrenando nuestro propios Embeddings, y para ello se requiere mucha data. En los ejemplos que realizaremos de aquí en más utilizaremos más datos, embeddings pre-enternados o modelos pre-entrenados."
      ]
    },
    {
      "cell_type": "markdown",
      "source": [
        "Conclusiones: Tras haber probado distintas redes, combinando variantes y además con distintos largos de secuencias, no pude obtener una accuracy mayor a 0.1. El desempeño fue muy malo y realizando cambios no lo pude mejorar. Se evidenció al utilizar gradio y el generador de secuencias."
      ],
      "metadata": {
        "id": "fbR6G_UBi_xR"
      }
    }
  ],
  "metadata": {
    "accelerator": "GPU",
    "colab": {
      "provenance": []
    },
    "kernelspec": {
      "display_name": "Python 3",
      "name": "python3"
    },
    "language_info": {
      "name": "python"
    }
  },
  "nbformat": 4,
  "nbformat_minor": 0
}