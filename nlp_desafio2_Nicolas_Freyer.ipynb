{
  "cells": [
    {
      "cell_type": "markdown",
      "metadata": {
        "id": "NV8wZ0MTKjv_"
      },
      "source": [
        "<img src=\"https://github.com/hernancontigiani/ceia_memorias_especializacion/raw/master/Figures/logoFIUBA.jpg\" width=\"500\" align=\"center\">\n",
        "\n",
        "\n",
        "# Procesamiento de lenguaje natural\n",
        "## Bot basado en reglas con DNN + Spacy"
      ]
    },
    {
      "cell_type": "code",
      "source": [],
      "metadata": {
        "id": "HpNCzY-hA3RO"
      },
      "execution_count": null,
      "outputs": []
    },
    {
      "cell_type": "markdown",
      "metadata": {
        "id": "Z_9z3H-yKrcK"
      },
      "source": [
        "#### Datos\n",
        "Este ejemplo se inspiró en otro Bot en inglés creado con NLTK, lo tienen como referencia para hacer lo mismo en inglés:\\\n",
        "[LINK](https://towardsdatascience.com/a-simple-chatbot-in-python-with-deep-learning-3e8669997758)"
      ]
    },
    {
      "cell_type": "markdown",
      "metadata": {
        "id": "oCVZakCzAjGN"
      },
      "source": [
        "### 1 - Instalar dependencias\n",
        "Para poder utilizar Spacy en castellano es necesario agregar la librería \"spacy-stanza\" para lematizar palabras en español."
      ]
    },
    {
      "cell_type": "code",
      "execution_count": 1,
      "metadata": {
        "id": "Zd8NLa4gsSmT",
        "colab": {
          "base_uri": "https://localhost:8080/"
        },
        "outputId": "cbb9e014-0110-439f-ee92-dd116ef36c47"
      },
      "outputs": [
        {
          "output_type": "stream",
          "name": "stdout",
          "text": [
            "\u001b[2K     \u001b[90m━━━━━━━━━━━━━━━━━━━━━━━━━━━━━━━━━━━━━━━━\u001b[0m \u001b[32m6.5/6.5 MB\u001b[0m \u001b[31m33.5 MB/s\u001b[0m eta \u001b[36m0:00:00\u001b[0m\n",
            "\u001b[2K     \u001b[90m━━━━━━━━━━━━━━━━━━━━━━━━━━━━━━━━━━━━━━━━\u001b[0m \u001b[32m11.3/11.3 MB\u001b[0m \u001b[31m44.6 MB/s\u001b[0m eta \u001b[36m0:00:00\u001b[0m\n",
            "\u001b[2K     \u001b[90m━━━━━━━━━━━━━━━━━━━━━━━━━━━━━━━━━━━━━━\u001b[0m \u001b[32m668.8/668.8 KB\u001b[0m \u001b[31m25.8 MB/s\u001b[0m eta \u001b[36m0:00:00\u001b[0m\n",
            "\u001b[2K     \u001b[90m━━━━━━━━━━━━━━━━━━━━━━━━━━━━━━━━━━━━━━━━\u001b[0m \u001b[32m82.8/82.8 KB\u001b[0m \u001b[31m2.2 MB/s\u001b[0m eta \u001b[36m0:00:00\u001b[0m\n",
            "\u001b[?25h\u001b[31mERROR: pip's dependency resolver does not currently take into account all the packages that are installed. This behaviour is the source of the following dependency conflicts.\n",
            "inflect 6.0.2 requires pydantic>=1.9.1, but you have pydantic 1.8.2 which is incompatible.\n",
            "flask 2.2.3 requires click>=8.0, but you have click 7.1.2 which is incompatible.\n",
            "en-core-web-sm 3.5.0 requires spacy<3.6.0,>=3.5.0, but you have spacy 3.1.0 which is incompatible.\u001b[0m\u001b[31m\n",
            "\u001b[2K     \u001b[90m━━━━━━━━━━━━━━━━━━━━━━━━━━━━━━━━━━━━━━━\u001b[0m \u001b[32m342.1/342.1 KB\u001b[0m \u001b[31m7.0 MB/s\u001b[0m eta \u001b[36m0:00:00\u001b[0m\n",
            "\u001b[?25h"
          ]
        }
      ],
      "source": [
        "# La última versión de spacy-stanza (>1.0) es compatible solo con spacy >=3.0\n",
        "# Nota: spacy 3.0 incorpora al pepiline nlp transformers\n",
        "!pip install -U spacy==3.1 --quiet\n",
        "!pip install -U spacy-stanza==1.0.0 --quiet"
      ]
    },
    {
      "cell_type": "code",
      "execution_count": 2,
      "metadata": {
        "id": "kzao7XO9NJAq"
      },
      "outputs": [],
      "source": [
        "import json\n",
        "import string\n",
        "import random \n",
        "import numpy as np\n",
        "\n",
        "import tensorflow as tf \n",
        "from tensorflow.keras import Sequential \n",
        "from tensorflow.keras.layers import Dense, Dropout"
      ]
    },
    {
      "cell_type": "code",
      "execution_count": 3,
      "metadata": {
        "id": "Z_ExOb8uvjqK",
        "colab": {
          "base_uri": "https://localhost:8080/",
          "height": 497,
          "referenced_widgets": [
            "872a16a5caeb4b21a6495631337bb8e7",
            "b5df8885425b4efe95020bd74c9b90c6",
            "56fc3e44db0941209db40c03ed93cfdf",
            "f4e80b81c3d34b8b97f893d5c7be9246",
            "c2dd8a9f46fd41cc92955281f0bf48a0",
            "c243c341100c43af8282a2210741e3c5",
            "d07884eb5d6c4b12a75c6d8523e89e9e",
            "497c477d99314b37b6a92114b3a9e03b",
            "17803676eae84bb698f6e88477d2bc83",
            "861badf2dee541f4baa2023a077e8541",
            "df693572d4904e6aae27ffcd04fd52b9",
            "f395e3e09f294e6f928335fc08eeb1ff",
            "d77d987a4b36482489bff8db7d3057df",
            "13e7fc3a908349f0b2b7b3de9ce11e34",
            "f547ed1bd3104bc7a35190bbd60e2eba",
            "79e7fbabdc89462d9b663630453c657d",
            "3f46af57958d41348a4d0e17db7d801c",
            "b0cef734e698437d8aa5337bde72207e",
            "fa154a269eb04be2bcd49125b4898d22",
            "23aef7f273c4462ea77aacb0e25d2d0a",
            "e4e57ebd68194fb19393761f2a1df408",
            "e34c723726094085b361f4a345ddd54c"
          ]
        },
        "outputId": "5e92c05e-2c52-411a-d0b2-74ac572fa9c4"
      },
      "outputs": [
        {
          "output_type": "stream",
          "name": "stderr",
          "text": [
            "/usr/local/lib/python3.9/dist-packages/torch/cuda/__init__.py:497: UserWarning: Can't initialize NVML\n",
            "  warnings.warn(\"Can't initialize NVML\")\n"
          ]
        },
        {
          "output_type": "display_data",
          "data": {
            "text/plain": [
              "Downloading https://raw.githubusercontent.com/stanfordnlp/stanza-resources/main/resources_1.2.2.json:   0%|   …"
            ],
            "application/vnd.jupyter.widget-view+json": {
              "version_major": 2,
              "version_minor": 0,
              "model_id": "872a16a5caeb4b21a6495631337bb8e7"
            }
          },
          "metadata": {}
        },
        {
          "output_type": "stream",
          "name": "stderr",
          "text": [
            "INFO:stanza:Downloading default packages for language: es (Spanish)...\n"
          ]
        },
        {
          "output_type": "display_data",
          "data": {
            "text/plain": [
              "Downloading http://nlp.stanford.edu/software/stanza/1.2.2/es/default.zip:   0%|          | 0.00/566M [00:00<?,…"
            ],
            "application/vnd.jupyter.widget-view+json": {
              "version_major": 2,
              "version_minor": 0,
              "model_id": "f395e3e09f294e6f928335fc08eeb1ff"
            }
          },
          "metadata": {}
        },
        {
          "output_type": "stream",
          "name": "stderr",
          "text": [
            "INFO:stanza:Finished downloading models and saved to /root/stanza_resources.\n",
            "INFO:stanza:Loading these models for language: es (Spanish):\n",
            "=======================\n",
            "| Processor | Package |\n",
            "-----------------------\n",
            "| tokenize  | ancora  |\n",
            "| mwt       | ancora  |\n",
            "| pos       | ancora  |\n",
            "| lemma     | ancora  |\n",
            "| depparse  | ancora  |\n",
            "| ner       | conll02 |\n",
            "=======================\n",
            "\n",
            "INFO:stanza:Use device: cpu\n",
            "INFO:stanza:Loading: tokenize\n",
            "INFO:stanza:Loading: mwt\n",
            "INFO:stanza:Loading: pos\n",
            "INFO:stanza:Loading: lemma\n",
            "INFO:stanza:Loading: depparse\n",
            "INFO:stanza:Loading: ner\n",
            "INFO:stanza:Done loading processors!\n"
          ]
        }
      ],
      "source": [
        "import stanza\n",
        "import spacy_stanza\n",
        "\n",
        "# Vamos a usar SpaCy-Stanza. Stanza es una librería de NLP de Stanford\n",
        "# SpaCy armó un wrapper para los pipelines y modelos de Stanza\n",
        "# https://stanfordnlp.github.io/stanza/\n",
        "\n",
        "# Descargar el diccionario en español y armar el pipeline de NLP con spacy\n",
        "stanza.download(\"es\")\n",
        "nlp = spacy_stanza.load_pipeline(\"es\")"
      ]
    },
    {
      "cell_type": "markdown",
      "metadata": {
        "id": "_wF10RjVMBdV"
      },
      "source": [
        "### 2 - Herramientas de preprocesamiento de datos\n",
        "Entre las tareas de procesamiento de texto en español se implementa:\n",
        "- Quitar acentos y caracteres especiales\n",
        "- Quitar números\n",
        "- Quitar símbolos de puntuación"
      ]
    },
    {
      "cell_type": "code",
      "execution_count": 4,
      "metadata": {
        "id": "ZxoD2hEExmuX"
      },
      "outputs": [],
      "source": [
        "import re\n",
        "import unicodedata\n",
        "\n",
        "# El preprocesamento en castellano requiere más trabajo\n",
        "\n",
        "# Referencia de regex:\n",
        "# https://docs.python.org/3/library/re.html\n",
        "\n",
        "def preprocess_clean_text(text):    \n",
        "    # sacar tildes de las palabras:\n",
        "    text = unicodedata.normalize('NFKD', text).encode('ascii', 'ignore').decode('utf-8', 'ignore')\n",
        "    # quitar caracteres especiales\n",
        "    pattern = r'[^a-zA-z0-9.,!?/:;\\\"\\'\\s]' # [^ : ningún caracter de todos estos\n",
        "    # (termina eliminando cualquier caracter distinto de los del regex)\n",
        "    text = re.sub(pattern, '', text)\n",
        "    pattern = r'[^a-zA-z.,!?/:;\\\"\\'\\s]' # igual al anterior pero sin cifras numéricas\n",
        "    # quitar números\n",
        "    text = re.sub(pattern, '', text)\n",
        "    # quitar caracteres de puntuación\n",
        "    text = ''.join([c for c in text if c not in string.punctuation])\n",
        "    return text"
      ]
    },
    {
      "cell_type": "markdown",
      "metadata": {
        "id": "ilRbn0KfMm2r"
      },
      "source": [
        "### 3 - Diccionario de entrada"
      ]
    },
    {
      "cell_type": "code",
      "execution_count": null,
      "metadata": {
        "id": "NgIGpjymNEH7"
      },
      "outputs": [],
      "source": [
        "# Dataset en formato JSON que representa las posibles preguntas (patterns)\n",
        "# y las posibles respuestas por categoría (tag)\n",
        "# Los \"patterns\" van a formar el corpus para entrenar el clasificador que clasifica en tags\n",
        "# \"respones\" son las respuestas predeterminadas posibles para cada tag\n"
      ]
    },
    {
      "cell_type": "code",
      "source": [
        "dataset = {\"intents\": [\n",
        "{\n",
        "\"tag\": \"welcome\",\n",
        "\"patterns\": [\"Hello\", \"How are you?\", \"What's up?\", \"How's it going?\"],\n",
        "\"responses\": [\"Hello! Welcome to the Olympics, what would you like to know?\", \"Hello! What are you interested in knowing about the Olympics?\"]\n",
        "},\n",
        "{\n",
        "\"tag\": \"participating_countries\",\n",
        "\"patterns\": [\"Which countries participate in the Olympics?\", \"What countries compete in the Olympics?\", \"Where are the Olympics held?\"],\n",
        "\"responses\": [\"More than 200 countries participate in the Olympics\", \"There are many countries that compete in the Olympics\"]\n",
        "},\n",
        "{\n",
        "\"tag\": \"sports_events\",\n",
        "\"patterns\": [\"What are the sports events in the Olympics?\", \"Which sports can be seen in the Olympics?\", \"How many sports are there in the Olympics?\"],\n",
        "\"responses\": [\"There are many sports that can be seen in the Olympics, such as athletics, swimming, gymnastics, among others\", \"The Olympics include a wide variety of sports\"]\n",
        "},\n",
        "{\n",
        "\"tag\": \"opening_ceremony\",\n",
        "\"patterns\": [\"When is the opening ceremony of the Olympics?\", \"Who lights the cauldron in the opening ceremony?\", \"What is the opening ceremony of the Olympics like?\"],\n",
        "\"responses\": [\"The opening ceremony of the Olympics is held at the beginning of the event, with a great spectacle and a parade of athletes\", \"The lighting of the cauldron is a very emotional moment in the opening ceremony\"]\n",
        "},\n",
        "{\n",
        "\"tag\": \"medals\",\n",
        "\"patterns\": [\"How are medals awarded in the Olympics?\", \"How many medals can be won in the Olympics?\", \"Which countries have won the most medals in the Olympics?\"],\n",
        "\"responses\": [\"Medals are awarded to athletes who achieve the best results in their disciplines, and are divided into gold, silver, and bronze\", \"There are many medals that can be won in the Olympics, depending on the sports discipline\", \"Some countries have a great tradition in the Olympics and have won many medals throughout their history\"]\n",
        "},\n",
        "{\n",
        "\"tag\": \"historic_venues\",\n",
        "\"patterns\": [\"Which cities have hosted the Olympics?\", \"What are the historic venues of the Olympics?\", \"Where were the first modern Olympics held?\"],\n",
        "\"responses\": [\"The historic venues of the Olympics include Athens, London, Paris, Los Angeles, Barcelona, among other cities\", \"The first modern Olympics were held in Athens, Greece in 1896\"]\n",
        "},\n",
        "{\n",
        "\"tag\": \"prominent_athletes\",\n",
        "\"patterns\": [\"Who are some of the most prominent athletes in the history of the Olympics?\", \"Who has won the most medals in the Olympics?\", \"Who is the most successful Olympic athlete?\"],\n",
        "\"responses\": [\"Some of the most prominent athletes in the history of the Olympics include Michael Phelps, Usain Bolt, Simone Biles, Carl Lewis, among others\", \"Michael Phelps is the most successful Olympic athlete of all time, with 23 gold medals\"]\n",
        "},\n",
        "{\n",
        "\"tag\": \"olympic_program\",\n",
        "\"patterns\": [\"Which disciplines are part of the Olympic program?\", \"How many sports are there in the Olympic program?\", \"Which sports have recently been added to the Olympic program?\"],\n",
        "\"responses\": [\"The Olympic program includes more than 30 sports disciplines, such as athletics, swimming, gymnastics, among others\", \"The sports that are part of the Olympic program can vary from one edition to another, depending on the host city and the decision of the International Olympic Committee\"]\n",
        "},\n",
        "{\n",
        "\"tag\": \"pandemic_and_olympics\",\n",
        "\"patterns\": [\"How did the pandemic affect the Olympics?\", \"Were the Olympics canceled due to the pandemic?\", \"How were the Olympics conducted during the pandemic?\"],\n",
        "\"responses\": [\"The COVID-19 pandemic significantly affected the staging of the Olympics, resulting in the postponement of the Tokyo 2020 edition to 2021.\", \"The Tokyo 2020 Olympics were held without spectators and with strict health protocols.\"]\n",
        "},\n",
        "{\n",
        "\"tag\": \"olympic_symbols\",\n",
        "\"patterns\": [\"What are the Olympic symbols?\", \"What do the Olympic rings mean?\", \"What is the origin of the Olympic torch?\"],\n",
        "\"responses\": [\"The Olympic symbols include the Olympic rings, the Olympic torch, the Olympic flag, and the Olympic anthem.\", \"The Olympic rings represent the five continents of the world united by sport, while the Olympic torch symbolizes the transmission of the Olympic flame from Olympia, Greece, to the host city of the Games.\"]\n",
        "},\n",
        "{\n",
        "\"tag\": \"paralympic_games\",\n",
        "\"patterns\": [\"What are the Paralympic Games?\", \"How did the Paralympic Games come about?\", \"Who can participate in the Paralympic Games?\"],\n",
        "\"responses\": [\"The Paralympic Games are an international sporting event for athletes with disabilities, held shortly after the Olympic Games.\"]\n",
        "},\n",
        "{\n",
        "\"tag\": \"history_of_olympics\",\n",
        "\"patterns\": [\"What is the history of the Olympics?\", \"How did the Olympics come about?\", \"What countries have hosted the Olympics?\"],\n",
        "\"responses\": [\"The Olympics have a long history dating back to ancient Greece, where the Ancient Olympic Games were held in Olympia every four years.\", \"The modern Olympic Games were revived by Baron Pierre de Coubertin in 1896, with the first edition held in Athens, Greece.\", \"The Olympics have been held in many cities around the world, including Paris, London, Tokyo, Rio de Janeiro, and Beijing.\"]\n",
        "},\n",
        "{\n",
        "\"tag\": \"olympic_sports\",\n",
        "\"patterns\": [\"What are the sports in the Olympics?\", \"How many sports are there in the Olympics?\", \"What are the most popular sports in the Olympics?\"],\n",
        "\"responses\": [\"The Olympics include a wide variety of sports, such as athletics, swimming, gymnastics, basketball, soccer, volleyball, and many more.\", \"There are currently over 40 sports in the Olympics, although this number varies in each edition.\", \"Some of the most popular sports in the Olympics are athletics, swimming, basketball, and soccer.\"]\n",
        "},\n",
        "{\n",
        "\"tag\": \"olympic_medals\",\n",
        "\"patterns\": [\"How are medals counted in the Olympics?\", \"Which countries have the most medals in the Olympics?\", \"How are medals distributed in the Olympics?\"],\n",
        "\"responses\": [\"Medals in the Olympics are counted by the number of gold, silver, and bronze medals won by each country.\", \"Some of the countries with the most medals in the Olympics are the United States, China, Russia, and Germany.\", \"Medals in the Olympics are distributed based on the sporting performance of each country, and are usually awarded to the top three finishers in each event.\"]\n",
        "}\n",
        "]\n",
        "}\n"
      ],
      "metadata": {
        "id": "kGK24fw04gPg"
      },
      "execution_count": 5,
      "outputs": []
    },
    {
      "cell_type": "markdown",
      "metadata": {
        "id": "19PEDmIDfLRu"
      },
      "source": [
        "### 4 - Preprocesamiento y armado del dataset"
      ]
    },
    {
      "cell_type": "code",
      "source": [
        "import nltk\n",
        "from nltk.corpus import stopwords"
      ],
      "metadata": {
        "id": "9qFjpNBLDGZ9"
      },
      "execution_count": 6,
      "outputs": []
    },
    {
      "cell_type": "code",
      "source": [
        "nltk.download(\"stopwords\")"
      ],
      "metadata": {
        "colab": {
          "base_uri": "https://localhost:8080/"
        },
        "id": "prVOFOJBFv4g",
        "outputId": "4802a092-5a3f-4274-97fd-686053466577"
      },
      "execution_count": 15,
      "outputs": [
        {
          "output_type": "stream",
          "name": "stderr",
          "text": [
            "[nltk_data] Downloading package stopwords to /root/nltk_data...\n",
            "[nltk_data]   Unzipping corpora/stopwords.zip.\n"
          ]
        },
        {
          "output_type": "execute_result",
          "data": {
            "text/plain": [
              "True"
            ]
          },
          "metadata": {},
          "execution_count": 15
        }
      ]
    },
    {
      "cell_type": "code",
      "source": [
        "stopwords = nltk.corpus.stopwords.words('english')"
      ],
      "metadata": {
        "id": "981j59jKEMyR"
      },
      "execution_count": 16,
      "outputs": []
    },
    {
      "cell_type": "code",
      "source": [
        "type(stopwords)"
      ],
      "metadata": {
        "colab": {
          "base_uri": "https://localhost:8080/"
        },
        "id": "Ust9QONxGAvJ",
        "outputId": "e5afa049-e698-4de5-c14b-a6288216ba93"
      },
      "execution_count": 19,
      "outputs": [
        {
          "output_type": "execute_result",
          "data": {
            "text/plain": [
              "list"
            ]
          },
          "metadata": {},
          "execution_count": 19
        }
      ]
    },
    {
      "cell_type": "code",
      "execution_count": 20,
      "metadata": {
        "id": "b3HP8abHNRk3"
      },
      "outputs": [],
      "source": [
        "# Datos que necesitaremos, las palabras o vocabulario\n",
        "words = []\n",
        "classes = []\n",
        "doc_X = []\n",
        "doc_y = []\n",
        "\n",
        "# Por cada intención (intents) debemos tomar los patrones que la caracterízan\n",
        "# a esa intención y transformarla a tokens para almacenar en doc_X\n",
        "\n",
        "# El tag de cada intención se almacena como doc_Y (la clase a predecir)\n",
        "# En `words` vamos a guardar el vocabulario\n",
        "# En `class` las posibles clases o tags\n",
        "\n",
        "for intent in dataset[\"intents\"]:\n",
        "    for pattern in intent[\"patterns\"]:\n",
        "        # trasformar el patron a tokens\n",
        "        tokens = nlp(preprocess_clean_text(pattern.lower()))\n",
        "        # lematizar los tokens\n",
        "        for token in tokens:            \n",
        "            words.append(token.lemma_)\n",
        "        \n",
        "        doc_X.append(pattern)\n",
        "        doc_y.append(intent[\"tag\"])\n",
        "    \n",
        "    # Agregar el tag a las clases\n",
        "    if intent[\"tag\"] not in classes:\n",
        "        classes.append(intent[\"tag\"])\n",
        "\n",
        "# Elminar duplicados con \"set\" y ordenar el vocubulario y las clases por orden alfabético\n",
        "words = sorted(set(words))\n",
        "classes = sorted(set(classes))"
      ]
    },
    {
      "cell_type": "code",
      "source": [
        "len(words)"
      ],
      "metadata": {
        "colab": {
          "base_uri": "https://localhost:8080/"
        },
        "id": "eKWklsCuG1nl",
        "outputId": "6251a78e-63eb-4d3b-ecd1-72d88e6285a2"
      },
      "execution_count": 28,
      "outputs": [
        {
          "output_type": "execute_result",
          "data": {
            "text/plain": [
              "82"
            ]
          },
          "metadata": {},
          "execution_count": 28
        }
      ]
    },
    {
      "cell_type": "code",
      "source": [
        "#remove stopwords from words\n",
        "\n",
        "voc = []\n",
        "for word in words:\n",
        "  if stopwords.count(word) == 0:\n",
        "    voc.append(word)\n"
      ],
      "metadata": {
        "id": "sh7nGHhqGRz4"
      },
      "execution_count": 33,
      "outputs": []
    },
    {
      "cell_type": "code",
      "source": [
        "len(voc)"
      ],
      "metadata": {
        "colab": {
          "base_uri": "https://localhost:8080/"
        },
        "id": "gWLC6F5uG01B",
        "outputId": "5b94a028-57f3-4e2f-ce92-8c1f5c6ffb70"
      },
      "execution_count": 30,
      "outputs": [
        {
          "output_type": "execute_result",
          "data": {
            "text/plain": [
              "54"
            ]
          },
          "metadata": {},
          "execution_count": 30
        }
      ]
    },
    {
      "cell_type": "code",
      "execution_count": 32,
      "metadata": {
        "id": "Acy-gcugNbMH",
        "colab": {
          "base_uri": "https://localhost:8080/"
        },
        "outputId": "2d1932ec-25d2-420b-cbdf-2babcdb5074e"
      },
      "outputs": [
        {
          "output_type": "stream",
          "name": "stdout",
          "text": [
            "words: ['added', 'affect', 'athlete', 'athletes', 'awarded', 'canceled', 'cauldron', 'ceremony', 'citie', 'come', 'competer', 'conducted', 'counted', 'countrie', 'countries', 'disciplín', 'distributed', 'due', 'events', 'first', 'games', 'going', 'haber', 'held', 'hello', 'historic', 'history', 'hosted', 'hows', 'lights', 'like', 'many', 'mean', 'medals', 'modern', 'olympic', 'olympics', 'opening', 'origin', 'pandemic', 'paralympic', 'part', 'participate', 'popular', 'program', 'prominent', 'recently', 'rings', 'seen', 'sports', 'successful', 'symbols', 'torch', 'venues']\n",
            "classes: ['historic_venues', 'history_of_olympics', 'medals', 'olympic_medals', 'olympic_program', 'olympic_sports', 'olympic_symbols', 'opening_ceremony', 'pandemic_and_olympics', 'paralympic_games', 'participating_countries', 'prominent_athletes', 'sports_events', 'welcome']\n",
            "doc_X: ['Hello', 'How are you?', \"What's up?\", \"How's it going?\", 'Which countries participate in the Olympics?', 'What countries compete in the Olympics?', 'Where are the Olympics held?', 'What are the sports events in the Olympics?', 'Which sports can be seen in the Olympics?', 'How many sports are there in the Olympics?', 'When is the opening ceremony of the Olympics?', 'Who lights the cauldron in the opening ceremony?', 'What is the opening ceremony of the Olympics like?', 'How are medals awarded in the Olympics?', 'How many medals can be won in the Olympics?', 'Which countries have won the most medals in the Olympics?', 'Which cities have hosted the Olympics?', 'What are the historic venues of the Olympics?', 'Where were the first modern Olympics held?', 'Who are some of the most prominent athletes in the history of the Olympics?', 'Who has won the most medals in the Olympics?', 'Who is the most successful Olympic athlete?', 'Which disciplines are part of the Olympic program?', 'How many sports are there in the Olympic program?', 'Which sports have recently been added to the Olympic program?', 'How did the pandemic affect the Olympics?', 'Were the Olympics canceled due to the pandemic?', 'How were the Olympics conducted during the pandemic?', 'What are the Olympic symbols?', 'What do the Olympic rings mean?', 'What is the origin of the Olympic torch?', 'What are the Paralympic Games?', 'How did the Paralympic Games come about?', 'Who can participate in the Paralympic Games?', 'What is the history of the Olympics?', 'How did the Olympics come about?', 'What countries have hosted the Olympics?', 'What are the sports in the Olympics?', 'How many sports are there in the Olympics?', 'What are the most popular sports in the Olympics?', 'How are medals counted in the Olympics?', 'Which countries have the most medals in the Olympics?', 'How are medals distributed in the Olympics?']\n",
            "doc_y: ['welcome', 'welcome', 'welcome', 'welcome', 'participating_countries', 'participating_countries', 'participating_countries', 'sports_events', 'sports_events', 'sports_events', 'opening_ceremony', 'opening_ceremony', 'opening_ceremony', 'medals', 'medals', 'medals', 'historic_venues', 'historic_venues', 'historic_venues', 'prominent_athletes', 'prominent_athletes', 'prominent_athletes', 'olympic_program', 'olympic_program', 'olympic_program', 'pandemic_and_olympics', 'pandemic_and_olympics', 'pandemic_and_olympics', 'olympic_symbols', 'olympic_symbols', 'olympic_symbols', 'paralympic_games', 'paralympic_games', 'paralympic_games', 'history_of_olympics', 'history_of_olympics', 'history_of_olympics', 'olympic_sports', 'olympic_sports', 'olympic_sports', 'olympic_medals', 'olympic_medals', 'olympic_medals']\n"
          ]
        }
      ],
      "source": [
        "print(\"words:\", voc)\n",
        "print(\"classes:\", classes)\n",
        "print(\"doc_X:\", doc_X)\n",
        "print(\"doc_y:\", doc_y)"
      ]
    },
    {
      "cell_type": "code",
      "execution_count": 31,
      "metadata": {
        "id": "hqBeGKRk_q4r",
        "colab": {
          "base_uri": "https://localhost:8080/"
        },
        "outputId": "a80dd4f5-6045-4756-95e5-14695c12572e"
      },
      "outputs": [
        {
          "output_type": "stream",
          "name": "stdout",
          "text": [
            "Tags: 14\n"
          ]
        }
      ],
      "source": [
        "# Cantidad de tags\n",
        "print(\"Tags:\", len(classes))"
      ]
    },
    {
      "cell_type": "code",
      "source": [
        "# Transformar doc_X en bag of words por oneHotEncoding\n",
        "# Transformar doc_Y en un vector de clases multicategórico con oneHotEncoding\n",
        "\n",
        "training_OHE = []\n",
        "training_frec=[]\n",
        "out_empty = [0] * len(classes)\n",
        "\n",
        "for idx, doc in enumerate(doc_X):\n",
        "    # Transformar la pregunta (input) en tokens y lematizar\n",
        "    text = []\n",
        "    tokens = nlp(preprocess_clean_text(doc.lower()))\n",
        "    for token in tokens:\n",
        "        text.append(token.lemma_)\n",
        "\n",
        "    # Transformar los tokens en \"Bag of words\" (arrays de 1 y 0)\n",
        "    bow = []\n",
        "    frec = []\n",
        "    for word in voc:\n",
        "        bow.append(1) if word in text else bow.append(0)\n",
        "        frec.append(text.count(word))\n",
        "    \n",
        "    # Crear el array de salida (class output) correspondiente\n",
        "    output_row = list(out_empty)\n",
        "    output_row[classes.index(doc_y[idx])] = 1\n",
        "    training_OHE.append([bow, output_row])\n",
        "    training_frec.append([frec, output_row])\n",
        "   \n",
        "training_OHE = np.array(training_OHE, dtype=object)\n",
        "training_frec = np.array(training_frec, dtype=object)\n",
        "train_X_OHE = np.array(list(training_OHE[:, 0]))\n",
        "train_X_frec = np.array(list(training_frec[:, 0]))\n",
        "train_y = np.array(list(training_OHE[:, 1])) #es el mismo para ambos casos"
      ],
      "metadata": {
        "id": "Pv0AC1qqIZ5c"
      },
      "execution_count": 42,
      "outputs": []
    },
    {
      "cell_type": "code",
      "source": [
        "train_X_OHE.shape"
      ],
      "metadata": {
        "colab": {
          "base_uri": "https://localhost:8080/"
        },
        "id": "YdJi7UDyPsWD",
        "outputId": "755bfbe7-14a2-475c-f3de-1a27d486bf8a"
      },
      "execution_count": 43,
      "outputs": [
        {
          "output_type": "execute_result",
          "data": {
            "text/plain": [
              "(43, 54)"
            ]
          },
          "metadata": {},
          "execution_count": 43
        }
      ]
    },
    {
      "cell_type": "code",
      "source": [
        "train_X_frec.shape"
      ],
      "metadata": {
        "colab": {
          "base_uri": "https://localhost:8080/"
        },
        "id": "5sXwnkt1P0-e",
        "outputId": "3cd9b183-ed6c-46a0-d04b-826be45be8e2"
      },
      "execution_count": 44,
      "outputs": [
        {
          "output_type": "execute_result",
          "data": {
            "text/plain": [
              "(43, 54)"
            ]
          },
          "metadata": {},
          "execution_count": 44
        }
      ]
    },
    {
      "cell_type": "code",
      "source": [
        "train_y.shape"
      ],
      "metadata": {
        "colab": {
          "base_uri": "https://localhost:8080/"
        },
        "id": "vcHo0AwzQJWd",
        "outputId": "efba4cc5-9fa7-476f-a8fd-92bbadf3c1bc"
      },
      "execution_count": 45,
      "outputs": [
        {
          "output_type": "execute_result",
          "data": {
            "text/plain": [
              "(43, 14)"
            ]
          },
          "metadata": {},
          "execution_count": 45
        }
      ]
    },
    {
      "cell_type": "markdown",
      "source": [
        "##TF-IDF"
      ],
      "metadata": {
        "id": "WUtKd90JP4M-"
      }
    },
    {
      "cell_type": "code",
      "source": [
        "len(train_X_OHE)"
      ],
      "metadata": {
        "colab": {
          "base_uri": "https://localhost:8080/"
        },
        "id": "ZXeSs8uUQz6W",
        "outputId": "cbdaea51-fedf-4979-f522-b9977f27eb7a"
      },
      "execution_count": 47,
      "outputs": [
        {
          "output_type": "execute_result",
          "data": {
            "text/plain": [
              "43"
            ]
          },
          "metadata": {},
          "execution_count": 47
        }
      ]
    },
    {
      "cell_type": "code",
      "source": [
        "import math"
      ],
      "metadata": {
        "id": "o57avhtiQ7l_"
      },
      "execution_count": 48,
      "outputs": []
    },
    {
      "cell_type": "code",
      "source": [
        "def idf(ohencoding):\n",
        "  suma = np.sum(ohencoding, axis=0)\n",
        "  idf = []\n",
        "  for i in range(len(suma)):\n",
        "    idf.append(math.log((len(ohencoding)/suma[i]) , 10)) \n",
        "  return idf  "
      ],
      "metadata": {
        "id": "q9_RJPr-P3TX"
      },
      "execution_count": 49,
      "outputs": []
    },
    {
      "cell_type": "code",
      "source": [
        "def tfidf(frecuencia , idf):\n",
        "  return np.multiply(frecuencia, idf)"
      ],
      "metadata": {
        "id": "n-czzqcHPLmL"
      },
      "execution_count": 56,
      "outputs": []
    },
    {
      "cell_type": "code",
      "source": [
        "idf = idf(train_X_OHE)"
      ],
      "metadata": {
        "id": "miTjINE7RKgR"
      },
      "execution_count": 51,
      "outputs": []
    },
    {
      "cell_type": "code",
      "source": [
        "train_X_tfidf = tfidf(train_X_frec, idf)"
      ],
      "metadata": {
        "id": "3Bg4Nv32RPhn"
      },
      "execution_count": 57,
      "outputs": []
    },
    {
      "cell_type": "code",
      "source": [
        "train_X_tfidf.shape"
      ],
      "metadata": {
        "colab": {
          "base_uri": "https://localhost:8080/"
        },
        "id": "vtPpyxT2RgkU",
        "outputId": "166c2938-bf2d-4963-c574-0378144c60cc"
      },
      "execution_count": 58,
      "outputs": [
        {
          "output_type": "execute_result",
          "data": {
            "text/plain": [
              "(43, 54)"
            ]
          },
          "metadata": {},
          "execution_count": 58
        }
      ]
    },
    {
      "cell_type": "markdown",
      "metadata": {
        "id": "a_Hr8QaDfRf3"
      },
      "source": [
        "### 5 - Entrenamiento del modelo"
      ]
    },
    {
      "cell_type": "code",
      "execution_count": 59,
      "metadata": {
        "id": "fopb3NqcAGTz",
        "colab": {
          "base_uri": "https://localhost:8080/"
        },
        "outputId": "7c8ccbed-5d9c-4b7a-d79a-de18126b22a0"
      },
      "outputs": [
        {
          "output_type": "stream",
          "name": "stdout",
          "text": [
            "input: (54,) output: 14\n"
          ]
        }
      ],
      "source": [
        "# Shape de entrada y salida\n",
        "input_shape = (train_X_tfidf.shape[1],)\n",
        "output_shape = train_y.shape[1]\n",
        "print(\"input:\", input_shape, \"output:\", output_shape)"
      ]
    },
    {
      "cell_type": "code",
      "execution_count": 60,
      "metadata": {
        "id": "xy7tzkwdOZx9",
        "colab": {
          "base_uri": "https://localhost:8080/"
        },
        "outputId": "8adf0534-3af6-44fe-9072-01a955c16358"
      },
      "outputs": [
        {
          "output_type": "stream",
          "name": "stdout",
          "text": [
            "Model: \"sequential\"\n",
            "_________________________________________________________________\n",
            " Layer (type)                Output Shape              Param #   \n",
            "=================================================================\n",
            " dense (Dense)               (None, 128)               7040      \n",
            "                                                                 \n",
            " dropout (Dropout)           (None, 128)               0         \n",
            "                                                                 \n",
            " dense_1 (Dense)             (None, 64)                8256      \n",
            "                                                                 \n",
            " dropout_1 (Dropout)         (None, 64)                0         \n",
            "                                                                 \n",
            " dense_2 (Dense)             (None, 14)                910       \n",
            "                                                                 \n",
            "=================================================================\n",
            "Total params: 16,206\n",
            "Trainable params: 16,206\n",
            "Non-trainable params: 0\n",
            "_________________________________________________________________\n",
            "None\n"
          ]
        }
      ],
      "source": [
        "# Entrenamiento del modelo DNN\n",
        "# - Modelo secuencial\n",
        "# - Con regularización\n",
        "# - softmax y optimizador Adam\n",
        "model = Sequential()\n",
        "model.add(Dense(128, input_shape=input_shape, activation=\"relu\"))\n",
        "model.add(Dropout(0.5))\n",
        "model.add(Dense(64, activation=\"relu\"))\n",
        "model.add(Dropout(0.5))\n",
        "model.add(Dense(output_shape, activation = \"softmax\"))\n",
        "\n",
        "model.compile(loss='categorical_crossentropy',\n",
        "              optimizer=\"Adam\",\n",
        "              metrics=[\"accuracy\"])\n",
        "print(model.summary())"
      ]
    },
    {
      "cell_type": "code",
      "execution_count": 61,
      "metadata": {
        "id": "r6hi4EcdOghm",
        "colab": {
          "base_uri": "https://localhost:8080/"
        },
        "outputId": "e028064d-fef1-41ae-f9f0-2ba098fb6887"
      },
      "outputs": [
        {
          "output_type": "stream",
          "name": "stdout",
          "text": [
            "Epoch 1/200\n",
            "2/2 [==============================] - 1s 12ms/step - loss: 2.6824 - accuracy: 0.0698\n",
            "Epoch 2/200\n",
            "2/2 [==============================] - 0s 6ms/step - loss: 2.6788 - accuracy: 0.1395\n",
            "Epoch 3/200\n",
            "2/2 [==============================] - 0s 6ms/step - loss: 2.6774 - accuracy: 0.0233\n",
            "Epoch 4/200\n",
            "2/2 [==============================] - 0s 7ms/step - loss: 2.6175 - accuracy: 0.1163\n",
            "Epoch 5/200\n",
            "2/2 [==============================] - 0s 8ms/step - loss: 2.6582 - accuracy: 0.0698\n",
            "Epoch 6/200\n",
            "2/2 [==============================] - 0s 7ms/step - loss: 2.6872 - accuracy: 0.0233\n",
            "Epoch 7/200\n",
            "2/2 [==============================] - 0s 6ms/step - loss: 2.6107 - accuracy: 0.1628\n",
            "Epoch 8/200\n",
            "2/2 [==============================] - 0s 7ms/step - loss: 2.6059 - accuracy: 0.0698\n",
            "Epoch 9/200\n",
            "2/2 [==============================] - 0s 8ms/step - loss: 2.5866 - accuracy: 0.0930\n",
            "Epoch 10/200\n",
            "2/2 [==============================] - 0s 9ms/step - loss: 2.5275 - accuracy: 0.1163\n",
            "Epoch 11/200\n",
            "2/2 [==============================] - 0s 8ms/step - loss: 2.5969 - accuracy: 0.1395\n",
            "Epoch 12/200\n",
            "2/2 [==============================] - 0s 7ms/step - loss: 2.5203 - accuracy: 0.2093\n",
            "Epoch 13/200\n",
            "2/2 [==============================] - 0s 6ms/step - loss: 2.5465 - accuracy: 0.1860\n",
            "Epoch 14/200\n",
            "2/2 [==============================] - 0s 8ms/step - loss: 2.5263 - accuracy: 0.1628\n",
            "Epoch 15/200\n",
            "2/2 [==============================] - 0s 7ms/step - loss: 2.4602 - accuracy: 0.3023\n",
            "Epoch 16/200\n",
            "2/2 [==============================] - 0s 6ms/step - loss: 2.5314 - accuracy: 0.1163\n",
            "Epoch 17/200\n",
            "2/2 [==============================] - 0s 7ms/step - loss: 2.5043 - accuracy: 0.2558\n",
            "Epoch 18/200\n",
            "2/2 [==============================] - 0s 7ms/step - loss: 2.4141 - accuracy: 0.2791\n",
            "Epoch 19/200\n",
            "2/2 [==============================] - 0s 6ms/step - loss: 2.4427 - accuracy: 0.2326\n",
            "Epoch 20/200\n",
            "2/2 [==============================] - 0s 6ms/step - loss: 2.3962 - accuracy: 0.3721\n",
            "Epoch 21/200\n",
            "2/2 [==============================] - 0s 6ms/step - loss: 2.4955 - accuracy: 0.1860\n",
            "Epoch 22/200\n",
            "2/2 [==============================] - 0s 6ms/step - loss: 2.3592 - accuracy: 0.3953\n",
            "Epoch 23/200\n",
            "2/2 [==============================] - 0s 7ms/step - loss: 2.3683 - accuracy: 0.3023\n",
            "Epoch 24/200\n",
            "2/2 [==============================] - 0s 7ms/step - loss: 2.3772 - accuracy: 0.2791\n",
            "Epoch 25/200\n",
            "2/2 [==============================] - 0s 6ms/step - loss: 2.3935 - accuracy: 0.3256\n",
            "Epoch 26/200\n",
            "2/2 [==============================] - 0s 7ms/step - loss: 2.3366 - accuracy: 0.2558\n",
            "Epoch 27/200\n",
            "2/2 [==============================] - 0s 7ms/step - loss: 2.3489 - accuracy: 0.3256\n",
            "Epoch 28/200\n",
            "2/2 [==============================] - 0s 6ms/step - loss: 2.3332 - accuracy: 0.3953\n",
            "Epoch 29/200\n",
            "2/2 [==============================] - 0s 7ms/step - loss: 2.2726 - accuracy: 0.4186\n",
            "Epoch 30/200\n",
            "2/2 [==============================] - 0s 6ms/step - loss: 2.2685 - accuracy: 0.4186\n",
            "Epoch 31/200\n",
            "2/2 [==============================] - 0s 7ms/step - loss: 2.2674 - accuracy: 0.4651\n",
            "Epoch 32/200\n",
            "2/2 [==============================] - 0s 8ms/step - loss: 2.2803 - accuracy: 0.3488\n",
            "Epoch 33/200\n",
            "2/2 [==============================] - 0s 10ms/step - loss: 2.2894 - accuracy: 0.3488\n",
            "Epoch 34/200\n",
            "2/2 [==============================] - 0s 9ms/step - loss: 2.2174 - accuracy: 0.4651\n",
            "Epoch 35/200\n",
            "2/2 [==============================] - 0s 10ms/step - loss: 2.2392 - accuracy: 0.4186\n",
            "Epoch 36/200\n",
            "2/2 [==============================] - 0s 9ms/step - loss: 2.1975 - accuracy: 0.4884\n",
            "Epoch 37/200\n",
            "2/2 [==============================] - 0s 8ms/step - loss: 2.0923 - accuracy: 0.5814\n",
            "Epoch 38/200\n",
            "2/2 [==============================] - 0s 8ms/step - loss: 2.2246 - accuracy: 0.3488\n",
            "Epoch 39/200\n",
            "2/2 [==============================] - 0s 8ms/step - loss: 2.1030 - accuracy: 0.5116\n",
            "Epoch 40/200\n",
            "2/2 [==============================] - 0s 8ms/step - loss: 2.0810 - accuracy: 0.5581\n",
            "Epoch 41/200\n",
            "2/2 [==============================] - 0s 9ms/step - loss: 2.1948 - accuracy: 0.4186\n",
            "Epoch 42/200\n",
            "2/2 [==============================] - 0s 11ms/step - loss: 2.1400 - accuracy: 0.5116\n",
            "Epoch 43/200\n",
            "2/2 [==============================] - 0s 12ms/step - loss: 1.9846 - accuracy: 0.5814\n",
            "Epoch 44/200\n",
            "2/2 [==============================] - 0s 8ms/step - loss: 2.1208 - accuracy: 0.5581\n",
            "Epoch 45/200\n",
            "2/2 [==============================] - 0s 9ms/step - loss: 2.0665 - accuracy: 0.5581\n",
            "Epoch 46/200\n",
            "2/2 [==============================] - 0s 11ms/step - loss: 2.0601 - accuracy: 0.5116\n",
            "Epoch 47/200\n",
            "2/2 [==============================] - 0s 21ms/step - loss: 1.9507 - accuracy: 0.5116\n",
            "Epoch 48/200\n",
            "2/2 [==============================] - 0s 8ms/step - loss: 1.8710 - accuracy: 0.6977\n",
            "Epoch 49/200\n",
            "2/2 [==============================] - 0s 15ms/step - loss: 1.9214 - accuracy: 0.6744\n",
            "Epoch 50/200\n",
            "2/2 [==============================] - 0s 16ms/step - loss: 1.9230 - accuracy: 0.5116\n",
            "Epoch 51/200\n",
            "2/2 [==============================] - 0s 21ms/step - loss: 1.9732 - accuracy: 0.5116\n",
            "Epoch 52/200\n",
            "2/2 [==============================] - 0s 20ms/step - loss: 1.9357 - accuracy: 0.4884\n",
            "Epoch 53/200\n",
            "2/2 [==============================] - 0s 9ms/step - loss: 1.8629 - accuracy: 0.5116\n",
            "Epoch 54/200\n",
            "2/2 [==============================] - 0s 8ms/step - loss: 1.8454 - accuracy: 0.5349\n",
            "Epoch 55/200\n",
            "2/2 [==============================] - 0s 9ms/step - loss: 1.6938 - accuracy: 0.7442\n",
            "Epoch 56/200\n",
            "2/2 [==============================] - 0s 10ms/step - loss: 1.8078 - accuracy: 0.6047\n",
            "Epoch 57/200\n",
            "2/2 [==============================] - 0s 19ms/step - loss: 1.6701 - accuracy: 0.6744\n",
            "Epoch 58/200\n",
            "2/2 [==============================] - 0s 9ms/step - loss: 1.7732 - accuracy: 0.5349\n",
            "Epoch 59/200\n",
            "2/2 [==============================] - 0s 8ms/step - loss: 1.8013 - accuracy: 0.5116\n",
            "Epoch 60/200\n",
            "2/2 [==============================] - 0s 9ms/step - loss: 1.9034 - accuracy: 0.4884\n",
            "Epoch 61/200\n",
            "2/2 [==============================] - 0s 10ms/step - loss: 1.6311 - accuracy: 0.5349\n",
            "Epoch 62/200\n",
            "2/2 [==============================] - 0s 9ms/step - loss: 1.6351 - accuracy: 0.6279\n",
            "Epoch 63/200\n",
            "2/2 [==============================] - 0s 8ms/step - loss: 1.5410 - accuracy: 0.7674\n",
            "Epoch 64/200\n",
            "2/2 [==============================] - 0s 7ms/step - loss: 1.6309 - accuracy: 0.6047\n",
            "Epoch 65/200\n",
            "2/2 [==============================] - 0s 14ms/step - loss: 1.6089 - accuracy: 0.6744\n",
            "Epoch 66/200\n",
            "2/2 [==============================] - 0s 9ms/step - loss: 1.5626 - accuracy: 0.6512\n",
            "Epoch 67/200\n",
            "2/2 [==============================] - 0s 9ms/step - loss: 1.6815 - accuracy: 0.6512\n",
            "Epoch 68/200\n",
            "2/2 [==============================] - 0s 10ms/step - loss: 1.5110 - accuracy: 0.6279\n",
            "Epoch 69/200\n",
            "2/2 [==============================] - 0s 10ms/step - loss: 1.4896 - accuracy: 0.6744\n",
            "Epoch 70/200\n",
            "2/2 [==============================] - 0s 11ms/step - loss: 1.4504 - accuracy: 0.7442\n",
            "Epoch 71/200\n",
            "2/2 [==============================] - 0s 10ms/step - loss: 1.4647 - accuracy: 0.6744\n",
            "Epoch 72/200\n",
            "2/2 [==============================] - 0s 10ms/step - loss: 1.5196 - accuracy: 0.6977\n",
            "Epoch 73/200\n",
            "2/2 [==============================] - 0s 18ms/step - loss: 1.3349 - accuracy: 0.7674\n",
            "Epoch 74/200\n",
            "2/2 [==============================] - 0s 9ms/step - loss: 1.2728 - accuracy: 0.8140\n",
            "Epoch 75/200\n",
            "2/2 [==============================] - 0s 9ms/step - loss: 1.4318 - accuracy: 0.6977\n",
            "Epoch 76/200\n",
            "2/2 [==============================] - 0s 10ms/step - loss: 1.3963 - accuracy: 0.6744\n",
            "Epoch 77/200\n",
            "2/2 [==============================] - 0s 9ms/step - loss: 1.3746 - accuracy: 0.6744\n",
            "Epoch 78/200\n",
            "2/2 [==============================] - 0s 9ms/step - loss: 1.3414 - accuracy: 0.7209\n",
            "Epoch 79/200\n",
            "2/2 [==============================] - 0s 12ms/step - loss: 1.2431 - accuracy: 0.7907\n",
            "Epoch 80/200\n",
            "2/2 [==============================] - 0s 11ms/step - loss: 1.3172 - accuracy: 0.6512\n",
            "Epoch 81/200\n",
            "2/2 [==============================] - 0s 14ms/step - loss: 1.3335 - accuracy: 0.6279\n",
            "Epoch 82/200\n",
            "2/2 [==============================] - 0s 10ms/step - loss: 1.1645 - accuracy: 0.8372\n",
            "Epoch 83/200\n",
            "2/2 [==============================] - 0s 10ms/step - loss: 1.3687 - accuracy: 0.5814\n",
            "Epoch 84/200\n",
            "2/2 [==============================] - 0s 10ms/step - loss: 1.2194 - accuracy: 0.8140\n",
            "Epoch 85/200\n",
            "2/2 [==============================] - 0s 8ms/step - loss: 1.0428 - accuracy: 0.7907\n",
            "Epoch 86/200\n",
            "2/2 [==============================] - 0s 9ms/step - loss: 1.2076 - accuracy: 0.7442\n",
            "Epoch 87/200\n",
            "2/2 [==============================] - 0s 8ms/step - loss: 1.0495 - accuracy: 0.8140\n",
            "Epoch 88/200\n",
            "2/2 [==============================] - 0s 9ms/step - loss: 1.1173 - accuracy: 0.7907\n",
            "Epoch 89/200\n",
            "2/2 [==============================] - 0s 8ms/step - loss: 1.1723 - accuracy: 0.6977\n",
            "Epoch 90/200\n",
            "2/2 [==============================] - 0s 15ms/step - loss: 1.1143 - accuracy: 0.6977\n",
            "Epoch 91/200\n",
            "2/2 [==============================] - 0s 10ms/step - loss: 1.1148 - accuracy: 0.7907\n",
            "Epoch 92/200\n",
            "2/2 [==============================] - 0s 13ms/step - loss: 1.1124 - accuracy: 0.8372\n",
            "Epoch 93/200\n",
            "2/2 [==============================] - 0s 9ms/step - loss: 1.0161 - accuracy: 0.7674\n",
            "Epoch 94/200\n",
            "2/2 [==============================] - 0s 10ms/step - loss: 1.1469 - accuracy: 0.7209\n",
            "Epoch 95/200\n",
            "2/2 [==============================] - 0s 13ms/step - loss: 1.1992 - accuracy: 0.6512\n",
            "Epoch 96/200\n",
            "2/2 [==============================] - 0s 9ms/step - loss: 0.9163 - accuracy: 0.8605\n",
            "Epoch 97/200\n",
            "2/2 [==============================] - 0s 10ms/step - loss: 0.9115 - accuracy: 0.8140\n",
            "Epoch 98/200\n",
            "2/2 [==============================] - 0s 10ms/step - loss: 0.8486 - accuracy: 0.8372\n",
            "Epoch 99/200\n",
            "2/2 [==============================] - 0s 11ms/step - loss: 0.8609 - accuracy: 0.8605\n",
            "Epoch 100/200\n",
            "2/2 [==============================] - 0s 14ms/step - loss: 0.8597 - accuracy: 0.8837\n",
            "Epoch 101/200\n",
            "2/2 [==============================] - 0s 11ms/step - loss: 0.8922 - accuracy: 0.8372\n",
            "Epoch 102/200\n",
            "2/2 [==============================] - 0s 12ms/step - loss: 0.8500 - accuracy: 0.8372\n",
            "Epoch 103/200\n",
            "2/2 [==============================] - 0s 13ms/step - loss: 0.7647 - accuracy: 0.9070\n",
            "Epoch 104/200\n",
            "2/2 [==============================] - 0s 14ms/step - loss: 0.7993 - accuracy: 0.8140\n",
            "Epoch 105/200\n",
            "2/2 [==============================] - 0s 14ms/step - loss: 0.7957 - accuracy: 0.8837\n",
            "Epoch 106/200\n",
            "2/2 [==============================] - 0s 11ms/step - loss: 0.7146 - accuracy: 0.8605\n",
            "Epoch 107/200\n",
            "2/2 [==============================] - 0s 10ms/step - loss: 0.8492 - accuracy: 0.8837\n",
            "Epoch 108/200\n",
            "2/2 [==============================] - 0s 16ms/step - loss: 0.8098 - accuracy: 0.8372\n",
            "Epoch 109/200\n",
            "2/2 [==============================] - 0s 11ms/step - loss: 0.8254 - accuracy: 0.7674\n",
            "Epoch 110/200\n",
            "2/2 [==============================] - 0s 11ms/step - loss: 0.7780 - accuracy: 0.7907\n",
            "Epoch 111/200\n",
            "2/2 [==============================] - 0s 9ms/step - loss: 0.7979 - accuracy: 0.8140\n",
            "Epoch 112/200\n",
            "2/2 [==============================] - 0s 10ms/step - loss: 0.6883 - accuracy: 0.8605\n",
            "Epoch 113/200\n",
            "2/2 [==============================] - 0s 11ms/step - loss: 0.8017 - accuracy: 0.7907\n",
            "Epoch 114/200\n",
            "2/2 [==============================] - 0s 10ms/step - loss: 0.8349 - accuracy: 0.8372\n",
            "Epoch 115/200\n",
            "2/2 [==============================] - 0s 11ms/step - loss: 0.8201 - accuracy: 0.8372\n",
            "Epoch 116/200\n",
            "2/2 [==============================] - 0s 10ms/step - loss: 0.8582 - accuracy: 0.8140\n",
            "Epoch 117/200\n",
            "2/2 [==============================] - 0s 9ms/step - loss: 0.7971 - accuracy: 0.7907\n",
            "Epoch 118/200\n",
            "2/2 [==============================] - 0s 11ms/step - loss: 0.7191 - accuracy: 0.8372\n",
            "Epoch 119/200\n",
            "2/2 [==============================] - 0s 9ms/step - loss: 0.7122 - accuracy: 0.8140\n",
            "Epoch 120/200\n",
            "2/2 [==============================] - 0s 9ms/step - loss: 0.6321 - accuracy: 0.8140\n",
            "Epoch 121/200\n",
            "2/2 [==============================] - 0s 8ms/step - loss: 0.6801 - accuracy: 0.8372\n",
            "Epoch 122/200\n",
            "2/2 [==============================] - 0s 12ms/step - loss: 0.6109 - accuracy: 0.8837\n",
            "Epoch 123/200\n",
            "2/2 [==============================] - 0s 9ms/step - loss: 0.6618 - accuracy: 0.8605\n",
            "Epoch 124/200\n",
            "2/2 [==============================] - 0s 8ms/step - loss: 0.5490 - accuracy: 0.9535\n",
            "Epoch 125/200\n",
            "2/2 [==============================] - 0s 8ms/step - loss: 0.5361 - accuracy: 0.8837\n",
            "Epoch 126/200\n",
            "2/2 [==============================] - 0s 8ms/step - loss: 0.5968 - accuracy: 0.9070\n",
            "Epoch 127/200\n",
            "2/2 [==============================] - 0s 8ms/step - loss: 0.5676 - accuracy: 0.8605\n",
            "Epoch 128/200\n",
            "2/2 [==============================] - 0s 8ms/step - loss: 0.5957 - accuracy: 0.8837\n",
            "Epoch 129/200\n",
            "2/2 [==============================] - 0s 8ms/step - loss: 0.6613 - accuracy: 0.7907\n",
            "Epoch 130/200\n",
            "2/2 [==============================] - 0s 8ms/step - loss: 0.6166 - accuracy: 0.8372\n",
            "Epoch 131/200\n",
            "2/2 [==============================] - 0s 9ms/step - loss: 0.5854 - accuracy: 0.9070\n",
            "Epoch 132/200\n",
            "2/2 [==============================] - 0s 8ms/step - loss: 0.5438 - accuracy: 0.8605\n",
            "Epoch 133/200\n",
            "2/2 [==============================] - 0s 14ms/step - loss: 0.5559 - accuracy: 0.9070\n",
            "Epoch 134/200\n",
            "2/2 [==============================] - 0s 10ms/step - loss: 0.5762 - accuracy: 0.8372\n",
            "Epoch 135/200\n",
            "2/2 [==============================] - 0s 14ms/step - loss: 0.5110 - accuracy: 0.8372\n",
            "Epoch 136/200\n",
            "2/2 [==============================] - 0s 12ms/step - loss: 0.6658 - accuracy: 0.8372\n",
            "Epoch 137/200\n",
            "2/2 [==============================] - 0s 11ms/step - loss: 0.6206 - accuracy: 0.9070\n",
            "Epoch 138/200\n",
            "2/2 [==============================] - 0s 10ms/step - loss: 0.5879 - accuracy: 0.8372\n",
            "Epoch 139/200\n",
            "2/2 [==============================] - 0s 10ms/step - loss: 0.6015 - accuracy: 0.8140\n",
            "Epoch 140/200\n",
            "2/2 [==============================] - 0s 9ms/step - loss: 0.5085 - accuracy: 0.8837\n",
            "Epoch 141/200\n",
            "2/2 [==============================] - 0s 9ms/step - loss: 0.5380 - accuracy: 0.8837\n",
            "Epoch 142/200\n",
            "2/2 [==============================] - 0s 10ms/step - loss: 0.4615 - accuracy: 0.8837\n",
            "Epoch 143/200\n",
            "2/2 [==============================] - 0s 8ms/step - loss: 0.6224 - accuracy: 0.8837\n",
            "Epoch 144/200\n",
            "2/2 [==============================] - 0s 7ms/step - loss: 0.4668 - accuracy: 0.9302\n",
            "Epoch 145/200\n",
            "2/2 [==============================] - 0s 7ms/step - loss: 0.5665 - accuracy: 0.8605\n",
            "Epoch 146/200\n",
            "2/2 [==============================] - 0s 8ms/step - loss: 0.5661 - accuracy: 0.8140\n",
            "Epoch 147/200\n",
            "2/2 [==============================] - 0s 11ms/step - loss: 0.4838 - accuracy: 0.8605\n",
            "Epoch 148/200\n",
            "2/2 [==============================] - 0s 15ms/step - loss: 0.5284 - accuracy: 0.9302\n",
            "Epoch 149/200\n",
            "2/2 [==============================] - 0s 8ms/step - loss: 0.4531 - accuracy: 0.9302\n",
            "Epoch 150/200\n",
            "2/2 [==============================] - 0s 8ms/step - loss: 0.3930 - accuracy: 0.9070\n",
            "Epoch 151/200\n",
            "2/2 [==============================] - 0s 8ms/step - loss: 0.4490 - accuracy: 0.9302\n",
            "Epoch 152/200\n",
            "2/2 [==============================] - 0s 9ms/step - loss: 0.6333 - accuracy: 0.8837\n",
            "Epoch 153/200\n",
            "2/2 [==============================] - 0s 8ms/step - loss: 0.4624 - accuracy: 0.8372\n",
            "Epoch 154/200\n",
            "2/2 [==============================] - 0s 8ms/step - loss: 0.3684 - accuracy: 0.9070\n",
            "Epoch 155/200\n",
            "2/2 [==============================] - 0s 13ms/step - loss: 0.3730 - accuracy: 0.9767\n",
            "Epoch 156/200\n",
            "2/2 [==============================] - 0s 13ms/step - loss: 0.4771 - accuracy: 0.8837\n",
            "Epoch 157/200\n",
            "2/2 [==============================] - 0s 9ms/step - loss: 0.4572 - accuracy: 0.9535\n",
            "Epoch 158/200\n",
            "2/2 [==============================] - 0s 8ms/step - loss: 0.4274 - accuracy: 0.9302\n",
            "Epoch 159/200\n",
            "2/2 [==============================] - 0s 7ms/step - loss: 0.4429 - accuracy: 0.8372\n",
            "Epoch 160/200\n",
            "2/2 [==============================] - 0s 9ms/step - loss: 0.3931 - accuracy: 0.9302\n",
            "Epoch 161/200\n",
            "2/2 [==============================] - 0s 10ms/step - loss: 0.3737 - accuracy: 0.9767\n",
            "Epoch 162/200\n",
            "2/2 [==============================] - 0s 11ms/step - loss: 0.4885 - accuracy: 0.8605\n",
            "Epoch 163/200\n",
            "2/2 [==============================] - 0s 11ms/step - loss: 0.4322 - accuracy: 0.9535\n",
            "Epoch 164/200\n",
            "2/2 [==============================] - 0s 11ms/step - loss: 0.4216 - accuracy: 0.8605\n",
            "Epoch 165/200\n",
            "2/2 [==============================] - 0s 12ms/step - loss: 0.3544 - accuracy: 0.9767\n",
            "Epoch 166/200\n",
            "2/2 [==============================] - 0s 11ms/step - loss: 0.5375 - accuracy: 0.8605\n",
            "Epoch 167/200\n",
            "2/2 [==============================] - 0s 10ms/step - loss: 0.3870 - accuracy: 0.9302\n",
            "Epoch 168/200\n",
            "2/2 [==============================] - 0s 11ms/step - loss: 0.3146 - accuracy: 0.9070\n",
            "Epoch 169/200\n",
            "2/2 [==============================] - 0s 15ms/step - loss: 0.5119 - accuracy: 0.8140\n",
            "Epoch 170/200\n",
            "2/2 [==============================] - 0s 19ms/step - loss: 0.3832 - accuracy: 0.8837\n",
            "Epoch 171/200\n",
            "2/2 [==============================] - 0s 9ms/step - loss: 0.4243 - accuracy: 0.9070\n",
            "Epoch 172/200\n",
            "2/2 [==============================] - 0s 14ms/step - loss: 0.3991 - accuracy: 0.9302\n",
            "Epoch 173/200\n",
            "2/2 [==============================] - 0s 12ms/step - loss: 0.3091 - accuracy: 0.9535\n",
            "Epoch 174/200\n",
            "2/2 [==============================] - 0s 15ms/step - loss: 0.4627 - accuracy: 0.9070\n",
            "Epoch 175/200\n",
            "2/2 [==============================] - 0s 8ms/step - loss: 0.3754 - accuracy: 0.9302\n",
            "Epoch 176/200\n",
            "2/2 [==============================] - 0s 10ms/step - loss: 0.3569 - accuracy: 0.9302\n",
            "Epoch 177/200\n",
            "2/2 [==============================] - 0s 12ms/step - loss: 0.3973 - accuracy: 0.8837\n",
            "Epoch 178/200\n",
            "2/2 [==============================] - 0s 11ms/step - loss: 0.4236 - accuracy: 0.9070\n",
            "Epoch 179/200\n",
            "2/2 [==============================] - 0s 6ms/step - loss: 0.4642 - accuracy: 0.8605\n",
            "Epoch 180/200\n",
            "2/2 [==============================] - 0s 8ms/step - loss: 0.4699 - accuracy: 0.8605\n",
            "Epoch 181/200\n",
            "2/2 [==============================] - 0s 9ms/step - loss: 0.5042 - accuracy: 0.8837\n",
            "Epoch 182/200\n",
            "2/2 [==============================] - 0s 11ms/step - loss: 0.4166 - accuracy: 0.9302\n",
            "Epoch 183/200\n",
            "2/2 [==============================] - 0s 19ms/step - loss: 0.3017 - accuracy: 0.9535\n",
            "Epoch 184/200\n",
            "2/2 [==============================] - 0s 13ms/step - loss: 0.4245 - accuracy: 0.8837\n",
            "Epoch 185/200\n",
            "2/2 [==============================] - 0s 11ms/step - loss: 0.3358 - accuracy: 0.9767\n",
            "Epoch 186/200\n",
            "2/2 [==============================] - 0s 11ms/step - loss: 0.3666 - accuracy: 0.9070\n",
            "Epoch 187/200\n",
            "2/2 [==============================] - 0s 9ms/step - loss: 0.4511 - accuracy: 0.8605\n",
            "Epoch 188/200\n",
            "2/2 [==============================] - 0s 9ms/step - loss: 0.4660 - accuracy: 0.8605\n",
            "Epoch 189/200\n",
            "2/2 [==============================] - 0s 10ms/step - loss: 0.4002 - accuracy: 0.9302\n",
            "Epoch 190/200\n",
            "2/2 [==============================] - 0s 9ms/step - loss: 0.3459 - accuracy: 0.9070\n",
            "Epoch 191/200\n",
            "2/2 [==============================] - 0s 9ms/step - loss: 0.4201 - accuracy: 0.8605\n",
            "Epoch 192/200\n",
            "2/2 [==============================] - 0s 12ms/step - loss: 0.3090 - accuracy: 1.0000\n",
            "Epoch 193/200\n",
            "2/2 [==============================] - 0s 9ms/step - loss: 0.3444 - accuracy: 0.9302\n",
            "Epoch 194/200\n",
            "2/2 [==============================] - 0s 15ms/step - loss: 0.3523 - accuracy: 0.9302\n",
            "Epoch 195/200\n",
            "2/2 [==============================] - 0s 15ms/step - loss: 0.3309 - accuracy: 0.9070\n",
            "Epoch 196/200\n",
            "2/2 [==============================] - 0s 8ms/step - loss: 0.3596 - accuracy: 0.8837\n",
            "Epoch 197/200\n",
            "2/2 [==============================] - 0s 11ms/step - loss: 0.2746 - accuracy: 0.9302\n",
            "Epoch 198/200\n",
            "2/2 [==============================] - 0s 13ms/step - loss: 0.3108 - accuracy: 0.9302\n",
            "Epoch 199/200\n",
            "2/2 [==============================] - 0s 19ms/step - loss: 0.4198 - accuracy: 0.8837\n",
            "Epoch 200/200\n",
            "2/2 [==============================] - 0s 10ms/step - loss: 0.2710 - accuracy: 0.9535\n"
          ]
        }
      ],
      "source": [
        "hist = model.fit(x=train_X_tfidf, y=train_y, epochs=200)"
      ]
    },
    {
      "cell_type": "code",
      "execution_count": 62,
      "metadata": {
        "id": "Pb1GZDjGRP6Q",
        "colab": {
          "base_uri": "https://localhost:8080/",
          "height": 265
        },
        "outputId": "be908454-d14f-407f-de57-5407ce40b4fd"
      },
      "outputs": [
        {
          "output_type": "display_data",
          "data": {
            "text/plain": [
              "<Figure size 432x288 with 1 Axes>"
            ],
            "image/png": "[encoded data removed]"
          },
          "metadata": {
            "needs_background": "light"
          }
        }
      ],
      "source": [
        "import matplotlib.pyplot as plt\n",
        "import seaborn as sns\n",
        "\n",
        "# Entrenamiento\n",
        "epoch_count = range(1, len(hist.history['accuracy']) + 1)\n",
        "sns.lineplot(x=epoch_count,  y=hist.history['accuracy'], label='train')\n",
        "plt.show()"
      ]
    },
    {
      "cell_type": "code",
      "execution_count": 63,
      "metadata": {
        "id": "eTVDnrV0mDRf"
      },
      "outputs": [],
      "source": [
        "# Guardar lo necesario para poder re-utilizar este modelo en el futuro\n",
        "# el vocabulario utilizado (words)\n",
        "# las posibles clases\n",
        "# el modelo\n",
        "import pickle\n",
        "pickle.dump(words, open('words.pkl','wb'))\n",
        "pickle.dump(classes, open('classes.pkl','wb'))\n",
        "model.save('chatbot_model.h5')"
      ]
    },
    {
      "cell_type": "markdown",
      "metadata": {
        "id": "TnD1WvhBfVYR"
      },
      "source": [
        "### 6 - Testing y validación"
      ]
    },
    {
      "cell_type": "code",
      "execution_count": 64,
      "metadata": {
        "id": "kqBdSGt8Orkm"
      },
      "outputs": [],
      "source": [
        "# convertir texto de entrada del usuario a tokens\n",
        "def text_to_tokens(text):\n",
        "    lemma_tokens = []\n",
        "    tokens = nlp(preprocess_clean_text(text.lower()))\n",
        "    for token in tokens:\n",
        "        lemma_tokens.append(token.lemma_)\n",
        "    #print(lemma_tokens)\n",
        "    return lemma_tokens\n",
        "\n",
        "# transformar el texto de entrada tokenizado a una representación de frecuencia\n",
        "def bag_of_words_de_frec(text, vocab): \n",
        "    tokens = text_to_tokens(text)\n",
        "    frec = [0] * len(vocab)\n",
        "    for idx, word in enumerate(vocab):\n",
        "      frec[idx] = tokens.count(word)\n",
        "\n",
        "    #print(bow)\n",
        "    return np.array(frec)\n",
        "\n",
        "# usar modelo con la entrada en frec y los labels posibles (tags)\n",
        "def pred_class(text, vocab, labels): \n",
        "    bow = bag_of_words_de_frec(text, vocab)\n",
        "    words_recognized = sum(bow)\n",
        "\n",
        "    return_list = []\n",
        "    if words_recognized > 0: # sólo si reconoció alguna palabra del vocabulario\n",
        "        result = model.predict(np.array([bow]))[0] # es un array de softmax\n",
        "        thresh = 0.2\n",
        "        # filtrar aquellas entradas menores al umbral `thresh`\n",
        "        y_pred = [[idx, res] for idx, res in enumerate(result) if res > thresh]\n",
        "        # ordenar keys de acuerdo al valor softmax\n",
        "        y_pred.sort(key=lambda x: x[1], reverse=True)\n",
        "    \n",
        "        # return_list es una lista de los labels de mayor a menor\n",
        "        for r in y_pred:\n",
        "            return_list.append(labels[r[0]])\n",
        "            #print(labels[r[0]], r[1])\n",
        "\n",
        "    # si no reconoció palabras del vocabulario se devuelve una lista vacía\n",
        "    return return_list\n",
        "\n",
        "# obtener una respuesta predeterminada \n",
        "def get_response(intents_list, intents_json):\n",
        "    tag = intents_list[0] # tomar el tag con el mejor valor softmax\n",
        "    list_of_intents = intents_json[\"intents\"] # intents_json es todo el dataset\n",
        "    for i in list_of_intents: \n",
        "        if i[\"tag\"] == tag: # buscar el tag correspoindiente y dar una respuesta predeterminada aleatoria \n",
        "            result = random.choice(i[\"responses\"])\n",
        "            break\n",
        "    return result"
      ]
    },
    {
      "cell_type": "code",
      "execution_count": 69,
      "metadata": {
        "id": "Xp1vXQwdOvl7",
        "colab": {
          "base_uri": "https://localhost:8080/",
          "height": 1000
        },
        "outputId": "014dccd9-979f-45a4-c93d-873de4f6e8fa"
      },
      "outputs": [
        {
          "output_type": "stream",
          "name": "stdout",
          "text": [
            "BOT: Welcome to Olympo, the AI bot which knows best about the Olympic games\n",
            "Hello\n",
            "Q: Hello\n",
            "1/1 [==============================] - 0s 23ms/step\n",
            "BOT: Hello! What are you interested in knowing about the Olympics?\n",
            "country\n",
            "Q: country\n",
            "BOT: Sorry, I don't understand the question.\n",
            "countries\n",
            "Q: countries\n",
            "1/1 [==============================] - 0s 22ms/step\n",
            "BOT: The Olympics have a long history dating back to ancient Greece, where the Ancient Olympic Games were held in Olympia every four years.\n",
            "sports\n",
            "Q: sports\n",
            "1/1 [==============================] - 0s 23ms/step\n",
            "BOT: Some of the most popular sports in the Olympics are athletics, swimming, basketball, and soccer.\n",
            "ceremony\n",
            "Q: ceremony\n",
            "1/1 [==============================] - 0s 27ms/step\n",
            "BOT: The opening ceremony of the Olympics is held at the beginning of the event, with a great spectacle and a parade of athletes\n",
            "medals\n",
            "Q: medals\n",
            "1/1 [==============================] - 0s 24ms/step\n",
            "BOT: There are many medals that can be won in the Olympics, depending on the sports discipline\n",
            "In which cities were them held?\n",
            "Q: In which cities were them held?\n",
            "1/1 [==============================] - 0s 28ms/step\n",
            "BOT: The first modern Olympics were held in Athens, Greece in 1896\n",
            "Best athletes ?\n",
            "Q: Best athletes ?\n",
            "1/1 [==============================] - 0s 28ms/step\n",
            "BOT: Some of the most prominent athletes in the history of the Olympics include Michael Phelps, Usain Bolt, Simone Biles, Carl Lewis, among others\n",
            "What are the paralympics ?\n",
            "Q: What are the paralympics ?\n",
            "BOT: Sorry, I don't understand the question.\n",
            "Which sports are played in the olympics?\n",
            "Q: Which sports are played in the olympics?\n",
            "1/1 [==============================] - 0s 22ms/step\n",
            "BOT: The Olympics include a wide variety of sports, such as athletics, swimming, gymnastics, basketball, soccer, volleyball, and many more.\n",
            "What happened when the pandemic? \n",
            "Q: What happened when the pandemic? \n",
            "1/1 [==============================] - 0s 33ms/step\n",
            "BOT: The COVID-19 pandemic significantly affected the staging of the Olympics, resulting in the postponement of the Tokyo 2020 edition to 2021.\n",
            "Who won the most medals?\n",
            "Q: Who won the most medals?\n",
            "1/1 [==============================] - 0s 23ms/step\n",
            "BOT: Medals are awarded to athletes who achieve the best results in their disciplines, and are divided into gold, silver, and bronze\n"
          ]
        },
        {
          "output_type": "error",
          "ename": "KeyboardInterrupt",
          "evalue": "ignored",
          "traceback": [
            "\u001b[0;31m---------------------------------------------------------------------------\u001b[0m",
            "\u001b[0;31mKeyboardInterrupt\u001b[0m                         Traceback (most recent call last)",
            "\u001b[0;32m<ipython-input-69-f4f95a4fa6bb>\u001b[0m in \u001b[0;36m<module>\u001b[0;34m\u001b[0m\n\u001b[1;32m      2\u001b[0m \u001b[0;32mwhile\u001b[0m \u001b[0;32mTrue\u001b[0m\u001b[0;34m:\u001b[0m\u001b[0;34m\u001b[0m\u001b[0;34m\u001b[0m\u001b[0m\n\u001b[1;32m      3\u001b[0m     \u001b[0;31m# pedir input al usuario\u001b[0m\u001b[0;34m\u001b[0m\u001b[0;34m\u001b[0m\u001b[0m\n\u001b[0;32m----> 4\u001b[0;31m     \u001b[0mmessage\u001b[0m \u001b[0;34m=\u001b[0m \u001b[0minput\u001b[0m\u001b[0;34m(\u001b[0m\u001b[0;34m\"\"\u001b[0m\u001b[0;34m)\u001b[0m\u001b[0;34m\u001b[0m\u001b[0;34m\u001b[0m\u001b[0m\n\u001b[0m\u001b[1;32m      5\u001b[0m     \u001b[0mprint\u001b[0m\u001b[0;34m(\u001b[0m\u001b[0;34m\"Q:\"\u001b[0m\u001b[0;34m,\u001b[0m \u001b[0mmessage\u001b[0m\u001b[0;34m)\u001b[0m\u001b[0;34m\u001b[0m\u001b[0;34m\u001b[0m\u001b[0m\n\u001b[1;32m      6\u001b[0m \u001b[0;34m\u001b[0m\u001b[0m\n",
            "\u001b[0;32m/usr/local/lib/python3.9/dist-packages/ipykernel/kernelbase.py\u001b[0m in \u001b[0;36mraw_input\u001b[0;34m(self, prompt)\u001b[0m\n\u001b[1;32m    858\u001b[0m                 \u001b[0;34m\"raw_input was called, but this frontend does not support input requests.\"\u001b[0m\u001b[0;34m\u001b[0m\u001b[0;34m\u001b[0m\u001b[0m\n\u001b[1;32m    859\u001b[0m             )\n\u001b[0;32m--> 860\u001b[0;31m         return self._input_request(str(prompt),\n\u001b[0m\u001b[1;32m    861\u001b[0m             \u001b[0mself\u001b[0m\u001b[0;34m.\u001b[0m\u001b[0m_parent_ident\u001b[0m\u001b[0;34m,\u001b[0m\u001b[0;34m\u001b[0m\u001b[0;34m\u001b[0m\u001b[0m\n\u001b[1;32m    862\u001b[0m             \u001b[0mself\u001b[0m\u001b[0;34m.\u001b[0m\u001b[0m_parent_header\u001b[0m\u001b[0;34m,\u001b[0m\u001b[0;34m\u001b[0m\u001b[0;34m\u001b[0m\u001b[0m\n",
            "\u001b[0;32m/usr/local/lib/python3.9/dist-packages/ipykernel/kernelbase.py\u001b[0m in \u001b[0;36m_input_request\u001b[0;34m(self, prompt, ident, parent, password)\u001b[0m\n\u001b[1;32m    902\u001b[0m             \u001b[0;32mexcept\u001b[0m \u001b[0mKeyboardInterrupt\u001b[0m\u001b[0;34m:\u001b[0m\u001b[0;34m\u001b[0m\u001b[0;34m\u001b[0m\u001b[0m\n\u001b[1;32m    903\u001b[0m                 \u001b[0;31m# re-raise KeyboardInterrupt, to truncate traceback\u001b[0m\u001b[0;34m\u001b[0m\u001b[0;34m\u001b[0m\u001b[0m\n\u001b[0;32m--> 904\u001b[0;31m                 \u001b[0;32mraise\u001b[0m \u001b[0mKeyboardInterrupt\u001b[0m\u001b[0;34m(\u001b[0m\u001b[0;34m\"Interrupted by user\"\u001b[0m\u001b[0;34m)\u001b[0m \u001b[0;32mfrom\u001b[0m \u001b[0;32mNone\u001b[0m\u001b[0;34m\u001b[0m\u001b[0;34m\u001b[0m\u001b[0m\n\u001b[0m\u001b[1;32m    905\u001b[0m             \u001b[0;32mexcept\u001b[0m \u001b[0mException\u001b[0m \u001b[0;32mas\u001b[0m \u001b[0me\u001b[0m\u001b[0;34m:\u001b[0m\u001b[0;34m\u001b[0m\u001b[0;34m\u001b[0m\u001b[0m\n\u001b[1;32m    906\u001b[0m                 \u001b[0mself\u001b[0m\u001b[0;34m.\u001b[0m\u001b[0mlog\u001b[0m\u001b[0;34m.\u001b[0m\u001b[0mwarning\u001b[0m\u001b[0;34m(\u001b[0m\u001b[0;34m\"Invalid Message:\"\u001b[0m\u001b[0;34m,\u001b[0m \u001b[0mexc_info\u001b[0m\u001b[0;34m=\u001b[0m\u001b[0;32mTrue\u001b[0m\u001b[0;34m)\u001b[0m\u001b[0;34m\u001b[0m\u001b[0;34m\u001b[0m\u001b[0m\n",
            "\u001b[0;31mKeyboardInterrupt\u001b[0m: Interrupted by user"
          ]
        }
      ],
      "source": [
        "print(\"BOT: Welcome to Olympo, the AI bot which knows best about the Olympic games\")\n",
        "while True:\n",
        "    # pedir input al usuario\n",
        "    message = input(\"\")\n",
        "    print(\"Q:\", message)\n",
        "\n",
        "    intents = pred_class(message, voc, classes)\n",
        "    if len(intents) > 0:\n",
        "        result = get_response(intents, dataset)\n",
        "        print(\"BOT:\", result)\n",
        "    else: # si no hubo ningún resultado que supere el umbral\n",
        "        print(\"BOT: Sorry, I don't understand the question.\")\n",
        "    "
      ]
    },
    {
      "cell_type": "markdown",
      "metadata": {
        "id": "ayatkwp4fYQx"
      },
      "source": [
        "### 7 - Conclusiones\n",
        "Utilicé un dataset en inglés para poder realizar stopwwords removal de ntlk. Además habiendo vectorizado utilizando TFIDF, tuvimos un modelo mas robusto y que desempeña mejor. Se comprueba ya que no solo al únicamente arrojarle palabras claves de los patterns, sino también haciendo preguntas sobre los temas del dataset, el modelo devuelve respuestas coherentes con la pregunta; son preguntas análogas a las del dataset, pero compuestas por palabras distintas, creo que esto es un aspecto muy desacable. Una manera de seguir mejorando el modelo sería teniendo mas datos en nuestro dataset."
      ]
    }
  ],
  "metadata": {
    "colab": {
      "provenance": []
    },
    "kernelspec": {
      "display_name": "Python 3",
      "language": "python",
      "name": "python3"
    },
    "language_info": {
      "codemirror_mode": {
        "name": "ipython",
        "version": 3
      },
      "file_extension": ".py",
      "mimetype": "text/x-python",
      "name": "python",
      "nbconvert_exporter": "python",
      "pygments_lexer": "ipython3",
      "version": "3.8.10"
    },
    "widgets": {
      "application/vnd.jupyter.widget-state+json": {
        "872a16a5caeb4b21a6495631337bb8e7": {
          "model_module": "@jupyter-widgets/controls",
          "model_name": "HBoxModel",
          "model_module_version": "1.5.0",
          "state": {
            "_dom_classes": [],
            "_model_module": "@jupyter-widgets/controls",
            "_model_module_version": "1.5.0",
            "_model_name": "HBoxModel",
            "_view_count": null,
            "_view_module": "@jupyter-widgets/controls",
            "_view_module_version": "1.5.0",
            "_view_name": "HBoxView",
            "box_style": "",
            "children": [
              "IPY_MODEL_b5df8885425b4efe95020bd74c9b90c6",
              "IPY_MODEL_56fc3e44db0941209db40c03ed93cfdf",
              "IPY_MODEL_f4e80b81c3d34b8b97f893d5c7be9246"
            ],
            "layout": "IPY_MODEL_c2dd8a9f46fd41cc92955281f0bf48a0"
          }
        },
        "b5df8885425b4efe95020bd74c9b90c6": {
          "model_module": "@jupyter-widgets/controls",
          "model_name": "HTMLModel",
          "model_module_version": "1.5.0",
          "state": {
            "_dom_classes": [],
            "_model_module": "@jupyter-widgets/controls",
            "_model_module_version": "1.5.0",
            "_model_name": "HTMLModel",
            "_view_count": null,
            "_view_module": "@jupyter-widgets/controls",
            "_view_module_version": "1.5.0",
            "_view_name": "HTMLView",
            "description": "",
            "description_tooltip": null,
            "layout": "IPY_MODEL_c243c341100c43af8282a2210741e3c5",
            "placeholder": "​",
            "style": "IPY_MODEL_d07884eb5d6c4b12a75c6d8523e89e9e",
            "value": "Downloading https://raw.githubusercontent.com/stanfordnlp/stanza-resources/main/resources_1.2.2.json: "
          }
        },
        "56fc3e44db0941209db40c03ed93cfdf": {
          "model_module": "@jupyter-widgets/controls",
          "model_name": "FloatProgressModel",
          "model_module_version": "1.5.0",
          "state": {
            "_dom_classes": [],
            "_model_module": "@jupyter-widgets/controls",
            "_model_module_version": "1.5.0",
            "_model_name": "FloatProgressModel",
            "_view_count": null,
            "_view_module": "@jupyter-widgets/controls",
            "_view_module_version": "1.5.0",
            "_view_name": "ProgressView",
            "bar_style": "success",
            "description": "",
            "description_tooltip": null,
            "layout": "IPY_MODEL_497c477d99314b37b6a92114b3a9e03b",
            "max": 24144,
            "min": 0,
            "orientation": "horizontal",
            "style": "IPY_MODEL_17803676eae84bb698f6e88477d2bc83",
            "value": 24144
          }
        },
        "f4e80b81c3d34b8b97f893d5c7be9246": {
          "model_module": "@jupyter-widgets/controls",
          "model_name": "HTMLModel",
          "model_module_version": "1.5.0",
          "state": {
            "_dom_classes": [],
            "_model_module": "@jupyter-widgets/controls",
            "_model_module_version": "1.5.0",
            "_model_name": "HTMLModel",
            "_view_count": null,
            "_view_module": "@jupyter-widgets/controls",
            "_view_module_version": "1.5.0",
            "_view_name": "HTMLView",
            "description": "",
            "description_tooltip": null,
            "layout": "IPY_MODEL_861badf2dee541f4baa2023a077e8541",
            "placeholder": "​",
            "style": "IPY_MODEL_df693572d4904e6aae27ffcd04fd52b9",
            "value": " 140k/? [00:00&lt;00:00, 6.19MB/s]"
          }
        },
        "c2dd8a9f46fd41cc92955281f0bf48a0": {
          "model_module": "@jupyter-widgets/base",
          "model_name": "LayoutModel",
          "model_module_version": "1.2.0",
          "state": {
            "_model_module": "@jupyter-widgets/base",
            "_model_module_version": "1.2.0",
            "_model_name": "LayoutModel",
            "_view_count": null,
            "_view_module": "@jupyter-widgets/base",
            "_view_module_version": "1.2.0",
            "_view_name": "LayoutView",
            "align_content": null,
            "align_items": null,
            "align_self": null,
            "border": null,
            "bottom": null,
            "display": null,
            "flex": null,
            "flex_flow": null,
            "grid_area": null,
            "grid_auto_columns": null,
            "grid_auto_flow": null,
            "grid_auto_rows": null,
            "grid_column": null,
            "grid_gap": null,
            "grid_row": null,
            "grid_template_areas": null,
            "grid_template_columns": null,
            "grid_template_rows": null,
            "height": null,
            "justify_content": null,
            "justify_items": null,
            "left": null,
            "margin": null,
            "max_height": null,
            "max_width": null,
            "min_height": null,
            "min_width": null,
            "object_fit": null,
            "object_position": null,
            "order": null,
            "overflow": null,
            "overflow_x": null,
            "overflow_y": null,
            "padding": null,
            "right": null,
            "top": null,
            "visibility": null,
            "width": null
          }
        },
        "c243c341100c43af8282a2210741e3c5": {
          "model_module": "@jupyter-widgets/base",
          "model_name": "LayoutModel",
          "model_module_version": "1.2.0",
          "state": {
            "_model_module": "@jupyter-widgets/base",
            "_model_module_version": "1.2.0",
            "_model_name": "LayoutModel",
            "_view_count": null,
            "_view_module": "@jupyter-widgets/base",
            "_view_module_version": "1.2.0",
            "_view_name": "LayoutView",
            "align_content": null,
            "align_items": null,
            "align_self": null,
            "border": null,
            "bottom": null,
            "display": null,
            "flex": null,
            "flex_flow": null,
            "grid_area": null,
            "grid_auto_columns": null,
            "grid_auto_flow": null,
            "grid_auto_rows": null,
            "grid_column": null,
            "grid_gap": null,
            "grid_row": null,
            "grid_template_areas": null,
            "grid_template_columns": null,
            "grid_template_rows": null,
            "height": null,
            "justify_content": null,
            "justify_items": null,
            "left": null,
            "margin": null,
            "max_height": null,
            "max_width": null,
            "min_height": null,
            "min_width": null,
            "object_fit": null,
            "object_position": null,
            "order": null,
            "overflow": null,
            "overflow_x": null,
            "overflow_y": null,
            "padding": null,
            "right": null,
            "top": null,
            "visibility": null,
            "width": null
          }
        },
        "d07884eb5d6c4b12a75c6d8523e89e9e": {
          "model_module": "@jupyter-widgets/controls",
          "model_name": "DescriptionStyleModel",
          "model_module_version": "1.5.0",
          "state": {
            "_model_module": "@jupyter-widgets/controls",
            "_model_module_version": "1.5.0",
            "_model_name": "DescriptionStyleModel",
            "_view_count": null,
            "_view_module": "@jupyter-widgets/base",
            "_view_module_version": "1.2.0",
            "_view_name": "StyleView",
            "description_width": ""
          }
        },
        "497c477d99314b37b6a92114b3a9e03b": {
          "model_module": "@jupyter-widgets/base",
          "model_name": "LayoutModel",
          "model_module_version": "1.2.0",
          "state": {
            "_model_module": "@jupyter-widgets/base",
            "_model_module_version": "1.2.0",
            "_model_name": "LayoutModel",
            "_view_count": null,
            "_view_module": "@jupyter-widgets/base",
            "_view_module_version": "1.2.0",
            "_view_name": "LayoutView",
            "align_content": null,
            "align_items": null,
            "align_self": null,
            "border": null,
            "bottom": null,
            "display": null,
            "flex": null,
            "flex_flow": null,
            "grid_area": null,
            "grid_auto_columns": null,
            "grid_auto_flow": null,
            "grid_auto_rows": null,
            "grid_column": null,
            "grid_gap": null,
            "grid_row": null,
            "grid_template_areas": null,
            "grid_template_columns": null,
            "grid_template_rows": null,
            "height": null,
            "justify_content": null,
            "justify_items": null,
            "left": null,
            "margin": null,
            "max_height": null,
            "max_width": null,
            "min_height": null,
            "min_width": null,
            "object_fit": null,
            "object_position": null,
            "order": null,
            "overflow": null,
            "overflow_x": null,
            "overflow_y": null,
            "padding": null,
            "right": null,
            "top": null,
            "visibility": null,
            "width": null
          }
        },
        "17803676eae84bb698f6e88477d2bc83": {
          "model_module": "@jupyter-widgets/controls",
          "model_name": "ProgressStyleModel",
          "model_module_version": "1.5.0",
          "state": {
            "_model_module": "@jupyter-widgets/controls",
            "_model_module_version": "1.5.0",
            "_model_name": "ProgressStyleModel",
            "_view_count": null,
            "_view_module": "@jupyter-widgets/base",
            "_view_module_version": "1.2.0",
            "_view_name": "StyleView",
            "bar_color": null,
            "description_width": ""
          }
        },
        "861badf2dee541f4baa2023a077e8541": {
          "model_module": "@jupyter-widgets/base",
          "model_name": "LayoutModel",
          "model_module_version": "1.2.0",
          "state": {
            "_model_module": "@jupyter-widgets/base",
            "_model_module_version": "1.2.0",
            "_model_name": "LayoutModel",
            "_view_count": null,
            "_view_module": "@jupyter-widgets/base",
            "_view_module_version": "1.2.0",
            "_view_name": "LayoutView",
            "align_content": null,
            "align_items": null,
            "align_self": null,
            "border": null,
            "bottom": null,
            "display": null,
            "flex": null,
            "flex_flow": null,
            "grid_area": null,
            "grid_auto_columns": null,
            "grid_auto_flow": null,
            "grid_auto_rows": null,
            "grid_column": null,
            "grid_gap": null,
            "grid_row": null,
            "grid_template_areas": null,
            "grid_template_columns": null,
            "grid_template_rows": null,
            "height": null,
            "justify_content": null,
            "justify_items": null,
            "left": null,
            "margin": null,
            "max_height": null,
            "max_width": null,
            "min_height": null,
            "min_width": null,
            "object_fit": null,
            "object_position": null,
            "order": null,
            "overflow": null,
            "overflow_x": null,
            "overflow_y": null,
            "padding": null,
            "right": null,
            "top": null,
            "visibility": null,
            "width": null
          }
        },
        "df693572d4904e6aae27ffcd04fd52b9": {
          "model_module": "@jupyter-widgets/controls",
          "model_name": "DescriptionStyleModel",
          "model_module_version": "1.5.0",
          "state": {
            "_model_module": "@jupyter-widgets/controls",
            "_model_module_version": "1.5.0",
            "_model_name": "DescriptionStyleModel",
            "_view_count": null,
            "_view_module": "@jupyter-widgets/base",
            "_view_module_version": "1.2.0",
            "_view_name": "StyleView",
            "description_width": ""
          }
        },
        "f395e3e09f294e6f928335fc08eeb1ff": {
          "model_module": "@jupyter-widgets/controls",
          "model_name": "HBoxModel",
          "model_module_version": "1.5.0",
          "state": {
            "_dom_classes": [],
            "_model_module": "@jupyter-widgets/controls",
            "_model_module_version": "1.5.0",
            "_model_name": "HBoxModel",
            "_view_count": null,
            "_view_module": "@jupyter-widgets/controls",
            "_view_module_version": "1.5.0",
            "_view_name": "HBoxView",
            "box_style": "",
            "children": [
              "IPY_MODEL_d77d987a4b36482489bff8db7d3057df",
              "IPY_MODEL_13e7fc3a908349f0b2b7b3de9ce11e34",
              "IPY_MODEL_f547ed1bd3104bc7a35190bbd60e2eba"
            ],
            "layout": "IPY_MODEL_79e7fbabdc89462d9b663630453c657d"
          }
        },
        "d77d987a4b36482489bff8db7d3057df": {
          "model_module": "@jupyter-widgets/controls",
          "model_name": "HTMLModel",
          "model_module_version": "1.5.0",
          "state": {
            "_dom_classes": [],
            "_model_module": "@jupyter-widgets/controls",
            "_model_module_version": "1.5.0",
            "_model_name": "HTMLModel",
            "_view_count": null,
            "_view_module": "@jupyter-widgets/controls",
            "_view_module_version": "1.5.0",
            "_view_name": "HTMLView",
            "description": "",
            "description_tooltip": null,
            "layout": "IPY_MODEL_3f46af57958d41348a4d0e17db7d801c",
            "placeholder": "​",
            "style": "IPY_MODEL_b0cef734e698437d8aa5337bde72207e",
            "value": "Downloading http://nlp.stanford.edu/software/stanza/1.2.2/es/default.zip: 100%"
          }
        },
        "13e7fc3a908349f0b2b7b3de9ce11e34": {
          "model_module": "@jupyter-widgets/controls",
          "model_name": "FloatProgressModel",
          "model_module_version": "1.5.0",
          "state": {
            "_dom_classes": [],
            "_model_module": "@jupyter-widgets/controls",
            "_model_module_version": "1.5.0",
            "_model_name": "FloatProgressModel",
            "_view_count": null,
            "_view_module": "@jupyter-widgets/controls",
            "_view_module_version": "1.5.0",
            "_view_name": "ProgressView",
            "bar_style": "success",
            "description": "",
            "description_tooltip": null,
            "layout": "IPY_MODEL_fa154a269eb04be2bcd49125b4898d22",
            "max": 565553347,
            "min": 0,
            "orientation": "horizontal",
            "style": "IPY_MODEL_23aef7f273c4462ea77aacb0e25d2d0a",
            "value": 565553347
          }
        },
        "f547ed1bd3104bc7a35190bbd60e2eba": {
          "model_module": "@jupyter-widgets/controls",
          "model_name": "HTMLModel",
          "model_module_version": "1.5.0",
          "state": {
            "_dom_classes": [],
            "_model_module": "@jupyter-widgets/controls",
            "_model_module_version": "1.5.0",
            "_model_name": "HTMLModel",
            "_view_count": null,
            "_view_module": "@jupyter-widgets/controls",
            "_view_module_version": "1.5.0",
            "_view_name": "HTMLView",
            "description": "",
            "description_tooltip": null,
            "layout": "IPY_MODEL_e4e57ebd68194fb19393761f2a1df408",
            "placeholder": "​",
            "style": "IPY_MODEL_e34c723726094085b361f4a345ddd54c",
            "value": " 566M/566M [01:42&lt;00:00, 5.28MB/s]"
          }
        },
        "79e7fbabdc89462d9b663630453c657d": {
          "model_module": "@jupyter-widgets/base",
          "model_name": "LayoutModel",
          "model_module_version": "1.2.0",
          "state": {
            "_model_module": "@jupyter-widgets/base",
            "_model_module_version": "1.2.0",
            "_model_name": "LayoutModel",
            "_view_count": null,
            "_view_module": "@jupyter-widgets/base",
            "_view_module_version": "1.2.0",
            "_view_name": "LayoutView",
            "align_content": null,
            "align_items": null,
            "align_self": null,
            "border": null,
            "bottom": null,
            "display": null,
            "flex": null,
            "flex_flow": null,
            "grid_area": null,
            "grid_auto_columns": null,
            "grid_auto_flow": null,
            "grid_auto_rows": null,
            "grid_column": null,
            "grid_gap": null,
            "grid_row": null,
            "grid_template_areas": null,
            "grid_template_columns": null,
            "grid_template_rows": null,
            "height": null,
            "justify_content": null,
            "justify_items": null,
            "left": null,
            "margin": null,
            "max_height": null,
            "max_width": null,
            "min_height": null,
            "min_width": null,
            "object_fit": null,
            "object_position": null,
            "order": null,
            "overflow": null,
            "overflow_x": null,
            "overflow_y": null,
            "padding": null,
            "right": null,
            "top": null,
            "visibility": null,
            "width": null
          }
        },
        "3f46af57958d41348a4d0e17db7d801c": {
          "model_module": "@jupyter-widgets/base",
          "model_name": "LayoutModel",
          "model_module_version": "1.2.0",
          "state": {
            "_model_module": "@jupyter-widgets/base",
            "_model_module_version": "1.2.0",
            "_model_name": "LayoutModel",
            "_view_count": null,
            "_view_module": "@jupyter-widgets/base",
            "_view_module_version": "1.2.0",
            "_view_name": "LayoutView",
            "align_content": null,
            "align_items": null,
            "align_self": null,
            "border": null,
            "bottom": null,
            "display": null,
            "flex": null,
            "flex_flow": null,
            "grid_area": null,
            "grid_auto_columns": null,
            "grid_auto_flow": null,
            "grid_auto_rows": null,
            "grid_column": null,
            "grid_gap": null,
            "grid_row": null,
            "grid_template_areas": null,
            "grid_template_columns": null,
            "grid_template_rows": null,
            "height": null,
            "justify_content": null,
            "justify_items": null,
            "left": null,
            "margin": null,
            "max_height": null,
            "max_width": null,
            "min_height": null,
            "min_width": null,
            "object_fit": null,
            "object_position": null,
            "order": null,
            "overflow": null,
            "overflow_x": null,
            "overflow_y": null,
            "padding": null,
            "right": null,
            "top": null,
            "visibility": null,
            "width": null
          }
        },
        "b0cef734e698437d8aa5337bde72207e": {
          "model_module": "@jupyter-widgets/controls",
          "model_name": "DescriptionStyleModel",
          "model_module_version": "1.5.0",
          "state": {
            "_model_module": "@jupyter-widgets/controls",
            "_model_module_version": "1.5.0",
            "_model_name": "DescriptionStyleModel",
            "_view_count": null,
            "_view_module": "@jupyter-widgets/base",
            "_view_module_version": "1.2.0",
            "_view_name": "StyleView",
            "description_width": ""
          }
        },
        "fa154a269eb04be2bcd49125b4898d22": {
          "model_module": "@jupyter-widgets/base",
          "model_name": "LayoutModel",
          "model_module_version": "1.2.0",
          "state": {
            "_model_module": "@jupyter-widgets/base",
            "_model_module_version": "1.2.0",
            "_model_name": "LayoutModel",
            "_view_count": null,
            "_view_module": "@jupyter-widgets/base",
            "_view_module_version": "1.2.0",
            "_view_name": "LayoutView",
            "align_content": null,
            "align_items": null,
            "align_self": null,
            "border": null,
            "bottom": null,
            "display": null,
            "flex": null,
            "flex_flow": null,
            "grid_area": null,
            "grid_auto_columns": null,
            "grid_auto_flow": null,
            "grid_auto_rows": null,
            "grid_column": null,
            "grid_gap": null,
            "grid_row": null,
            "grid_template_areas": null,
            "grid_template_columns": null,
            "grid_template_rows": null,
            "height": null,
            "justify_content": null,
            "justify_items": null,
            "left": null,
            "margin": null,
            "max_height": null,
            "max_width": null,
            "min_height": null,
            "min_width": null,
            "object_fit": null,
            "object_position": null,
            "order": null,
            "overflow": null,
            "overflow_x": null,
            "overflow_y": null,
            "padding": null,
            "right": null,
            "top": null,
            "visibility": null,
            "width": null
          }
        },
        "23aef7f273c4462ea77aacb0e25d2d0a": {
          "model_module": "@jupyter-widgets/controls",
          "model_name": "ProgressStyleModel",
          "model_module_version": "1.5.0",
          "state": {
            "_model_module": "@jupyter-widgets/controls",
            "_model_module_version": "1.5.0",
            "_model_name": "ProgressStyleModel",
            "_view_count": null,
            "_view_module": "@jupyter-widgets/base",
            "_view_module_version": "1.2.0",
            "_view_name": "StyleView",
            "bar_color": null,
            "description_width": ""
          }
        },
        "e4e57ebd68194fb19393761f2a1df408": {
          "model_module": "@jupyter-widgets/base",
          "model_name": "LayoutModel",
          "model_module_version": "1.2.0",
          "state": {
            "_model_module": "@jupyter-widgets/base",
            "_model_module_version": "1.2.0",
            "_model_name": "LayoutModel",
            "_view_count": null,
            "_view_module": "@jupyter-widgets/base",
            "_view_module_version": "1.2.0",
            "_view_name": "LayoutView",
            "align_content": null,
            "align_items": null,
            "align_self": null,
            "border": null,
            "bottom": null,
            "display": null,
            "flex": null,
            "flex_flow": null,
            "grid_area": null,
            "grid_auto_columns": null,
            "grid_auto_flow": null,
            "grid_auto_rows": null,
            "grid_column": null,
            "grid_gap": null,
            "grid_row": null,
            "grid_template_areas": null,
            "grid_template_columns": null,
            "grid_template_rows": null,
            "height": null,
            "justify_content": null,
            "justify_items": null,
            "left": null,
            "margin": null,
            "max_height": null,
            "max_width": null,
            "min_height": null,
            "min_width": null,
            "object_fit": null,
            "object_position": null,
            "order": null,
            "overflow": null,
            "overflow_x": null,
            "overflow_y": null,
            "padding": null,
            "right": null,
            "top": null,
            "visibility": null,
            "width": null
          }
        },
        "e34c723726094085b361f4a345ddd54c": {
          "model_module": "@jupyter-widgets/controls",
          "model_name": "DescriptionStyleModel",
          "model_module_version": "1.5.0",
          "state": {
            "_model_module": "@jupyter-widgets/controls",
            "_model_module_version": "1.5.0",
            "_model_name": "DescriptionStyleModel",
            "_view_count": null,
            "_view_module": "@jupyter-widgets/base",
            "_view_module_version": "1.2.0",
            "_view_name": "StyleView",
            "description_width": ""
          }
        }
      }
    }
  },
  "nbformat": 4,
  "nbformat_minor": 0
}